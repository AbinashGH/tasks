{
 "cells": [
  {
   "cell_type": "code",
   "execution_count": 1,
   "id": "6b885060-e815-42fc-88fb-f2aaa861af88",
   "metadata": {},
   "outputs": [],
   "source": [
    "# Q1. Explain Class and Object with respect to Object-Oriented Programming. Give a suitable example."
   ]
  },
  {
   "cell_type": "markdown",
   "id": "f8d1fe2c-bfff-4128-9804-033236494b73",
   "metadata": {},
   "source": [
    "In python,a class is blueprint that defines the properties and behaviours of objects.An object is an instance of a class . It represents a specific entity and can interact with other objects."
   ]
  },
  {
   "cell_type": "code",
   "execution_count": 17,
   "id": "f6c2c143-06b5-43ac-901d-a0376729af09",
   "metadata": {},
   "outputs": [],
   "source": [
    "class Bike:\n",
    "    def __init__(self,brand,model):\n",
    "        self.brand = brand\n",
    "        self.model = model\n",
    "    \n",
    "    def bike_info(self):\n",
    "        return self.brand,self.model\n",
    "    "
   ]
  },
  {
   "cell_type": "code",
   "execution_count": 19,
   "id": "93ac7003-daf2-49e2-b212-fe3ed6d32a26",
   "metadata": {},
   "outputs": [],
   "source": [
    "my_bike = Bike(\"kawasaki\",\"z900\")"
   ]
  },
  {
   "cell_type": "code",
   "execution_count": 21,
   "id": "2ee07c14-a84d-40bb-8600-8e424be1c21b",
   "metadata": {},
   "outputs": [
    {
     "data": {
      "text/plain": [
       "('kawasaki', 'z900')"
      ]
     },
     "execution_count": 21,
     "metadata": {},
     "output_type": "execute_result"
    }
   ],
   "source": [
    "my_bike.bike_info()"
   ]
  },
  {
   "cell_type": "code",
   "execution_count": 22,
   "id": "9170bff3-c1ad-48b4-80a2-4a4ad91b98a4",
   "metadata": {},
   "outputs": [],
   "source": [
    "# Q2. Name the four pillars of OOPs."
   ]
  },
  {
   "cell_type": "markdown",
   "id": "5466936e-f55e-462d-ad55-abc291fc621e",
   "metadata": {},
   "source": [
    "1.Encapsulation\n",
    "2.Inheritance\n",
    "3.Polymorphism\n",
    "4.Abstraction"
   ]
  },
  {
   "cell_type": "code",
   "execution_count": null,
   "id": "b886f255-9305-4049-8284-fc6a7ebd3e6c",
   "metadata": {},
   "outputs": [],
   "source": [
    "# Q3. Explain why the __init__() function is used. Give a suitable example."
   ]
  },
  {
   "cell_type": "markdown",
   "id": "e396be82-9641-4665-ac67-5132e6cfd2f3",
   "metadata": {},
   "source": [
    "The __init__ function is used for that is automatically called when an object is created from the class.It is used to initialize the values."
   ]
  },
  {
   "cell_type": "code",
   "execution_count": 24,
   "id": "31e9f649-f56e-423e-a4d4-c9b5c86d1f30",
   "metadata": {},
   "outputs": [],
   "source": [
    "class Bike:\n",
    "    def __init__(self,brand,model):\n",
    "        self.brand = brand\n",
    "        self.model = model\n",
    "    \n",
    "    def bike_info(self):\n",
    "        return self.brand,self.model\n",
    "    "
   ]
  },
  {
   "cell_type": "code",
   "execution_count": 27,
   "id": "ce2d92e5-3971-48a8-b30b-eb85057ddb4d",
   "metadata": {},
   "outputs": [
    {
     "data": {
      "text/plain": [
       "('kawasaki', 'z900')"
      ]
     },
     "execution_count": 27,
     "metadata": {},
     "output_type": "execute_result"
    }
   ],
   "source": [
    "my_bike = Bike(\"kawasaki\",\"z900\")\n",
    "my_bike.bike_info()"
   ]
  },
  {
   "cell_type": "code",
   "execution_count": 28,
   "id": "8b900a3c-00d1-4cf6-990d-f590228607c1",
   "metadata": {},
   "outputs": [],
   "source": [
    "# Q4. Why self is used in OOPs?"
   ]
  },
  {
   "cell_type": "markdown",
   "id": "0d67b86a-e9e4-4f5e-8172-994872b31bfc",
   "metadata": {},
   "source": [
    "Self is used in oops to refer the current instance of a class.It allows you to access the instance variables ."
   ]
  },
  {
   "cell_type": "code",
   "execution_count": 1,
   "id": "6e4bfb4a-458d-4495-aaee-5fe070f4086c",
   "metadata": {},
   "outputs": [],
   "source": [
    "# Q5. What is inheritance? Give an example for each type of inheritance."
   ]
  },
  {
   "cell_type": "markdown",
   "id": "0c9d87d2-edc8-4f02-baa4-e7a4e8de96f7",
   "metadata": {},
   "source": [
    "Inheritance is a fundamental cooncept in oops where a new class,known as the derived class,can inherit attributes and behaviours from an existing class,called the base class ."
   ]
  },
  {
   "cell_type": "code",
   "execution_count": 2,
   "id": "73fc4f56-09a6-4e4b-a9c0-b989f6104ce6",
   "metadata": {},
   "outputs": [],
   "source": [
    "# Multilevel Inheritance :"
   ]
  },
  {
   "cell_type": "code",
   "execution_count": 3,
   "id": "5e68f7a9-8334-4ef6-b608-0d709ea5e4a4",
   "metadata": {},
   "outputs": [],
   "source": [
    "class class1 :\n",
    "    def test_class1(self):\n",
    "        print(\"this is my class1\")"
   ]
  },
  {
   "cell_type": "code",
   "execution_count": 5,
   "id": "b1fec47b-f2dc-4df1-8425-b5ab21fccbd2",
   "metadata": {},
   "outputs": [],
   "source": [
    "class class2(class1):\n",
    "    def test_class2(self):\n",
    "        print(\"this is my class2\")"
   ]
  },
  {
   "cell_type": "code",
   "execution_count": 6,
   "id": "6753a50b-2b36-4094-9402-f89552678835",
   "metadata": {},
   "outputs": [],
   "source": [
    "class class3(class2):\n",
    "    def test_class3(self):\n",
    "        print(\"this is my class3\")"
   ]
  },
  {
   "cell_type": "code",
   "execution_count": 7,
   "id": "186f0135-2472-48fd-928d-fbde22c664cc",
   "metadata": {},
   "outputs": [],
   "source": [
    "obj_class = class3()"
   ]
  },
  {
   "cell_type": "code",
   "execution_count": 8,
   "id": "8eb85380-4d28-4cbf-a457-336b5d9afab3",
   "metadata": {},
   "outputs": [
    {
     "name": "stdout",
     "output_type": "stream",
     "text": [
      "this is my class1\n"
     ]
    }
   ],
   "source": [
    "obj_class.test_class1()"
   ]
  },
  {
   "cell_type": "code",
   "execution_count": 9,
   "id": "10c6a2b6-b2a7-49da-9f1f-65c5010abe5e",
   "metadata": {},
   "outputs": [
    {
     "name": "stdout",
     "output_type": "stream",
     "text": [
      "this is my class3\n"
     ]
    }
   ],
   "source": [
    "obj_class.test_class3()"
   ]
  },
  {
   "cell_type": "code",
   "execution_count": 10,
   "id": "da5d2fa7-f59a-476c-b462-7f827afb56ad",
   "metadata": {},
   "outputs": [],
   "source": [
    "# Multiple Inheritance"
   ]
  },
  {
   "cell_type": "code",
   "execution_count": 19,
   "id": "1b4690bc-e909-45a5-a05a-d4eb5e52ce55",
   "metadata": {},
   "outputs": [],
   "source": [
    "class class1 :\n",
    "    def test_class1(self):\n",
    "        print(\"this is my class1\")"
   ]
  },
  {
   "cell_type": "code",
   "execution_count": 20,
   "id": "e660bd95-d43d-49b8-a50c-d1979fe80d73",
   "metadata": {},
   "outputs": [],
   "source": [
    "class class2:\n",
    "    def test_class2(self):\n",
    "        print(\"this is my class2\")"
   ]
  },
  {
   "cell_type": "code",
   "execution_count": 21,
   "id": "20be70d6-d9b3-4c25-bfc1-11aca51662b2",
   "metadata": {},
   "outputs": [],
   "source": [
    "class class3(class1,class2):\n",
    "    def test_class3(self):\n",
    "        pass"
   ]
  },
  {
   "cell_type": "code",
   "execution_count": 22,
   "id": "469f57a1-0ef7-4b3a-bed9-a269cfbd2ce5",
   "metadata": {},
   "outputs": [],
   "source": [
    "obj_class1 = class3()"
   ]
  },
  {
   "cell_type": "code",
   "execution_count": 23,
   "id": "7c510022-a438-40e2-942b-1cb1c81bca2f",
   "metadata": {},
   "outputs": [
    {
     "name": "stdout",
     "output_type": "stream",
     "text": [
      "this is my class1\n"
     ]
    }
   ],
   "source": [
    "obj_class1.test_class1()"
   ]
  },
  {
   "cell_type": "code",
   "execution_count": 24,
   "id": "e7a5b868-700d-44a6-941f-1572eb91a669",
   "metadata": {},
   "outputs": [],
   "source": [
    "obj_class1.test_class3()"
   ]
  },
  {
   "cell_type": "code",
   "execution_count": null,
   "id": "d43d910e-838b-43d6-a8ce-7ea280289280",
   "metadata": {},
   "outputs": [],
   "source": []
  }
 ],
 "metadata": {
  "kernelspec": {
   "display_name": "Python 3 (ipykernel)",
   "language": "python",
   "name": "python3"
  },
  "language_info": {
   "codemirror_mode": {
    "name": "ipython",
    "version": 3
   },
   "file_extension": ".py",
   "mimetype": "text/x-python",
   "name": "python",
   "nbconvert_exporter": "python",
   "pygments_lexer": "ipython3",
   "version": "3.10.8"
  }
 },
 "nbformat": 4,
 "nbformat_minor": 5
}
