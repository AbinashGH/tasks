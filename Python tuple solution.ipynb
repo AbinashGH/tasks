{
 "cells": [
  {
   "cell_type": "markdown",
   "id": "66e4181f-891f-47c5-909a-4fdecc8bc6fb",
   "metadata": {},
   "source": [
    "Python tuple"
   ]
  },
  {
   "cell_type": "code",
   "execution_count": 1,
   "id": "4377a3d6-2f7f-4056-b641-3e561fd3240b",
   "metadata": {},
   "outputs": [],
   "source": [
    "# 1"
   ]
  },
  {
   "cell_type": "markdown",
   "id": "3ee2e9ee-5bd2-41a0-89c1-b0e0e6c1e52d",
   "metadata": {},
   "source": [
    "In python tuple is ordered and immutable collection of elements."
   ]
  },
  {
   "cell_type": "code",
   "execution_count": 5,
   "id": "5076b7db-07d6-4914-8f8d-76b2c1aa0bc2",
   "metadata": {},
   "outputs": [],
   "source": [
    "t = (1,2,3,4)"
   ]
  },
  {
   "cell_type": "code",
   "execution_count": null,
   "id": "5c701ae1-abd4-4af5-a2d6-60122dd02c47",
   "metadata": {},
   "outputs": [],
   "source": []
  },
  {
   "cell_type": "code",
   "execution_count": 4,
   "id": "90641994-9fb4-4688-8052-c64ac7ff00a0",
   "metadata": {},
   "outputs": [],
   "source": [
    "# 2"
   ]
  },
  {
   "cell_type": "markdown",
   "id": "d8f3cacf-a966-4559-9e76-23875edec6e9",
   "metadata": {},
   "source": [
    "In python you can create a tuple by using parentheses also you can create  using tuple() constructor.\n"
   ]
  },
  {
   "cell_type": "code",
   "execution_count": 6,
   "id": "3a3288c5-13d3-45a2-b0f5-1a9c2587da05",
   "metadata": {},
   "outputs": [],
   "source": [
    "t = (1,2,3,4)\n",
    "t1 = tuple()"
   ]
  },
  {
   "cell_type": "code",
   "execution_count": null,
   "id": "eab060c2-d976-45f5-96cd-10e26116c63f",
   "metadata": {},
   "outputs": [],
   "source": []
  },
  {
   "cell_type": "code",
   "execution_count": 9,
   "id": "3a071dee-60a6-4887-9fe5-f63885cfdd99",
   "metadata": {},
   "outputs": [],
   "source": [
    "# 3"
   ]
  },
  {
   "cell_type": "markdown",
   "id": "fd4e4670-2310-4f5e-8759-7e4f86d028f6",
   "metadata": {},
   "source": [
    "Difference is :\n",
    "tuple are immutable but list are mutable.\n",
    "tuples are defined by using parentheses but list are defined by using square brackets."
   ]
  },
  {
   "cell_type": "code",
   "execution_count": null,
   "id": "f8f9d9cb-49b4-42e2-b6bb-9ae3868a6e91",
   "metadata": {},
   "outputs": [],
   "source": []
  },
  {
   "cell_type": "code",
   "execution_count": 10,
   "id": "e88e4bb0-d5d9-41cd-a754-ba7303374be7",
   "metadata": {},
   "outputs": [],
   "source": [
    "# 4"
   ]
  },
  {
   "cell_type": "markdown",
   "id": "3f3edb30-9fd1-47ee-adc3-ebbb940fa3b3",
   "metadata": {},
   "source": [
    "In Python, tuples are immutable, which means their elements cannot be changed, added, or removed after they are created. Once you define a tuple, you cannot modify its elements directly."
   ]
  },
  {
   "cell_type": "code",
   "execution_count": 11,
   "id": "f167e9c7-aa5e-4b42-be5c-cfb932249fab",
   "metadata": {},
   "outputs": [
    {
     "data": {
      "text/plain": [
       "(1, 2, 3, 4)"
      ]
     },
     "execution_count": 11,
     "metadata": {},
     "output_type": "execute_result"
    }
   ],
   "source": [
    "t"
   ]
  },
  {
   "cell_type": "code",
   "execution_count": 14,
   "id": "8d642b97-6474-4614-9f37-d149ab88361b",
   "metadata": {},
   "outputs": [
    {
     "data": {
      "text/plain": [
       "4"
      ]
     },
     "execution_count": 14,
     "metadata": {},
     "output_type": "execute_result"
    }
   ],
   "source": [
    "t[3]"
   ]
  },
  {
   "cell_type": "code",
   "execution_count": 16,
   "id": "9849c4a8-ac22-471a-8d87-b9b69b1233f0",
   "metadata": {},
   "outputs": [
    {
     "ename": "TypeError",
     "evalue": "'tuple' object does not support item assignment",
     "output_type": "error",
     "traceback": [
      "\u001b[0;31m---------------------------------------------------------------------------\u001b[0m",
      "\u001b[0;31mTypeError\u001b[0m                                 Traceback (most recent call last)",
      "Cell \u001b[0;32mIn[16], line 1\u001b[0m\n\u001b[0;32m----> 1\u001b[0m \u001b[43mt\u001b[49m\u001b[43m[\u001b[49m\u001b[38;5;241;43m3\u001b[39;49m\u001b[43m]\u001b[49m\u001b[38;5;241m=\u001b[39m\u001b[38;5;241m5\u001b[39m \u001b[38;5;66;03m# it gives error to us\u001b[39;00m\n",
      "\u001b[0;31mTypeError\u001b[0m: 'tuple' object does not support item assignment"
     ]
    }
   ],
   "source": [
    "t[3]=5 # it gives error to us"
   ]
  },
  {
   "cell_type": "code",
   "execution_count": null,
   "id": "330a5616-4d85-4be3-886e-729596d44f0b",
   "metadata": {},
   "outputs": [],
   "source": []
  },
  {
   "cell_type": "code",
   "execution_count": 17,
   "id": "584b4794-cd4c-45fe-80b5-a020e6bf3066",
   "metadata": {},
   "outputs": [],
   "source": [
    "# 5"
   ]
  },
  {
   "cell_type": "markdown",
   "id": "a6ba80e9-2c22-45b9-b4a0-a7a3eb4cacaf",
   "metadata": {},
   "source": [
    "You can access elements in a tuple by using indexing.You can use square brackets with the index to access specific elements."
   ]
  },
  {
   "cell_type": "code",
   "execution_count": 18,
   "id": "39cc37a8-3fec-42a4-9df3-d4970ce5996a",
   "metadata": {},
   "outputs": [
    {
     "data": {
      "text/plain": [
       "(1, 2, 3, 4)"
      ]
     },
     "execution_count": 18,
     "metadata": {},
     "output_type": "execute_result"
    }
   ],
   "source": [
    "t"
   ]
  },
  {
   "cell_type": "code",
   "execution_count": 19,
   "id": "a4ac8a05-3c45-41b7-9982-7f9f974722f0",
   "metadata": {},
   "outputs": [
    {
     "data": {
      "text/plain": [
       "3"
      ]
     },
     "execution_count": 19,
     "metadata": {},
     "output_type": "execute_result"
    }
   ],
   "source": [
    "t[2]"
   ]
  },
  {
   "cell_type": "code",
   "execution_count": null,
   "id": "bb45487d-6b8d-4fd0-997b-b3e4cc92794b",
   "metadata": {},
   "outputs": [],
   "source": []
  },
  {
   "cell_type": "code",
   "execution_count": 20,
   "id": "75a4bad1-b63e-4b32-8a80-9be6677c1e71",
   "metadata": {},
   "outputs": [],
   "source": [
    "# 6"
   ]
  },
  {
   "cell_type": "markdown",
   "id": "705fc5af-af71-4a7a-9139-68a5fd6fae9a",
   "metadata": {},
   "source": [
    "Unpacking a tuple in Python allows you to assign the individual elements of a tuple to separate variables. This is a convenient way to work with the elements of a tuple. You can unpack a tuple by simply assigning it to a sequence of variables on the left side of an assignment statement. "
   ]
  },
  {
   "cell_type": "code",
   "execution_count": 21,
   "id": "18e85d1b-a39e-4e71-af4e-cd3583e09229",
   "metadata": {},
   "outputs": [
    {
     "data": {
      "text/plain": [
       "(1, 2, 3, 4)"
      ]
     },
     "execution_count": 21,
     "metadata": {},
     "output_type": "execute_result"
    }
   ],
   "source": [
    "t"
   ]
  },
  {
   "cell_type": "code",
   "execution_count": 22,
   "id": "c41fb3b3-2daf-43d4-afa2-b7af71885310",
   "metadata": {},
   "outputs": [],
   "source": [
    "a,b,c,d = t"
   ]
  },
  {
   "cell_type": "code",
   "execution_count": 28,
   "id": "97ccac74-ce23-4e5e-a300-d2e221fccea7",
   "metadata": {},
   "outputs": [
    {
     "data": {
      "text/plain": [
       "1"
      ]
     },
     "execution_count": 28,
     "metadata": {},
     "output_type": "execute_result"
    }
   ],
   "source": [
    "a"
   ]
  },
  {
   "cell_type": "code",
   "execution_count": null,
   "id": "6aaec227-6f3e-4613-9f9c-5f07254749cf",
   "metadata": {},
   "outputs": [],
   "source": []
  },
  {
   "cell_type": "code",
   "execution_count": null,
   "id": "475923b1-d46f-472b-9b3c-0c0600ab34a3",
   "metadata": {},
   "outputs": [],
   "source": []
  }
 ],
 "metadata": {
  "kernelspec": {
   "display_name": "Python 3 (ipykernel)",
   "language": "python",
   "name": "python3"
  },
  "language_info": {
   "codemirror_mode": {
    "name": "ipython",
    "version": 3
   },
   "file_extension": ".py",
   "mimetype": "text/x-python",
   "name": "python",
   "nbconvert_exporter": "python",
   "pygments_lexer": "ipython3",
   "version": "3.10.8"
  }
 },
 "nbformat": 4,
 "nbformat_minor": 5
}
