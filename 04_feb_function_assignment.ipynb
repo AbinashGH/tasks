{
 "cells": [
  {
   "cell_type": "code",
   "execution_count": 1,
   "id": "9926b666-d43d-46e6-8b66-56b4a85012e2",
   "metadata": {},
   "outputs": [],
   "source": [
    "# Q1. Create a python program to sort the given list of tuples based on integer value using a\n",
    "#     lambda function."
   ]
  },
  {
   "cell_type": "code",
   "execution_count": 10,
   "id": "9bb9a424-c51c-4249-bc00-65982484f4e5",
   "metadata": {},
   "outputs": [],
   "source": [
    "tuple_list = [('Sachin Tendulkar', 34357), ('Ricky Ponting', 27483), ('Jack Kallis', 25534), ('Virat Kohli', 24936)]"
   ]
  },
  {
   "cell_type": "code",
   "execution_count": 15,
   "id": "fdfc8f66-0ea7-47fe-86ea-ce903e034c13",
   "metadata": {},
   "outputs": [],
   "source": [
    "sorted_list = sorted(tuple_list, key= lambda l :l[1])"
   ]
  },
  {
   "cell_type": "code",
   "execution_count": 21,
   "id": "4c8d0480-6215-4231-b380-a7e4c4b634ab",
   "metadata": {},
   "outputs": [
    {
     "name": "stdout",
     "output_type": "stream",
     "text": [
      "[('Virat Kohli', 24936), ('Jack Kallis', 25534), ('Ricky Ponting', 27483), ('Sachin Tendulkar', 34357)]\n"
     ]
    }
   ],
   "source": [
    "print(sorted_list)"
   ]
  },
  {
   "cell_type": "code",
   "execution_count": null,
   "id": "6794bbdd-7805-4389-907c-5b07756455c8",
   "metadata": {},
   "outputs": [],
   "source": []
  },
  {
   "cell_type": "code",
   "execution_count": 18,
   "id": "69463f93-862b-4aab-a2b5-cfbaad3eda5b",
   "metadata": {},
   "outputs": [],
   "source": [
    "# Q2. Write a Python Program to find the squares of all the numbers in the given list of integers using\n",
    "#     lambda and map functions.\n"
   ]
  },
  {
   "cell_type": "code",
   "execution_count": 22,
   "id": "4684dbcc-fbdc-42b2-bb85-2308bee52e69",
   "metadata": {},
   "outputs": [],
   "source": [
    "l = [1, 2, 3, 4, 5, 6, 7, 8, 9, 10]"
   ]
  },
  {
   "cell_type": "code",
   "execution_count": 52,
   "id": "993ab4d4-03ff-4839-a810-5f4e97cc87ff",
   "metadata": {},
   "outputs": [
    {
     "data": {
      "text/plain": [
       "[1, 4, 9, 16, 25, 36, 49, 64, 81, 100]"
      ]
     },
     "execution_count": 52,
     "metadata": {},
     "output_type": "execute_result"
    }
   ],
   "source": [
    "list(map(lambda l: l**2,l))"
   ]
  },
  {
   "cell_type": "code",
   "execution_count": null,
   "id": "5f6ed587-e007-42ee-9d50-bb0efe9ad761",
   "metadata": {},
   "outputs": [],
   "source": []
  },
  {
   "cell_type": "code",
   "execution_count": 53,
   "id": "e8700731-c1a9-4e98-8d4f-69596551901f",
   "metadata": {},
   "outputs": [],
   "source": [
    "# Q3. Write a python program to convert the given list of integers into a tuple of strings. Use map and\n",
    "#     lambda functions\n"
   ]
  },
  {
   "cell_type": "code",
   "execution_count": 63,
   "id": "a25142b8-e4d0-46f4-bf7e-131483c66ce5",
   "metadata": {},
   "outputs": [],
   "source": [
    "given_string = [1, 2, 3, 4, 5, 6, 7, 8, 9, 10]"
   ]
  },
  {
   "cell_type": "code",
   "execution_count": 64,
   "id": "a9cd8878-b143-4505-8273-14319d4b6216",
   "metadata": {},
   "outputs": [
    {
     "data": {
      "text/plain": [
       "('1', '2', '3', '4', '5', '6', '7', '8', '9', '10')"
      ]
     },
     "execution_count": 64,
     "metadata": {},
     "output_type": "execute_result"
    }
   ],
   "source": [
    "tuple(map(lambda given_string: str(given_string),given_string))"
   ]
  },
  {
   "cell_type": "code",
   "execution_count": null,
   "id": "fc65933f-0717-4cf5-a8ef-58f5c5db6c5a",
   "metadata": {},
   "outputs": [],
   "source": []
  },
  {
   "cell_type": "code",
   "execution_count": 65,
   "id": "5278dce9-e1d1-42a9-b99b-5ec48c002878",
   "metadata": {},
   "outputs": [],
   "source": [
    "# Q4. Write a python program using reduce function to compute the product of a list containing numbers\n",
    "#     from 1 to 25."
   ]
  },
  {
   "cell_type": "code",
   "execution_count": 2,
   "id": "0b9b9792-177e-4da9-bb3a-409db0ddeee1",
   "metadata": {},
   "outputs": [],
   "source": [
    "from functools import reduce"
   ]
  },
  {
   "cell_type": "code",
   "execution_count": 11,
   "id": "54c0910b-494d-426c-b77b-8c0f86ac9c50",
   "metadata": {},
   "outputs": [],
   "source": [
    "l = list(range(1,26))"
   ]
  },
  {
   "cell_type": "code",
   "execution_count": 12,
   "id": "f2216ea3-55e7-4b22-98d2-5259a0d4fd42",
   "metadata": {},
   "outputs": [
    {
     "name": "stdout",
     "output_type": "stream",
     "text": [
      "[1, 2, 3, 4, 5, 6, 7, 8, 9, 10, 11, 12, 13, 14, 15, 16, 17, 18, 19, 20, 21, 22, 23, 24, 25]\n"
     ]
    }
   ],
   "source": [
    "print(l) "
   ]
  },
  {
   "cell_type": "code",
   "execution_count": 15,
   "id": "2d726a3e-cd0e-4d60-9d6f-44db15f4a1d8",
   "metadata": {},
   "outputs": [
    {
     "data": {
      "text/plain": [
       "15511210043330985984000000"
      ]
     },
     "execution_count": 15,
     "metadata": {},
     "output_type": "execute_result"
    }
   ],
   "source": [
    "reduce(lambda x,y : x*y ,l)"
   ]
  },
  {
   "cell_type": "code",
   "execution_count": null,
   "id": "6384009f-a209-41af-90e6-7538147deacf",
   "metadata": {},
   "outputs": [],
   "source": []
  },
  {
   "cell_type": "code",
   "execution_count": 27,
   "id": "2bb92ee2-fcb0-4f95-95ba-5774b7492c5a",
   "metadata": {},
   "outputs": [],
   "source": [
    "# Q5. Write a python program to filter the numbers in a given list that are divisible by 2 and 3 using the\n",
    "#     filter function."
   ]
  },
  {
   "cell_type": "code",
   "execution_count": 28,
   "id": "5cd00c45-dbd0-47fe-8a7d-d67e4b93cbcc",
   "metadata": {},
   "outputs": [],
   "source": [
    "num_list = [2, 3, 6, 9, 27, 60, 90, 120, 55, 46]"
   ]
  },
  {
   "cell_type": "code",
   "execution_count": 31,
   "id": "a5d10b3b-2c77-445a-b2df-86099e842557",
   "metadata": {},
   "outputs": [
    {
     "data": {
      "text/plain": [
       "[6, 60, 90, 120]"
      ]
     },
     "execution_count": 31,
     "metadata": {},
     "output_type": "execute_result"
    }
   ],
   "source": [
    "list(filter(lambda x :x % 2 == 0 and x % 3 == 0,num_list))"
   ]
  },
  {
   "cell_type": "code",
   "execution_count": 32,
   "id": "e05a5018-d111-43ca-83c1-ef8452f13aab",
   "metadata": {},
   "outputs": [],
   "source": [
    "# Q6. Write a python program to find palindromes in the given list of strings using lambda and filter\n",
    "#     function."
   ]
  },
  {
   "cell_type": "code",
   "execution_count": 33,
   "id": "195e4e63-dade-4be0-b3db-07eb49aa9250",
   "metadata": {},
   "outputs": [],
   "source": [
    "string_list = ['python', 'php', 'aba', 'radar', 'level']"
   ]
  },
  {
   "cell_type": "code",
   "execution_count": 34,
   "id": "6f886529-1f8e-4883-8dde-b162d901c44a",
   "metadata": {},
   "outputs": [
    {
     "data": {
      "text/plain": [
       "['php', 'aba', 'radar', 'level']"
      ]
     },
     "execution_count": 34,
     "metadata": {},
     "output_type": "execute_result"
    }
   ],
   "source": [
    "list(filter(lambda x:x == x[::-1],string_list))"
   ]
  },
  {
   "cell_type": "code",
   "execution_count": null,
   "id": "7cbbc427-b510-4ae2-9f98-084fad3b20f0",
   "metadata": {},
   "outputs": [],
   "source": []
  }
 ],
 "metadata": {
  "kernelspec": {
   "display_name": "Python 3 (ipykernel)",
   "language": "python",
   "name": "python3"
  },
  "language_info": {
   "codemirror_mode": {
    "name": "ipython",
    "version": 3
   },
   "file_extension": ".py",
   "mimetype": "text/x-python",
   "name": "python",
   "nbconvert_exporter": "python",
   "pygments_lexer": "ipython3",
   "version": "3.10.8"
  }
 },
 "nbformat": 4,
 "nbformat_minor": 5
}
