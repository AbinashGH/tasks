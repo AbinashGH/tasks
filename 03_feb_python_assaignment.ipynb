{
 "cells": [
  {
   "cell_type": "code",
   "execution_count": 1,
   "id": "1ce7f633-b3bd-48a3-a94f-eed684bba581",
   "metadata": {},
   "outputs": [],
   "source": [
    "# Q1. Which keyword is used to create a function? Create a function to return a list of odd numbers in the\n",
    "#     range of 1 to 25."
   ]
  },
  {
   "cell_type": "code",
   "execution_count": 3,
   "id": "2178de73-35b9-4c82-8cd7-5656aaa8ec73",
   "metadata": {},
   "outputs": [
    {
     "data": {
      "text/plain": [
       "' We use def keyword to create a function .'"
      ]
     },
     "execution_count": 3,
     "metadata": {},
     "output_type": "execute_result"
    }
   ],
   "source": [
    "\"\"\" We use def keyword to create a function .\"\"\""
   ]
  },
  {
   "cell_type": "code",
   "execution_count": 1,
   "id": "81dcbe17-0cce-437e-93d8-c462ec88ef15",
   "metadata": {},
   "outputs": [],
   "source": [
    "def odds():\n",
    "    odd_num = []\n",
    "    for num in range(1,25):\n",
    "        if num % 2 == 1:\n",
    "            odd_num.append(num)\n",
    "    return odd_num"
   ]
  },
  {
   "cell_type": "code",
   "execution_count": 2,
   "id": "dc54a02e-f01c-413d-929c-0173368adf67",
   "metadata": {},
   "outputs": [
    {
     "data": {
      "text/plain": [
       "[1, 3, 5, 7, 9, 11, 13, 15, 17, 19, 21, 23]"
      ]
     },
     "execution_count": 2,
     "metadata": {},
     "output_type": "execute_result"
    }
   ],
   "source": [
    "odds()"
   ]
  },
  {
   "cell_type": "code",
   "execution_count": null,
   "id": "ed360613-fbc7-491d-b498-5566706652ee",
   "metadata": {},
   "outputs": [],
   "source": []
  },
  {
   "cell_type": "code",
   "execution_count": 3,
   "id": "3b876d1b-6617-441e-9694-c6f3603dbfe2",
   "metadata": {},
   "outputs": [],
   "source": [
    "# Q2. Why *args and **kwargs is used in some functions? Create a function each for *args and **kwargs\n",
    "#     to demonstrate their use."
   ]
  },
  {
   "cell_type": "code",
   "execution_count": 4,
   "id": "09f965cd-6d7f-4192-85a0-0e88d49952f8",
   "metadata": {},
   "outputs": [
    {
     "data": {
      "text/plain": [
       "' When we unsure about the number of arguments that need to be passed to a function,that time we use *args to give arguments to a function.'"
      ]
     },
     "execution_count": 4,
     "metadata": {},
     "output_type": "execute_result"
    }
   ],
   "source": [
    "\"\"\" When we unsure about the number of arguments that need to be passed to a function,that time we use *args to give arguments to a function.\"\"\" "
   ]
  },
  {
   "cell_type": "code",
   "execution_count": 14,
   "id": "17f04e99-e982-473e-a7f5-f113488ca5e4",
   "metadata": {},
   "outputs": [],
   "source": [
    "def function(*args):\n",
    "    return args\n",
    "    "
   ]
  },
  {
   "cell_type": "code",
   "execution_count": 15,
   "id": "7ee9a5ba-e94a-43d7-bfcf-d3ee2c279e26",
   "metadata": {},
   "outputs": [
    {
     "data": {
      "text/plain": [
       "(1, 2, 3, 4, 5)"
      ]
     },
     "execution_count": 15,
     "metadata": {},
     "output_type": "execute_result"
    }
   ],
   "source": [
    "function(1,2,3,4,5)"
   ]
  },
  {
   "cell_type": "code",
   "execution_count": null,
   "id": "e19514c7-1bea-4b33-ba33-d2073e692858",
   "metadata": {},
   "outputs": [],
   "source": []
  },
  {
   "cell_type": "code",
   "execution_count": 8,
   "id": "17ef8863-c3b9-462d-9574-bbab3db01a3c",
   "metadata": {},
   "outputs": [
    {
     "data": {
      "text/plain": [
       "' We use **kwargs syntax to pass arguments in a key,value pair or in a dictionary format .'"
      ]
     },
     "execution_count": 8,
     "metadata": {},
     "output_type": "execute_result"
    }
   ],
   "source": [
    "\"\"\" We use **kwargs syntax to pass arguments in a key,value pair or in a dictionary format .\"\"\""
   ]
  },
  {
   "cell_type": "code",
   "execution_count": 16,
   "id": "214894e5-a50d-4f33-ae11-b78c1cf5f2a7",
   "metadata": {},
   "outputs": [],
   "source": [
    "def function1(**kwargs):\n",
    "    return kwargs\n",
    "        "
   ]
  },
  {
   "cell_type": "code",
   "execution_count": 18,
   "id": "96d3ced5-a118-4c66-9b50-9031cd31af0e",
   "metadata": {},
   "outputs": [
    {
     "data": {
      "text/plain": [
       "{'a': 1, 'b': 'adi', 'c': [1, 2, 3]}"
      ]
     },
     "execution_count": 18,
     "metadata": {},
     "output_type": "execute_result"
    }
   ],
   "source": [
    "function1(a = 1,b = \"adi\",c = [1,2,3])"
   ]
  },
  {
   "cell_type": "code",
   "execution_count": null,
   "id": "c5011e2d-ef38-4197-84cf-63c4e3770e5f",
   "metadata": {},
   "outputs": [],
   "source": []
  },
  {
   "cell_type": "code",
   "execution_count": 19,
   "id": "6cc74e45-8612-493a-80f5-59b4d2717bbf",
   "metadata": {},
   "outputs": [],
   "source": [
    "# Q3. What is an iterator in python? Name the method used to initialise the iterator object and the method\n",
    "#     used for iteration. Use these methods to print the first five elements of the given list [2, 4, 6, 8, 10, 12, 14,\n",
    "#     16, 18, 20]."
   ]
  },
  {
   "cell_type": "code",
   "execution_count": 20,
   "id": "69452dec-66b7-4229-9354-56edbf08aab0",
   "metadata": {},
   "outputs": [
    {
     "data": {
      "text/plain": [
       "' Iterator is an object that allows you to iterate over collections of data .'"
      ]
     },
     "execution_count": 20,
     "metadata": {},
     "output_type": "execute_result"
    }
   ],
   "source": [
    "\"\"\" Iterator is an object that allows you to iterate over collections of data .\"\"\""
   ]
  },
  {
   "cell_type": "code",
   "execution_count": 21,
   "id": "f706a83f-17e0-4ffb-bbb5-2cb72c705c51",
   "metadata": {},
   "outputs": [
    {
     "data": {
      "text/plain": [
       "' In python to initialise an iterator object,we use the iter() function and for iteration we use next() method. '"
      ]
     },
     "execution_count": 21,
     "metadata": {},
     "output_type": "execute_result"
    }
   ],
   "source": [
    "\"\"\" In python to initialise an iterator object,we use the iter() function and for iteration we use next() method. \"\"\""
   ]
  },
  {
   "cell_type": "code",
   "execution_count": 9,
   "id": "beaad431-c84b-48e9-b8a4-03f46238f4ad",
   "metadata": {},
   "outputs": [],
   "source": [
    "given_list = [2, 4, 6, 8, 10, 12, 14,16, 18, 20]"
   ]
  },
  {
   "cell_type": "code",
   "execution_count": 10,
   "id": "26f165c8-0e77-4272-953a-8e3f36b86611",
   "metadata": {},
   "outputs": [],
   "source": [
    "iterators = iter(given_list)"
   ]
  },
  {
   "cell_type": "code",
   "execution_count": 11,
   "id": "68393df2-0b22-4502-a757-d1c1532d519a",
   "metadata": {},
   "outputs": [
    {
     "name": "stdout",
     "output_type": "stream",
     "text": [
      "2\n",
      "4\n",
      "6\n",
      "8\n",
      "10\n"
     ]
    }
   ],
   "source": [
    "for num in range(5):\n",
    "    print(next(iterators))"
   ]
  },
  {
   "cell_type": "code",
   "execution_count": null,
   "id": "4c9009a3-9b0d-4d1c-9936-8146c6b1c2f1",
   "metadata": {},
   "outputs": [],
   "source": []
  },
  {
   "cell_type": "code",
   "execution_count": 1,
   "id": "48c5194a-246b-4e33-a753-3944cfb357ec",
   "metadata": {},
   "outputs": [],
   "source": [
    "# Q4. What is a generator function in python? Why yield keyword is used? Give an example of a generator\n",
    "#     function."
   ]
  },
  {
   "cell_type": "markdown",
   "id": "8e32c426-a3d8-44d5-aef9-7eadd813006e",
   "metadata": {},
   "source": [
    "Generator is a function that returns an iterator .\n",
    "yield keyword is use for creating generator ."
   ]
  },
  {
   "cell_type": "code",
   "execution_count": 5,
   "id": "b065a52d-dad1-47c1-a563-4d01fe725467",
   "metadata": {},
   "outputs": [],
   "source": [
    "def fibonacci():\n",
    "    a,b = 0,1\n",
    "    while True:\n",
    "        yield a\n",
    "        a,b = b,a+b\n",
    "    "
   ]
  },
  {
   "cell_type": "code",
   "execution_count": 6,
   "id": "fa10faad-3aeb-414b-8785-118d993d088a",
   "metadata": {},
   "outputs": [],
   "source": [
    "fib = fibonacci()"
   ]
  },
  {
   "cell_type": "code",
   "execution_count": 7,
   "id": "cda5819d-2b16-4538-98e4-546880120853",
   "metadata": {},
   "outputs": [
    {
     "name": "stdout",
     "output_type": "stream",
     "text": [
      "0\n",
      "1\n",
      "1\n",
      "2\n",
      "3\n"
     ]
    }
   ],
   "source": [
    "for i in range(5) :\n",
    "    print(next(fib))"
   ]
  },
  {
   "cell_type": "code",
   "execution_count": null,
   "id": "f2fa65a7-d0f5-478e-a70f-ec899881fe34",
   "metadata": {},
   "outputs": [],
   "source": []
  },
  {
   "cell_type": "code",
   "execution_count": 8,
   "id": "09fb8a83-f136-46ac-98a4-1ab109051a3f",
   "metadata": {},
   "outputs": [],
   "source": [
    "# Q5. Create a generator function for prime numbers less than 1000. Use the next() method to print the\n",
    "#     first 20 prime numbers."
   ]
  },
  {
   "cell_type": "code",
   "execution_count": 46,
   "id": "263f13aa-3639-4179-937d-716b4888f71a",
   "metadata": {},
   "outputs": [],
   "source": [
    "def is_prime(n):\n",
    "    if n <= 1 :\n",
    "        return False\n",
    "    if n == 2:\n",
    "        return True\n",
    "    if n % 2 == 0 :\n",
    "        return False\n",
    "    for i in range(3,int(n**0.5) + 1,2):\n",
    "        if n % i == 0:\n",
    "            return False\n",
    "    return True\n",
    "        "
   ]
  },
  {
   "cell_type": "code",
   "execution_count": 47,
   "id": "6a5f3176-1923-4f66-9360-7cb5a6e0d630",
   "metadata": {},
   "outputs": [],
   "source": [
    "def prime_gen():\n",
    "    num = 2\n",
    "    while num < 1000 :\n",
    "        if is_prime(num):\n",
    "            yield num\n",
    "        num += 1"
   ]
  },
  {
   "cell_type": "code",
   "execution_count": 48,
   "id": "b6249739-5e82-47f7-ad30-233aa84e5134",
   "metadata": {},
   "outputs": [],
   "source": [
    "prime = prime_gen()"
   ]
  },
  {
   "cell_type": "code",
   "execution_count": 49,
   "id": "079f11a2-3d90-4fdb-b2f4-62cdd6720826",
   "metadata": {},
   "outputs": [
    {
     "name": "stdout",
     "output_type": "stream",
     "text": [
      "2\n",
      "3\n",
      "5\n",
      "7\n",
      "11\n",
      "13\n",
      "17\n",
      "19\n",
      "23\n",
      "29\n",
      "31\n",
      "37\n",
      "41\n",
      "43\n",
      "47\n",
      "53\n",
      "59\n",
      "61\n",
      "67\n",
      "71\n"
     ]
    }
   ],
   "source": [
    "for a in range(20):\n",
    "    print(next(prime))"
   ]
  },
  {
   "cell_type": "code",
   "execution_count": null,
   "id": "5e187214-a602-4b52-be64-2c998341b0a1",
   "metadata": {},
   "outputs": [],
   "source": []
  },
  {
   "cell_type": "code",
   "execution_count": 50,
   "id": "5bec4180-47c9-4ee7-9ec4-918b2361bf93",
   "metadata": {},
   "outputs": [],
   "source": [
    "# Q6. Write a python program to print the first 10 Fibonacci numbers using a while loop."
   ]
  },
  {
   "cell_type": "code",
   "execution_count": 5,
   "id": "21c5841d-7cc8-47ad-a375-99a8db6059e5",
   "metadata": {},
   "outputs": [],
   "source": [
    "def fibonacci(n):\n",
    "    a,b = 0,1\n",
    "    count = 0\n",
    "    while count < n :\n",
    "        a,b = b, a+b\n",
    "        count += 1\n",
    "    return a\n",
    "        "
   ]
  },
  {
   "cell_type": "code",
   "execution_count": 6,
   "id": "237cc0fe-b449-48d8-8bd9-a78b4d8815e5",
   "metadata": {},
   "outputs": [
    {
     "data": {
      "text/plain": [
       "55"
      ]
     },
     "execution_count": 6,
     "metadata": {},
     "output_type": "execute_result"
    }
   ],
   "source": [
    "fibonacci(10)"
   ]
  },
  {
   "cell_type": "code",
   "execution_count": 1,
   "id": "69c3180e-12a2-4485-a0ea-692513c1b83d",
   "metadata": {},
   "outputs": [],
   "source": [
    "# Q7. Write a List Comprehension to iterate through the given string: ‘pwskills’.\n",
    "#     Expected output: ['p', 'w', 's', 'k', 'i', 'l', 'l', 's']"
   ]
  },
  {
   "cell_type": "code",
   "execution_count": 2,
   "id": "739c394e-e14a-44ce-b73f-1bf97f73199f",
   "metadata": {},
   "outputs": [],
   "source": [
    "s = \"pwskills\""
   ]
  },
  {
   "cell_type": "code",
   "execution_count": 3,
   "id": "83d6e366-ccac-422e-8100-2bf0a21792c5",
   "metadata": {},
   "outputs": [
    {
     "data": {
      "text/plain": [
       "['p', 'w', 's', 'k', 'i', 'l', 'l', 's']"
      ]
     },
     "execution_count": 3,
     "metadata": {},
     "output_type": "execute_result"
    }
   ],
   "source": [
    "[i for i in s ]"
   ]
  },
  {
   "cell_type": "code",
   "execution_count": null,
   "id": "9756973a-97c4-4427-b7ca-8c2fc972ede5",
   "metadata": {},
   "outputs": [],
   "source": []
  },
  {
   "cell_type": "code",
   "execution_count": 4,
   "id": "12bcaab0-6b2d-48f4-bd83-a8afe4743e73",
   "metadata": {},
   "outputs": [],
   "source": [
    "# Q8. Write a python program to check whether a given number is Palindrome or not using a while loop."
   ]
  },
  {
   "cell_type": "code",
   "execution_count": 5,
   "id": "c450556e-ae15-4e5d-87f4-8f1abdca29dd",
   "metadata": {},
   "outputs": [],
   "source": [
    "def check_palindrome(n):\n",
    "    temp = n\n",
    "    rev = 0\n",
    "    while(n > 0):\n",
    "        dig = n%10\n",
    "        rev = rev*10+dig\n",
    "        n = n // 10\n",
    "    if temp == rev :\n",
    "        print(\"The number is palindrome.\")\n",
    "    else :\n",
    "        print(\"The number is not palindrome\")"
   ]
  },
  {
   "cell_type": "code",
   "execution_count": 7,
   "id": "88ec58a9-a255-468b-835e-faa037a91213",
   "metadata": {},
   "outputs": [
    {
     "name": "stdout",
     "output_type": "stream",
     "text": [
      "The number is palindrome.\n"
     ]
    }
   ],
   "source": [
    "check_palindrome(232)"
   ]
  },
  {
   "cell_type": "code",
   "execution_count": null,
   "id": "a93ab67f-122b-4833-b010-e862a120f70c",
   "metadata": {},
   "outputs": [],
   "source": []
  },
  {
   "cell_type": "code",
   "execution_count": 8,
   "id": "a4823a4a-d0ee-41fe-9f48-7a69429ff156",
   "metadata": {},
   "outputs": [],
   "source": [
    "# Q9. Write a code to print odd numbers from 1 to 100 using list comprehension."
   ]
  },
  {
   "cell_type": "code",
   "execution_count": 11,
   "id": "4de45086-bc67-488b-8180-fa879acfbd68",
   "metadata": {},
   "outputs": [],
   "source": [
    "num_list = [i for i in range(1,101)]"
   ]
  },
  {
   "cell_type": "code",
   "execution_count": 12,
   "id": "21562f31-9c42-4690-b4bf-7f7cbc5950d6",
   "metadata": {},
   "outputs": [
    {
     "data": {
      "text/plain": [
       "[1,\n",
       " 2,\n",
       " 3,\n",
       " 4,\n",
       " 5,\n",
       " 6,\n",
       " 7,\n",
       " 8,\n",
       " 9,\n",
       " 10,\n",
       " 11,\n",
       " 12,\n",
       " 13,\n",
       " 14,\n",
       " 15,\n",
       " 16,\n",
       " 17,\n",
       " 18,\n",
       " 19,\n",
       " 20,\n",
       " 21,\n",
       " 22,\n",
       " 23,\n",
       " 24,\n",
       " 25,\n",
       " 26,\n",
       " 27,\n",
       " 28,\n",
       " 29,\n",
       " 30,\n",
       " 31,\n",
       " 32,\n",
       " 33,\n",
       " 34,\n",
       " 35,\n",
       " 36,\n",
       " 37,\n",
       " 38,\n",
       " 39,\n",
       " 40,\n",
       " 41,\n",
       " 42,\n",
       " 43,\n",
       " 44,\n",
       " 45,\n",
       " 46,\n",
       " 47,\n",
       " 48,\n",
       " 49,\n",
       " 50,\n",
       " 51,\n",
       " 52,\n",
       " 53,\n",
       " 54,\n",
       " 55,\n",
       " 56,\n",
       " 57,\n",
       " 58,\n",
       " 59,\n",
       " 60,\n",
       " 61,\n",
       " 62,\n",
       " 63,\n",
       " 64,\n",
       " 65,\n",
       " 66,\n",
       " 67,\n",
       " 68,\n",
       " 69,\n",
       " 70,\n",
       " 71,\n",
       " 72,\n",
       " 73,\n",
       " 74,\n",
       " 75,\n",
       " 76,\n",
       " 77,\n",
       " 78,\n",
       " 79,\n",
       " 80,\n",
       " 81,\n",
       " 82,\n",
       " 83,\n",
       " 84,\n",
       " 85,\n",
       " 86,\n",
       " 87,\n",
       " 88,\n",
       " 89,\n",
       " 90,\n",
       " 91,\n",
       " 92,\n",
       " 93,\n",
       " 94,\n",
       " 95,\n",
       " 96,\n",
       " 97,\n",
       " 98,\n",
       " 99,\n",
       " 100]"
      ]
     },
     "execution_count": 12,
     "metadata": {},
     "output_type": "execute_result"
    }
   ],
   "source": [
    "num_list"
   ]
  },
  {
   "cell_type": "code",
   "execution_count": 13,
   "id": "40b41a6b-6b6b-422c-8b1a-0f117772d421",
   "metadata": {},
   "outputs": [],
   "source": [
    "odd_num = [i for i in num_list if i % 2 != 0]"
   ]
  },
  {
   "cell_type": "code",
   "execution_count": 14,
   "id": "af18d0c5-396c-466f-a234-51925981efce",
   "metadata": {},
   "outputs": [
    {
     "data": {
      "text/plain": [
       "[1,\n",
       " 3,\n",
       " 5,\n",
       " 7,\n",
       " 9,\n",
       " 11,\n",
       " 13,\n",
       " 15,\n",
       " 17,\n",
       " 19,\n",
       " 21,\n",
       " 23,\n",
       " 25,\n",
       " 27,\n",
       " 29,\n",
       " 31,\n",
       " 33,\n",
       " 35,\n",
       " 37,\n",
       " 39,\n",
       " 41,\n",
       " 43,\n",
       " 45,\n",
       " 47,\n",
       " 49,\n",
       " 51,\n",
       " 53,\n",
       " 55,\n",
       " 57,\n",
       " 59,\n",
       " 61,\n",
       " 63,\n",
       " 65,\n",
       " 67,\n",
       " 69,\n",
       " 71,\n",
       " 73,\n",
       " 75,\n",
       " 77,\n",
       " 79,\n",
       " 81,\n",
       " 83,\n",
       " 85,\n",
       " 87,\n",
       " 89,\n",
       " 91,\n",
       " 93,\n",
       " 95,\n",
       " 97,\n",
       " 99]"
      ]
     },
     "execution_count": 14,
     "metadata": {},
     "output_type": "execute_result"
    }
   ],
   "source": [
    "odd_num"
   ]
  },
  {
   "cell_type": "code",
   "execution_count": null,
   "id": "9295bae2-9cdc-4ec0-884a-bea1198afe47",
   "metadata": {},
   "outputs": [],
   "source": []
  }
 ],
 "metadata": {
  "kernelspec": {
   "display_name": "Python 3 (ipykernel)",
   "language": "python",
   "name": "python3"
  },
  "language_info": {
   "codemirror_mode": {
    "name": "ipython",
    "version": 3
   },
   "file_extension": ".py",
   "mimetype": "text/x-python",
   "name": "python",
   "nbconvert_exporter": "python",
   "pygments_lexer": "ipython3",
   "version": "3.10.8"
  }
 },
 "nbformat": 4,
 "nbformat_minor": 5
}
