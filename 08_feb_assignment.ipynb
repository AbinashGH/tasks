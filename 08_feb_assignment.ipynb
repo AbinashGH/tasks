{
 "cells": [
  {
   "cell_type": "code",
   "execution_count": 1,
   "id": "8be81b3e-97ff-41f8-8341-8a23199fd388",
   "metadata": {},
   "outputs": [],
   "source": [
    "# Q1. What is Abstraction in OOps? Explain with an example."
   ]
  },
  {
   "cell_type": "markdown",
   "id": "1963fe05-323c-4202-ac5e-41ed26acbfe9",
   "metadata": {},
   "source": [
    "Abstraction in oops is the concept of simplifying complex systems by focusing on the essential characteristics while hiding unnecessary details. It allows you to model real world entities as classes and objects,abstracting away the complexity of their implementation ."
   ]
  },
  {
   "cell_type": "code",
   "execution_count": 3,
   "id": "6317bdd6-28ad-47ca-8c8e-b8086476ea49",
   "metadata": {},
   "outputs": [],
   "source": [
    "class animal:\n",
    "    def __init__(self,name):\n",
    "        self.name = name\n",
    "        \n",
    "    def make_sound(self):\n",
    "        pass\n",
    "    \n",
    "class dog(animal):\n",
    "    def make_sound(self):\n",
    "        return \"woof\"\n",
    "class cat(animal):\n",
    "    def make_sound(self):\n",
    "        return \"meow\""
   ]
  },
  {
   "cell_type": "code",
   "execution_count": 11,
   "id": "54ff6fd9-32bd-4d50-9834-470e3908797b",
   "metadata": {},
   "outputs": [],
   "source": [
    "my_dog = dog(\"Blacky\")\n",
    "my_cat = cat(\"Browny\")"
   ]
  },
  {
   "cell_type": "code",
   "execution_count": 12,
   "id": "78e6675d-ff65-4b5a-862a-3fa25a782a7e",
   "metadata": {},
   "outputs": [
    {
     "data": {
      "text/plain": [
       "'woof'"
      ]
     },
     "execution_count": 12,
     "metadata": {},
     "output_type": "execute_result"
    }
   ],
   "source": [
    "my_dog.make_sound()"
   ]
  },
  {
   "cell_type": "code",
   "execution_count": 14,
   "id": "6e848a2e-2e26-4ecf-a15c-2e1b67c1ea8e",
   "metadata": {},
   "outputs": [],
   "source": [
    "# Q2. Differentiate between Abstraction and Encapsulation. Explain with an example."
   ]
  },
  {
   "cell_type": "markdown",
   "id": "25228b40-4f73-4750-a34b-1ffd1febd010",
   "metadata": {},
   "source": [
    "The difference between abstraction and encapsulation is,Abstraction simplifies complex systems by showing only essential features, like using a remote to control a TV. Encapsulation protects data by bundling it with methods and limiting direct access, akin to a locked treasure chest accessible only through a key."
   ]
  },
  {
   "cell_type": "code",
   "execution_count": 15,
   "id": "41544ea2-9947-4cc3-ad7e-33c161a74c77",
   "metadata": {},
   "outputs": [],
   "source": [
    "class bankaccount :\n",
    "    def __init__(self,account_number,balance):\n",
    "        self.account_number = account_number\n",
    "        self.balance = balance\n",
    "    \n",
    "    def deposit(self,amount):\n",
    "        self.balance += amount\n",
    "    \n",
    "    def withdraw(self,amount):\n",
    "        if self.balance >= amount:\n",
    "            self.balance -= amount\n",
    "        else :\n",
    "            print(\"Insufficient balance\")"
   ]
  },
  {
   "cell_type": "code",
   "execution_count": 16,
   "id": "0ce74a5e-f0ff-41cb-a205-611797620891",
   "metadata": {},
   "outputs": [],
   "source": [
    "# Q3. What is abc module in python? Why is it used?"
   ]
  },
  {
   "cell_type": "markdown",
   "id": "98b662a9-0bfe-4567-8afa-529678b93305",
   "metadata": {},
   "source": [
    "The abc module is used in Python to define abstract base classes .It is used for abstract methods, enforce interface contracts, provide structural blueprints, and facilitate polymorphism in object-oriented programming."
   ]
  },
  {
   "cell_type": "code",
   "execution_count": 17,
   "id": "bd73520e-70f7-4fa5-a965-0307dff9d5ab",
   "metadata": {},
   "outputs": [],
   "source": [
    "# Q4. How can we achieve data abstraction?"
   ]
  },
  {
   "cell_type": "markdown",
   "id": "a7b3439f-e223-495e-a199-b58824b8d3c4",
   "metadata": {},
   "source": [
    "Data abstraction in programming is achieved by separating the usage of data from its implementation details and also using encapsulation ."
   ]
  },
  {
   "cell_type": "code",
   "execution_count": 18,
   "id": "77ee04de-c610-4118-aa1b-593664f28428",
   "metadata": {},
   "outputs": [],
   "source": [
    "# Q5. Can we create an instance of an abstract class? Explain your answer."
   ]
  },
  {
   "cell_type": "markdown",
   "id": "23b235f0-1191-44a3-9e98-85fbe2b085e0",
   "metadata": {},
   "source": [
    "No, you cannot create an instance of an abstract class directly in Python. You can define an abstract class in Python using the abc module, you cannot directly create an instance of it due to its incomplete nature and the presence of abstract methods. Abstract classes serve as templates for subclasses to inherit and implement, providing a mechanism for enforcing common behavior across related classes.\n",
    "\n",
    "\n",
    "\n",
    "\n",
    "\n",
    "\n"
   ]
  },
  {
   "cell_type": "code",
   "execution_count": null,
   "id": "7f3f82a3-195b-4092-8ee4-b787c85149a3",
   "metadata": {},
   "outputs": [],
   "source": []
  }
 ],
 "metadata": {
  "kernelspec": {
   "display_name": "Python 3 (ipykernel)",
   "language": "python",
   "name": "python3"
  },
  "language_info": {
   "codemirror_mode": {
    "name": "ipython",
    "version": 3
   },
   "file_extension": ".py",
   "mimetype": "text/x-python",
   "name": "python",
   "nbconvert_exporter": "python",
   "pygments_lexer": "ipython3",
   "version": "3.10.8"
  }
 },
 "nbformat": 4,
 "nbformat_minor": 5
}
