{
 "cells": [
  {
   "cell_type": "markdown",
   "id": "55d259ea-796f-476a-af24-f29ee0886e05",
   "metadata": {},
   "source": [
    "Python String"
   ]
  },
  {
   "cell_type": "code",
   "execution_count": 1,
   "id": "0ad1e898-95fa-4d61-8935-7fc0ba8e65e2",
   "metadata": {},
   "outputs": [],
   "source": [
    "# 1"
   ]
  },
  {
   "cell_type": "code",
   "execution_count": 8,
   "id": "68cc5fc7-212d-4b57-8612-229e648f83f9",
   "metadata": {},
   "outputs": [],
   "source": [
    "s = \"'\"\n",
    "x = ' \\' '"
   ]
  },
  {
   "cell_type": "markdown",
   "id": "f9c3719c-0608-4a5b-8b46-7408ec86a70b",
   "metadata": {},
   "source": [
    "To store a single quote (') as a string in a variable in Python, you can use either double quotes (\") or using an escape character escape the single quote with a backslash (\\). "
   ]
  },
  {
   "cell_type": "code",
   "execution_count": null,
   "id": "bd7f9498-47db-4407-a407-aa8323e50865",
   "metadata": {},
   "outputs": [],
   "source": []
  },
  {
   "cell_type": "code",
   "execution_count": 9,
   "id": "63757600-9bbc-4657-8b93-88cbfdffa8c0",
   "metadata": {},
   "outputs": [],
   "source": [
    "# 2"
   ]
  },
  {
   "cell_type": "code",
   "execution_count": null,
   "id": "29f41978-8f43-4068-bc76-41177cd6e778",
   "metadata": {},
   "outputs": [],
   "source": [
    "x = 'a'"
   ]
  },
  {
   "cell_type": "markdown",
   "id": "5e21f777-578e-457f-bfe6-dbdd51f46101",
   "metadata": {},
   "source": [
    "\n",
    "Here variable x is a string type variable.In Python,\n",
    "there is no separate character type like some other programming languages .\n",
    "Instead, a single character is treated as a string containing just that one character.\n",
    "So when you assign x = 'a', you're actually assigning a string with the character 'a' to the variable x."
   ]
  },
  {
   "cell_type": "code",
   "execution_count": null,
   "id": "640c9023-7409-4ae9-90e6-3483d09112a5",
   "metadata": {},
   "outputs": [],
   "source": []
  },
  {
   "cell_type": "code",
   "execution_count": 18,
   "id": "6a58cd9b-2eeb-44db-aab9-7de629c36e03",
   "metadata": {},
   "outputs": [],
   "source": [
    "# 3"
   ]
  },
  {
   "cell_type": "code",
   "execution_count": 5,
   "id": "07808b65-a60b-4b56-800d-5f4cf299a1f2",
   "metadata": {},
   "outputs": [],
   "source": [
    "variable = 'Welcome to Python foundation course'"
   ]
  },
  {
   "cell_type": "code",
   "execution_count": 9,
   "id": "ea38926e-88aa-4c6e-80de-4b06fa2c4489",
   "metadata": {},
   "outputs": [
    {
     "data": {
      "text/plain": [
       "4"
      ]
     },
     "execution_count": 9,
     "metadata": {},
     "output_type": "execute_result"
    }
   ],
   "source": [
    "variable.find('o')"
   ]
  },
  {
   "cell_type": "code",
   "execution_count": 11,
   "id": "813ef8a9-938e-4c65-a225-5a31705658d5",
   "metadata": {},
   "outputs": [
    {
     "data": {
      "text/plain": [
       "6"
      ]
     },
     "execution_count": 11,
     "metadata": {},
     "output_type": "execute_result"
    }
   ],
   "source": [
    "variable.count('o')"
   ]
  },
  {
   "cell_type": "code",
   "execution_count": 14,
   "id": "8871a20f-faad-4c28-b244-b500ea402f09",
   "metadata": {},
   "outputs": [
    {
     "data": {
      "text/plain": [
       "35"
      ]
     },
     "execution_count": 14,
     "metadata": {},
     "output_type": "execute_result"
    }
   ],
   "source": [
    "len(variable)"
   ]
  },
  {
   "cell_type": "code",
   "execution_count": 15,
   "id": "818b0c29-d69a-4fe9-bb23-803bee90aed5",
   "metadata": {},
   "outputs": [],
   "source": [
    "s = 'Hello'"
   ]
  },
  {
   "cell_type": "code",
   "execution_count": 18,
   "id": "1a40913f-4ec8-4215-ab2d-f3868fa46639",
   "metadata": {},
   "outputs": [],
   "source": [
    "concatenation = variable+' '+s"
   ]
  },
  {
   "cell_type": "code",
   "execution_count": 19,
   "id": "9c6b4484-a6e1-4fbf-9310-6e70fe99cf09",
   "metadata": {},
   "outputs": [
    {
     "data": {
      "text/plain": [
       "'Welcome to Python foundation course Hello'"
      ]
     },
     "execution_count": 19,
     "metadata": {},
     "output_type": "execute_result"
    }
   ],
   "source": [
    "concatenation"
   ]
  },
  {
   "cell_type": "code",
   "execution_count": null,
   "id": "76e618bb-40e4-4121-a8b9-7496132ead68",
   "metadata": {},
   "outputs": [],
   "source": []
  },
  {
   "cell_type": "code",
   "execution_count": 20,
   "id": "0fb60911-387d-4b58-b485-e50cd0e3c243",
   "metadata": {},
   "outputs": [],
   "source": [
    "# 4"
   ]
  },
  {
   "cell_type": "code",
   "execution_count": 30,
   "id": "b800dc90-fbab-498a-8f11-4022bc76994e",
   "metadata": {},
   "outputs": [],
   "source": [
    " word = 'Panaji@12256'"
   ]
  },
  {
   "cell_type": "code",
   "execution_count": 38,
   "id": "8712e38b-8454-4570-b96b-651722c2a49c",
   "metadata": {},
   "outputs": [
    {
     "name": "stdout",
     "output_type": "stream",
     "text": [
      "Total number of alphabets in lowercase : 5\n"
     ]
    }
   ],
   "source": [
    "# a\n",
    "count = 0\n",
    "for char in word:\n",
    "    if char.islower():\n",
    "        count += 1\n",
    "print(\"Total number of alphabets in lowercase :\",count)"
   ]
  },
  {
   "cell_type": "code",
   "execution_count": 39,
   "id": "09145ef8-73de-49db-9427-716b7f72fb7d",
   "metadata": {},
   "outputs": [],
   "source": [
    "# b"
   ]
  },
  {
   "cell_type": "code",
   "execution_count": 41,
   "id": "4bf1f6b5-1445-42d3-8a4d-69c740b7ba87",
   "metadata": {},
   "outputs": [
    {
     "name": "stdout",
     "output_type": "stream",
     "text": [
      "Total number of alphabets in uppercase: 1\n"
     ]
    }
   ],
   "source": [
    "count = 0 \n",
    "for upper_char in word:\n",
    "    if upper_char.isupper():\n",
    "        count+= 1\n",
    "print(\"Total number of alphabets in uppercase:\",count)"
   ]
  },
  {
   "cell_type": "code",
   "execution_count": 42,
   "id": "bc3821bc-7f33-4dcb-96c8-bace67e2e56f",
   "metadata": {},
   "outputs": [],
   "source": [
    "# c"
   ]
  },
  {
   "cell_type": "code",
   "execution_count": 44,
   "id": "7b32f8c1-588e-4eff-a97e-ffd8be24051f",
   "metadata": {},
   "outputs": [
    {
     "name": "stdout",
     "output_type": "stream",
     "text": [
      "Total number of numeric in string: 5\n"
     ]
    }
   ],
   "source": [
    "count = 0\n",
    "for number in word:\n",
    "    if number.isnumeric():\n",
    "        count+= 1\n",
    "print(\"Total number of numeric in string:\",count)"
   ]
  },
  {
   "cell_type": "code",
   "execution_count": null,
   "id": "8f25b3f0-5272-463d-a159-ea58ab2cabc3",
   "metadata": {},
   "outputs": [],
   "source": []
  },
  {
   "cell_type": "code",
   "execution_count": 45,
   "id": "19324ba1-c6af-4a66-90c2-bf36276d0936",
   "metadata": {},
   "outputs": [],
   "source": [
    "# 5"
   ]
  },
  {
   "cell_type": "code",
   "execution_count": 53,
   "id": "f03bbc54-7a86-4b58-9399-9e63e54d53b9",
   "metadata": {},
   "outputs": [
    {
     "name": "stdout",
     "output_type": "stream",
     "text": [
      "455\n"
     ]
    }
   ],
   "source": [
    "number = 455\n",
    "convert_string = str(number)\n",
    "print(convert_string)\n",
    "type(# Store a numerical value in a variable\n",
    "numerical_value = 42\n",
    "\n",
    "# Convert the numerical value to a string\n",
    "numerical_value_as_string = str(numerical_value)\n",
    "\n",
    "# Print the original numerical value and the converted string\n",
    "print(\"Numerical Value:\", numerical_value)\n",
    "print(\"Numerical Value as String:\", numerical_value_as_string)"
   ]
  },
  {
   "cell_type": "code",
   "execution_count": null,
   "id": "6e8f54e6-ab31-4a8c-b97f-7d6f82080a54",
   "metadata": {},
   "outputs": [],
   "source": []
  },
  {
   "cell_type": "code",
   "execution_count": null,
   "id": "8effa494-af3c-4960-b251-eb2e6edc69a1",
   "metadata": {},
   "outputs": [],
   "source": []
  }
 ],
 "metadata": {
  "kernelspec": {
   "display_name": "Python 3 (ipykernel)",
   "language": "python",
   "name": "python3"
  },
  "language_info": {
   "codemirror_mode": {
    "name": "ipython",
    "version": 3
   },
   "file_extension": ".py",
   "mimetype": "text/x-python",
   "name": "python",
   "nbconvert_exporter": "python",
   "pygments_lexer": "ipython3",
   "version": "3.10.8"
  }
 },
 "nbformat": 4,
 "nbformat_minor": 5
}
