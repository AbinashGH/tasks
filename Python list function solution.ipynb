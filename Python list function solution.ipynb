{
 "cells": [
  {
   "cell_type": "markdown",
   "id": "1eeaf414-0d36-4a1a-a35f-72a69d859151",
   "metadata": {},
   "source": [
    "Python List functions"
   ]
  },
  {
   "cell_type": "code",
   "execution_count": 1,
   "id": "8c72f4c0-a781-4a04-be89-e5a11c7153a3",
   "metadata": {},
   "outputs": [],
   "source": [
    "# 1"
   ]
  },
  {
   "cell_type": "markdown",
   "id": "a5bcd237-1967-420d-9c14-736ba75cb24b",
   "metadata": {},
   "source": [
    "The syntax for adding an elment to a list in python is the append() method or you can use the insert() method to add element in list ."
   ]
  },
  {
   "cell_type": "code",
   "execution_count": null,
   "id": "23ed2618-1f7d-4f35-be46-05fbbc015162",
   "metadata": {},
   "outputs": [],
   "source": []
  },
  {
   "cell_type": "code",
   "execution_count": 2,
   "id": "093ac74d-7d18-41ae-af35-ee74960983df",
   "metadata": {},
   "outputs": [],
   "source": [
    "# 2"
   ]
  },
  {
   "cell_type": "markdown",
   "id": "4a22f5dc-b336-4768-8f4b-316986db41bb",
   "metadata": {},
   "source": [
    "remove() and pop() are both used to remove elements from a list, but they work differently.\n",
    "remove() is used to remove an element by its value, while pop() is used to remove and optionally return an element by its index.\n",
    "remove() does not require an index; you specify the element you want to remove, but in pop() if you provide an index, it will remove and return the element at that index,if you don't specify an index, it will remove and return the last element from the list.\n"
   ]
  },
  {
   "cell_type": "code",
   "execution_count": null,
   "id": "be3dcd2f-bdd3-4210-9586-90f2e9264ca0",
   "metadata": {},
   "outputs": [],
   "source": []
  },
  {
   "cell_type": "code",
   "execution_count": 11,
   "id": "8792951d-de6e-4e84-aee1-2e0afe78a8bb",
   "metadata": {},
   "outputs": [],
   "source": [
    "# 3"
   ]
  },
  {
   "cell_type": "code",
   "execution_count": 12,
   "id": "92d8f44d-e437-4c3f-8cdc-a820838c5985",
   "metadata": {},
   "outputs": [],
   "source": [
    "l =[1,8,2,6,4,3,5,7]"
   ]
  },
  {
   "cell_type": "code",
   "execution_count": 15,
   "id": "8773b74c-9ccb-40ac-874f-41ed79c74e17",
   "metadata": {},
   "outputs": [],
   "source": [
    "l.sort(reverse=True)"
   ]
  },
  {
   "cell_type": "code",
   "execution_count": 16,
   "id": "de4f01cb-86dc-42a4-8100-7b87995b192b",
   "metadata": {},
   "outputs": [
    {
     "data": {
      "text/plain": [
       "[8, 7, 6, 5, 4, 3, 2, 1]"
      ]
     },
     "execution_count": 16,
     "metadata": {},
     "output_type": "execute_result"
    }
   ],
   "source": [
    "l"
   ]
  },
  {
   "cell_type": "code",
   "execution_count": null,
   "id": "211e40a9-4d78-4352-86eb-428fa4b23373",
   "metadata": {},
   "outputs": [],
   "source": []
  },
  {
   "cell_type": "code",
   "execution_count": 17,
   "id": "eb1b1333-5a88-4141-959b-39a26ccf8460",
   "metadata": {},
   "outputs": [],
   "source": [
    "# 4"
   ]
  },
  {
   "cell_type": "code",
   "execution_count": 21,
   "id": "3e3c8d14-bf4f-4a97-80b7-6183b6cd44d9",
   "metadata": {},
   "outputs": [],
   "source": [
    "list =[2,3,4,\"adi\",\"ravi\",\"pen\",5,4]"
   ]
  },
  {
   "cell_type": "code",
   "execution_count": 22,
   "id": "80d01c80-2572-4c47-ab6c-96e7705a436e",
   "metadata": {},
   "outputs": [
    {
     "data": {
      "text/plain": [
       "2"
      ]
     },
     "execution_count": 22,
     "metadata": {},
     "output_type": "execute_result"
    }
   ],
   "source": [
    "list.count(4)"
   ]
  },
  {
   "cell_type": "code",
   "execution_count": null,
   "id": "74b0d5d3-7139-4e36-956c-0aa0dbc7aa7a",
   "metadata": {},
   "outputs": [],
   "source": []
  },
  {
   "cell_type": "code",
   "execution_count": 23,
   "id": "83b47698-7cb1-445c-9a08-da58609b23c8",
   "metadata": {},
   "outputs": [],
   "source": [
    "# 5"
   ]
  },
  {
   "cell_type": "code",
   "execution_count": 25,
   "id": "0c673e14-16ed-4e00-aea5-7cbc937fd225",
   "metadata": {},
   "outputs": [],
   "source": [
    "l1 = [1,2,3,4,5,6,7,8,9]"
   ]
  },
  {
   "cell_type": "code",
   "execution_count": 26,
   "id": "6b59e962-9cc6-419e-8c50-3764d726d212",
   "metadata": {},
   "outputs": [],
   "source": [
    "l1.reverse()"
   ]
  },
  {
   "cell_type": "code",
   "execution_count": null,
   "id": "169de532-e961-45a0-84af-25821830211f",
   "metadata": {},
   "outputs": [],
   "source": [
    "l1"
   ]
  },
  {
   "cell_type": "code",
   "execution_count": null,
   "id": "e0ca0899-5075-41bc-8aca-667b8b05e234",
   "metadata": {},
   "outputs": [],
   "source": []
  }
 ],
 "metadata": {
  "kernelspec": {
   "display_name": "Python 3 (ipykernel)",
   "language": "python",
   "name": "python3"
  },
  "language_info": {
   "codemirror_mode": {
    "name": "ipython",
    "version": 3
   },
   "file_extension": ".py",
   "mimetype": "text/x-python",
   "name": "python",
   "nbconvert_exporter": "python",
   "pygments_lexer": "ipython3",
   "version": "3.10.8"
  }
 },
 "nbformat": 4,
 "nbformat_minor": 5
}
