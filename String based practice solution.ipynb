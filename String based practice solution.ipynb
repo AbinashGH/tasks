{
 "cells": [
  {
   "cell_type": "markdown",
   "id": "f939d7c5-bbf7-4289-bfff-33a6536eb726",
   "metadata": {},
   "source": [
    "String Based Assignment Solution"
   ]
  },
  {
   "cell_type": "code",
   "execution_count": 2,
   "id": "c824e667-eb2b-40ae-92c5-0763716e3616",
   "metadata": {},
   "outputs": [],
   "source": [
    "# 1"
   ]
  },
  {
   "cell_type": "code",
   "execution_count": 9,
   "id": "effc9fc1-e702-4168-9776-717a5e51f651",
   "metadata": {},
   "outputs": [],
   "source": [
    "def reverse_string(input_string):\n",
    "    reversed_string = \"\"\n",
    "    for char in input_string:\n",
    "        reversed_string = char+reversed_string\n",
    "    return reversed_string"
   ]
  },
  {
   "cell_type": "code",
   "execution_count": 10,
   "id": "77f8a483-9572-462e-841b-437e1478dd5f",
   "metadata": {},
   "outputs": [
    {
     "data": {
      "text/plain": [
       "'hsanibA'"
      ]
     },
     "execution_count": 10,
     "metadata": {},
     "output_type": "execute_result"
    }
   ],
   "source": [
    "reverse_string(\"Abinash\")"
   ]
  },
  {
   "cell_type": "code",
   "execution_count": 16,
   "id": "d952acbf-3ad4-45ae-86dd-9a2dc9b6dc59",
   "metadata": {},
   "outputs": [],
   "source": [
    "def reverse_string(input_string):\n",
    "    reversed_string = input_string[::-1]\n",
    "    return reversed_string\n",
    "    "
   ]
  },
  {
   "cell_type": "code",
   "execution_count": 17,
   "id": "eb66fd82-6ea4-46b3-b1b3-c5cf628194d5",
   "metadata": {},
   "outputs": [
    {
     "data": {
      "text/plain": [
       "'hsanibA'"
      ]
     },
     "execution_count": 17,
     "metadata": {},
     "output_type": "execute_result"
    }
   ],
   "source": [
    "reverse_string(\"Abinash\")"
   ]
  },
  {
   "cell_type": "code",
   "execution_count": null,
   "id": "45a30b2e-9ce0-4bed-a840-e572cb261572",
   "metadata": {},
   "outputs": [],
   "source": []
  },
  {
   "cell_type": "code",
   "execution_count": 1,
   "id": "f40afab8-8446-4041-9780-9652389ef4f8",
   "metadata": {},
   "outputs": [],
   "source": [
    "# 2"
   ]
  },
  {
   "cell_type": "code",
   "execution_count": 10,
   "id": "1f01d6a9-8a4e-44b6-ac61-302ddf8db5d7",
   "metadata": {},
   "outputs": [],
   "source": [
    "def is_palindrome(input_string):\n",
    "    reverse_string = input_string.lower()\n",
    "    return reverse_string == reverse_string[::-1]\n",
    "    \n",
    "    "
   ]
  },
  {
   "cell_type": "code",
   "execution_count": 11,
   "id": "e82d3a29-d8e6-4f06-9909-b8a0313ad5e0",
   "metadata": {},
   "outputs": [
    {
     "data": {
      "text/plain": [
       "False"
      ]
     },
     "execution_count": 11,
     "metadata": {},
     "output_type": "execute_result"
    }
   ],
   "source": [
    "is_palindrome(\"abinash\")"
   ]
  },
  {
   "cell_type": "code",
   "execution_count": 13,
   "id": "fb1aaa54-0993-4f81-bb2e-b2ebf51b658e",
   "metadata": {},
   "outputs": [
    {
     "data": {
      "text/plain": [
       "True"
      ]
     },
     "execution_count": 13,
     "metadata": {},
     "output_type": "execute_result"
    }
   ],
   "source": [
    "is_palindrome(\"Level\")"
   ]
  },
  {
   "cell_type": "code",
   "execution_count": null,
   "id": "1dc4e714-0304-4a02-be13-61bc9efa2855",
   "metadata": {},
   "outputs": [],
   "source": []
  },
  {
   "cell_type": "code",
   "execution_count": 14,
   "id": "ccf24966-19b1-459c-a30c-f333760125cb",
   "metadata": {},
   "outputs": [],
   "source": [
    "# 3"
   ]
  },
  {
   "cell_type": "code",
   "execution_count": 18,
   "id": "385daceb-e252-4da5-8dc8-6e1b9bc93aea",
   "metadata": {},
   "outputs": [],
   "source": [
    "def convert_uppercase(input_string):\n",
    "    convert_string = input_string.upper()\n",
    "    return convert_string"
   ]
  },
  {
   "cell_type": "code",
   "execution_count": 20,
   "id": "997df1aa-c4b1-4015-b232-b7aff2475835",
   "metadata": {},
   "outputs": [
    {
     "data": {
      "text/plain": [
       "'ABINASH'"
      ]
     },
     "execution_count": 20,
     "metadata": {},
     "output_type": "execute_result"
    }
   ],
   "source": [
    "convert_uppercase(\"abinash\")"
   ]
  },
  {
   "cell_type": "code",
   "execution_count": null,
   "id": "3eba4454-0e28-4d38-a318-aa2f4aa75e2e",
   "metadata": {},
   "outputs": [],
   "source": []
  },
  {
   "cell_type": "code",
   "execution_count": 21,
   "id": "80971b05-27d9-4144-bf37-5654271a4be4",
   "metadata": {},
   "outputs": [],
   "source": [
    "# 4"
   ]
  },
  {
   "cell_type": "code",
   "execution_count": 22,
   "id": "126192be-cb65-4cef-8546-c3954429f5ed",
   "metadata": {},
   "outputs": [],
   "source": [
    "def convert_lowercase(input_string):\n",
    "    convert_string = input_string.lower()\n",
    "    return convert_string"
   ]
  },
  {
   "cell_type": "code",
   "execution_count": 24,
   "id": "829d281a-d48e-4db8-b736-e509e7d676f3",
   "metadata": {},
   "outputs": [
    {
     "data": {
      "text/plain": [
       "'pwskills'"
      ]
     },
     "execution_count": 24,
     "metadata": {},
     "output_type": "execute_result"
    }
   ],
   "source": [
    "convert_lowercase(\"PWSKILLS\")"
   ]
  },
  {
   "cell_type": "code",
   "execution_count": null,
   "id": "a80109e5-efb0-43b6-b7ea-4637578930da",
   "metadata": {},
   "outputs": [],
   "source": []
  },
  {
   "cell_type": "code",
   "execution_count": 25,
   "id": "b7c5d687-8141-4054-b552-a975b01b90c0",
   "metadata": {},
   "outputs": [],
   "source": [
    "# 5 "
   ]
  },
  {
   "cell_type": "code",
   "execution_count": 44,
   "id": "d2c0b80a-5995-4e75-b4ed-3e55f96a3dba",
   "metadata": {},
   "outputs": [],
   "source": [
    "def vowel_count(input_string):\n",
    "    count = 0\n",
    "    for char in input_string:\n",
    "        if char in [\"A\",\"E\",\"I\",\"O\",\"U\",\"a\",\"e\",\"i\",\"o\",\"u\"]:\n",
    "            count +=1\n",
    "    return count     "
   ]
  },
  {
   "cell_type": "code",
   "execution_count": 45,
   "id": "ada84cb1-bc08-4bb9-a469-3d47e383dd90",
   "metadata": {},
   "outputs": [
    {
     "data": {
      "text/plain": [
       "3"
      ]
     },
     "execution_count": 45,
     "metadata": {},
     "output_type": "execute_result"
    }
   ],
   "source": [
    "vowel_count(\"Elephant\")"
   ]
  },
  {
   "cell_type": "code",
   "execution_count": null,
   "id": "5424375b-380e-4baf-9d8e-6aef749ad6e0",
   "metadata": {},
   "outputs": [],
   "source": []
  },
  {
   "cell_type": "code",
   "execution_count": 46,
   "id": "3d92ec97-e324-4b10-bf7b-0e0fd99a6619",
   "metadata": {},
   "outputs": [],
   "source": [
    "# 6"
   ]
  },
  {
   "cell_type": "code",
   "execution_count": 47,
   "id": "6e0179d5-5698-4451-98e5-a7c2028d1254",
   "metadata": {},
   "outputs": [],
   "source": [
    "def consonant_count(input_string):\n",
    "    count = 0\n",
    "    for char in input_string:\n",
    "        if char in [\"B\",\"C\",\"D\",\"F\",\"G\",\"H\",\"J\",\"K\",\"L\",\"M\",\"N\",\"P\",\"Q\",\"R\",\"S\",\"T\",\"V\",\"W\",\"X\",\"Y\",\"Z\",\"b\",\"c\",\"d\",\"f\",\"g\",\"h\",\"j\",\"k\",\"l\",\"m\",\"n\",\"p\",\"q\",\"r\",\"s\",\"t\",\"v\",\"w\",\"x\",\"y\",\"z\"]:\n",
    "            count +=1\n",
    "    return count    "
   ]
  },
  {
   "cell_type": "code",
   "execution_count": 48,
   "id": "736381ab-f894-42ea-b8e6-56d4ba87aa5d",
   "metadata": {},
   "outputs": [
    {
     "data": {
      "text/plain": [
       "7"
      ]
     },
     "execution_count": 48,
     "metadata": {},
     "output_type": "execute_result"
    }
   ],
   "source": [
    "consonant_count(\"Pwskills\")"
   ]
  },
  {
   "cell_type": "code",
   "execution_count": null,
   "id": "fb0a2e7e-43d9-4566-a702-64e8327bb169",
   "metadata": {},
   "outputs": [],
   "source": []
  },
  {
   "cell_type": "code",
   "execution_count": 49,
   "id": "51c4535f-53e1-486e-a8b9-857afc1debd0",
   "metadata": {},
   "outputs": [],
   "source": [
    "# 7"
   ]
  },
  {
   "cell_type": "code",
   "execution_count": 5,
   "id": "7c939dd6-0a42-440c-8639-18b11036573e",
   "metadata": {},
   "outputs": [],
   "source": [
    "def remove_whitespaces(input_string):\n",
    "    whitespaces_removed = input_string.replace(\" \",\"\")\n",
    "    return whitespaces_removed"
   ]
  },
  {
   "cell_type": "code",
   "execution_count": 7,
   "id": "ff249f37-925c-4fae-be68-2054df037233",
   "metadata": {},
   "outputs": [],
   "source": [
    "s = \"Remove whitespaces from a string\""
   ]
  },
  {
   "cell_type": "code",
   "execution_count": 8,
   "id": "4827ab77-515c-4624-a272-f794761e16b0",
   "metadata": {},
   "outputs": [
    {
     "data": {
      "text/plain": [
       "'Removewhitespacesfromastring'"
      ]
     },
     "execution_count": 8,
     "metadata": {},
     "output_type": "execute_result"
    }
   ],
   "source": [
    "remove_whitespaces(s)"
   ]
  },
  {
   "cell_type": "code",
   "execution_count": null,
   "id": "08c5556b-08c5-4060-bfb7-af569ae09b83",
   "metadata": {},
   "outputs": [],
   "source": []
  },
  {
   "cell_type": "code",
   "execution_count": 9,
   "id": "6802a3b3-4f09-465f-b270-12fe3ca83d9f",
   "metadata": {},
   "outputs": [],
   "source": [
    "# 8"
   ]
  },
  {
   "cell_type": "code",
   "execution_count": 3,
   "id": "4e3cdefa-db7f-4aee-b991-8c26a64322be",
   "metadata": {},
   "outputs": [],
   "source": [
    "def string_len(input_string):\n",
    "    count = 0\n",
    "    for char in input_string:\n",
    "        count += 1\n",
    "    return count"
   ]
  },
  {
   "cell_type": "code",
   "execution_count": 6,
   "id": "d5b65341-fba4-4e49-9cd0-ffe857d19258",
   "metadata": {},
   "outputs": [
    {
     "data": {
      "text/plain": [
       "8"
      ]
     },
     "execution_count": 6,
     "metadata": {},
     "output_type": "execute_result"
    }
   ],
   "source": [
    "string_len(\"pwskills\")"
   ]
  },
  {
   "cell_type": "code",
   "execution_count": null,
   "id": "a0d741cf-d6f7-486a-ad38-6b40239beb2b",
   "metadata": {},
   "outputs": [],
   "source": []
  },
  {
   "cell_type": "code",
   "execution_count": 7,
   "id": "0642310e-77d8-4043-9381-3beafe1935cf",
   "metadata": {},
   "outputs": [],
   "source": [
    "# 9"
   ]
  },
  {
   "cell_type": "code",
   "execution_count": 11,
   "id": "bbdd5061-d6cf-4aeb-b107-0e439ba4c120",
   "metadata": {},
   "outputs": [
    {
     "name": "stdin",
     "output_type": "stream",
     "text": [
      "Enter a string  I love python\n",
      "Enter the word  love\n"
     ]
    },
    {
     "name": "stdout",
     "output_type": "stream",
     "text": [
      "String is contain love\n"
     ]
    }
   ],
   "source": [
    "input_string = input(\"Enter a string \")\n",
    "check_word = input(\"Enter the word \")\n",
    "\n",
    "if check_word in input_string :\n",
    "    print(f\"String is contain {check_word}\")\n",
    "else:\n",
    "    print(f\"String is not contain {check_word}\")"
   ]
  },
  {
   "cell_type": "code",
   "execution_count": null,
   "id": "609c26b4-6d6e-4597-9a6d-5c4191f29d5a",
   "metadata": {},
   "outputs": [],
   "source": []
  },
  {
   "cell_type": "code",
   "execution_count": 12,
   "id": "efb60465-bc04-4d16-b72b-22dd8deeaa5f",
   "metadata": {},
   "outputs": [],
   "source": [
    "# 10"
   ]
  },
  {
   "cell_type": "code",
   "execution_count": 27,
   "id": "1b918479-b73a-419e-9aa6-983c79c86e06",
   "metadata": {},
   "outputs": [
    {
     "name": "stdin",
     "output_type": "stream",
     "text": [
      "Enter a string Replace a word in a string with another word\n",
      "Enter old word Replace\n",
      "Enter new word Change\n"
     ]
    },
    {
     "name": "stdout",
     "output_type": "stream",
     "text": [
      "Replaced string is : Change a word in a string with another word\n"
     ]
    }
   ],
   "source": [
    "input_string = input(\"Enter a string\")\n",
    "old_word = input(\"Enter old word\")\n",
    "new_word = input(\"Enter new word\")\n",
    "\n",
    "replaced_string = input_string.replace(old_word,new_word)\n",
    "print(\"Replaced string is :\",replaced_string)\n",
    "    "
   ]
  },
  {
   "cell_type": "code",
   "execution_count": null,
   "id": "dd9b71a1-f2d7-4feb-ba1b-2805b9cf8485",
   "metadata": {},
   "outputs": [],
   "source": []
  },
  {
   "cell_type": "code",
   "execution_count": 24,
   "id": "65bf420f-9b05-446c-b4cc-ca41a1670120",
   "metadata": {},
   "outputs": [],
   "source": [
    "# 11"
   ]
  },
  {
   "cell_type": "code",
   "execution_count": 4,
   "id": "2278354e-1066-4ecf-ade4-f37e1bb016cf",
   "metadata": {},
   "outputs": [
    {
     "name": "stdin",
     "output_type": "stream",
     "text": [
      "Enter a string : Count the occurrences of a word in a string\n",
      "enter the word : a\n"
     ]
    },
    {
     "name": "stdout",
     "output_type": "stream",
     "text": [
      "The occurence of word is  2\n"
     ]
    }
   ],
   "source": [
    "input_string = input(\"Enter a string :\")\n",
    "check_word = input(\"enter the word :\")\n",
    "occurences = input_string.count(check_word)\n",
    "print(\"The occurence of word is \",occurences)"
   ]
  },
  {
   "cell_type": "code",
   "execution_count": null,
   "id": "05e60d1d-c8bd-43c4-8390-752f3900e43e",
   "metadata": {},
   "outputs": [],
   "source": []
  },
  {
   "cell_type": "code",
   "execution_count": 5,
   "id": "ff7cd968-8682-4240-8e23-997a24321c83",
   "metadata": {},
   "outputs": [],
   "source": [
    "# 12"
   ]
  },
  {
   "cell_type": "code",
   "execution_count": 14,
   "id": "4dcecf60-6d53-4f91-b2af-e45c77e76086",
   "metadata": {},
   "outputs": [
    {
     "name": "stdin",
     "output_type": "stream",
     "text": [
      "Enter a string : Find the first occurrence of a word in a string\n",
      "enter the word : the\n"
     ]
    },
    {
     "name": "stdout",
     "output_type": "stream",
     "text": [
      "Index of the first occurence is  5\n"
     ]
    }
   ],
   "source": [
    "input_string = input(\"Enter a string :\")\n",
    "check_word = input(\"enter the word :\")\n",
    "find_word =input_string.find(check_word)\n",
    "print(\"Index of the first occurence is \",find_word)"
   ]
  },
  {
   "cell_type": "code",
   "execution_count": null,
   "id": "9edff281-a6ad-45c5-928d-35c43b3549db",
   "metadata": {},
   "outputs": [],
   "source": []
  },
  {
   "cell_type": "code",
   "execution_count": 15,
   "id": "f6fabd4d-cd92-4712-bc36-67f3c2cfa60a",
   "metadata": {},
   "outputs": [],
   "source": [
    "# 13"
   ]
  },
  {
   "cell_type": "code",
   "execution_count": 16,
   "id": "10a2a2a7-b37a-4a1e-be58-e65f72caeb0f",
   "metadata": {},
   "outputs": [
    {
     "name": "stdin",
     "output_type": "stream",
     "text": [
      "Enter a string : Find the last occurrence of a word in a string\n",
      "enter the word : a\n"
     ]
    },
    {
     "name": "stdout",
     "output_type": "stream",
     "text": [
      "Index of the last occurence is  38\n"
     ]
    }
   ],
   "source": [
    "input_string = input(\"Enter a string :\")\n",
    "check_word = input(\"enter the word :\")\n",
    "find_word =input_string.rfind(check_word)\n",
    "print(\"Index of the last occurence is \",find_word)"
   ]
  },
  {
   "cell_type": "code",
   "execution_count": null,
   "id": "6fc3c6ef-f726-4204-a7a3-92845f666a58",
   "metadata": {},
   "outputs": [],
   "source": []
  },
  {
   "cell_type": "code",
   "execution_count": 17,
   "id": "5f7e094f-ef01-4db7-a72e-e4c795f9e339",
   "metadata": {},
   "outputs": [],
   "source": [
    "# 14"
   ]
  },
  {
   "cell_type": "code",
   "execution_count": 20,
   "id": "dfbd07e0-67e4-40b2-a9d4-e317a50cd34b",
   "metadata": {},
   "outputs": [
    {
     "name": "stdin",
     "output_type": "stream",
     "text": [
      "Enter string : Split a string into a list of words\n"
     ]
    },
    {
     "name": "stdout",
     "output_type": "stream",
     "text": [
      "['Split', 'a', 'string', 'into', 'a', 'list', 'of', 'words']\n"
     ]
    }
   ],
   "source": [
    "input_string = input(\"Enter string :\")\n",
    "split_string = input_string.split()\n",
    "print(split_string)"
   ]
  },
  {
   "cell_type": "code",
   "execution_count": null,
   "id": "b57bf281-0ed6-4ef7-a080-5ceeacc32b7f",
   "metadata": {},
   "outputs": [],
   "source": []
  },
  {
   "cell_type": "code",
   "execution_count": 19,
   "id": "111fc80e-b957-4772-a44c-72f9220b508a",
   "metadata": {},
   "outputs": [],
   "source": [
    "# 15"
   ]
  },
  {
   "cell_type": "code",
   "execution_count": 31,
   "id": "481062b9-bca4-40fc-9e70-33995d7c2e4b",
   "metadata": {},
   "outputs": [
    {
     "data": {
      "text/plain": [
       "'python is a programming language'"
      ]
     },
     "execution_count": 31,
     "metadata": {},
     "output_type": "execute_result"
    }
   ],
   "source": [
    "\n",
    "l = [\"python\",\"is\",\"a\",\"programming\",\"language\"]\n"
   ]
  },
  {
   "cell_type": "code",
   "execution_count": 35,
   "id": "e41f5e2c-79b2-4bce-a525-540f6a7e254e",
   "metadata": {},
   "outputs": [
    {
     "data": {
      "text/plain": [
       "'python is a programming language'"
      ]
     },
     "execution_count": 35,
     "metadata": {},
     "output_type": "execute_result"
    }
   ],
   "source": []
  },
  {
   "cell_type": "code",
   "execution_count": 34,
   "id": "466737aa-e9fe-4c40-9787-ce34d7339d4f",
   "metadata": {},
   "outputs": [],
   "source": [
    "# 16"
   ]
  },
  {
   "cell_type": "code",
   "execution_count": 1,
   "id": "23de3ab1-ab0d-4ead-81d6-8caca59605db",
   "metadata": {},
   "outputs": [],
   "source": [
    "def underscore_sseparated(string):\n",
    "    convert_string =string.replace(' ','_')\n",
    "    return convert_string"
   ]
  },
  {
   "cell_type": "code",
   "execution_count": 2,
   "id": "5fd00787-7153-41bf-b60a-719bb90293e9",
   "metadata": {},
   "outputs": [
    {
     "data": {
      "text/plain": [
       "'Python_is_easy_to_use_programming_language'"
      ]
     },
     "execution_count": 2,
     "metadata": {},
     "output_type": "execute_result"
    }
   ],
   "source": [
    "underscore_sseparated(\"Python is easy to use programming language\")"
   ]
  },
  {
   "cell_type": "code",
   "execution_count": null,
   "id": "64e1facf-fc8b-419c-a056-ce29669fbb17",
   "metadata": {},
   "outputs": [],
   "source": []
  },
  {
   "cell_type": "code",
   "execution_count": 3,
   "id": "8de4b39b-7ac1-4263-9af1-b74a9a23545b",
   "metadata": {},
   "outputs": [],
   "source": [
    "# 17"
   ]
  },
  {
   "cell_type": "code",
   "execution_count": 20,
   "id": "c28d3e29-852d-4a77-92c3-43eedf71952a",
   "metadata": {},
   "outputs": [
    {
     "name": "stdin",
     "output_type": "stream",
     "text": [
      "Enter string Check if a string starts with a specific word or phrase\n",
      "Enter specific word Check\n"
     ]
    },
    {
     "name": "stdout",
     "output_type": "stream",
     "text": [
      "yes,the string starts with Check\n"
     ]
    }
   ],
   "source": [
    "input_string =input(\"Enter string\")\n",
    "specific_word =input(\"Enter specific word\")\n",
    "if input_string.startswith(specific_word):\n",
    "    print(f\"yes,the string starts with {specific_word}\")\n",
    "else:\n",
    "    print(f\"No,the string doesn't starts with {specific_word}\")"
   ]
  },
  {
   "cell_type": "code",
   "execution_count": null,
   "id": "e5acc4d2-ae23-4216-8ffb-21da799103bd",
   "metadata": {},
   "outputs": [],
   "source": []
  },
  {
   "cell_type": "code",
   "execution_count": 21,
   "id": "afdc97d3-ca8e-4560-a626-f884649b1176",
   "metadata": {},
   "outputs": [],
   "source": [
    "# 18"
   ]
  },
  {
   "cell_type": "code",
   "execution_count": 23,
   "id": "3604e4cd-4d50-4173-adf9-0d300a37bda2",
   "metadata": {},
   "outputs": [
    {
     "name": "stdin",
     "output_type": "stream",
     "text": [
      "Enter string Check if a string ends with a specific word or phrase\n",
      "Enter specific word Phrase\n"
     ]
    },
    {
     "name": "stdout",
     "output_type": "stream",
     "text": [
      "No,the string doesn't ends with Phrase\n"
     ]
    }
   ],
   "source": [
    "input_string =input(\"Enter string\")\n",
    "specific_word =input(\"Enter specific word\")\n",
    "if input_string.endswith(specific_word):\n",
    "    print(f\"yes,the string ends with {specific_word}\")\n",
    "else:\n",
    "    print(f\"No,the string doesn't ends with {specific_word}\")"
   ]
  },
  {
   "cell_type": "code",
   "execution_count": null,
   "id": "77063a89-4043-44ce-8813-0766856896b7",
   "metadata": {},
   "outputs": [],
   "source": []
  },
  {
   "cell_type": "code",
   "execution_count": 24,
   "id": "8f80dbf2-24ba-4255-84e0-b958d5012eba",
   "metadata": {},
   "outputs": [],
   "source": [
    "# 19"
   ]
  },
  {
   "cell_type": "code",
   "execution_count": 25,
   "id": "93ead9e3-c1ca-4976-96a1-171ea559293a",
   "metadata": {},
   "outputs": [
    {
     "name": "stdout",
     "output_type": "stream",
     "text": [
      "Hello World\n"
     ]
    }
   ],
   "source": [
    "string = \"hello world\"\n",
    "convert_string = string.title()\n",
    "print(convert_string)"
   ]
  },
  {
   "cell_type": "code",
   "execution_count": null,
   "id": "7ce90bb4-f728-4e09-8ae2-6bf7c3af79b5",
   "metadata": {},
   "outputs": [],
   "source": []
  },
  {
   "cell_type": "code",
   "execution_count": 26,
   "id": "f6ee5d9c-4447-4029-abad-d0aa1ab5131a",
   "metadata": {},
   "outputs": [],
   "source": [
    "# 20"
   ]
  },
  {
   "cell_type": "code",
   "execution_count": 33,
   "id": "43c91e38-44b7-4f7e-95f1-fdd03e806b87",
   "metadata": {},
   "outputs": [],
   "source": [
    "def check_long_word(string):\n",
    "    s = string.split()\n",
    "    length = 0\n",
    "    for w in s:\n",
    "        word_length = len(w)\n",
    "        if word_length>length:\n",
    "            length = word_length\n",
    "    for w in s:\n",
    "        if len(w)==length:\n",
    "            print(w)\n",
    "    "
   ]
  },
  {
   "cell_type": "code",
   "execution_count": 34,
   "id": "7d31387d-8046-42ec-8571-e274562b56ce",
   "metadata": {},
   "outputs": [
    {
     "name": "stdout",
     "output_type": "stream",
     "text": [
      "longest\n"
     ]
    }
   ],
   "source": [
    "check_long_word(\"Find the longest word in a string\")"
   ]
  },
  {
   "cell_type": "code",
   "execution_count": null,
   "id": "303bfee3-385a-4b66-9c71-36d74ecef583",
   "metadata": {},
   "outputs": [],
   "source": []
  },
  {
   "cell_type": "code",
   "execution_count": 35,
   "id": "0f4035a6-7464-4e17-a2d4-4b97f91e06bb",
   "metadata": {},
   "outputs": [],
   "source": [
    "# 21"
   ]
  },
  {
   "cell_type": "code",
   "execution_count": 37,
   "id": "6f4b3c3f-449c-44f8-985e-cd6cfe3833de",
   "metadata": {},
   "outputs": [],
   "source": [
    "def check_short_word(string):\n",
    "    s = string.split()\n",
    "    short_word = None\n",
    "    min_len = float('inf')\n",
    "    for w in s:\n",
    "        if len(w) < min_len:\n",
    "            min_len = len(w)\n",
    "            short_word = w\n",
    "    print(short_word)"
   ]
  },
  {
   "cell_type": "code",
   "execution_count": 38,
   "id": "facca532-1be4-4aea-915d-444fa2f4eb6f",
   "metadata": {},
   "outputs": [
    {
     "name": "stdout",
     "output_type": "stream",
     "text": [
      "a\n"
     ]
    }
   ],
   "source": [
    "check_short_word(\"Find the shortest word in a string\")"
   ]
  },
  {
   "cell_type": "code",
   "execution_count": null,
   "id": "c788dd76-f37d-43b7-8910-e6626e416eee",
   "metadata": {},
   "outputs": [],
   "source": []
  },
  {
   "cell_type": "code",
   "execution_count": 39,
   "id": "20ac7dd6-9f31-4398-b0ad-83e3f2818e2d",
   "metadata": {},
   "outputs": [],
   "source": [
    "# 22"
   ]
  },
  {
   "cell_type": "code",
   "execution_count": 46,
   "id": "154494b9-3267-44af-ad70-3f308b776d08",
   "metadata": {},
   "outputs": [],
   "source": [
    "def reverse_order(string):\n",
    "    s = string.split()\n",
    "    for w in s:\n",
    "        reverse_word = s[::-1]\n",
    "        join_string =' '.join(reverse_word)\n",
    "    return join_string"
   ]
  },
  {
   "cell_type": "code",
   "execution_count": 47,
   "id": "eae78551-b965-4c82-b64e-c8e91b0335bb",
   "metadata": {},
   "outputs": [
    {
     "data": {
      "text/plain": [
       "'string a in words of order the Reverse'"
      ]
     },
     "execution_count": 47,
     "metadata": {},
     "output_type": "execute_result"
    }
   ],
   "source": [
    "reverse_order(\"Reverse the order of words in a string\")"
   ]
  },
  {
   "cell_type": "code",
   "execution_count": null,
   "id": "cea8991a-8bbc-4f0b-97f2-4fdb92c4aca2",
   "metadata": {},
   "outputs": [],
   "source": []
  },
  {
   "cell_type": "code",
   "execution_count": 49,
   "id": "20feec58-adfc-44bf-a3db-78a858e5a6be",
   "metadata": {},
   "outputs": [],
   "source": [
    "# 23"
   ]
  },
  {
   "cell_type": "code",
   "execution_count": 63,
   "id": "b13fccdc-37b4-4d7f-89ff-7365b05977a8",
   "metadata": {},
   "outputs": [
    {
     "name": "stdin",
     "output_type": "stream",
     "text": [
      "Enter a string alphanumeric\n"
     ]
    },
    {
     "data": {
      "text/plain": [
       "True"
      ]
     },
     "execution_count": 63,
     "metadata": {},
     "output_type": "execute_result"
    }
   ],
   "source": [
    "input_string = input(\"Enter a string\")\n",
    "input_string.isalnum()\n"
   ]
  },
  {
   "cell_type": "code",
   "execution_count": null,
   "id": "9c52edd1-024f-4f51-a772-5dd5111b4162",
   "metadata": {},
   "outputs": [],
   "source": []
  },
  {
   "cell_type": "code",
   "execution_count": 64,
   "id": "b7b6914b-183d-45dd-8bfb-0e9873f035d5",
   "metadata": {},
   "outputs": [],
   "source": [
    "# 24"
   ]
  },
  {
   "cell_type": "code",
   "execution_count": 71,
   "id": "d5d888e2-91da-44d8-9f0e-912f98e37503",
   "metadata": {},
   "outputs": [],
   "source": [
    "def extract_digit(input_string):\n",
    "    digit = \"\"\n",
    "    for char in input_string:\n",
    "        if char.isdigit():\n",
    "            digit += char\n",
    "    return digit"
   ]
  },
  {
   "cell_type": "code",
   "execution_count": 72,
   "id": "40b9a4f4-60b0-4874-b437-c7de82ffc210",
   "metadata": {},
   "outputs": [
    {
     "data": {
      "text/plain": [
       "'324554'"
      ]
     },
     "execution_count": 72,
     "metadata": {},
     "output_type": "execute_result"
    }
   ],
   "source": [
    "extract_digit(\"asdd3245fgdf54w\")"
   ]
  },
  {
   "cell_type": "code",
   "execution_count": null,
   "id": "3806867e-f3c9-4932-9e12-47aba9e6e0b9",
   "metadata": {},
   "outputs": [],
   "source": []
  },
  {
   "cell_type": "code",
   "execution_count": 73,
   "id": "9a46b069-639b-491d-8cd2-4d40eea0a0f0",
   "metadata": {},
   "outputs": [],
   "source": [
    "# 25"
   ]
  },
  {
   "cell_type": "code",
   "execution_count": 74,
   "id": "4a665888-8065-4e61-a182-bd0278cadb82",
   "metadata": {},
   "outputs": [],
   "source": [
    "def extract_alpha(input_string):\n",
    "    alpha = \"\"\n",
    "    for char in input_string:\n",
    "        if char.isalpha():\n",
    "            alpha += char\n",
    "    return alpha"
   ]
  },
  {
   "cell_type": "code",
   "execution_count": 75,
   "id": "aea25949-730e-4b2e-892f-875d235ab436",
   "metadata": {},
   "outputs": [
    {
     "data": {
      "text/plain": [
       "'saddshhgj'"
      ]
     },
     "execution_count": 75,
     "metadata": {},
     "output_type": "execute_result"
    }
   ],
   "source": [
    "extract_alpha(\"sadds64hhgj433\")"
   ]
  },
  {
   "cell_type": "code",
   "execution_count": null,
   "id": "5aff64a8-d2b9-4e70-a8fc-64d2b11ed706",
   "metadata": {},
   "outputs": [],
   "source": []
  },
  {
   "cell_type": "code",
   "execution_count": 76,
   "id": "89c1f080-05ab-4268-99ee-2a20cfede3b2",
   "metadata": {},
   "outputs": [],
   "source": [
    "# 26"
   ]
  },
  {
   "cell_type": "code",
   "execution_count": 85,
   "id": "028e049c-82f8-47af-9b68-20ebb55f9b14",
   "metadata": {},
   "outputs": [],
   "source": [
    "def count_uppercase(input_string):\n",
    "    count = 0\n",
    "    for char in input_string:\n",
    "        if char.isupper():\n",
    "            count += 1\n",
    "    return count"
   ]
  },
  {
   "cell_type": "code",
   "execution_count": 88,
   "id": "d38bb073-e664-494f-8fd1-19081c984ced",
   "metadata": {},
   "outputs": [
    {
     "data": {
      "text/plain": [
       "2"
      ]
     },
     "execution_count": 88,
     "metadata": {},
     "output_type": "execute_result"
    }
   ],
   "source": [
    "count_uppercase(\"AbinasH\")"
   ]
  },
  {
   "cell_type": "code",
   "execution_count": null,
   "id": "d98018bb-e86c-497a-8293-cb39596cfc56",
   "metadata": {},
   "outputs": [],
   "source": []
  },
  {
   "cell_type": "code",
   "execution_count": 89,
   "id": "0731ecc0-13b9-4e65-8842-6606920ff13a",
   "metadata": {},
   "outputs": [],
   "source": [
    "# 27"
   ]
  },
  {
   "cell_type": "code",
   "execution_count": 90,
   "id": "abaa5b8e-0009-4167-bee6-0c2d0b191c54",
   "metadata": {},
   "outputs": [],
   "source": [
    "def count_lowercase(input_string):\n",
    "    count = 0\n",
    "    for char in input_string:\n",
    "        if char.islower():\n",
    "            count += 1\n",
    "    return count"
   ]
  },
  {
   "cell_type": "code",
   "execution_count": 91,
   "id": "64ea7ec2-f6ba-45cc-a36f-402e5a62f6aa",
   "metadata": {},
   "outputs": [
    {
     "data": {
      "text/plain": [
       "5"
      ]
     },
     "execution_count": 91,
     "metadata": {},
     "output_type": "execute_result"
    }
   ],
   "source": [
    "count_lowercase(\"AbinasH\")"
   ]
  },
  {
   "cell_type": "code",
   "execution_count": null,
   "id": "85190331-7760-4234-a8bc-d7ebe875217a",
   "metadata": {},
   "outputs": [],
   "source": []
  },
  {
   "cell_type": "code",
   "execution_count": 92,
   "id": "660510fc-0b2b-4604-8356-b2aff0e2063e",
   "metadata": {},
   "outputs": [],
   "source": [
    "# 28"
   ]
  },
  {
   "cell_type": "code",
   "execution_count": 94,
   "id": "ec4bcbc7-5eed-46d3-8a28-80a2c91ba5e9",
   "metadata": {},
   "outputs": [],
   "source": [
    "def swap_char(input_string):\n",
    "    character = input_string.swapcase()\n",
    "    return character"
   ]
  },
  {
   "cell_type": "code",
   "execution_count": 95,
   "id": "0737f6cb-6f97-4289-9a92-fb339bcbbacc",
   "metadata": {},
   "outputs": [
    {
     "data": {
      "text/plain": [
       "'aBINASH sAHOO'"
      ]
     },
     "execution_count": 95,
     "metadata": {},
     "output_type": "execute_result"
    }
   ],
   "source": [
    "swap_char(\"Abinash Sahoo\")"
   ]
  },
  {
   "cell_type": "code",
   "execution_count": null,
   "id": "df782c3b-c5d7-46cb-98ee-f39b9b35883f",
   "metadata": {},
   "outputs": [],
   "source": []
  },
  {
   "cell_type": "code",
   "execution_count": 96,
   "id": "00f1dc54-bc54-4057-961c-dd7053a87009",
   "metadata": {},
   "outputs": [],
   "source": [
    "# 29"
   ]
  },
  {
   "cell_type": "code",
   "execution_count": 102,
   "id": "d4342069-dd87-4e30-9e2d-8d4276f9005a",
   "metadata": {},
   "outputs": [],
   "source": [
    "def remove_word(input_string,remove_word):\n",
    "    removed_word = input_string.replace(remove_word,\"\")\n",
    "    print(removed_word)"
   ]
  },
  {
   "cell_type": "code",
   "execution_count": 103,
   "id": "6987f6a9-2fce-45d7-b627-a7c3c552e3f8",
   "metadata": {},
   "outputs": [
    {
     "name": "stdout",
     "output_type": "stream",
     "text": [
      " Remove a  word from a string\n"
     ]
    }
   ],
   "source": [
    "remove_word(\" Remove a specific word from a string\",\"specific\")"
   ]
  },
  {
   "cell_type": "code",
   "execution_count": null,
   "id": "592c9730-4410-414a-ae2f-aac439d38caf",
   "metadata": {},
   "outputs": [],
   "source": []
  },
  {
   "cell_type": "code",
   "execution_count": 104,
   "id": "f6d1dabc-5873-46e4-9aae-7f5a258ca56a",
   "metadata": {},
   "outputs": [],
   "source": [
    "# 30"
   ]
  },
  {
   "cell_type": "code",
   "execution_count": 106,
   "id": "dbd7217b-c4b9-407b-8076-8a7457c92792",
   "metadata": {},
   "outputs": [],
   "source": [
    "import re\n",
    "def check_valid_email(email):\n",
    "    pattern = r'^[\\w\\.-]+@[\\w\\.-]+\\.\\w+$'\n",
    "    if re.match(pattern,email):\n",
    "        return True\n",
    "    else:\n",
    "        return False"
   ]
  },
  {
   "cell_type": "code",
   "execution_count": 107,
   "id": "fd3a744b-6038-472a-ad06-3ee656499ef7",
   "metadata": {},
   "outputs": [
    {
     "data": {
      "text/plain": [
       "True"
      ]
     },
     "execution_count": 107,
     "metadata": {},
     "output_type": "execute_result"
    }
   ],
   "source": [
    "check_valid_email(\"sabinash834@gmail.com\")"
   ]
  },
  {
   "cell_type": "code",
   "execution_count": null,
   "id": "69d1e096-c003-48f4-a8fe-71ed5140eb40",
   "metadata": {},
   "outputs": [],
   "source": []
  },
  {
   "cell_type": "code",
   "execution_count": 108,
   "id": "45452ab2-549b-40ce-9ace-4c9b08048136",
   "metadata": {},
   "outputs": [],
   "source": [
    "# 31"
   ]
  },
  {
   "cell_type": "code",
   "execution_count": 113,
   "id": "28c0af4d-790c-4eb3-be57-d50766bfce5a",
   "metadata": {},
   "outputs": [],
   "source": [
    "def extract_username(email):\n",
    "    username = email.split('@')[0]\n",
    "    return username"
   ]
  },
  {
   "cell_type": "code",
   "execution_count": 114,
   "id": "3ee25918-517e-4243-8aa7-9d09011f95b1",
   "metadata": {},
   "outputs": [
    {
     "data": {
      "text/plain": [
       "'sabinash834'"
      ]
     },
     "execution_count": 114,
     "metadata": {},
     "output_type": "execute_result"
    }
   ],
   "source": [
    "extract_username(\"sabinash834@gmail.com\")"
   ]
  },
  {
   "cell_type": "code",
   "execution_count": null,
   "id": "ee891c73-d8ec-4fb9-b43d-cd66a5b4ad9f",
   "metadata": {},
   "outputs": [],
   "source": []
  },
  {
   "cell_type": "code",
   "execution_count": 115,
   "id": "b3669749-56fd-4355-912b-226c899e115b",
   "metadata": {},
   "outputs": [],
   "source": [
    "# 32"
   ]
  },
  {
   "cell_type": "code",
   "execution_count": 117,
   "id": "ed3cf05d-fa94-4f53-8264-87726589ba83",
   "metadata": {},
   "outputs": [],
   "source": [
    "def extract_domainname(email):\n",
    "    domainname = email.split('@')[1]\n",
    "    return domainname"
   ]
  },
  {
   "cell_type": "code",
   "execution_count": 118,
   "id": "dfc9623c-8826-4e02-a227-3ec1db43c59b",
   "metadata": {},
   "outputs": [
    {
     "data": {
      "text/plain": [
       "'gmail.com'"
      ]
     },
     "execution_count": 118,
     "metadata": {},
     "output_type": "execute_result"
    }
   ],
   "source": [
    "extract_domainname(\"sabinash834@gmail.com\")"
   ]
  },
  {
   "cell_type": "code",
   "execution_count": null,
   "id": "2ae066a9-485c-450f-8de6-32f5e45f9b12",
   "metadata": {},
   "outputs": [],
   "source": []
  },
  {
   "cell_type": "code",
   "execution_count": 119,
   "id": "190c132f-0efb-411e-a47e-3316628f013a",
   "metadata": {},
   "outputs": [],
   "source": [
    "# 33"
   ]
  },
  {
   "cell_type": "code",
   "execution_count": 8,
   "id": "d5730f23-2039-44ca-b87e-23c333ab377b",
   "metadata": {},
   "outputs": [],
   "source": [
    "def replace_multi_spaces(input_string):\n",
    "    replaced_string = ' '.join(input_string.split())\n",
    "    return replaced_string"
   ]
  },
  {
   "cell_type": "code",
   "execution_count": 9,
   "id": "610700d6-a3bb-47ff-9496-64edff51fa4a",
   "metadata": {},
   "outputs": [
    {
     "data": {
      "text/plain": [
       "'Hello world! How are you?'"
      ]
     },
     "execution_count": 9,
     "metadata": {},
     "output_type": "execute_result"
    }
   ],
   "source": [
    "replace_multi_spaces(\"Hello     world!   How   are   you?\")"
   ]
  },
  {
   "cell_type": "code",
   "execution_count": null,
   "id": "0aa5bf3b-3f00-40af-a8e5-f307941ec40c",
   "metadata": {},
   "outputs": [],
   "source": []
  },
  {
   "cell_type": "code",
   "execution_count": 10,
   "id": "d18870d5-cf29-4593-8b9c-afaaeaec390b",
   "metadata": {},
   "outputs": [],
   "source": [
    "# 34"
   ]
  },
  {
   "cell_type": "code",
   "execution_count": 11,
   "id": "3e59ebd7-55c1-4b74-a186-e6e1ed13626c",
   "metadata": {},
   "outputs": [],
   "source": [
    "from urllib.parse import urlparse\n",
    "def is_valid_url(url):\n",
    "    try:\n",
    "        result = urlparse(url)\n",
    "        return all([result.scheme,result.netloc])\n",
    "    except Valueerror:\n",
    "        return False "
   ]
  },
  {
   "cell_type": "code",
   "execution_count": 13,
   "id": "d1c4e29d-13c7-4c9e-8d52-b429dab426ca",
   "metadata": {},
   "outputs": [
    {
     "data": {
      "text/plain": [
       "True"
      ]
     },
     "execution_count": 13,
     "metadata": {},
     "output_type": "execute_result"
    }
   ],
   "source": [
    "is_valid_url(\"https://www.google.com\")"
   ]
  },
  {
   "cell_type": "code",
   "execution_count": null,
   "id": "68b1fa7b-1391-499a-b84a-38d8442d94c2",
   "metadata": {},
   "outputs": [],
   "source": []
  },
  {
   "cell_type": "code",
   "execution_count": 14,
   "id": "40dc9188-cfbe-46fe-8259-3471ab6168cb",
   "metadata": {},
   "outputs": [],
   "source": [
    "# 35"
   ]
  },
  {
   "cell_type": "code",
   "execution_count": 22,
   "id": "bc6c0e31-c97f-455b-9f64-b55b7a79417b",
   "metadata": {},
   "outputs": [],
   "source": [
    "def extract_protocol(url):\n",
    "    protocol = url.split(\"://\")[0]\n",
    "    return protocol"
   ]
  },
  {
   "cell_type": "code",
   "execution_count": 23,
   "id": "732a66bb-7d2e-4a07-9946-86dc723474ea",
   "metadata": {},
   "outputs": [
    {
     "data": {
      "text/plain": [
       "'https'"
      ]
     },
     "execution_count": 23,
     "metadata": {},
     "output_type": "execute_result"
    }
   ],
   "source": [
    "extract_protocol(\"https://www.google.com\")"
   ]
  },
  {
   "cell_type": "code",
   "execution_count": null,
   "id": "0f90cbaf-aef5-4363-86f3-e2b7057abac3",
   "metadata": {},
   "outputs": [],
   "source": []
  },
  {
   "cell_type": "code",
   "execution_count": 24,
   "id": "3eed20fb-dca7-4130-b851-c56b9db32bb3",
   "metadata": {},
   "outputs": [],
   "source": [
    "# 36"
   ]
  },
  {
   "cell_type": "code",
   "execution_count": 27,
   "id": "6ce02429-28c9-4edb-b453-5c1c82e1858d",
   "metadata": {},
   "outputs": [],
   "source": [
    "def character_frequency(input_string):\n",
    "    frequency = {}\n",
    "    for char in input_string:\n",
    "        if char in frequency:\n",
    "            frequency [char]+= 1\n",
    "        else:\n",
    "            frequency[char]= 1\n",
    "    return frequency"
   ]
  },
  {
   "cell_type": "code",
   "execution_count": 31,
   "id": "c60dfd5d-592e-4003-aa7f-99581d150846",
   "metadata": {},
   "outputs": [
    {
     "data": {
      "text/plain": [
       "{'p': 1, 'r': 2, 'o': 1, 'g': 1, 'a': 1, 'm': 2, 'e': 1}"
      ]
     },
     "execution_count": 31,
     "metadata": {},
     "output_type": "execute_result"
    }
   ],
   "source": [
    "character_frequency(\"programme\")"
   ]
  },
  {
   "cell_type": "code",
   "execution_count": null,
   "id": "98d7288a-4dba-43c2-b450-03fb7a2ea2bf",
   "metadata": {},
   "outputs": [],
   "source": []
  },
  {
   "cell_type": "code",
   "execution_count": 32,
   "id": "91a2483e-0599-4c41-af37-b3a1b71b9ae2",
   "metadata": {},
   "outputs": [],
   "source": [
    "# 37"
   ]
  },
  {
   "cell_type": "code",
   "execution_count": 52,
   "id": "ee325317-6f3d-4832-addd-a1f9489de789",
   "metadata": {},
   "outputs": [],
   "source": [
    "def remove_punctuaion(input_string):\n",
    "    punctuation = \",.!#$%&'()*+-/:;<=>?@[\\]^_`{|}~\\\"\"\n",
    "    string = \"\"\n",
    "    for char in input_string:\n",
    "        if char not in punctuation:\n",
    "            string += char\n",
    "    return string\n",
    "            "
   ]
  },
  {
   "cell_type": "code",
   "execution_count": 53,
   "id": "8e528ac8-83a2-4820-bac4-fdcd6ed288a3",
   "metadata": {},
   "outputs": [
    {
     "data": {
      "text/plain": [
       "'helloworld'"
      ]
     },
     "execution_count": 53,
     "metadata": {},
     "output_type": "execute_result"
    }
   ],
   "source": [
    "remove_punctuaion(\"hello,!world.\")"
   ]
  },
  {
   "cell_type": "code",
   "execution_count": null,
   "id": "3aedd9b5-67f1-4a5e-bbae-a1acdc666fa4",
   "metadata": {},
   "outputs": [],
   "source": []
  },
  {
   "cell_type": "code",
   "execution_count": 54,
   "id": "3d466b38-9540-4f7c-ac75-2619591ae048",
   "metadata": {},
   "outputs": [],
   "source": [
    "# 38"
   ]
  },
  {
   "cell_type": "code",
   "execution_count": 63,
   "id": "4ff27283-c366-4108-9235-bbf606877285",
   "metadata": {},
   "outputs": [],
   "source": [
    "def check_string(input_string):\n",
    "    if input_string.isdigit():\n",
    "        print(\"The string contain only digit\")\n",
    "    else:\n",
    "        print(\"The string doesn't contain only digit\")\n"
   ]
  },
  {
   "cell_type": "code",
   "execution_count": 64,
   "id": "c49d6daa-7895-4d2a-9158-b5220ac0cded",
   "metadata": {},
   "outputs": [
    {
     "name": "stdout",
     "output_type": "stream",
     "text": [
      "The string doesn't contain only digit\n"
     ]
    }
   ],
   "source": [
    "check_string(\"dsgds233232\")"
   ]
  },
  {
   "cell_type": "code",
   "execution_count": 65,
   "id": "2e37dccd-919e-4389-8c56-afcf99cb8de9",
   "metadata": {},
   "outputs": [
    {
     "name": "stdout",
     "output_type": "stream",
     "text": [
      "The string contain only digit\n"
     ]
    }
   ],
   "source": [
    "check_string(\"2332432\")"
   ]
  },
  {
   "cell_type": "code",
   "execution_count": null,
   "id": "b4e6dc77-e4db-466a-b8cd-448a1abe745a",
   "metadata": {},
   "outputs": [],
   "source": []
  },
  {
   "cell_type": "code",
   "execution_count": 66,
   "id": "e8dad05a-e306-4719-86ba-552c7f820ebb",
   "metadata": {},
   "outputs": [],
   "source": [
    "# 39"
   ]
  },
  {
   "cell_type": "code",
   "execution_count": 67,
   "id": "c49af9ed-f6a6-4026-afd1-886d247a7d23",
   "metadata": {},
   "outputs": [],
   "source": [
    "def check_string(input_string):\n",
    "    if input_string.isalpha():\n",
    "        print(\"The string contain only alpha\")\n",
    "    else:\n",
    "        print(\"The string doesn't contain only alpha\")\n"
   ]
  },
  {
   "cell_type": "code",
   "execution_count": 68,
   "id": "44ef5579-295d-4fe4-ad78-0d7876bb08da",
   "metadata": {},
   "outputs": [
    {
     "name": "stdout",
     "output_type": "stream",
     "text": [
      "The string contain only alpha\n"
     ]
    }
   ],
   "source": [
    "check_string(\"dsfdsds\")"
   ]
  },
  {
   "cell_type": "code",
   "execution_count": 69,
   "id": "3773ffe3-228a-496a-a971-9fd2fda80dfe",
   "metadata": {},
   "outputs": [
    {
     "name": "stdout",
     "output_type": "stream",
     "text": [
      "The string doesn't contain only alpha\n"
     ]
    }
   ],
   "source": [
    "check_string(\"dawd3232\")"
   ]
  },
  {
   "cell_type": "code",
   "execution_count": null,
   "id": "bc241f46-6fd0-4cc7-a45a-c3419397fe65",
   "metadata": {},
   "outputs": [],
   "source": []
  },
  {
   "cell_type": "code",
   "execution_count": 70,
   "id": "4a6567ec-f397-43cc-a74c-10c57072ece9",
   "metadata": {},
   "outputs": [],
   "source": [
    "# 40"
   ]
  },
  {
   "cell_type": "code",
   "execution_count": 91,
   "id": "d48e1d18-fcfc-49bc-b03d-f414b2c66236",
   "metadata": {},
   "outputs": [],
   "source": [
    "def convert_string(input_string):\n",
    "    char_list = []\n",
    "    for char in input_string:\n",
    "        char_list.append(char)\n",
    "    return char_list"
   ]
  },
  {
   "cell_type": "code",
   "execution_count": 92,
   "id": "521f6333-eaab-401c-b89e-a75a46e765e5",
   "metadata": {},
   "outputs": [
    {
     "data": {
      "text/plain": [
       "['a', 'b', 'i', 'n', 'a', 's', 'h', ' ', 's', 'a', 'h', 'o', 'o']"
      ]
     },
     "execution_count": 92,
     "metadata": {},
     "output_type": "execute_result"
    }
   ],
   "source": [
    "convert_string(\"abinash sahoo\")"
   ]
  },
  {
   "cell_type": "code",
   "execution_count": null,
   "id": "ae08b8c3-23bf-4818-864d-0660ae241f89",
   "metadata": {},
   "outputs": [],
   "source": []
  },
  {
   "cell_type": "code",
   "execution_count": 93,
   "id": "486f18eb-d1c1-4954-8acd-dae76742774d",
   "metadata": {},
   "outputs": [],
   "source": [
    "# 41"
   ]
  },
  {
   "cell_type": "code",
   "execution_count": 96,
   "id": "d669e287-259b-4fe1-87e5-ee91fc0a0102",
   "metadata": {},
   "outputs": [],
   "source": [
    "def anagram_string(string1,string2):\n",
    "    if sorted(string1) == sorted(string2):\n",
    "        print(\"yes,strings are anagram\")\n",
    "    else:\n",
    "        print(\"no,strings are not anagram\")"
   ]
  },
  {
   "cell_type": "code",
   "execution_count": 97,
   "id": "c53c8e5c-1b29-4659-ac73-bf2a5897dcc8",
   "metadata": {},
   "outputs": [
    {
     "name": "stdout",
     "output_type": "stream",
     "text": [
      "yes,strings are anagram\n"
     ]
    }
   ],
   "source": [
    "anagram_string(\"listen\",\"silent\")"
   ]
  },
  {
   "cell_type": "code",
   "execution_count": 98,
   "id": "b3eee340-5034-4c1c-9508-58b8b5ab1da3",
   "metadata": {},
   "outputs": [
    {
     "name": "stdout",
     "output_type": "stream",
     "text": [
      "yes,strings are anagram\n"
     ]
    }
   ],
   "source": [
    "anagram_string(\"debit card\",\"bad credit\")"
   ]
  },
  {
   "cell_type": "code",
   "execution_count": null,
   "id": "d9f434ea-91a9-4ea5-95b9-b0267e20f8ae",
   "metadata": {},
   "outputs": [],
   "source": []
  },
  {
   "cell_type": "code",
   "execution_count": 101,
   "id": "f41c817f-2b63-400b-9ce2-bf605aaa5818",
   "metadata": {},
   "outputs": [],
   "source": [
    "# 42"
   ]
  },
  {
   "cell_type": "code",
   "execution_count": 45,
   "id": "6199f491-89cb-4635-b521-8572ef852eb7",
   "metadata": {},
   "outputs": [],
   "source": [
    "def caesar_cipher(text,shift):\n",
    "    encoded_text = \"\"\n",
    "    for char in text:\n",
    "        if char.isalpha():\n",
    "            encoded_char = chr((ord(char) + shift - ord('a')) % 26 + ord('a'))\n",
    "        else:\n",
    "            encoded_char = char\n",
    "        encoded_text += encoded_char\n",
    "    return encoded_text"
   ]
  },
  {
   "cell_type": "code",
   "execution_count": 58,
   "id": "8ae2472b-80ec-4628-b059-b1d7a73472c8",
   "metadata": {},
   "outputs": [
    {
     "data": {
      "text/plain": [
       "'ehoor truog'"
      ]
     },
     "execution_count": 58,
     "metadata": {},
     "output_type": "execute_result"
    }
   ],
   "source": [
    "caesar_cipher(\"Hello World\",3)"
   ]
  },
  {
   "cell_type": "code",
   "execution_count": null,
   "id": "339ea38f-fa41-44a4-8f56-76d2cd0c6f50",
   "metadata": {},
   "outputs": [],
   "source": []
  },
  {
   "cell_type": "code",
   "execution_count": 47,
   "id": "77252d41-4317-492b-aae3-f105fedd73a4",
   "metadata": {},
   "outputs": [],
   "source": [
    "# 43"
   ]
  },
  {
   "cell_type": "code",
   "execution_count": 53,
   "id": "317ed754-aed5-4425-b64b-8ba968286b29",
   "metadata": {},
   "outputs": [],
   "source": [
    "def decode_caeser_cipher(text,shift):\n",
    "    decoded_text = \"\"\n",
    "    for char in text:\n",
    "        if char.isalpha():\n",
    "            decoded_char = chr((ord(char) - shift - ord('a')) % 26 + ord('a'))\n",
    "        else:\n",
    "            decoded_char = char\n",
    "        decoded_text += decoded_char\n",
    "    return decoded_text"
   ]
  },
  {
   "cell_type": "code",
   "execution_count": 59,
   "id": "ec8dff6b-f749-4513-9726-a3355367b8d6",
   "metadata": {},
   "outputs": [
    {
     "data": {
      "text/plain": [
       "'ybiil nloia'"
      ]
     },
     "execution_count": 59,
     "metadata": {},
     "output_type": "execute_result"
    }
   ],
   "source": [
    "decode_caeser_cipher(\"Hello World\",3)"
   ]
  },
  {
   "cell_type": "code",
   "execution_count": null,
   "id": "99e2b57d-cb5a-40e3-b5ca-c7642a3d28ff",
   "metadata": {},
   "outputs": [],
   "source": []
  },
  {
   "cell_type": "code",
   "execution_count": 60,
   "id": "4297717f-098b-4728-b46f-1f1851129ead",
   "metadata": {},
   "outputs": [],
   "source": [
    "# 44"
   ]
  },
  {
   "cell_type": "code",
   "execution_count": 2,
   "id": "b5e4021c-8237-4068-848c-87b811fb5cb2",
   "metadata": {},
   "outputs": [],
   "source": [
    "def most_frequent_word(input_string):\n",
    "    words = input_string.split()\n",
    "    word_freq = {}\n",
    "    for word in words:\n",
    "        word = word.strip('.,!?').lower()\n",
    "        if word in word_freq:\n",
    "            word_freq[word] += 1\n",
    "        else :\n",
    "            word_freq[word] = 1\n",
    "    most_common_word = max(word_freq,key = word_freq.get)\n",
    "    frequency = word_freq[most_common_word]\n",
    "    return most_common_word,frequency"
   ]
  },
  {
   "cell_type": "code",
   "execution_count": 3,
   "id": "db570789-86af-450b-9b54-8f25bd3d0354",
   "metadata": {},
   "outputs": [
    {
     "data": {
      "text/plain": [
       "('find', 1)"
      ]
     },
     "execution_count": 3,
     "metadata": {},
     "output_type": "execute_result"
    }
   ],
   "source": [
    "most_frequent_word(\"find the most frequent word in a string\")"
   ]
  },
  {
   "cell_type": "code",
   "execution_count": null,
   "id": "56869c34-24ea-4ada-8f06-ed3eb57a8d21",
   "metadata": {},
   "outputs": [],
   "source": []
  },
  {
   "cell_type": "code",
   "execution_count": 71,
   "id": "41d63af2-8af4-4751-9dae-45ab9074eb50",
   "metadata": {},
   "outputs": [],
   "source": [
    "# 45"
   ]
  },
  {
   "cell_type": "code",
   "execution_count": 1,
   "id": "3eddc82f-6a6d-4ac8-aa05-09256ed4cfd9",
   "metadata": {},
   "outputs": [],
   "source": [
    "def unique_words(input_string):\n",
    "    words = input_string.split()\n",
    "    unique_word_set = set()\n",
    "    for word in words:\n",
    "        word = word.strip('.,!?').lower()\n",
    "        unique_word_set.add(word)\n",
    "    return unique_word_set"
   ]
  },
  {
   "cell_type": "code",
   "execution_count": 2,
   "id": "904793f7-7b5c-4d09-94e8-624065f28d8f",
   "metadata": {},
   "outputs": [
    {
     "data": {
      "text/plain": [
       "{'hello', \"how's\", 'the', 'there', 'world'}"
      ]
     },
     "execution_count": 2,
     "metadata": {},
     "output_type": "execute_result"
    }
   ],
   "source": [
    "unique_words(\"Hello world, hello there! How's the world?\")"
   ]
  },
  {
   "cell_type": "code",
   "execution_count": null,
   "id": "4b20037a-6e75-4d3b-bf5c-defec6554b45",
   "metadata": {},
   "outputs": [],
   "source": []
  },
  {
   "cell_type": "code",
   "execution_count": 3,
   "id": "b7966426-193d-4f95-bf43-7c36bf36823c",
   "metadata": {},
   "outputs": [],
   "source": [
    "# 46"
   ]
  },
  {
   "cell_type": "code",
   "execution_count": 11,
   "id": "3ac4cd45-f468-4f60-8a20-5c886b4e3d89",
   "metadata": {},
   "outputs": [],
   "source": [
    "import re\n",
    "def count_syllables(word):\n",
    "    vowel_group = re.findall(r'[aeiouy]+',word,re.IGNORECASE)\n",
    "    return len(vowel_group)"
   ]
  },
  {
   "cell_type": "code",
   "execution_count": 16,
   "id": "5e13e10e-21ff-4d3b-86a2-45d0d15732b8",
   "metadata": {},
   "outputs": [
    {
     "data": {
      "text/plain": [
       "2"
      ]
     },
     "execution_count": 16,
     "metadata": {},
     "output_type": "execute_result"
    }
   ],
   "source": [
    "count_syllables(\"python\")"
   ]
  },
  {
   "cell_type": "code",
   "execution_count": null,
   "id": "a42dba5f-11a6-4402-a2e1-af67cd0af05c",
   "metadata": {},
   "outputs": [],
   "source": []
  },
  {
   "cell_type": "code",
   "execution_count": 14,
   "id": "2804717e-d004-4eca-9773-0f917f552ac7",
   "metadata": {},
   "outputs": [],
   "source": [
    "# 47"
   ]
  },
  {
   "cell_type": "code",
   "execution_count": 53,
   "id": "e29c19cd-61ba-4ace-a955-1e2fd027d0b1",
   "metadata": {},
   "outputs": [],
   "source": [
    "def check_string(string):\n",
    "    special_chr = \"!@#$%^&*()_+{}\\[\\]:;<>,.?~\\\\/\"\n",
    "    for char in string:\n",
    "        if char in special_chr :\n",
    "            return \"String contains special character\"\n",
    "    else:\n",
    "        return \"String doesn't contains any special character\""
   ]
  },
  {
   "cell_type": "code",
   "execution_count": 54,
   "id": "fb0876fc-0e2d-46f7-8b20-d9915e135564",
   "metadata": {},
   "outputs": [
    {
     "data": {
      "text/plain": [
       "\"String doesn't contains any special character\""
      ]
     },
     "execution_count": 54,
     "metadata": {},
     "output_type": "execute_result"
    }
   ],
   "source": [
    "check_string(\"Hello World\")"
   ]
  },
  {
   "cell_type": "code",
   "execution_count": 55,
   "id": "367b5c43-1e27-488e-ad04-4647e2769bb5",
   "metadata": {},
   "outputs": [
    {
     "data": {
      "text/plain": [
       "'String contains special character'"
      ]
     },
     "execution_count": 55,
     "metadata": {},
     "output_type": "execute_result"
    }
   ],
   "source": [
    "check_string(\"Hello World !\")"
   ]
  },
  {
   "cell_type": "code",
   "execution_count": null,
   "id": "60ea1605-bdbf-4fee-bb61-6019277f34b6",
   "metadata": {},
   "outputs": [],
   "source": []
  },
  {
   "cell_type": "code",
   "execution_count": 56,
   "id": "ca37d8f8-aa1b-4bb2-9446-a1b2f6ef0bc6",
   "metadata": {},
   "outputs": [],
   "source": [
    "# 48"
   ]
  },
  {
   "cell_type": "code",
   "execution_count": 96,
   "id": "7dc93554-325d-4514-8c33-1688d9a6d06c",
   "metadata": {},
   "outputs": [],
   "source": [
    "def remove_nth_word(input_string,n):\n",
    "    word = input_string.split()\n",
    "    if n >=0 and n<= len(word):\n",
    "        del word[n]\n",
    "        string = \" \".join(word)\n",
    "        return string\n",
    "    else:\n",
    "        return \"n is out of range\""
   ]
  },
  {
   "cell_type": "code",
   "execution_count": 99,
   "id": "ed0ea831-c723-4883-b04d-a1986cd83559",
   "metadata": {},
   "outputs": [
    {
     "data": {
      "text/plain": [
       "'Remove the word from a string'"
      ]
     },
     "execution_count": 99,
     "metadata": {},
     "output_type": "execute_result"
    }
   ],
   "source": [
    "remove_nth_word(\"Remove the nth word from a string\",2)"
   ]
  },
  {
   "cell_type": "code",
   "execution_count": 74,
   "id": "90fd42b1-6727-4ee3-ae7a-7ef5ae169e3a",
   "metadata": {},
   "outputs": [],
   "source": [
    "# 49"
   ]
  },
  {
   "cell_type": "code",
   "execution_count": 100,
   "id": "e1a38dc7-4abf-416e-8a17-1898d3fd9ef1",
   "metadata": {},
   "outputs": [],
   "source": [
    "def insert_word(input_string,n,insertword):\n",
    "    word = input_string.split()\n",
    "    if n >= 0 and n <= len(word):\n",
    "        word.insert(n,insertword)\n",
    "        string = ' '.join(word)\n",
    "        return string\n",
    "    "
   ]
  },
  {
   "cell_type": "code",
   "execution_count": 102,
   "id": "855ea0a3-24b6-4010-87c7-e1a0c76a73b8",
   "metadata": {},
   "outputs": [
    {
     "data": {
      "text/plain": [
       "'Insert a word at insert the nth position in a string'"
      ]
     },
     "execution_count": 102,
     "metadata": {},
     "output_type": "execute_result"
    }
   ],
   "source": [
    "insert_word(\"Insert a word at the nth position in a string\",4,\"insert\")"
   ]
  },
  {
   "cell_type": "code",
   "execution_count": 104,
   "id": "c421d4d1-51cf-4a29-b607-18aa96390380",
   "metadata": {},
   "outputs": [],
   "source": []
  },
  {
   "cell_type": "code",
   "execution_count": 105,
   "id": "3cb7e199-7c3a-4634-b568-bed9e74568ed",
   "metadata": {},
   "outputs": [],
   "source": [
    "# 50"
   ]
  },
  {
   "cell_type": "code",
   "execution_count": 115,
   "id": "c9cbb9b3-6e84-4c4b-b559-9b8f2b9097c7",
   "metadata": {},
   "outputs": [],
   "source": [
    "def csv_to_list(csv_string):\n",
    "    groups = csv_string.split()\n",
    "    result = []\n",
    "    for word in groups:\n",
    "        fields = word.split(',')\n",
    "        result.append(fields)\n",
    "    return result"
   ]
  },
  {
   "cell_type": "code",
   "execution_count": 118,
   "id": "b9e90138-ec49-41b9-bcae-83698702cb49",
   "metadata": {},
   "outputs": [
    {
     "data": {
      "text/plain": [
       "[['name', 'age', 'city'],\n",
       " ['Ashis', '25', 'Delhi'],\n",
       " ['Bubu', '30', 'Ladakh'],\n",
       " ['Jhon', '22', 'Mumbai']]"
      ]
     },
     "execution_count": 118,
     "metadata": {},
     "output_type": "execute_result"
    }
   ],
   "source": [
    "csv_to_list(\"name,age,city\\nAshis,25,Delhi\\nBubu,30,Ladakh\\nJhon,22,Mumbai\")"
   ]
  },
  {
   "cell_type": "code",
   "execution_count": null,
   "id": "68a4b963-f53f-4380-91d1-ecf912aca09f",
   "metadata": {},
   "outputs": [],
   "source": []
  },
  {
   "cell_type": "markdown",
   "id": "31ee1d0e-03e3-4e50-9b16-189b7e79ceaa",
   "metadata": {},
   "source": [
    "List Based Solution"
   ]
  },
  {
   "cell_type": "code",
   "execution_count": 119,
   "id": "4c3e9d08-cb5b-49a8-88e7-bc4cd25513f8",
   "metadata": {},
   "outputs": [],
   "source": [
    "# 1"
   ]
  },
  {
   "cell_type": "code",
   "execution_count": 120,
   "id": "24dc5d50-38cd-443e-9679-9c89f17588d1",
   "metadata": {},
   "outputs": [],
   "source": [
    "lst = [1,2,3,4,5,6,7,8,9,10]"
   ]
  },
  {
   "cell_type": "code",
   "execution_count": 3,
   "id": "843730f8-3fea-4745-962c-a6e6169d33cd",
   "metadata": {},
   "outputs": [],
   "source": [
    "l = list(range(1,11))"
   ]
  },
  {
   "cell_type": "code",
   "execution_count": 4,
   "id": "5fedd190-ee81-4052-bf67-b3da971ea265",
   "metadata": {},
   "outputs": [
    {
     "data": {
      "text/plain": [
       "[1, 2, 3, 4, 5, 6, 7, 8, 9, 10]"
      ]
     },
     "execution_count": 4,
     "metadata": {},
     "output_type": "execute_result"
    }
   ],
   "source": [
    "l"
   ]
  },
  {
   "cell_type": "code",
   "execution_count": null,
   "id": "29fb2786-de0a-4561-b9d3-86af0a629335",
   "metadata": {},
   "outputs": [],
   "source": []
  },
  {
   "cell_type": "code",
   "execution_count": 131,
   "id": "c8d996f9-3360-48d2-b9cc-b11af12b0aad",
   "metadata": {},
   "outputs": [],
   "source": [
    "# 2"
   ]
  },
  {
   "cell_type": "code",
   "execution_count": 134,
   "id": "7813afe9-d95f-4cdd-98fc-0b5fbef19d66",
   "metadata": {},
   "outputs": [],
   "source": [
    "def length_of_list(input_list):\n",
    "    count = 0\n",
    "    for char in input_list:\n",
    "        count += 1\n",
    "    return count"
   ]
  },
  {
   "cell_type": "code",
   "execution_count": 136,
   "id": "9db5b982-9a5c-45b8-be0a-bbea522cca68",
   "metadata": {},
   "outputs": [
    {
     "data": {
      "text/plain": [
       "10"
      ]
     },
     "execution_count": 136,
     "metadata": {},
     "output_type": "execute_result"
    }
   ],
   "source": [
    "length_of_list(l)"
   ]
  },
  {
   "cell_type": "code",
   "execution_count": null,
   "id": "cc66d09d-9fab-4189-9ec7-4a863d039e4c",
   "metadata": {},
   "outputs": [],
   "source": []
  },
  {
   "cell_type": "code",
   "execution_count": 137,
   "id": "3808f059-e1f6-40ce-ba34-b92cf34b2206",
   "metadata": {},
   "outputs": [],
   "source": [
    "# 3"
   ]
  },
  {
   "cell_type": "code",
   "execution_count": 138,
   "id": "31d0b908-754a-469a-95d0-a37027e8d1b1",
   "metadata": {},
   "outputs": [
    {
     "data": {
      "text/plain": [
       "[1, 2, 3, 4, 5, 6, 7, 8, 9, 10]"
      ]
     },
     "execution_count": 138,
     "metadata": {},
     "output_type": "execute_result"
    }
   ],
   "source": [
    "l"
   ]
  },
  {
   "cell_type": "code",
   "execution_count": 139,
   "id": "aea43a73-daec-4546-a0da-b59f6a9013fb",
   "metadata": {},
   "outputs": [],
   "source": [
    "l.append(11)"
   ]
  },
  {
   "cell_type": "code",
   "execution_count": 140,
   "id": "a51968d0-060a-4dcb-bcdd-7a9661aabd08",
   "metadata": {},
   "outputs": [
    {
     "data": {
      "text/plain": [
       "[1, 2, 3, 4, 5, 6, 7, 8, 9, 10, 11]"
      ]
     },
     "execution_count": 140,
     "metadata": {},
     "output_type": "execute_result"
    }
   ],
   "source": [
    "l"
   ]
  },
  {
   "cell_type": "code",
   "execution_count": null,
   "id": "3e4d335a-2a4c-4136-a4b7-56486f914326",
   "metadata": {},
   "outputs": [],
   "source": []
  },
  {
   "cell_type": "code",
   "execution_count": 141,
   "id": "933178e8-c7be-4e4b-8822-296001d94baf",
   "metadata": {},
   "outputs": [],
   "source": [
    "# 4"
   ]
  },
  {
   "cell_type": "code",
   "execution_count": 169,
   "id": "03b488a4-80ca-4aad-ad8e-f82d54e2aee1",
   "metadata": {},
   "outputs": [
    {
     "data": {
      "text/plain": [
       "[1, 2, 3, 4, 5, 6, 7, 8, 9, 10]"
      ]
     },
     "execution_count": 169,
     "metadata": {},
     "output_type": "execute_result"
    }
   ],
   "source": [
    "l"
   ]
  },
  {
   "cell_type": "code",
   "execution_count": 170,
   "id": "72dc6528-9485-464d-88ba-282f39758a3d",
   "metadata": {},
   "outputs": [],
   "source": [
    "l.insert(5,7)"
   ]
  },
  {
   "cell_type": "code",
   "execution_count": 171,
   "id": "7de04c67-f7ec-41fd-bdf5-a3e9f85ba2a5",
   "metadata": {},
   "outputs": [
    {
     "data": {
      "text/plain": [
       "[1, 2, 3, 4, 5, 7, 6, 7, 8, 9, 10]"
      ]
     },
     "execution_count": 171,
     "metadata": {},
     "output_type": "execute_result"
    }
   ],
   "source": [
    "l"
   ]
  },
  {
   "cell_type": "code",
   "execution_count": null,
   "id": "096e9357-7305-4d91-9e79-420a0d9ede72",
   "metadata": {},
   "outputs": [],
   "source": []
  },
  {
   "cell_type": "code",
   "execution_count": 172,
   "id": "a5778520-a646-4304-948b-323bd3258a58",
   "metadata": {},
   "outputs": [],
   "source": [
    "# 5"
   ]
  },
  {
   "cell_type": "code",
   "execution_count": 5,
   "id": "d7d15685-cfe2-4bc9-915f-a7bffdcb6fd5",
   "metadata": {},
   "outputs": [
    {
     "data": {
      "text/plain": [
       "[1, 2, 3, 4, 5, 6, 7, 8, 9, 10]"
      ]
     },
     "execution_count": 5,
     "metadata": {},
     "output_type": "execute_result"
    }
   ],
   "source": [
    "l"
   ]
  },
  {
   "cell_type": "code",
   "execution_count": 6,
   "id": "06c6180d-5fcd-4758-8723-ebf69d06efda",
   "metadata": {},
   "outputs": [],
   "source": [
    "l.remove(5)"
   ]
  },
  {
   "cell_type": "code",
   "execution_count": 7,
   "id": "4e041406-ecea-48ca-a772-2d1b0c7160cd",
   "metadata": {},
   "outputs": [
    {
     "data": {
      "text/plain": [
       "[1, 2, 3, 4, 6, 7, 8, 9, 10]"
      ]
     },
     "execution_count": 7,
     "metadata": {},
     "output_type": "execute_result"
    }
   ],
   "source": [
    "l"
   ]
  },
  {
   "cell_type": "code",
   "execution_count": null,
   "id": "a1a06407-f08e-4c3d-812f-fcc3c268b5a9",
   "metadata": {},
   "outputs": [],
   "source": []
  },
  {
   "cell_type": "code",
   "execution_count": 176,
   "id": "a664aef1-d1a7-4899-a836-846a59cb8422",
   "metadata": {},
   "outputs": [],
   "source": [
    "# 6"
   ]
  },
  {
   "cell_type": "code",
   "execution_count": 15,
   "id": "36bba74f-cf38-4856-a268-1bba9dd0f49c",
   "metadata": {},
   "outputs": [],
   "source": [
    "l1 = [\"pw\",\"pwskills\",2,4,5,6,\"python\"]"
   ]
  },
  {
   "cell_type": "code",
   "execution_count": 10,
   "id": "8f3b0d70-8ecc-438b-83fb-b868f0d15147",
   "metadata": {},
   "outputs": [
    {
     "data": {
      "text/plain": [
       "'pwskills'"
      ]
     },
     "execution_count": 10,
     "metadata": {},
     "output_type": "execute_result"
    }
   ],
   "source": [
    "l1.pop(1)"
   ]
  },
  {
   "cell_type": "code",
   "execution_count": 12,
   "id": "96ba7985-c5f4-411d-92fc-45b5f6e41c95",
   "metadata": {},
   "outputs": [
    {
     "data": {
      "text/plain": [
       "['pw', 2, 4, 5, 6, 'python']"
      ]
     },
     "execution_count": 12,
     "metadata": {},
     "output_type": "execute_result"
    }
   ],
   "source": [
    "l1"
   ]
  },
  {
   "cell_type": "code",
   "execution_count": 13,
   "id": "ac625aa3-ae39-4cbf-b44f-95cc08b316b1",
   "metadata": {},
   "outputs": [],
   "source": [
    "# 7"
   ]
  },
  {
   "cell_type": "code",
   "execution_count": 16,
   "id": "f6f50708-4305-4eb2-9e24-99f972af74b8",
   "metadata": {},
   "outputs": [
    {
     "data": {
      "text/plain": [
       "['pw', 'pwskills', 2, 4, 5, 6, 'python']"
      ]
     },
     "execution_count": 16,
     "metadata": {},
     "output_type": "execute_result"
    }
   ],
   "source": [
    "l1"
   ]
  },
  {
   "cell_type": "code",
   "execution_count": 18,
   "id": "78914adb-6e8a-4e80-abdc-7bc27a916397",
   "metadata": {},
   "outputs": [
    {
     "name": "stdout",
     "output_type": "stream",
     "text": [
      "present in list\n"
     ]
    }
   ],
   "source": [
    "if 'pw' in l1:\n",
    "    print(\"present in list\")\n",
    "else:\n",
    "    print(\"not present in list\")"
   ]
  },
  {
   "cell_type": "code",
   "execution_count": null,
   "id": "91dcda07-085b-46ca-96ee-febf835cc9f1",
   "metadata": {},
   "outputs": [],
   "source": []
  },
  {
   "cell_type": "code",
   "execution_count": 19,
   "id": "51ab6eac-6ff4-4c97-b89e-2c87fde0a4ea",
   "metadata": {},
   "outputs": [],
   "source": [
    "# 8"
   ]
  },
  {
   "cell_type": "code",
   "execution_count": 20,
   "id": "31bead9d-b15f-4d72-b767-895a1b8505d2",
   "metadata": {},
   "outputs": [],
   "source": [
    "l2 = ['pw', 'pwskills', 2, 4, 5, 6, 'python','pw','data']"
   ]
  },
  {
   "cell_type": "code",
   "execution_count": 21,
   "id": "c8ebf5be-56a4-4d92-9ec6-6dcf995e83cb",
   "metadata": {},
   "outputs": [
    {
     "data": {
      "text/plain": [
       "0"
      ]
     },
     "execution_count": 21,
     "metadata": {},
     "output_type": "execute_result"
    }
   ],
   "source": [
    "l2.index('pw')"
   ]
  },
  {
   "cell_type": "code",
   "execution_count": null,
   "id": "2d89abc8-1653-44b5-822b-7097425ccbe5",
   "metadata": {},
   "outputs": [],
   "source": []
  },
  {
   "cell_type": "code",
   "execution_count": 22,
   "id": "b20b39ed-6959-4271-b8cf-1dd9833347d4",
   "metadata": {},
   "outputs": [],
   "source": [
    "# 9"
   ]
  },
  {
   "cell_type": "code",
   "execution_count": 23,
   "id": "aa7c95ea-1708-4081-95ca-2136b6d25e3d",
   "metadata": {},
   "outputs": [
    {
     "data": {
      "text/plain": [
       "['pw', 'pwskills', 2, 4, 5, 6, 'python', 'pw', 'data']"
      ]
     },
     "execution_count": 23,
     "metadata": {},
     "output_type": "execute_result"
    }
   ],
   "source": [
    "l2"
   ]
  },
  {
   "cell_type": "code",
   "execution_count": 24,
   "id": "634c053a-d475-4d96-9271-00902e2d0e56",
   "metadata": {},
   "outputs": [
    {
     "data": {
      "text/plain": [
       "2"
      ]
     },
     "execution_count": 24,
     "metadata": {},
     "output_type": "execute_result"
    }
   ],
   "source": [
    "l2.count('pw')"
   ]
  },
  {
   "cell_type": "code",
   "execution_count": null,
   "id": "9a10f053-d1ed-4eac-9718-cc4fcdff1c6b",
   "metadata": {},
   "outputs": [],
   "source": []
  },
  {
   "cell_type": "code",
   "execution_count": 25,
   "id": "00ce1f46-6ceb-4a74-8abe-aa982b69c257",
   "metadata": {},
   "outputs": [],
   "source": [
    "# 10"
   ]
  },
  {
   "cell_type": "code",
   "execution_count": 26,
   "id": "8bdd6d53-7752-4f94-97b3-c81491dd662e",
   "metadata": {},
   "outputs": [
    {
     "data": {
      "text/plain": [
       "['pw', 'pwskills', 2, 4, 5, 6, 'python', 'pw', 'data']"
      ]
     },
     "execution_count": 26,
     "metadata": {},
     "output_type": "execute_result"
    }
   ],
   "source": [
    "l2"
   ]
  },
  {
   "cell_type": "code",
   "execution_count": 31,
   "id": "4dc23efd-788a-4d4a-a3d4-b4840f127577",
   "metadata": {},
   "outputs": [],
   "source": [
    "l2.reverse()"
   ]
  },
  {
   "cell_type": "code",
   "execution_count": 32,
   "id": "25ad8244-8136-4719-bc8c-c3ddf17418a0",
   "metadata": {},
   "outputs": [
    {
     "data": {
      "text/plain": [
       "['data', 'pw', 'python', 6, 5, 4, 2, 'pwskills', 'pw']"
      ]
     },
     "execution_count": 32,
     "metadata": {},
     "output_type": "execute_result"
    }
   ],
   "source": [
    "l2"
   ]
  },
  {
   "cell_type": "code",
   "execution_count": null,
   "id": "fce1d8de-f5fa-4dd9-ac80-c33a14ab6dae",
   "metadata": {},
   "outputs": [],
   "source": []
  },
  {
   "cell_type": "code",
   "execution_count": 33,
   "id": "f9c36874-f066-441f-bb1a-79b0ad52a165",
   "metadata": {},
   "outputs": [],
   "source": [
    "# 11"
   ]
  },
  {
   "cell_type": "code",
   "execution_count": 35,
   "id": "65f14b3a-23fe-4f7c-8397-95eba5cd803f",
   "metadata": {},
   "outputs": [],
   "source": [
    "l3 = [4,5,32,65,42,99,6,3]"
   ]
  },
  {
   "cell_type": "code",
   "execution_count": 36,
   "id": "60dde1d1-cecc-46f3-805f-b03f3b878713",
   "metadata": {},
   "outputs": [],
   "source": [
    "l3.sort()"
   ]
  },
  {
   "cell_type": "code",
   "execution_count": 37,
   "id": "76f371db-0e04-495c-8476-5b3cb1d6ecdd",
   "metadata": {},
   "outputs": [
    {
     "data": {
      "text/plain": [
       "[3, 4, 5, 6, 32, 42, 65, 99]"
      ]
     },
     "execution_count": 37,
     "metadata": {},
     "output_type": "execute_result"
    }
   ],
   "source": [
    "l3"
   ]
  },
  {
   "cell_type": "code",
   "execution_count": null,
   "id": "a65dc771-00c3-49a2-aa37-1899b53d4a11",
   "metadata": {},
   "outputs": [],
   "source": []
  },
  {
   "cell_type": "code",
   "execution_count": 38,
   "id": "341a0bdb-9b8a-4d9b-8c22-fda566c2e6af",
   "metadata": {},
   "outputs": [],
   "source": [
    "# 12"
   ]
  },
  {
   "cell_type": "code",
   "execution_count": 40,
   "id": "6815790b-4e3c-4ee9-a160-97378c833369",
   "metadata": {},
   "outputs": [
    {
     "data": {
      "text/plain": [
       "[3, 4, 5, 6, 32, 42, 65, 99]"
      ]
     },
     "execution_count": 40,
     "metadata": {},
     "output_type": "execute_result"
    }
   ],
   "source": [
    "l3"
   ]
  },
  {
   "cell_type": "code",
   "execution_count": 43,
   "id": "c99efa8e-4446-4872-a377-d804a9d41e9e",
   "metadata": {},
   "outputs": [],
   "source": [
    "l3.sort(reverse = True)"
   ]
  },
  {
   "cell_type": "code",
   "execution_count": 44,
   "id": "907e92b5-6c3f-4299-85f4-76e1937fb0ec",
   "metadata": {},
   "outputs": [
    {
     "data": {
      "text/plain": [
       "[99, 65, 42, 32, 6, 5, 4, 3]"
      ]
     },
     "execution_count": 44,
     "metadata": {},
     "output_type": "execute_result"
    }
   ],
   "source": [
    "l3"
   ]
  },
  {
   "cell_type": "code",
   "execution_count": null,
   "id": "a0bcaae5-3f30-442e-8471-b8da91edd049",
   "metadata": {},
   "outputs": [],
   "source": []
  },
  {
   "cell_type": "code",
   "execution_count": 45,
   "id": "221d72b0-0f91-47d7-aa19-b653be43578d",
   "metadata": {},
   "outputs": [],
   "source": [
    "# 13"
   ]
  },
  {
   "cell_type": "code",
   "execution_count": 46,
   "id": "2c8da7b9-ec98-4ea5-a597-b635038c6270",
   "metadata": {},
   "outputs": [],
   "source": [
    "even_num = [2,4,6,8,10,12,14,16,18,20]"
   ]
  },
  {
   "cell_type": "code",
   "execution_count": 52,
   "id": "7f09a1ce-6b00-4c59-82ae-a4fcfbbf9bf6",
   "metadata": {},
   "outputs": [
    {
     "name": "stdout",
     "output_type": "stream",
     "text": [
      "2\n",
      "4\n",
      "6\n",
      "8\n",
      "10\n",
      "12\n",
      "14\n",
      "16\n",
      "18\n",
      "20\n"
     ]
    }
   ],
   "source": [
    "for even in range(2,21,2):\n",
    "    print(even)"
   ]
  },
  {
   "cell_type": "code",
   "execution_count": null,
   "id": "682c1cc0-3c02-4525-af38-be529205a738",
   "metadata": {},
   "outputs": [],
   "source": []
  },
  {
   "cell_type": "code",
   "execution_count": 1,
   "id": "1d1478f2-4444-4628-8d99-4de6d9f08a12",
   "metadata": {},
   "outputs": [],
   "source": [
    "# 14"
   ]
  },
  {
   "cell_type": "code",
   "execution_count": 7,
   "id": "0ee83119-f75c-4c74-aeb5-4a52786969ce",
   "metadata": {},
   "outputs": [
    {
     "name": "stdout",
     "output_type": "stream",
     "text": [
      "3\n",
      "5\n",
      "7\n",
      "9\n",
      "11\n",
      "13\n",
      "15\n",
      "17\n",
      "19\n"
     ]
    }
   ],
   "source": [
    "for odd in range(3,21,2):\n",
    "    print(odd)"
   ]
  },
  {
   "cell_type": "code",
   "execution_count": null,
   "id": "742d78f1-89a8-417d-ad2a-1dea63245199",
   "metadata": {},
   "outputs": [],
   "source": []
  },
  {
   "cell_type": "code",
   "execution_count": 8,
   "id": "f69c6dd0-b964-4532-8a58-ec36e12c65d8",
   "metadata": {},
   "outputs": [],
   "source": [
    "# 15"
   ]
  },
  {
   "cell_type": "code",
   "execution_count": 72,
   "id": "dcbaa7a2-af48-4217-a667-98925b862894",
   "metadata": {},
   "outputs": [
    {
     "name": "stdout",
     "output_type": "stream",
     "text": [
      "31\n"
     ]
    }
   ],
   "source": [
    "l5 = [3,2,5,6,7,8]\n",
    "add = 0\n",
    "for x in l5:\n",
    "    add += x\n",
    "print(add)"
   ]
  },
  {
   "cell_type": "code",
   "execution_count": null,
   "id": "360876c3-93ea-47c2-a83d-ab3c222e2a84",
   "metadata": {},
   "outputs": [],
   "source": []
  },
  {
   "cell_type": "code",
   "execution_count": 73,
   "id": "bf4b5679-c9bf-4a1c-849e-e5e0cec7ead7",
   "metadata": {},
   "outputs": [],
   "source": [
    "# 16"
   ]
  },
  {
   "cell_type": "code",
   "execution_count": 75,
   "id": "f84b7b1a-de98-41fe-918a-73e80bdf9c1b",
   "metadata": {},
   "outputs": [
    {
     "data": {
      "text/plain": [
       "[3, 2, 5, 6, 7, 8]"
      ]
     },
     "execution_count": 75,
     "metadata": {},
     "output_type": "execute_result"
    }
   ],
   "source": [
    "l5"
   ]
  },
  {
   "cell_type": "code",
   "execution_count": 76,
   "id": "f1a6ab43-cfbb-4753-81f7-14a79ef85f3f",
   "metadata": {},
   "outputs": [
    {
     "name": "stdout",
     "output_type": "stream",
     "text": [
      "8\n"
     ]
    }
   ],
   "source": [
    "maximum_value = max(l5)\n",
    "print(maximum_value)"
   ]
  },
  {
   "cell_type": "code",
   "execution_count": null,
   "id": "fbd6a461-a874-4bb7-8aa6-e08488e64419",
   "metadata": {},
   "outputs": [],
   "source": []
  },
  {
   "cell_type": "code",
   "execution_count": 77,
   "id": "0c5719ac-ab81-475f-86db-a6e332f21cf7",
   "metadata": {},
   "outputs": [],
   "source": [
    "# 17"
   ]
  },
  {
   "cell_type": "code",
   "execution_count": 78,
   "id": "6b3e7a0d-895c-4a90-a1dc-f0d916d9c601",
   "metadata": {},
   "outputs": [
    {
     "data": {
      "text/plain": [
       "[3, 2, 5, 6, 7, 8]"
      ]
     },
     "execution_count": 78,
     "metadata": {},
     "output_type": "execute_result"
    }
   ],
   "source": [
    "l5"
   ]
  },
  {
   "cell_type": "code",
   "execution_count": 79,
   "id": "6a64e6d5-5b49-409a-ba13-01eeb06588bf",
   "metadata": {},
   "outputs": [
    {
     "name": "stdout",
     "output_type": "stream",
     "text": [
      "2\n"
     ]
    }
   ],
   "source": [
    "minimum_value = min(l5)\n",
    "print(minimum_value)"
   ]
  },
  {
   "cell_type": "code",
   "execution_count": null,
   "id": "4a59a9df-5da3-44af-91df-4fd462b2a23a",
   "metadata": {},
   "outputs": [],
   "source": []
  },
  {
   "cell_type": "code",
   "execution_count": 80,
   "id": "82c3bd01-08a3-497b-a11b-24a138cfbff7",
   "metadata": {},
   "outputs": [],
   "source": [
    "# 18"
   ]
  },
  {
   "cell_type": "code",
   "execution_count": 102,
   "id": "d6a383e0-08da-46a1-8604-4b23e2fbfbc2",
   "metadata": {},
   "outputs": [
    {
     "name": "stdout",
     "output_type": "stream",
     "text": [
      "[1, 4, 9, 16, 25, 36, 49, 64, 81, 100]\n"
     ]
    }
   ],
   "source": [
    "sq_list = []\n",
    "for i in range(1,11):\n",
    "    square = i**2\n",
    "    sq_list.append(square)\n",
    "print(sq_list)"
   ]
  },
  {
   "cell_type": "code",
   "execution_count": null,
   "id": "79a7e37d-bf39-480c-8d19-c499a0c870f4",
   "metadata": {},
   "outputs": [],
   "source": []
  },
  {
   "cell_type": "code",
   "execution_count": 99,
   "id": "8380f549-3a36-4229-bdbf-37c5a9581262",
   "metadata": {},
   "outputs": [],
   "source": [
    "# 19"
   ]
  },
  {
   "cell_type": "code",
   "execution_count": 113,
   "id": "583e36e8-373f-40bc-b3a6-0afec405b5f8",
   "metadata": {},
   "outputs": [
    {
     "name": "stdout",
     "output_type": "stream",
     "text": [
      "[41, 44, 22, 11, 20, 15, 42, 25, 50, 12, 57, 62, 41, 59, 61]\n"
     ]
    }
   ],
   "source": [
    "import random\n",
    "random_num = [random.randint(1,70) for _ in range(15)]\n",
    "print(random_num)"
   ]
  },
  {
   "cell_type": "code",
   "execution_count": null,
   "id": "36b235bf-61b9-4c54-9b58-e72a939908f5",
   "metadata": {},
   "outputs": [],
   "source": []
  },
  {
   "cell_type": "code",
   "execution_count": 117,
   "id": "f959a794-6a38-46e6-ad89-0d5f8c3e0040",
   "metadata": {},
   "outputs": [],
   "source": [
    "# 20"
   ]
  },
  {
   "cell_type": "code",
   "execution_count": 119,
   "id": "00007ae4-8ea4-4915-8f26-bc8db3c5c549",
   "metadata": {},
   "outputs": [],
   "source": [
    "dup_list = [3,4,55,6,4,8,3,55,9,2,10]"
   ]
  },
  {
   "cell_type": "code",
   "execution_count": 132,
   "id": "aa8f17b9-3676-45f2-ad8e-42fd5a477233",
   "metadata": {},
   "outputs": [
    {
     "name": "stdout",
     "output_type": "stream",
     "text": [
      "[2, 3, 4, 6, 8, 9, 10, 43, 45, 55]\n"
     ]
    }
   ],
   "source": [
    "new_list = list(set(dup_list))\n",
    "print(new_list)"
   ]
  },
  {
   "cell_type": "code",
   "execution_count": null,
   "id": "2ba04b65-6484-4da5-89ad-90e25f41e3d1",
   "metadata": {},
   "outputs": [],
   "source": []
  },
  {
   "cell_type": "code",
   "execution_count": 133,
   "id": "193d8632-3c8d-4067-9b5b-167ba48c7390",
   "metadata": {},
   "outputs": [],
   "source": [
    "# 21"
   ]
  },
  {
   "cell_type": "code",
   "execution_count": 140,
   "id": "0a5adae2-845b-43d8-b5d3-a9a78d672430",
   "metadata": {},
   "outputs": [
    {
     "name": "stdout",
     "output_type": "stream",
     "text": [
      "[5, 6, 7]\n"
     ]
    }
   ],
   "source": [
    "list1 = [2,3,4,5,6,7]\n",
    "list2 = [5,6,7,8,9]\n",
    "set1 = set(list1)\n",
    "set2 = set(list2)\n",
    "unique_ele = set1.intersection(set2)\n",
    "unique_list = list(unique_ele)\n",
    "print(unique_list)"
   ]
  },
  {
   "cell_type": "code",
   "execution_count": 160,
   "id": "883ac05f-eb1b-4188-8979-27552747b434",
   "metadata": {},
   "outputs": [
    {
     "name": "stdout",
     "output_type": "stream",
     "text": [
      "[5, 6, 7]\n"
     ]
    }
   ],
   "source": [
    "com_ele = []\n",
    "for i in list1 :\n",
    "    if i in list2:\n",
    "        com_ele.append(i)\n",
    "print(com_ele)"
   ]
  },
  {
   "cell_type": "code",
   "execution_count": null,
   "id": "d630c436-ba94-4977-a2f3-26de1096b59e",
   "metadata": {},
   "outputs": [],
   "source": []
  },
  {
   "cell_type": "code",
   "execution_count": 161,
   "id": "b7c847db-74c8-410a-8df9-7205f357bb66",
   "metadata": {},
   "outputs": [],
   "source": [
    "# 22"
   ]
  },
  {
   "cell_type": "code",
   "execution_count": 165,
   "id": "50714d3d-13ca-4318-a089-43cef29af107",
   "metadata": {},
   "outputs": [
    {
     "name": "stdout",
     "output_type": "stream",
     "text": [
      "[2, 3, 4]\n"
     ]
    }
   ],
   "source": [
    "list1 = [2,3,4,5,6,7]\n",
    "list2 = [5,6,7,8,9]\n",
    "set1 = set(list1)\n",
    "set2 = set(list2)\n",
    "difference = set1.difference(set2)\n",
    "difference_list = list(difference)\n",
    "print(difference_list)"
   ]
  },
  {
   "cell_type": "code",
   "execution_count": null,
   "id": "861ff3a3-e0e4-4e1d-bab9-6700e857e955",
   "metadata": {},
   "outputs": [],
   "source": []
  },
  {
   "cell_type": "code",
   "execution_count": 166,
   "id": "646011d2-1ece-44b9-9530-13b3503b0fc5",
   "metadata": {},
   "outputs": [],
   "source": [
    "# 23"
   ]
  },
  {
   "cell_type": "code",
   "execution_count": 168,
   "id": "cd085ca4-44a2-4bf8-90d2-9f8f6f8cee49",
   "metadata": {},
   "outputs": [
    {
     "name": "stdout",
     "output_type": "stream",
     "text": [
      "[2, 3, 4, 5, 6, 7, 5, 6, 7, 8, 9]\n"
     ]
    }
   ],
   "source": [
    "list1 = [2,3,4,5,6,7]\n",
    "list2 = [5,6,7,8,9]\n",
    "merge_list = list1 + list2\n",
    "print(merge_list)"
   ]
  },
  {
   "cell_type": "code",
   "execution_count": null,
   "id": "2379cc88-3705-4bec-8df1-740aa9d368eb",
   "metadata": {},
   "outputs": [],
   "source": []
  },
  {
   "cell_type": "code",
   "execution_count": 169,
   "id": "95c0d910-aeb4-46db-ab85-3185c289ab0f",
   "metadata": {},
   "outputs": [],
   "source": [
    "# 24"
   ]
  },
  {
   "cell_type": "code",
   "execution_count": 170,
   "id": "27aff21c-cc15-4cca-9079-6ef1906ad940",
   "metadata": {},
   "outputs": [
    {
     "data": {
      "text/plain": [
       "[2, 3, 4, 5, 6, 7]"
      ]
     },
     "execution_count": 170,
     "metadata": {},
     "output_type": "execute_result"
    }
   ],
   "source": [
    "list1"
   ]
  },
  {
   "cell_type": "code",
   "execution_count": 171,
   "id": "c9b40b45-2c91-4c1e-a90f-c889dbff0881",
   "metadata": {},
   "outputs": [
    {
     "name": "stdout",
     "output_type": "stream",
     "text": [
      "4\n",
      "6\n",
      "8\n",
      "10\n",
      "12\n",
      "14\n"
     ]
    }
   ],
   "source": [
    "for i in list1:\n",
    "    mul = i*2\n",
    "    print(mul)"
   ]
  },
  {
   "cell_type": "code",
   "execution_count": 173,
   "id": "3dabf123-90d5-479c-b5e3-f0f142e0d99a",
   "metadata": {},
   "outputs": [
    {
     "name": "stdout",
     "output_type": "stream",
     "text": [
      "[4, 6, 8, 10, 12, 14]\n"
     ]
    }
   ],
   "source": [
    "mul_list = [i*2 for i in list1]\n",
    "print(mul_list)"
   ]
  },
  {
   "cell_type": "code",
   "execution_count": null,
   "id": "af245379-82b3-4622-9ba1-b01c1670e186",
   "metadata": {},
   "outputs": [],
   "source": []
  },
  {
   "cell_type": "code",
   "execution_count": 174,
   "id": "78f06d66-94b2-4ee4-958a-e7fbb3c8417d",
   "metadata": {},
   "outputs": [],
   "source": [
    "# 25"
   ]
  },
  {
   "cell_type": "code",
   "execution_count": 178,
   "id": "f5fee175-6d7f-4fc1-a6ab-ab256ce14396",
   "metadata": {},
   "outputs": [
    {
     "name": "stdout",
     "output_type": "stream",
     "text": [
      "2\n",
      "4\n",
      "6\n",
      "8\n",
      "10\n",
      "12\n",
      "14\n"
     ]
    }
   ],
   "source": [
    "all_num = [2,3,4,5,6,7,8,9,10,11,12,13,14]\n",
    "for even in all_num :\n",
    "    if even % 2== 0:\n",
    "        print(even)"
   ]
  },
  {
   "cell_type": "code",
   "execution_count": 180,
   "id": "a231590f-7c2d-450f-bb25-cf194301f425",
   "metadata": {},
   "outputs": [
    {
     "name": "stdout",
     "output_type": "stream",
     "text": [
      "2\n",
      "4\n",
      "6\n",
      "8\n",
      "10\n",
      "12\n",
      "14\n",
      "16\n",
      "18\n",
      "20\n",
      "22\n",
      "24\n"
     ]
    }
   ],
   "source": [
    "for e in range(1,25):\n",
    "    if e % 2== 0:\n",
    "        print(e)"
   ]
  },
  {
   "cell_type": "code",
   "execution_count": 187,
   "id": "e499b081-d233-43b3-8df1-fd9ad1f05fd1",
   "metadata": {},
   "outputs": [
    {
     "name": "stdout",
     "output_type": "stream",
     "text": [
      "[2, 4, 6, 8, 10, 12, 14, 16, 18, 20, 22, 24, 26, 28]\n"
     ]
    }
   ],
   "source": [
    "even_num = [e for e in range(1,30) if e%2 == 0]\n",
    "print(even_num)"
   ]
  },
  {
   "cell_type": "code",
   "execution_count": null,
   "id": "39835024-29a0-4ef1-b14c-fb315c6203e7",
   "metadata": {},
   "outputs": [],
   "source": []
  },
  {
   "cell_type": "code",
   "execution_count": 188,
   "id": "869bee3a-d1a2-44c6-9be9-168f59b2ce7d",
   "metadata": {},
   "outputs": [],
   "source": [
    "# 26"
   ]
  },
  {
   "cell_type": "code",
   "execution_count": 194,
   "id": "7e4b1a2f-42a7-4a43-ad38-90cded17db9e",
   "metadata": {},
   "outputs": [
    {
     "name": "stdout",
     "output_type": "stream",
     "text": [
      "[1, 2, 3, 4, 5]\n"
     ]
    }
   ],
   "source": [
    "str_list = [\"1\",\"2\",\"3\",\"4\",\"5\"]\n",
    "int_list = []\n",
    "for i in str_list :\n",
    "    int_convert = int(i)\n",
    "    int_list.append(int_convert)\n",
    "print(int_list)"
   ]
  },
  {
   "cell_type": "code",
   "execution_count": null,
   "id": "13e62e47-9a84-405c-a807-b4b26e3b4d1e",
   "metadata": {},
   "outputs": [],
   "source": []
  },
  {
   "cell_type": "code",
   "execution_count": 198,
   "id": "e26c71fe-f7ee-458b-8af9-a8cc677887d7",
   "metadata": {},
   "outputs": [],
   "source": [
    "# 27"
   ]
  },
  {
   "cell_type": "code",
   "execution_count": 202,
   "id": "56d71db0-da23-4a51-a359-cd9d73cd053c",
   "metadata": {},
   "outputs": [
    {
     "name": "stdout",
     "output_type": "stream",
     "text": [
      "['1', '2', '3', '4', '5']\n"
     ]
    }
   ],
   "source": [
    "int_list = [1,2,3,4,5]\n",
    "str_list = []\n",
    "for i in int_list :\n",
    "    str_convert = str(i)\n",
    "    str_list.append(str_convert)\n",
    "print(str_list)"
   ]
  },
  {
   "cell_type": "code",
   "execution_count": null,
   "id": "81b2f78a-fa11-49b5-9870-51750d390dee",
   "metadata": {},
   "outputs": [],
   "source": []
  },
  {
   "cell_type": "code",
   "execution_count": 203,
   "id": "46613a56-f0df-42f3-9dc5-886e5c655f70",
   "metadata": {},
   "outputs": [],
   "source": [
    "# 28"
   ]
  },
  {
   "cell_type": "code",
   "execution_count": 209,
   "id": "b3e86dce-f0fc-47d0-95f2-97d05941366c",
   "metadata": {},
   "outputs": [
    {
     "name": "stdout",
     "output_type": "stream",
     "text": [
      "[1, 2, 3, 4, 5, 6, 7, 8]\n"
     ]
    }
   ],
   "source": [
    "nested_list = [[1, 2, 3], [4, 5], [6, 7, 8]]\n",
    "flatten_list = []\n",
    "for sublist in nested_list:\n",
    "    for ele in sublist:\n",
    "        flatten_list.append(ele)\n",
    "print(flatten_list)"
   ]
  },
  {
   "cell_type": "code",
   "execution_count": null,
   "id": "53c1914e-099d-4cb5-911e-dd57dc7429b4",
   "metadata": {},
   "outputs": [],
   "source": []
  },
  {
   "cell_type": "code",
   "execution_count": 210,
   "id": "ebb58d6a-d4b3-450b-b915-2418db0d2c40",
   "metadata": {},
   "outputs": [],
   "source": [
    "# 29"
   ]
  },
  {
   "cell_type": "code",
   "execution_count": 234,
   "id": "3d07862f-d7bf-4fba-831c-57665cc3bec3",
   "metadata": {},
   "outputs": [],
   "source": [
    "def fib_num(n):\n",
    "    fib_list =[0,1]\n",
    "    for i in range(2,n):\n",
    "        next_fib = fib_list[i-1] + fib_list[i-2]\n",
    "        fib_list.append(next_fib)\n",
    "    return fib_list\n",
    "        "
   ]
  },
  {
   "cell_type": "code",
   "execution_count": 235,
   "id": "99052f05-c479-45e3-9bcc-310f5a2419c2",
   "metadata": {},
   "outputs": [
    {
     "data": {
      "text/plain": [
       "[0, 1, 1, 2, 3, 5, 8]"
      ]
     },
     "execution_count": 235,
     "metadata": {},
     "output_type": "execute_result"
    }
   ],
   "source": [
    "fib_num(7)"
   ]
  },
  {
   "cell_type": "code",
   "execution_count": null,
   "id": "1ba8e9d7-76e8-477b-9ffd-fc48de791e95",
   "metadata": {},
   "outputs": [],
   "source": []
  },
  {
   "cell_type": "code",
   "execution_count": 236,
   "id": "e5107453-a619-4c2e-9f73-ba7cd17b8bdb",
   "metadata": {},
   "outputs": [],
   "source": [
    "# 30"
   ]
  },
  {
   "cell_type": "code",
   "execution_count": 5,
   "id": "9b9b491e-2ce0-49cd-a3b4-cb231a5e6b83",
   "metadata": {},
   "outputs": [],
   "source": [
    "l = [1,2,3,4,5,6,7,8]\n",
    "def is_sorted(l):\n",
    "    if l == sorted(l) :\n",
    "        return \"list is sorted\"\n",
    "    else :\n",
    "        return \"list is not sorted\""
   ]
  },
  {
   "cell_type": "code",
   "execution_count": 6,
   "id": "cbefc034-cd3f-4a6b-8215-ca7c7927320d",
   "metadata": {},
   "outputs": [
    {
     "data": {
      "text/plain": [
       "'list is sorted'"
      ]
     },
     "execution_count": 6,
     "metadata": {},
     "output_type": "execute_result"
    }
   ],
   "source": [
    "is_sorted(l)"
   ]
  },
  {
   "cell_type": "code",
   "execution_count": 14,
   "id": "ae9f77c9-e671-4d24-8798-ce134aab9dd3",
   "metadata": {},
   "outputs": [],
   "source": [
    "def sorted_list(l):\n",
    "    for i in range(1,len(l)) :\n",
    "        if l[i-1] > l[i] :\n",
    "            return \"list is not sorted\"\n",
    "        else :\n",
    "            return \"list is sorted\""
   ]
  },
  {
   "cell_type": "code",
   "execution_count": 20,
   "id": "4c078b6d-9071-483a-a12e-87ee4746e0a7",
   "metadata": {},
   "outputs": [
    {
     "data": {
      "text/plain": [
       "'list is not sorted'"
      ]
     },
     "execution_count": 20,
     "metadata": {},
     "output_type": "execute_result"
    }
   ],
   "source": [
    "l3 = [8,7,3,2,4,5,9]\n",
    "sorted_list(l3)"
   ]
  },
  {
   "cell_type": "code",
   "execution_count": null,
   "id": "fb28e6b6-06e2-45b2-822e-ab7d071b07c5",
   "metadata": {},
   "outputs": [],
   "source": []
  },
  {
   "cell_type": "code",
   "execution_count": 9,
   "id": "ffa00a88-3cae-4eb4-9db6-6bbaa5a87d78",
   "metadata": {},
   "outputs": [],
   "source": [
    "# 31"
   ]
  },
  {
   "cell_type": "code",
   "execution_count": 2,
   "id": "415c8e43-132d-48a6-afce-340aee6ac70f",
   "metadata": {},
   "outputs": [],
   "source": [
    "def rotate_list(lst,n):\n",
    "    n = n%len(lst)\n",
    "    rotated_lst = lst[n:] + lst[:n]\n",
    "    return rotated_lst"
   ]
  },
  {
   "cell_type": "code",
   "execution_count": 7,
   "id": "9d14ae8e-d245-4952-909a-ef52250ecccd",
   "metadata": {},
   "outputs": [
    {
     "data": {
      "text/plain": [
       "[4, 5, 6, 7, 2, 3]"
      ]
     },
     "execution_count": 7,
     "metadata": {},
     "output_type": "execute_result"
    }
   ],
   "source": [
    "lst = [2,3,4,5,6,7]\n",
    "n = 2\n",
    "rotate_list(lst,n)"
   ]
  },
  {
   "cell_type": "code",
   "execution_count": null,
   "id": "e735fbb9-09c8-4fca-ae23-53373460a74d",
   "metadata": {},
   "outputs": [],
   "source": []
  },
  {
   "cell_type": "code",
   "execution_count": 4,
   "id": "32b64b4d-e83a-4e8e-848c-0c6f59340618",
   "metadata": {},
   "outputs": [],
   "source": [
    "# 32"
   ]
  },
  {
   "cell_type": "code",
   "execution_count": 25,
   "id": "b7e9e09a-5ebe-4984-ba8a-9420667f9538",
   "metadata": {},
   "outputs": [],
   "source": [
    "def rotate_right(lst,n):\n",
    "    n = n%len(lst)\n",
    "    rotated_right =lst[-n:] + lst[:-n]\n",
    "    return rotated_right"
   ]
  },
  {
   "cell_type": "code",
   "execution_count": 32,
   "id": "b5878c78-1a35-4391-8c13-3b5617148137",
   "metadata": {},
   "outputs": [
    {
     "data": {
      "text/plain": [
       "[5, 6, 7, 2, 3, 4]"
      ]
     },
     "execution_count": 32,
     "metadata": {},
     "output_type": "execute_result"
    }
   ],
   "source": [
    "lst = [2,3,4,5,6,7]\n",
    "n = 3\n",
    "rotate_right(lst,n)"
   ]
  },
  {
   "cell_type": "code",
   "execution_count": null,
   "id": "ec1e9ebb-f754-4b2d-8fae-ccee1fa0c47d",
   "metadata": {},
   "outputs": [],
   "source": []
  },
  {
   "cell_type": "code",
   "execution_count": 33,
   "id": "0f459d6c-6ae9-44c2-afca-145374b3860a",
   "metadata": {},
   "outputs": [],
   "source": [
    "# 33"
   ]
  },
  {
   "cell_type": "code",
   "execution_count": 1,
   "id": "beadb2a7-386e-4aa3-8762-f8c105dc7e8b",
   "metadata": {},
   "outputs": [
    {
     "name": "stdout",
     "output_type": "stream",
     "text": [
      "[2, 3, 5, 7, 11, 13, 17, 19, 23, 29, 31, 37, 41, 43, 47]\n"
     ]
    }
   ],
   "source": [
    "def is_prime(num):\n",
    "    if num <=1:\n",
    "        return False\n",
    "    if num <= 3:\n",
    "        return True\n",
    "    if num % 2 == 0 or num % 3 == 0 :\n",
    "        return False\n",
    "    i = 5\n",
    "    while i * i <= num :\n",
    "        if num % i == 0 or num % (i+2) == 0:\n",
    "            return False \n",
    "        i += 6\n",
    "    return True\n",
    "\n",
    "prime_number = [num for num in range(2,51) if is_prime(num)]\n",
    "print(prime_number)"
   ]
  },
  {
   "cell_type": "code",
   "execution_count": null,
   "id": "c7c92a4a-1a61-4304-a325-f950c62a70b0",
   "metadata": {},
   "outputs": [],
   "source": []
  },
  {
   "cell_type": "code",
   "execution_count": 1,
   "id": "aaa68c3e-0214-45bb-9fda-ec9fb7ce503d",
   "metadata": {},
   "outputs": [],
   "source": [
    "# 34"
   ]
  },
  {
   "cell_type": "code",
   "execution_count": 23,
   "id": "717c4324-f388-4a05-96f8-2c9649ff7c95",
   "metadata": {},
   "outputs": [],
   "source": [
    "def chunks(lst,n):\n",
    "    return [lst[i:i + n] for i in range(0, len(lst), n)]"
   ]
  },
  {
   "cell_type": "code",
   "execution_count": 26,
   "id": "94a7e4ed-ab86-4d17-830d-0b95c30ba3f3",
   "metadata": {},
   "outputs": [
    {
     "data": {
      "text/plain": [
       "[[1, 2], [3, 4], [5, 6], [7, 8], [9]]"
      ]
     },
     "execution_count": 26,
     "metadata": {},
     "output_type": "execute_result"
    }
   ],
   "source": [
    "my_list = [1, 2, 3, 4, 5, 6, 7, 8, 9]\n",
    "size = 2\n",
    "chunks(my_list,size)"
   ]
  },
  {
   "cell_type": "code",
   "execution_count": null,
   "id": "b76f6910-0a77-448a-b538-4015a9b2b04d",
   "metadata": {},
   "outputs": [],
   "source": []
  },
  {
   "cell_type": "code",
   "execution_count": 27,
   "id": "d6644665-a151-4d08-b3b3-46c9d467d3bb",
   "metadata": {},
   "outputs": [],
   "source": [
    "# 35"
   ]
  },
  {
   "cell_type": "code",
   "execution_count": 151,
   "id": "89ae1582-9c7a-4218-9089-622c14373b06",
   "metadata": {},
   "outputs": [],
   "source": [
    "def second_large(l):\n",
    "    if len(l) < 2:\n",
    "        return l\n",
    "    elif len(l) == 2:\n",
    "        l.sort(reverse = False)\n",
    "        return l[0]\n",
    "    else :\n",
    "        l.sort()\n",
    "        return l[-2] \n"
   ]
  },
  {
   "cell_type": "code",
   "execution_count": 159,
   "id": "c3cce157-035c-42f6-b708-80e203bb2dd0",
   "metadata": {},
   "outputs": [
    {
     "data": {
      "text/plain": [
       "45"
      ]
     },
     "execution_count": 159,
     "metadata": {},
     "output_type": "execute_result"
    }
   ],
   "source": [
    "l = [12,44,48,29,34,45,22]\n",
    "second_large(l)\n"
   ]
  },
  {
   "cell_type": "code",
   "execution_count": null,
   "id": "ff1fc6df-13b6-488c-91ad-62e79a9a1370",
   "metadata": {},
   "outputs": [],
   "source": []
  },
  {
   "cell_type": "code",
   "execution_count": 160,
   "id": "8824b5da-adb1-4f0e-96e2-f5e77569810c",
   "metadata": {},
   "outputs": [],
   "source": [
    "# 36"
   ]
  },
  {
   "cell_type": "code",
   "execution_count": 186,
   "id": "587b9c85-6c08-43dd-a2c4-3945d3d3546a",
   "metadata": {},
   "outputs": [],
   "source": [
    "def sq_replace(lst):\n",
    "    sq_list = []\n",
    "    for i in lst:\n",
    "        sq = i ** 2\n",
    "        sq_list.append(sq)\n",
    "    return sq_list\n",
    "        "
   ]
  },
  {
   "cell_type": "code",
   "execution_count": 187,
   "id": "03a500cc-2e77-496a-9e1f-5a4132f068aa",
   "metadata": {},
   "outputs": [
    {
     "data": {
      "text/plain": [
       "[4, 25, 36, 16, 49, 81]"
      ]
     },
     "execution_count": 187,
     "metadata": {},
     "output_type": "execute_result"
    }
   ],
   "source": [
    "num = [2,5,6,4,7,9]\n",
    "sq_replace(num)"
   ]
  },
  {
   "cell_type": "code",
   "execution_count": null,
   "id": "eeadf80d-f213-435b-9da3-d5530c334bf6",
   "metadata": {},
   "outputs": [],
   "source": []
  },
  {
   "cell_type": "code",
   "execution_count": 179,
   "id": "bd514205-1a3d-4ca4-93ac-114ec7083db7",
   "metadata": {},
   "outputs": [],
   "source": [
    "# 37"
   ]
  },
  {
   "cell_type": "code",
   "execution_count": 12,
   "id": "9c671fb8-c673-4817-bab2-2bbfca92c1dd",
   "metadata": {},
   "outputs": [],
   "source": [
    "fruit_lst = [\"apple\",\"banana\",\"orange\",\"lemon\"]\n",
    "def list_to_dict(input_list):\n",
    "    return {element:index for index,element in enumerate(input_list)}\n"
   ]
  },
  {
   "cell_type": "code",
   "execution_count": 13,
   "id": "c70781f1-4b72-4118-a69a-d05aca491968",
   "metadata": {},
   "outputs": [
    {
     "data": {
      "text/plain": [
       "{'apple': 0, 'banana': 1, 'orange': 2, 'lemon': 3}"
      ]
     },
     "execution_count": 13,
     "metadata": {},
     "output_type": "execute_result"
    }
   ],
   "source": [
    "list_to_dict(fruit_lst)"
   ]
  },
  {
   "cell_type": "code",
   "execution_count": null,
   "id": "765a05a1-3587-459d-8463-00913751e942",
   "metadata": {},
   "outputs": [],
   "source": []
  },
  {
   "cell_type": "code",
   "execution_count": 14,
   "id": "2369f48b-e01d-43e3-a42e-721f478d3e7f",
   "metadata": {},
   "outputs": [],
   "source": [
    "# 38"
   ]
  },
  {
   "cell_type": "code",
   "execution_count": 4,
   "id": "0ff950db-2cb0-44ee-a529-d110bf415bc1",
   "metadata": {},
   "outputs": [
    {
     "name": "stdout",
     "output_type": "stream",
     "text": [
      "[2, 1, 9, 5, 6, 8, 3, 4, 7]\n"
     ]
    }
   ],
   "source": [
    "import random \n",
    "\n",
    "l = [1,2,3,4,5,6,7,8,9]\n",
    "random.shuffle(l)\n",
    "print(l)"
   ]
  },
  {
   "cell_type": "code",
   "execution_count": null,
   "id": "57bab329-a282-4cc8-9f97-ba06fc84bd1c",
   "metadata": {},
   "outputs": [],
   "source": []
  },
  {
   "cell_type": "code",
   "execution_count": 5,
   "id": "235a3646-352a-4993-8602-27b09f23452e",
   "metadata": {},
   "outputs": [],
   "source": [
    "# 39"
   ]
  },
  {
   "cell_type": "code",
   "execution_count": 24,
   "id": "30930267-40f9-428e-82f1-28d8e3f08a12",
   "metadata": {},
   "outputs": [],
   "source": [
    "def factorial(n) :\n",
    "    if n == 0 or n == 1:\n",
    "        return 1\n",
    "    else :\n",
    "        return n * factorial(n-1) \n",
    "\n",
    "factorial_list = [factorial(i) for i in range(10)]"
   ]
  },
  {
   "cell_type": "code",
   "execution_count": 25,
   "id": "89518c9c-df9a-4dfc-b97e-e5d23b54ede4",
   "metadata": {},
   "outputs": [
    {
     "data": {
      "text/plain": [
       "[1, 1, 2, 6, 24, 120, 720, 5040, 40320, 362880]"
      ]
     },
     "execution_count": 25,
     "metadata": {},
     "output_type": "execute_result"
    }
   ],
   "source": [
    "factorial_list"
   ]
  },
  {
   "cell_type": "code",
   "execution_count": null,
   "id": "ed7d6adb-3e11-42ac-8981-e925271e89f0",
   "metadata": {},
   "outputs": [],
   "source": []
  },
  {
   "cell_type": "code",
   "execution_count": 26,
   "id": "afb3faca-0d3e-4ca2-b135-637f9deaa75b",
   "metadata": {},
   "outputs": [],
   "source": [
    "# 40"
   ]
  },
  {
   "cell_type": "code",
   "execution_count": 3,
   "id": "01e1dbfd-5910-4b1e-bd10-56c0fdf9bab9",
   "metadata": {},
   "outputs": [],
   "source": [
    "def common_element(l1,l2):\n",
    "    for i in l1 :\n",
    "        if i in l2 :\n",
    "            return \"Yes\" \n",
    "    return \"No\""
   ]
  },
  {
   "cell_type": "code",
   "execution_count": 4,
   "id": "fc4758d9-cf8d-47a0-bcb3-897d4e2ccdf7",
   "metadata": {},
   "outputs": [
    {
     "data": {
      "text/plain": [
       "'Yes'"
      ]
     },
     "execution_count": 4,
     "metadata": {},
     "output_type": "execute_result"
    }
   ],
   "source": [
    "l1 = [1,2,3,4,5]\n",
    "l2 = [5,6,7,8,9]\n",
    "common_element(l1,l2)"
   ]
  },
  {
   "cell_type": "code",
   "execution_count": null,
   "id": "55d1e246-bb2c-44b2-941b-a2b295b669b6",
   "metadata": {},
   "outputs": [],
   "source": []
  },
  {
   "cell_type": "code",
   "execution_count": 5,
   "id": "66bb2da3-5404-41cc-9158-6f9fc7511c76",
   "metadata": {},
   "outputs": [],
   "source": [
    "# 41"
   ]
  },
  {
   "cell_type": "code",
   "execution_count": 6,
   "id": "07b04b93-af98-4d3c-850c-2c683366ef47",
   "metadata": {},
   "outputs": [
    {
     "data": {
      "text/plain": [
       "[1, 2, 3, 4, 5]"
      ]
     },
     "execution_count": 6,
     "metadata": {},
     "output_type": "execute_result"
    }
   ],
   "source": [
    "l1"
   ]
  },
  {
   "cell_type": "code",
   "execution_count": 7,
   "id": "c4ce241e-72f3-495c-aa16-e82dc96f573f",
   "metadata": {},
   "outputs": [
    {
     "name": "stdout",
     "output_type": "stream",
     "text": [
      "[]\n"
     ]
    }
   ],
   "source": [
    "l1.clear()\n",
    "print(l1)"
   ]
  },
  {
   "cell_type": "code",
   "execution_count": null,
   "id": "e6e428fe-f2d1-4ba9-9f3c-ca94de8eb5d6",
   "metadata": {},
   "outputs": [],
   "source": []
  },
  {
   "cell_type": "code",
   "execution_count": 8,
   "id": "7fc88b0e-e0af-4b21-884a-f038d32b6328",
   "metadata": {},
   "outputs": [],
   "source": [
    "# 42"
   ]
  },
  {
   "cell_type": "code",
   "execution_count": 41,
   "id": "ef7943a6-54cc-4d6f-ba75-3f935843da25",
   "metadata": {},
   "outputs": [],
   "source": [
    "l = [2,-3,4,-5,6]\n",
    "for i in range(len(l)):\n",
    "    if l[i] < 0:\n",
    "        l[i] = 0"
   ]
  },
  {
   "cell_type": "code",
   "execution_count": 42,
   "id": "9d47c4bb-47f8-4b01-b731-59d5edc8c7b7",
   "metadata": {},
   "outputs": [
    {
     "data": {
      "text/plain": [
       "[2, 0, 4, 0, 6]"
      ]
     },
     "execution_count": 42,
     "metadata": {},
     "output_type": "execute_result"
    }
   ],
   "source": [
    "l"
   ]
  },
  {
   "cell_type": "code",
   "execution_count": null,
   "id": "d02654a1-b609-4e9c-b8d7-c5b675e63cef",
   "metadata": {},
   "outputs": [],
   "source": []
  },
  {
   "cell_type": "code",
   "execution_count": 46,
   "id": "d7afac69-ac36-49c9-b7ce-992709f4ad4f",
   "metadata": {},
   "outputs": [],
   "source": [
    "# 43"
   ]
  },
  {
   "cell_type": "code",
   "execution_count": 58,
   "id": "e960bea2-2f48-447e-a528-16ad82f31f2f",
   "metadata": {},
   "outputs": [
    {
     "data": {
      "text/plain": [
       "['Convert', 'a', 'string', 'into', 'a', 'list', 'of', 'words']"
      ]
     },
     "execution_count": 58,
     "metadata": {},
     "output_type": "execute_result"
    }
   ],
   "source": [
    "string = \"Convert a string into a list of words\"\n",
    "string.split(\" \")"
   ]
  },
  {
   "cell_type": "code",
   "execution_count": null,
   "id": "99f24905-d369-4bd3-af5e-9256fe5b413b",
   "metadata": {},
   "outputs": [],
   "source": []
  },
  {
   "cell_type": "code",
   "execution_count": 59,
   "id": "2673c0fc-ac56-4fa9-a46e-1c236bf81983",
   "metadata": {},
   "outputs": [],
   "source": [
    "# 44"
   ]
  },
  {
   "cell_type": "code",
   "execution_count": 65,
   "id": "25c1c9d9-c455-430f-bd0d-6585d93f8781",
   "metadata": {},
   "outputs": [
    {
     "data": {
      "text/plain": [
       "'Convert a string into a list of wor'"
      ]
     },
     "execution_count": 65,
     "metadata": {},
     "output_type": "execute_result"
    }
   ],
   "source": [
    "word_list = ['Convert', 'a', 'string', 'into', 'a', 'list', 'of', 'wor']\n",
    "\" \".join(word_list)"
   ]
  },
  {
   "cell_type": "code",
   "execution_count": null,
   "id": "45bd6ee5-2c11-46b5-8fb3-4465a87bca1b",
   "metadata": {},
   "outputs": [],
   "source": []
  },
  {
   "cell_type": "code",
   "execution_count": null,
   "id": "8ce06ca6-64a7-401d-bcc3-fde2fc78183e",
   "metadata": {},
   "outputs": [],
   "source": [
    "# 45"
   ]
  },
  {
   "cell_type": "code",
   "execution_count": 7,
   "id": "16a7caee-cdf9-4427-9237-2c74e696b501",
   "metadata": {},
   "outputs": [
    {
     "data": {
      "text/plain": [
       "[1, 2, 4, 8, 16, 32]"
      ]
     },
     "execution_count": 7,
     "metadata": {},
     "output_type": "execute_result"
    }
   ],
   "source": [
    "n = 6\n",
    "[2**i for i in range(n)]"
   ]
  },
  {
   "cell_type": "code",
   "execution_count": null,
   "id": "f973bb01-3eac-41f4-89fe-249ac3fc71d1",
   "metadata": {},
   "outputs": [],
   "source": []
  },
  {
   "cell_type": "code",
   "execution_count": 8,
   "id": "9b79f794-b5cd-41b6-9f6b-1bd2cab27a0f",
   "metadata": {},
   "outputs": [],
   "source": [
    "# 46"
   ]
  },
  {
   "cell_type": "code",
   "execution_count": 38,
   "id": "5fbb78b9-ad4d-41c8-a842-d85e9b9829cb",
   "metadata": {},
   "outputs": [
    {
     "name": "stdout",
     "output_type": "stream",
     "text": [
      "Elephant\n"
     ]
    }
   ],
   "source": [
    "string_list = [\"Tiger\",\"Lion\",\"Elephant\",\"Deer\",\"Rabbit\"]\n",
    "max_len = 0\n",
    "longest = \"\"\n",
    "for i in string_list:\n",
    "    if len(i) > max_len:\n",
    "        max_len = len(i)\n",
    "        longest = i\n",
    "print(longest)"
   ]
  },
  {
   "cell_type": "code",
   "execution_count": null,
   "id": "d84faf7b-fbb3-4e27-967d-57ced2fd56c9",
   "metadata": {},
   "outputs": [],
   "source": []
  },
  {
   "cell_type": "code",
   "execution_count": 41,
   "id": "7f98d33a-becc-4727-b274-3478c2871b8e",
   "metadata": {},
   "outputs": [],
   "source": [
    "# 47"
   ]
  },
  {
   "cell_type": "code",
   "execution_count": 11,
   "id": "f12e062d-5b0f-4d3a-b2ff-a98e5965f2e2",
   "metadata": {},
   "outputs": [
    {
     "name": "stdout",
     "output_type": "stream",
     "text": [
      "Lion\n"
     ]
    }
   ],
   "source": [
    "string_list = [\"Tiger\",\"Lion\",\"Elephant\",\"Deer\",\"Rabbit\"]\n",
    "shortest = string_list[0]\n",
    "for i in string_list:\n",
    "    if len(i) < len(shortest):\n",
    "        shortest = i\n",
    "print(shortest)"
   ]
  },
  {
   "cell_type": "code",
   "execution_count": null,
   "id": "1da530ac-c8a2-4475-91c3-717a73f5bff9",
   "metadata": {},
   "outputs": [],
   "source": []
  },
  {
   "cell_type": "code",
   "execution_count": 1,
   "id": "6c67a1dd-1b41-462a-abdd-b15cf70baa8c",
   "metadata": {},
   "outputs": [],
   "source": [
    "# 48"
   ]
  },
  {
   "cell_type": "code",
   "execution_count": 1,
   "id": "e0c69337-9f46-4ec2-8558-28d8328e1c9d",
   "metadata": {},
   "outputs": [],
   "source": [
    "def triangular_number(n):\n",
    "    return [i * (i + 1) // 2 for i in range(1,n+1)]\n"
   ]
  },
  {
   "cell_type": "code",
   "execution_count": 2,
   "id": "ea81b498-5b08-4b67-a64e-4e2b1384ba99",
   "metadata": {},
   "outputs": [
    {
     "data": {
      "text/plain": [
       "[1, 3, 6, 10, 15]"
      ]
     },
     "execution_count": 2,
     "metadata": {},
     "output_type": "execute_result"
    }
   ],
   "source": [
    "triangular_number(5)"
   ]
  },
  {
   "cell_type": "code",
   "execution_count": null,
   "id": "e0474c1a-50ea-47c3-bfa7-025a39a72103",
   "metadata": {},
   "outputs": [],
   "source": []
  },
  {
   "cell_type": "code",
   "execution_count": 3,
   "id": "d4e960a7-1aef-4951-9e23-395fe98fb744",
   "metadata": {},
   "outputs": [],
   "source": [
    "# 49"
   ]
  },
  {
   "cell_type": "code",
   "execution_count": 4,
   "id": "28eabc7d-625d-4e79-b8c3-283e607320ca",
   "metadata": {},
   "outputs": [],
   "source": [
    "def is_subsequence(subsequence,main_list):\n",
    "    subseq_index = 0\n",
    "    for element in main_list:\n",
    "        if element == subsequence[subseq_index]:\n",
    "            subseq_index += 1\n",
    "            if subseq_index == len(subsequence):\n",
    "                return \"yes\"\n",
    "    return \"no\"\n"
   ]
  },
  {
   "cell_type": "code",
   "execution_count": 11,
   "id": "da54e984-eea3-4a95-90d9-ffcff9e4fe84",
   "metadata": {},
   "outputs": [
    {
     "data": {
      "text/plain": [
       "'yes'"
      ]
     },
     "execution_count": 11,
     "metadata": {},
     "output_type": "execute_result"
    }
   ],
   "source": [
    "main_list = [1,2,3,4,5,6,7,8,9,10]\n",
    "subsequence = [2,4,8]\n",
    "is_subsequence(subsequence,main_list)\n"
   ]
  },
  {
   "cell_type": "code",
   "execution_count": null,
   "id": "013134e9-f251-4364-8568-cf206883f244",
   "metadata": {},
   "outputs": [],
   "source": []
  },
  {
   "cell_type": "code",
   "execution_count": 12,
   "id": "38ceda36-c004-4382-a96b-9b8401d7febb",
   "metadata": {},
   "outputs": [],
   "source": [
    "# 50"
   ]
  },
  {
   "cell_type": "code",
   "execution_count": 14,
   "id": "35f1237b-4f94-4af1-ab27-c5246bbc85a2",
   "metadata": {},
   "outputs": [
    {
     "data": {
      "text/plain": [
       "[4, 2, 3, 1, 5]"
      ]
     },
     "execution_count": 14,
     "metadata": {},
     "output_type": "execute_result"
    }
   ],
   "source": [
    "l1 = [1,2,3,4,5]\n",
    "index = 0\n",
    "index1 = 3\n",
    "temp = l1[index]\n",
    "l1[index] = l1[index1]\n",
    "l1[index1] = temp\n",
    "l1"
   ]
  },
  {
   "cell_type": "code",
   "execution_count": null,
   "id": "a893eff1-3ce1-465d-adb2-845047817e5e",
   "metadata": {},
   "outputs": [],
   "source": []
  },
  {
   "cell_type": "markdown",
   "id": "2c7b0ae1-ab6d-4417-a33b-8cf4b98940aa",
   "metadata": {},
   "source": [
    "Tuple Based Practice Problem"
   ]
  },
  {
   "cell_type": "code",
   "execution_count": 1,
   "id": "e2a94aa6-7fb6-4676-aeda-98e919b58b62",
   "metadata": {},
   "outputs": [],
   "source": [
    "# 1"
   ]
  },
  {
   "cell_type": "code",
   "execution_count": 5,
   "id": "e5143261-eff7-4764-bb51-de74e2dd01bd",
   "metadata": {},
   "outputs": [],
   "source": [
    "t = (1,2,3,4,5)"
   ]
  },
  {
   "cell_type": "code",
   "execution_count": null,
   "id": "701f8c67-5da1-4ea5-aee3-5a40ff3ea7d7",
   "metadata": {},
   "outputs": [],
   "source": []
  },
  {
   "cell_type": "code",
   "execution_count": 4,
   "id": "45ea98ef-ed7f-488c-b0e8-11a544e49971",
   "metadata": {},
   "outputs": [],
   "source": [
    "# 2"
   ]
  },
  {
   "cell_type": "code",
   "execution_count": 6,
   "id": "020d114a-14d7-401f-8bcb-48bfa2d02c5b",
   "metadata": {},
   "outputs": [
    {
     "data": {
      "text/plain": [
       "(1, 2, 3, 4, 5)"
      ]
     },
     "execution_count": 6,
     "metadata": {},
     "output_type": "execute_result"
    }
   ],
   "source": [
    "t"
   ]
  },
  {
   "cell_type": "code",
   "execution_count": 37,
   "id": "983b9273-2e82-4f0c-804f-32088b199ddd",
   "metadata": {},
   "outputs": [
    {
     "data": {
      "text/plain": [
       "3"
      ]
     },
     "execution_count": 37,
     "metadata": {},
     "output_type": "execute_result"
    }
   ],
   "source": [
    "t[2]"
   ]
  },
  {
   "cell_type": "code",
   "execution_count": null,
   "id": "8dc8da52-5cda-4ce4-a92a-d66c5635fa1f",
   "metadata": {},
   "outputs": [],
   "source": []
  },
  {
   "cell_type": "code",
   "execution_count": 8,
   "id": "b344f788-525f-487f-a215-21b8019542dd",
   "metadata": {},
   "outputs": [],
   "source": [
    "# 3"
   ]
  },
  {
   "cell_type": "code",
   "execution_count": 9,
   "id": "a10119a6-e157-49f6-b426-4961a69e7b8e",
   "metadata": {},
   "outputs": [
    {
     "data": {
      "text/plain": [
       "(1, 2, 3, 4, 5)"
      ]
     },
     "execution_count": 9,
     "metadata": {},
     "output_type": "execute_result"
    }
   ],
   "source": [
    "t"
   ]
  },
  {
   "cell_type": "code",
   "execution_count": 11,
   "id": "8b4174a1-d4b3-4976-a7b6-f628a362afcb",
   "metadata": {},
   "outputs": [],
   "source": [
    "def tuple_len(t):\n",
    "    count = 0\n",
    "    for ele in t:\n",
    "        count += 1\n",
    "    return count"
   ]
  },
  {
   "cell_type": "code",
   "execution_count": 12,
   "id": "3efa6413-cb21-4bf8-ae29-259988cc62f2",
   "metadata": {},
   "outputs": [
    {
     "data": {
      "text/plain": [
       "5"
      ]
     },
     "execution_count": 12,
     "metadata": {},
     "output_type": "execute_result"
    }
   ],
   "source": [
    "tuple_len(t)"
   ]
  },
  {
   "cell_type": "code",
   "execution_count": null,
   "id": "a5a87fb7-3182-40eb-8974-8a8a8e4b4d42",
   "metadata": {},
   "outputs": [],
   "source": []
  },
  {
   "cell_type": "code",
   "execution_count": 13,
   "id": "1136e139-5a39-4be4-8199-cce6c55d3364",
   "metadata": {},
   "outputs": [],
   "source": [
    "# 4"
   ]
  },
  {
   "cell_type": "code",
   "execution_count": 15,
   "id": "4b248f78-78ae-4a02-b691-e4f997f64095",
   "metadata": {},
   "outputs": [
    {
     "data": {
      "text/plain": [
       "3"
      ]
     },
     "execution_count": 15,
     "metadata": {},
     "output_type": "execute_result"
    }
   ],
   "source": [
    "tupl = (2,3,4,5,6,4,7,8,4)\n",
    "tupl.count(4)"
   ]
  },
  {
   "cell_type": "code",
   "execution_count": null,
   "id": "2bb4b52f-a704-49fa-b9a1-8f8420e5f34c",
   "metadata": {},
   "outputs": [],
   "source": []
  },
  {
   "cell_type": "code",
   "execution_count": 16,
   "id": "7172ea0d-0074-418e-92ec-be66fa23dc72",
   "metadata": {},
   "outputs": [],
   "source": [
    "# 5"
   ]
  },
  {
   "cell_type": "code",
   "execution_count": 17,
   "id": "992b6224-e6c3-47e6-bd52-8e16c1784415",
   "metadata": {},
   "outputs": [
    {
     "data": {
      "text/plain": [
       "(2, 3, 4, 5, 6, 4, 7, 8, 4)"
      ]
     },
     "execution_count": 17,
     "metadata": {},
     "output_type": "execute_result"
    }
   ],
   "source": [
    "tupl"
   ]
  },
  {
   "cell_type": "code",
   "execution_count": 18,
   "id": "e3efeedd-1ba7-4565-83bb-10da963af0e6",
   "metadata": {},
   "outputs": [
    {
     "data": {
      "text/plain": [
       "2"
      ]
     },
     "execution_count": 18,
     "metadata": {},
     "output_type": "execute_result"
    }
   ],
   "source": [
    "tupl.index(4)"
   ]
  },
  {
   "cell_type": "code",
   "execution_count": null,
   "id": "e29ae902-2fcc-4751-99d5-22b0c48e6565",
   "metadata": {},
   "outputs": [],
   "source": []
  },
  {
   "cell_type": "code",
   "execution_count": 19,
   "id": "00711e3f-bef0-4dd6-82b1-47c9e1d635a2",
   "metadata": {},
   "outputs": [],
   "source": [
    "# 6"
   ]
  },
  {
   "cell_type": "code",
   "execution_count": 38,
   "id": "2cbfda60-be48-4b96-b52e-d5000831d1b2",
   "metadata": {},
   "outputs": [
    {
     "name": "stdout",
     "output_type": "stream",
     "text": [
      "yes\n"
     ]
    }
   ],
   "source": [
    "t1 = (2,3,4,5,6,7)\n",
    "if 4 in t1:\n",
    "    print(\"yes\")\n",
    "else:\n",
    "    print(\"no\")"
   ]
  },
  {
   "cell_type": "code",
   "execution_count": null,
   "id": "a4f49ac2-dc4e-4f01-bd4f-bf15d7663c69",
   "metadata": {},
   "outputs": [],
   "source": []
  },
  {
   "cell_type": "code",
   "execution_count": 39,
   "id": "cee19994-66c4-4df1-944d-5eb6d3d7db76",
   "metadata": {},
   "outputs": [],
   "source": [
    "# 7"
   ]
  },
  {
   "cell_type": "code",
   "execution_count": 40,
   "id": "0b96a814-0466-43b5-bac7-f5940465e116",
   "metadata": {},
   "outputs": [
    {
     "data": {
      "text/plain": [
       "(2, 3, 4, 5, 6, 7)"
      ]
     },
     "execution_count": 40,
     "metadata": {},
     "output_type": "execute_result"
    }
   ],
   "source": [
    "t1"
   ]
  },
  {
   "cell_type": "code",
   "execution_count": 42,
   "id": "4dbf0076-6e0f-4252-80f8-3d37e4921798",
   "metadata": {},
   "outputs": [],
   "source": [
    "l1 = list(t1)"
   ]
  },
  {
   "cell_type": "code",
   "execution_count": 43,
   "id": "1569cdb5-6ad7-4013-b6fa-8430bbec4dfc",
   "metadata": {},
   "outputs": [
    {
     "data": {
      "text/plain": [
       "[2, 3, 4, 5, 6, 7]"
      ]
     },
     "execution_count": 43,
     "metadata": {},
     "output_type": "execute_result"
    }
   ],
   "source": [
    "l1"
   ]
  },
  {
   "cell_type": "code",
   "execution_count": null,
   "id": "5d711ef5-37b2-46d2-b470-d1b639772c23",
   "metadata": {},
   "outputs": [],
   "source": []
  },
  {
   "cell_type": "code",
   "execution_count": 44,
   "id": "6e2e39ed-70dd-4afd-bc1f-512f3d2a05d3",
   "metadata": {},
   "outputs": [],
   "source": [
    "# 8"
   ]
  },
  {
   "cell_type": "code",
   "execution_count": 45,
   "id": "421df8c7-5f5a-4b8e-88df-e57181e7d7cb",
   "metadata": {},
   "outputs": [
    {
     "data": {
      "text/plain": [
       "[2, 3, 4, 5, 6, 7]"
      ]
     },
     "execution_count": 45,
     "metadata": {},
     "output_type": "execute_result"
    }
   ],
   "source": [
    "l1"
   ]
  },
  {
   "cell_type": "code",
   "execution_count": 46,
   "id": "17a9bab6-2ace-48f3-92d7-da4a668d8380",
   "metadata": {},
   "outputs": [],
   "source": [
    "t2 = tuple(l1)"
   ]
  },
  {
   "cell_type": "code",
   "execution_count": 47,
   "id": "bc9ba2ad-ae3f-4ec1-a0ab-d8358b6274e2",
   "metadata": {},
   "outputs": [
    {
     "data": {
      "text/plain": [
       "(2, 3, 4, 5, 6, 7)"
      ]
     },
     "execution_count": 47,
     "metadata": {},
     "output_type": "execute_result"
    }
   ],
   "source": [
    "t2"
   ]
  },
  {
   "cell_type": "code",
   "execution_count": null,
   "id": "32e71bca-6c34-4437-91f6-c33b4b7f8156",
   "metadata": {},
   "outputs": [],
   "source": []
  },
  {
   "cell_type": "code",
   "execution_count": 48,
   "id": "973fad82-4149-4fd5-b6dd-7902fe7b5682",
   "metadata": {},
   "outputs": [],
   "source": [
    "# 9"
   ]
  },
  {
   "cell_type": "code",
   "execution_count": 50,
   "id": "9856154e-ce6e-45bb-8609-afc8def341a1",
   "metadata": {},
   "outputs": [],
   "source": [
    "t3 = (2,4,6)"
   ]
  },
  {
   "cell_type": "code",
   "execution_count": 51,
   "id": "7e4b03b9-3d0b-4bd3-b203-46821b8cc708",
   "metadata": {},
   "outputs": [],
   "source": [
    "v1,v2,v3 = t3"
   ]
  },
  {
   "cell_type": "code",
   "execution_count": null,
   "id": "85f02f46-6336-49a7-a6e0-4a0fe400ff08",
   "metadata": {},
   "outputs": [],
   "source": []
  },
  {
   "cell_type": "code",
   "execution_count": 53,
   "id": "f1636b90-d6b0-42a5-90c5-6d2b8104db7f",
   "metadata": {},
   "outputs": [],
   "source": [
    "# 10"
   ]
  },
  {
   "cell_type": "code",
   "execution_count": 2,
   "id": "546cecea-e145-4e38-856c-094eba547646",
   "metadata": {},
   "outputs": [],
   "source": [
    "even_tuple = tuple(range(2,11,2))"
   ]
  },
  {
   "cell_type": "code",
   "execution_count": 3,
   "id": "ce309893-0686-4c28-afa9-ab68112a20aa",
   "metadata": {},
   "outputs": [
    {
     "data": {
      "text/plain": [
       "(2, 4, 6, 8, 10)"
      ]
     },
     "execution_count": 3,
     "metadata": {},
     "output_type": "execute_result"
    }
   ],
   "source": [
    "even_tuple"
   ]
  },
  {
   "cell_type": "code",
   "execution_count": null,
   "id": "ffb0be93-86da-421e-9c1d-e14cbafb243b",
   "metadata": {},
   "outputs": [],
   "source": []
  },
  {
   "cell_type": "code",
   "execution_count": 4,
   "id": "1707e1dd-942b-4855-a0e0-511d48576603",
   "metadata": {},
   "outputs": [],
   "source": [
    "# 11"
   ]
  },
  {
   "cell_type": "code",
   "execution_count": 5,
   "id": "743182bc-bf55-43e9-838b-93c9d389327f",
   "metadata": {},
   "outputs": [],
   "source": [
    "odd_num = tuple(range(1,10,2))"
   ]
  },
  {
   "cell_type": "code",
   "execution_count": 6,
   "id": "0cbc6937-f010-4db8-bd21-bd3f9beb9726",
   "metadata": {},
   "outputs": [
    {
     "data": {
      "text/plain": [
       "(1, 3, 5, 7, 9)"
      ]
     },
     "execution_count": 6,
     "metadata": {},
     "output_type": "execute_result"
    }
   ],
   "source": [
    "odd_num"
   ]
  },
  {
   "cell_type": "code",
   "execution_count": null,
   "id": "01dbd64f-9174-41a8-8221-c0c17f3ebc30",
   "metadata": {},
   "outputs": [],
   "source": []
  },
  {
   "cell_type": "code",
   "execution_count": 7,
   "id": "10d47b68-b1a8-43df-b82e-1df2aa8c793e",
   "metadata": {},
   "outputs": [],
   "source": [
    "# 12"
   ]
  },
  {
   "cell_type": "code",
   "execution_count": 10,
   "id": "000721ce-394a-4043-b4ee-8723db68063d",
   "metadata": {},
   "outputs": [
    {
     "data": {
      "text/plain": [
       "(1, 2, 3, 4, 5, 6)"
      ]
     },
     "execution_count": 10,
     "metadata": {},
     "output_type": "execute_result"
    }
   ],
   "source": [
    "t1 = (1,2,3)\n",
    "t2 = (4,5,6)\n",
    "t3 = t1+t2\n",
    "t3"
   ]
  },
  {
   "cell_type": "code",
   "execution_count": null,
   "id": "5766ed63-de73-472f-b53c-6b812567c506",
   "metadata": {},
   "outputs": [],
   "source": []
  },
  {
   "cell_type": "code",
   "execution_count": 11,
   "id": "e966f101-5248-4c80-8f46-86457f6b8de3",
   "metadata": {},
   "outputs": [],
   "source": [
    "# 13"
   ]
  },
  {
   "cell_type": "code",
   "execution_count": 12,
   "id": "7b7b4a18-eedb-4b1a-9234-0da8538a14ee",
   "metadata": {},
   "outputs": [
    {
     "data": {
      "text/plain": [
       "(1, 2, 3)"
      ]
     },
     "execution_count": 12,
     "metadata": {},
     "output_type": "execute_result"
    }
   ],
   "source": [
    "t1"
   ]
  },
  {
   "cell_type": "code",
   "execution_count": 15,
   "id": "73880883-cfb3-4d08-b23a-4f9148099e63",
   "metadata": {},
   "outputs": [
    {
     "data": {
      "text/plain": [
       "(1, 2, 3, 1, 2, 3, 1, 2, 3)"
      ]
     },
     "execution_count": 15,
     "metadata": {},
     "output_type": "execute_result"
    }
   ],
   "source": [
    "t1*3"
   ]
  },
  {
   "cell_type": "code",
   "execution_count": null,
   "id": "a5494913-7c95-4672-a3ff-17783adc5ae8",
   "metadata": {},
   "outputs": [],
   "source": []
  },
  {
   "cell_type": "code",
   "execution_count": 16,
   "id": "1f39dc68-c5cf-47d0-b659-96be16191394",
   "metadata": {},
   "outputs": [],
   "source": [
    "# 14"
   ]
  },
  {
   "cell_type": "code",
   "execution_count": 19,
   "id": "3b6cf849-6a87-4524-9b93-ff2329db606f",
   "metadata": {},
   "outputs": [],
   "source": [
    "def check_empty(tupl):\n",
    "    if tupl == ():\n",
    "        print(\"This is a empty tuple\")\n",
    "    else:\n",
    "        print(\"This is not a empty tuple\")"
   ]
  },
  {
   "cell_type": "code",
   "execution_count": 20,
   "id": "99bf4fe2-ceac-43ea-98f8-84708c71d251",
   "metadata": {},
   "outputs": [
    {
     "name": "stdout",
     "output_type": "stream",
     "text": [
      "This is not a empty tuple\n"
     ]
    }
   ],
   "source": [
    "tpl = (1,2,3,4,5)\n",
    "check_empty(tpl)"
   ]
  },
  {
   "cell_type": "code",
   "execution_count": null,
   "id": "20df83e8-d5b0-46df-8762-0d3804a1faa3",
   "metadata": {},
   "outputs": [],
   "source": []
  },
  {
   "cell_type": "code",
   "execution_count": 21,
   "id": "fa779e1e-d32c-4b01-817b-daa296ac9a72",
   "metadata": {},
   "outputs": [],
   "source": [
    "# 15"
   ]
  },
  {
   "cell_type": "code",
   "execution_count": 30,
   "id": "12b20431-a4c6-497c-bfc7-fafd0a4a1a6b",
   "metadata": {},
   "outputs": [],
   "source": [
    "nested_tuple = (1,2,3,4,5,(1,2,3,4,5,6,7),(True,False))"
   ]
  },
  {
   "cell_type": "code",
   "execution_count": null,
   "id": "67f23acc-449e-47e5-b47f-c0b367750879",
   "metadata": {},
   "outputs": [],
   "source": []
  },
  {
   "cell_type": "code",
   "execution_count": 24,
   "id": "1c300bef-a8b0-4125-a4eb-896e0bb1428b",
   "metadata": {},
   "outputs": [],
   "source": [
    "# 16"
   ]
  },
  {
   "cell_type": "code",
   "execution_count": 31,
   "id": "4b553f2e-501e-4f9a-9df3-9e593df0415b",
   "metadata": {},
   "outputs": [
    {
     "data": {
      "text/plain": [
       "(1, 2, 3, 4, 5, (1, 2, 3, 4, 5, 6, 7), (True, False))"
      ]
     },
     "execution_count": 31,
     "metadata": {},
     "output_type": "execute_result"
    }
   ],
   "source": [
    "nested_tuple"
   ]
  },
  {
   "cell_type": "code",
   "execution_count": 33,
   "id": "8b69c1c6-2462-41f8-8d3f-af6c58d31eb1",
   "metadata": {},
   "outputs": [
    {
     "data": {
      "text/plain": [
       "(1, 2, 3, 4, 5, 6, 7)"
      ]
     },
     "execution_count": 33,
     "metadata": {},
     "output_type": "execute_result"
    }
   ],
   "source": [
    "nested_tuple[5]"
   ]
  },
  {
   "cell_type": "code",
   "execution_count": null,
   "id": "6c26da14-de01-44b6-bfa3-e4540826445f",
   "metadata": {},
   "outputs": [],
   "source": []
  },
  {
   "cell_type": "code",
   "execution_count": 34,
   "id": "b149259c-7e6b-4f8f-92be-8587fcf28eaf",
   "metadata": {},
   "outputs": [],
   "source": [
    "# 17"
   ]
  },
  {
   "cell_type": "code",
   "execution_count": 36,
   "id": "ef79c4dc-557c-4206-9e25-41187ae9317e",
   "metadata": {},
   "outputs": [],
   "source": [
    "sngl_ele_tup = (4,)"
   ]
  },
  {
   "cell_type": "code",
   "execution_count": null,
   "id": "b9600e15-f1a0-4fc7-8835-54e5ef6d202f",
   "metadata": {},
   "outputs": [],
   "source": []
  },
  {
   "cell_type": "code",
   "execution_count": 37,
   "id": "a1ed97db-fdb0-4af3-b263-d7ddc85d46c2",
   "metadata": {},
   "outputs": [],
   "source": [
    "# 18"
   ]
  },
  {
   "cell_type": "code",
   "execution_count": 38,
   "id": "6bfd6657-ddb7-4bd4-95b6-d1ec8f814324",
   "metadata": {},
   "outputs": [],
   "source": [
    "tuple1 = (1,2,3,4)\n",
    "tuple2 = (1,2,3,4,5)"
   ]
  },
  {
   "cell_type": "code",
   "execution_count": 41,
   "id": "14bd0abe-595a-4ac0-9dde-f02732021b4c",
   "metadata": {},
   "outputs": [
    {
     "name": "stdout",
     "output_type": "stream",
     "text": [
      "False\n",
      "True\n",
      "True\n",
      "False\n",
      "True\n",
      "False\n"
     ]
    }
   ],
   "source": [
    "print(tuple1 == tuple2)\n",
    "print(tuple1 != tuple2)\n",
    "print(tuple1 < tuple2)\n",
    "print(tuple1 > tuple2)\n",
    "print(tuple1 <= tuple2)\n",
    "print(tuple1 >= tuple2)\n"
   ]
  },
  {
   "cell_type": "code",
   "execution_count": null,
   "id": "11cb59c4-8882-45a7-ae04-c7242b4a2223",
   "metadata": {},
   "outputs": [],
   "source": []
  },
  {
   "cell_type": "code",
   "execution_count": 42,
   "id": "6cb735ca-2f4e-4aae-b135-12d192f046ed",
   "metadata": {},
   "outputs": [],
   "source": [
    "# 19"
   ]
  },
  {
   "cell_type": "code",
   "execution_count": 43,
   "id": "25d5729c-0307-49fb-ae4d-1a6d6282b1da",
   "metadata": {},
   "outputs": [
    {
     "data": {
      "text/plain": [
       "(1, 2, 3, 4)"
      ]
     },
     "execution_count": 43,
     "metadata": {},
     "output_type": "execute_result"
    }
   ],
   "source": [
    "tuple1"
   ]
  },
  {
   "cell_type": "code",
   "execution_count": 44,
   "id": "ddf8127c-8bb7-43b7-ae7f-5fd55874cea5",
   "metadata": {},
   "outputs": [],
   "source": [
    "del(tuple1)"
   ]
  },
  {
   "cell_type": "code",
   "execution_count": 45,
   "id": "ea77a62c-108d-468a-b8e4-faffd7d0313b",
   "metadata": {},
   "outputs": [
    {
     "ename": "NameError",
     "evalue": "name 'tuple1' is not defined",
     "output_type": "error",
     "traceback": [
      "\u001b[0;31m---------------------------------------------------------------------------\u001b[0m",
      "\u001b[0;31mNameError\u001b[0m                                 Traceback (most recent call last)",
      "Cell \u001b[0;32mIn[45], line 1\u001b[0m\n\u001b[0;32m----> 1\u001b[0m \u001b[43mtuple1\u001b[49m\n",
      "\u001b[0;31mNameError\u001b[0m: name 'tuple1' is not defined"
     ]
    }
   ],
   "source": [
    "tuple1"
   ]
  },
  {
   "cell_type": "code",
   "execution_count": null,
   "id": "5637df9c-e636-4b01-8fbd-42a23aaedde1",
   "metadata": {},
   "outputs": [],
   "source": []
  },
  {
   "cell_type": "code",
   "execution_count": 46,
   "id": "3a362e4b-f13e-493f-9baa-36f9abf52777",
   "metadata": {},
   "outputs": [],
   "source": [
    "# 20"
   ]
  },
  {
   "cell_type": "code",
   "execution_count": 47,
   "id": "2a05bef6-c7ba-40c5-bccf-5cb502764d16",
   "metadata": {},
   "outputs": [
    {
     "data": {
      "text/plain": [
       "(1, 2, 3, 4, 5)"
      ]
     },
     "execution_count": 47,
     "metadata": {},
     "output_type": "execute_result"
    }
   ],
   "source": [
    "tuple2"
   ]
  },
  {
   "cell_type": "code",
   "execution_count": 49,
   "id": "4820c820-4f90-4bb1-a208-2d73059943fb",
   "metadata": {},
   "outputs": [
    {
     "data": {
      "text/plain": [
       "(3, 4)"
      ]
     },
     "execution_count": 49,
     "metadata": {},
     "output_type": "execute_result"
    }
   ],
   "source": [
    "tuple2[2:4]"
   ]
  },
  {
   "cell_type": "code",
   "execution_count": null,
   "id": "ad61eb86-e4d6-49c3-957a-3753c01b70bf",
   "metadata": {},
   "outputs": [],
   "source": []
  },
  {
   "cell_type": "code",
   "execution_count": 50,
   "id": "74849550-76ae-4b6a-a2be-097811231264",
   "metadata": {},
   "outputs": [],
   "source": [
    "# 21"
   ]
  },
  {
   "cell_type": "code",
   "execution_count": 51,
   "id": "a78b1ac8-6b00-4eb9-bf9c-2ccde955304f",
   "metadata": {},
   "outputs": [
    {
     "data": {
      "text/plain": [
       "(1, 2, 3, 4, 5)"
      ]
     },
     "execution_count": 51,
     "metadata": {},
     "output_type": "execute_result"
    }
   ],
   "source": [
    "tuple2"
   ]
  },
  {
   "cell_type": "code",
   "execution_count": 52,
   "id": "8c2b3ee8-29f1-4450-8a76-8767695214bf",
   "metadata": {},
   "outputs": [
    {
     "data": {
      "text/plain": [
       "5"
      ]
     },
     "execution_count": 52,
     "metadata": {},
     "output_type": "execute_result"
    }
   ],
   "source": [
    "max(tuple2)"
   ]
  },
  {
   "cell_type": "code",
   "execution_count": null,
   "id": "48c0c7f5-25d0-4581-ba7f-617420ac00cd",
   "metadata": {},
   "outputs": [],
   "source": []
  },
  {
   "cell_type": "code",
   "execution_count": 53,
   "id": "707c9183-8f7f-43aa-8b36-86e343b5cffb",
   "metadata": {},
   "outputs": [],
   "source": [
    "# 22"
   ]
  },
  {
   "cell_type": "code",
   "execution_count": 54,
   "id": "3390ee8b-b739-4fa3-84c4-e670df2d468d",
   "metadata": {},
   "outputs": [
    {
     "data": {
      "text/plain": [
       "(1, 2, 3, 4, 5)"
      ]
     },
     "execution_count": 54,
     "metadata": {},
     "output_type": "execute_result"
    }
   ],
   "source": [
    "tuple2"
   ]
  },
  {
   "cell_type": "code",
   "execution_count": 55,
   "id": "753c68cd-3ebf-4a72-9592-92b8bfef426e",
   "metadata": {},
   "outputs": [
    {
     "data": {
      "text/plain": [
       "1"
      ]
     },
     "execution_count": 55,
     "metadata": {},
     "output_type": "execute_result"
    }
   ],
   "source": [
    "min(tuple2)"
   ]
  },
  {
   "cell_type": "code",
   "execution_count": null,
   "id": "9fbed7a0-eb69-490d-80b1-28d396e182fc",
   "metadata": {},
   "outputs": [],
   "source": []
  },
  {
   "cell_type": "code",
   "execution_count": 56,
   "id": "0ae12c79-2ebe-4d4d-acd5-9f52ba95efee",
   "metadata": {},
   "outputs": [],
   "source": [
    "# 23"
   ]
  },
  {
   "cell_type": "code",
   "execution_count": 72,
   "id": "faa9372c-ee8c-4c72-8627-134985a48cc3",
   "metadata": {},
   "outputs": [
    {
     "data": {
      "text/plain": [
       "('s', 't', 'r', 'i', 'n', 'g')"
      ]
     },
     "execution_count": 72,
     "metadata": {},
     "output_type": "execute_result"
    }
   ],
   "source": [
    "string = \"string\"\n",
    "tuple(string)"
   ]
  },
  {
   "cell_type": "code",
   "execution_count": null,
   "id": "cee4d6f7-7480-4d07-b403-b03b118eedcb",
   "metadata": {},
   "outputs": [],
   "source": []
  },
  {
   "cell_type": "code",
   "execution_count": 73,
   "id": "3f6276d8-3ac3-46e6-a8e9-7965f82638ed",
   "metadata": {},
   "outputs": [],
   "source": [
    "# 24"
   ]
  },
  {
   "cell_type": "code",
   "execution_count": 76,
   "id": "aac43fde-0e9f-4d39-93e5-125e3d1b2139",
   "metadata": {},
   "outputs": [
    {
     "data": {
      "text/plain": [
       "'string'"
      ]
     },
     "execution_count": 76,
     "metadata": {},
     "output_type": "execute_result"
    }
   ],
   "source": [
    "word_tuple = ('s', 't', 'r', 'i', 'n', 'g')\n",
    "string = \"\".join(word_tuple)\n",
    "string"
   ]
  },
  {
   "cell_type": "code",
   "execution_count": null,
   "id": "7028574c-fd50-43fb-a8c5-aa63e5356ab8",
   "metadata": {},
   "outputs": [],
   "source": []
  },
  {
   "cell_type": "code",
   "execution_count": 77,
   "id": "ced36882-8e20-4bac-9f1d-3a3f8b7848aa",
   "metadata": {},
   "outputs": [],
   "source": [
    "# 25"
   ]
  },
  {
   "cell_type": "code",
   "execution_count": 78,
   "id": "e03726fd-4a05-4a1c-b8b2-b92f6c7c128a",
   "metadata": {},
   "outputs": [],
   "source": [
    "mul_tuple = (1,1.5,\"string\",True)"
   ]
  },
  {
   "cell_type": "code",
   "execution_count": null,
   "id": "c45e6fcc-2fb5-4590-b348-352d1c231da5",
   "metadata": {},
   "outputs": [],
   "source": []
  },
  {
   "cell_type": "code",
   "execution_count": 79,
   "id": "9a357983-3d0a-4052-8c24-6b9fb21723cb",
   "metadata": {},
   "outputs": [],
   "source": [
    "# 26"
   ]
  },
  {
   "cell_type": "code",
   "execution_count": 2,
   "id": "6c2feed5-0b36-4e58-b455-3b2e532407a6",
   "metadata": {},
   "outputs": [
    {
     "data": {
      "text/plain": [
       "True"
      ]
     },
     "execution_count": 2,
     "metadata": {},
     "output_type": "execute_result"
    }
   ],
   "source": [
    "t1 = (1,2,3)\n",
    "t2 = (1,2,3)\n",
    "t1 == t2"
   ]
  },
  {
   "cell_type": "code",
   "execution_count": null,
   "id": "1440aef1-9b56-4878-91ea-31451226dd83",
   "metadata": {},
   "outputs": [],
   "source": []
  },
  {
   "cell_type": "code",
   "execution_count": 3,
   "id": "a4f730ba-0cc3-422c-9aaf-226e39326472",
   "metadata": {},
   "outputs": [],
   "source": [
    "# 27"
   ]
  },
  {
   "cell_type": "code",
   "execution_count": 5,
   "id": "1321c1b4-3055-4c02-ac27-e6aaca69f388",
   "metadata": {},
   "outputs": [
    {
     "data": {
      "text/plain": [
       "(1, 2, 3, 4, 5, 6, 7)"
      ]
     },
     "execution_count": 5,
     "metadata": {},
     "output_type": "execute_result"
    }
   ],
   "source": [
    "tupl = (7,4,6,3,5,2,1)\n",
    "sorted_tupl = tuple(sorted(tupl))\n",
    "sorted_tupl"
   ]
  },
  {
   "cell_type": "code",
   "execution_count": null,
   "id": "1da48b23-9b4f-4bf5-89e1-33009b61b06d",
   "metadata": {},
   "outputs": [],
   "source": []
  },
  {
   "cell_type": "code",
   "execution_count": 6,
   "id": "d8dd6a78-8e6e-48f4-a9c5-4fc6af6bda8d",
   "metadata": {},
   "outputs": [],
   "source": [
    "# 28"
   ]
  },
  {
   "cell_type": "code",
   "execution_count": 9,
   "id": "6962b307-a684-484c-befa-ecc858bb46de",
   "metadata": {},
   "outputs": [
    {
     "data": {
      "text/plain": [
       "('1', '2', '3')"
      ]
     },
     "execution_count": 9,
     "metadata": {},
     "output_type": "execute_result"
    }
   ],
   "source": [
    "int_tupl = (1,2,3)\n",
    "string_tupl =tuple(str(ele) for ele in int_tupl)\n",
    "string_tupl"
   ]
  },
  {
   "cell_type": "code",
   "execution_count": null,
   "id": "fc64acca-a047-49a9-be4d-badf1909fd6e",
   "metadata": {},
   "outputs": [],
   "source": []
  },
  {
   "cell_type": "code",
   "execution_count": 10,
   "id": "4a545b68-19d5-4a02-8ee2-b8efe645e721",
   "metadata": {},
   "outputs": [],
   "source": [
    "# 29"
   ]
  },
  {
   "cell_type": "code",
   "execution_count": 12,
   "id": "92b91b8c-9940-4713-93c9-cfb73bc58da4",
   "metadata": {},
   "outputs": [
    {
     "data": {
      "text/plain": [
       "(1, 2, 3)"
      ]
     },
     "execution_count": 12,
     "metadata": {},
     "output_type": "execute_result"
    }
   ],
   "source": [
    "string_tupl = ('1', '2', '3')\n",
    "int_tupl = tuple(int(ele) for ele in int_tupl)\n",
    "int_tupl"
   ]
  },
  {
   "cell_type": "code",
   "execution_count": null,
   "id": "627244b0-3ee5-4a02-a7ed-f9ebea71eb35",
   "metadata": {},
   "outputs": [],
   "source": []
  },
  {
   "cell_type": "code",
   "execution_count": 13,
   "id": "3add2425-63cb-4954-86af-b31b9138e8c0",
   "metadata": {},
   "outputs": [],
   "source": [
    "# 30"
   ]
  },
  {
   "cell_type": "code",
   "execution_count": 18,
   "id": "8f244702-f461-4e59-bfc6-a7866c2be45a",
   "metadata": {},
   "outputs": [
    {
     "data": {
      "text/plain": [
       "(1, 2, 3, 4, 5, 6)"
      ]
     },
     "execution_count": 18,
     "metadata": {},
     "output_type": "execute_result"
    }
   ],
   "source": [
    "tupl1 = (1,2,3)\n",
    "tupl2 = (4,5,6)\n",
    "tupl1 + tupl2"
   ]
  },
  {
   "cell_type": "code",
   "execution_count": null,
   "id": "e5af4ac1-ab0a-4f32-902c-f459d302c871",
   "metadata": {},
   "outputs": [],
   "source": []
  },
  {
   "cell_type": "code",
   "execution_count": 19,
   "id": "5f4f6a30-0646-403f-9833-f75bb77706d9",
   "metadata": {},
   "outputs": [],
   "source": [
    "# 31"
   ]
  },
  {
   "cell_type": "code",
   "execution_count": 5,
   "id": "b4d12faa-ad56-4749-97dd-b68ea2ed65a1",
   "metadata": {},
   "outputs": [],
   "source": [
    "nested_tupl = (1,2,(3,4,5),(6,7))\n",
    "def flatten_tuple(nested_tuple):\n",
    "    flattened_tupl = []\n",
    "    for item in nested_tuple:\n",
    "        if isinstance(item,tuple):\n",
    "            flattened_tupl.extend(flatten_tuple(item))\n",
    "        else:\n",
    "            flattened_tupl.append(item)\n",
    "    return tuple(flattened_tupl)"
   ]
  },
  {
   "cell_type": "code",
   "execution_count": 6,
   "id": "915bc0be-b547-4bcf-819c-c7c2a2abbc96",
   "metadata": {},
   "outputs": [
    {
     "data": {
      "text/plain": [
       "(1, 2, 3, 4, 5, 6, 7)"
      ]
     },
     "execution_count": 6,
     "metadata": {},
     "output_type": "execute_result"
    }
   ],
   "source": [
    "flatten_tuple(nested_tupl)"
   ]
  },
  {
   "cell_type": "code",
   "execution_count": null,
   "id": "e0a6536d-cbce-45ef-b7de-5b1c19d34dc3",
   "metadata": {},
   "outputs": [],
   "source": []
  },
  {
   "cell_type": "code",
   "execution_count": 7,
   "id": "e3797fdd-7f92-41f0-a9c5-bda4f0ac5d9d",
   "metadata": {},
   "outputs": [],
   "source": [
    "# 32"
   ]
  },
  {
   "cell_type": "code",
   "execution_count": 4,
   "id": "28b6de86-c081-449c-a000-ca65dbbd8bbd",
   "metadata": {},
   "outputs": [
    {
     "data": {
      "text/plain": [
       "(2, 3, 5, 7, 9)"
      ]
     },
     "execution_count": 4,
     "metadata": {},
     "output_type": "execute_result"
    }
   ],
   "source": [
    "def is_prime(num):\n",
    "    if num <= 1:\n",
    "        return False\n",
    "    for i in range(2,int(num**0.5)+1):\n",
    "        if num % 2 == 0:\n",
    "            return False\n",
    "    return True\n",
    "\n",
    "prime_number = tuple(num for num in range(2,25) if is_prime(num))[:5]\n",
    "prime_number"
   ]
  },
  {
   "cell_type": "code",
   "execution_count": null,
   "id": "7ba51baf-6397-4530-9cbd-11ca0e7a8537",
   "metadata": {},
   "outputs": [],
   "source": []
  },
  {
   "cell_type": "code",
   "execution_count": 5,
   "id": "1e06e641-0487-4ea6-b7b7-4277e64e7dda",
   "metadata": {},
   "outputs": [],
   "source": [
    "# 33"
   ]
  },
  {
   "cell_type": "code",
   "execution_count": 6,
   "id": "417c9c50-0c9a-45b0-9b3d-efff63f794a8",
   "metadata": {},
   "outputs": [],
   "source": [
    "def is_palindrome(tupl):\n",
    "    if tupl == tupl[::-1]:\n",
    "        return \"tuple is palindrome\"\n",
    "    else:\n",
    "        return \"tuple is not palindrome\""
   ]
  },
  {
   "cell_type": "code",
   "execution_count": 8,
   "id": "8e9709c4-d0a1-469d-aff2-57ad889249e9",
   "metadata": {},
   "outputs": [
    {
     "data": {
      "text/plain": [
       "'tuple is not palindrome'"
      ]
     },
     "execution_count": 8,
     "metadata": {},
     "output_type": "execute_result"
    }
   ],
   "source": [
    "is_palindrome((1,2,3))"
   ]
  },
  {
   "cell_type": "code",
   "execution_count": null,
   "id": "042fa4d2-810e-4c24-bb8d-53db008cbb81",
   "metadata": {},
   "outputs": [],
   "source": []
  },
  {
   "cell_type": "code",
   "execution_count": 9,
   "id": "ab8ebf87-6b16-4ef6-9ff0-eb6733f4239d",
   "metadata": {},
   "outputs": [],
   "source": [
    "# 34"
   ]
  },
  {
   "cell_type": "code",
   "execution_count": 14,
   "id": "1ff2852b-9edb-4ba4-85d4-0cbff5efa48f",
   "metadata": {},
   "outputs": [
    {
     "data": {
      "text/plain": [
       "(1, 4, 9, 16, 25)"
      ]
     },
     "execution_count": 14,
     "metadata": {},
     "output_type": "execute_result"
    }
   ],
   "source": [
    "sq_tupl = tuple(num ** 2 for num in range(1,6))\n",
    "sq_tupl"
   ]
  },
  {
   "cell_type": "code",
   "execution_count": null,
   "id": "526cb6ea-ee37-4991-a454-f61f0b662b99",
   "metadata": {},
   "outputs": [],
   "source": []
  },
  {
   "cell_type": "code",
   "execution_count": 15,
   "id": "fc9827b6-e98e-47d0-9242-cdf56e919206",
   "metadata": {},
   "outputs": [],
   "source": [
    "# 35"
   ]
  },
  {
   "cell_type": "code",
   "execution_count": 20,
   "id": "e45bc7b7-02c8-464f-8ddb-6c2538a3371b",
   "metadata": {},
   "outputs": [
    {
     "data": {
      "text/plain": [
       "(2, 4, 6, 8, 10)"
      ]
     },
     "execution_count": 20,
     "metadata": {},
     "output_type": "execute_result"
    }
   ],
   "source": [
    "tupl = (1,2,3,4,5,6,7,8,9,10)\n",
    "even_num = tuple(num for num in tupl if num % 2 == 0)\n",
    "even_num"
   ]
  },
  {
   "cell_type": "code",
   "execution_count": null,
   "id": "d3d208c9-ffa2-4f88-aea3-dabfd1c1a5f1",
   "metadata": {},
   "outputs": [],
   "source": []
  },
  {
   "cell_type": "code",
   "execution_count": 18,
   "id": "d930c60b-2e60-498f-b6f6-d7f7beb8a8d3",
   "metadata": {},
   "outputs": [],
   "source": [
    "# 36"
   ]
  },
  {
   "cell_type": "code",
   "execution_count": 21,
   "id": "513b458d-23fc-4b42-a97b-e2eccc015637",
   "metadata": {},
   "outputs": [
    {
     "data": {
      "text/plain": [
       "(2, 4, 6, 8, 10, 12, 14, 16, 18, 20)"
      ]
     },
     "execution_count": 21,
     "metadata": {},
     "output_type": "execute_result"
    }
   ],
   "source": [
    "tupl = (1,2,3,4,5,6,7,8,9,10)\n",
    "even_num = tuple(num * 2 for num in tupl)\n",
    "even_num"
   ]
  },
  {
   "cell_type": "code",
   "execution_count": null,
   "id": "2963c9da-d20c-4e1d-80f7-ad063e608cdd",
   "metadata": {},
   "outputs": [],
   "source": []
  },
  {
   "cell_type": "code",
   "execution_count": 22,
   "id": "e3876fe1-441d-47e4-96e8-bea27d1cc321",
   "metadata": {},
   "outputs": [],
   "source": [
    "# 37"
   ]
  },
  {
   "cell_type": "code",
   "execution_count": 23,
   "id": "bcdce32b-fc56-4fa7-8a9f-4a2fcf1962e6",
   "metadata": {},
   "outputs": [
    {
     "data": {
      "text/plain": [
       "(29, 35, 40, 15, 20, 5, 12, 45, 25, 3)"
      ]
     },
     "execution_count": 23,
     "metadata": {},
     "output_type": "execute_result"
    }
   ],
   "source": [
    "import random\n",
    "rendom_num_tuple = tuple(random.randint(1,50) for _ in range(10))\n",
    "rendom_num_tuple"
   ]
  },
  {
   "cell_type": "code",
   "execution_count": null,
   "id": "e2f74c3c-d6e6-425a-801a-431b202b81cc",
   "metadata": {},
   "outputs": [],
   "source": []
  },
  {
   "cell_type": "code",
   "execution_count": 24,
   "id": "67c87d91-02ca-41a5-84ec-7d0929e8b947",
   "metadata": {},
   "outputs": [],
   "source": [
    "# 38"
   ]
  },
  {
   "cell_type": "code",
   "execution_count": 30,
   "id": "e66c6d84-f113-4ae9-8a3d-d669283d126e",
   "metadata": {},
   "outputs": [],
   "source": [
    "def is_sorted(input_tuple):\n",
    "    if input_tuple == tuple(sorted(input_tuple)):\n",
    "        return \"tuple is sorted\"\n",
    "    else:\n",
    "        return \"tuple is unsorted\""
   ]
  },
  {
   "cell_type": "code",
   "execution_count": 32,
   "id": "103d958b-4bd5-483e-9691-7bdbf40dcaad",
   "metadata": {},
   "outputs": [
    {
     "data": {
      "text/plain": [
       "'tuple is sorted'"
      ]
     },
     "execution_count": 32,
     "metadata": {},
     "output_type": "execute_result"
    }
   ],
   "source": [
    "is_sorted((1,2,3,4,5))"
   ]
  },
  {
   "cell_type": "code",
   "execution_count": null,
   "id": "0e08499c-df7d-4368-9378-5c2767fafdfe",
   "metadata": {},
   "outputs": [],
   "source": []
  },
  {
   "cell_type": "code",
   "execution_count": 33,
   "id": "85c07b58-617f-4cbf-8a64-72857f078b33",
   "metadata": {},
   "outputs": [],
   "source": [
    "# 39"
   ]
  },
  {
   "cell_type": "code",
   "execution_count": 34,
   "id": "94856926-5eb3-4a63-a0d0-103520a39119",
   "metadata": {},
   "outputs": [],
   "source": [
    "def rotate_left(tupl,n) :\n",
    "    n = n % len(tupl)\n",
    "    rotated_tuple = tupl[n:] + tupl[:n]\n",
    "    return rotated_tuple"
   ]
  },
  {
   "cell_type": "code",
   "execution_count": 35,
   "id": "9edbdb45-0dd1-4b5b-9ff4-12e4e650113f",
   "metadata": {},
   "outputs": [
    {
     "data": {
      "text/plain": [
       "(4, 5, 1, 2, 3)"
      ]
     },
     "execution_count": 35,
     "metadata": {},
     "output_type": "execute_result"
    }
   ],
   "source": [
    "tupl = (1,2,3,4,5)\n",
    "n = 3\n",
    "rotate_left(tupl,n)"
   ]
  },
  {
   "cell_type": "code",
   "execution_count": null,
   "id": "e669c690-2ac7-4429-8cc5-a4c66420f84d",
   "metadata": {},
   "outputs": [],
   "source": []
  },
  {
   "cell_type": "code",
   "execution_count": 36,
   "id": "3e7b1592-cd58-4ae3-8ffe-2ea1b50e07cf",
   "metadata": {},
   "outputs": [],
   "source": [
    "# 40"
   ]
  },
  {
   "cell_type": "code",
   "execution_count": 37,
   "id": "86556a0d-306e-4a05-a6ee-75045811ac37",
   "metadata": {},
   "outputs": [],
   "source": [
    "def rotate_right(tupl,n) :\n",
    "    n = n % len(tupl)\n",
    "    rotated_tuple = tupl[-n:] + tupl[:-n]\n",
    "    return rotated_tuple"
   ]
  },
  {
   "cell_type": "code",
   "execution_count": 38,
   "id": "3f217d9e-3e02-4a24-a038-78f3196be7ca",
   "metadata": {},
   "outputs": [
    {
     "data": {
      "text/plain": [
       "(3, 4, 5, 1, 2)"
      ]
     },
     "execution_count": 38,
     "metadata": {},
     "output_type": "execute_result"
    }
   ],
   "source": [
    "tupl = (1,2,3,4,5)\n",
    "n = 3\n",
    "rotate_right(tupl,n)"
   ]
  },
  {
   "cell_type": "code",
   "execution_count": null,
   "id": "17a20c30-4cc8-4047-a114-f84d2ba5a32e",
   "metadata": {},
   "outputs": [],
   "source": []
  },
  {
   "cell_type": "code",
   "execution_count": 39,
   "id": "c62ab6b0-e608-4d5f-9810-aa38139e3d20",
   "metadata": {},
   "outputs": [],
   "source": [
    "# 41"
   ]
  },
  {
   "cell_type": "code",
   "execution_count": 51,
   "id": "8dee64e8-5053-435f-b381-58e467d4be4f",
   "metadata": {},
   "outputs": [],
   "source": [
    "def fibonacci_series(n):\n",
    "    fibonacci = [0,1]\n",
    "    while len(fibonacci) < n :\n",
    "        next_num = fibonacci[-1] + fibonacci[-2]\n",
    "        fibonacci.append(next_num)\n",
    "    return tuple(fibonacci)"
   ]
  },
  {
   "cell_type": "code",
   "execution_count": 52,
   "id": "7df2352d-3fb1-43c9-ba1e-d5fb70fa7f47",
   "metadata": {},
   "outputs": [
    {
     "data": {
      "text/plain": [
       "(0, 1, 1, 2, 3)"
      ]
     },
     "execution_count": 52,
     "metadata": {},
     "output_type": "execute_result"
    }
   ],
   "source": [
    "fibonacci_series(5)"
   ]
  },
  {
   "cell_type": "code",
   "execution_count": null,
   "id": "adb1794b-4ddf-4903-ac7d-0861a4343ff5",
   "metadata": {},
   "outputs": [],
   "source": []
  },
  {
   "cell_type": "code",
   "execution_count": 53,
   "id": "09a2e12c-cf06-4738-b9f6-9ee9e777bcc2",
   "metadata": {},
   "outputs": [],
   "source": [
    "# 42"
   ]
  },
  {
   "cell_type": "code",
   "execution_count": 13,
   "id": "894afb44-29b3-4316-a547-319cd6b73b44",
   "metadata": {},
   "outputs": [
    {
     "name": "stdin",
     "output_type": "stream",
     "text": [
      "enter a tuple s,t,r,i,n,g\n"
     ]
    }
   ],
   "source": [
    "user_input = input(\"enter a tuple\")\n",
    "input_tuple = user_input.split(\",\")\n",
    "user_tuple = tuple(input_tuple)"
   ]
  },
  {
   "cell_type": "code",
   "execution_count": 14,
   "id": "f393dde0-7417-40e5-95bb-113e7395afb0",
   "metadata": {},
   "outputs": [
    {
     "data": {
      "text/plain": [
       "('s', 't', 'r', 'i', 'n', 'g')"
      ]
     },
     "execution_count": 14,
     "metadata": {},
     "output_type": "execute_result"
    }
   ],
   "source": [
    "user_tuple"
   ]
  },
  {
   "cell_type": "code",
   "execution_count": null,
   "id": "501429b3-62b2-4b2c-8809-87e9a7a8deab",
   "metadata": {},
   "outputs": [],
   "source": []
  },
  {
   "cell_type": "code",
   "execution_count": 15,
   "id": "b563d95e-cd53-4dfc-832d-10f311401d58",
   "metadata": {},
   "outputs": [],
   "source": [
    "# 43"
   ]
  },
  {
   "cell_type": "code",
   "execution_count": 13,
   "id": "4f0eac6e-6716-428f-96d5-70d337960fc7",
   "metadata": {},
   "outputs": [
    {
     "data": {
      "text/plain": [
       "(2, 6, 4, 5, 3)"
      ]
     },
     "execution_count": 13,
     "metadata": {},
     "output_type": "execute_result"
    }
   ],
   "source": [
    "t = (2,3,4,5,6)\n",
    "convert_list = list(t)\n",
    "temp = convert_list[1]\n",
    "convert_list[1] = convert_list[4]\n",
    "convert_list[4] = temp\n",
    "tuple(convert_list)"
   ]
  },
  {
   "cell_type": "code",
   "execution_count": null,
   "id": "f9f27b3a-c64d-4b6d-bbd4-b812aa09a54d",
   "metadata": {},
   "outputs": [],
   "source": []
  },
  {
   "cell_type": "code",
   "execution_count": 14,
   "id": "79d0b235-e022-4d7a-a234-d4a5c1c9e3c5",
   "metadata": {},
   "outputs": [],
   "source": [
    "# 44"
   ]
  },
  {
   "cell_type": "code",
   "execution_count": 16,
   "id": "14301ca0-40c4-4d7c-b988-9feca674178e",
   "metadata": {},
   "outputs": [
    {
     "data": {
      "text/plain": [
       "(6, 5, 4, 3, 2)"
      ]
     },
     "execution_count": 16,
     "metadata": {},
     "output_type": "execute_result"
    }
   ],
   "source": [
    "t = (2,3,4,5,6)\n",
    "reverse_t = t[::-1]\n",
    "reverse_t"
   ]
  },
  {
   "cell_type": "code",
   "execution_count": null,
   "id": "5f8d6b5d-ddf1-4916-a36b-4e370b4f10c6",
   "metadata": {},
   "outputs": [],
   "source": []
  },
  {
   "cell_type": "code",
   "execution_count": 17,
   "id": "c3a81f39-c870-4c84-bbb9-ea5ac44a17f1",
   "metadata": {},
   "outputs": [],
   "source": [
    "# 45"
   ]
  },
  {
   "cell_type": "code",
   "execution_count": 21,
   "id": "0343ad6c-1630-4aad-b187-61b473699a58",
   "metadata": {},
   "outputs": [
    {
     "data": {
      "text/plain": [
       "(1, 2, 4, 8, 16, 32)"
      ]
     },
     "execution_count": 21,
     "metadata": {},
     "output_type": "execute_result"
    }
   ],
   "source": [
    "n = 6\n",
    "power_tuple = tuple(2**i for i in range(n))\n",
    "power_tuple"
   ]
  },
  {
   "cell_type": "code",
   "execution_count": null,
   "id": "c5d0db9d-96d2-411f-bdf5-9372ccadd855",
   "metadata": {},
   "outputs": [],
   "source": []
  },
  {
   "cell_type": "code",
   "execution_count": 22,
   "id": "529bb61d-d3b2-4479-9a1e-58244a48a1df",
   "metadata": {},
   "outputs": [],
   "source": [
    "# 46"
   ]
  },
  {
   "cell_type": "code",
   "execution_count": 3,
   "id": "b88631de-4e2d-4268-bc4d-de7b3c37284f",
   "metadata": {},
   "outputs": [
    {
     "data": {
      "text/plain": [
       "'elephant'"
      ]
     },
     "execution_count": 3,
     "metadata": {},
     "output_type": "execute_result"
    }
   ],
   "source": [
    "str_tuple = (\"lion\",\"tiger\",\"elephant\",\"monkey\",\"deer\")\n",
    "longest_str = max(str_tuple,key = len)\n",
    "longest_str"
   ]
  },
  {
   "cell_type": "code",
   "execution_count": null,
   "id": "5f7b2bae-693e-454a-8244-27646726c5d7",
   "metadata": {},
   "outputs": [],
   "source": []
  },
  {
   "cell_type": "code",
   "execution_count": 23,
   "id": "2e99e692-7224-4688-9b7b-f493e027161e",
   "metadata": {},
   "outputs": [],
   "source": [
    "# 47"
   ]
  },
  {
   "cell_type": "code",
   "execution_count": 24,
   "id": "5856b04b-1a0c-4bb5-aa6a-b3646635f93f",
   "metadata": {},
   "outputs": [
    {
     "data": {
      "text/plain": [
       "'lion'"
      ]
     },
     "execution_count": 24,
     "metadata": {},
     "output_type": "execute_result"
    }
   ],
   "source": [
    "str_tuple = (\"lion\",\"tiger\",\"elephant\",\"monkey\",\"deer\")\n",
    "smallest_str = min(str_tuple,key = len)\n",
    "smallest_str"
   ]
  },
  {
   "cell_type": "code",
   "execution_count": null,
   "id": "ff494ac8-34e8-495f-a627-977c48d4fdf4",
   "metadata": {},
   "outputs": [],
   "source": []
  },
  {
   "cell_type": "code",
   "execution_count": 25,
   "id": "bce54e96-e6cb-42d9-a6d2-59e30c756a2c",
   "metadata": {},
   "outputs": [],
   "source": [
    "# 48"
   ]
  },
  {
   "cell_type": "code",
   "execution_count": 22,
   "id": "250e16f1-402f-44b5-9145-8919241db201",
   "metadata": {},
   "outputs": [
    {
     "data": {
      "text/plain": [
       "(1, 3, 6, 10, 15)"
      ]
     },
     "execution_count": 22,
     "metadata": {},
     "output_type": "execute_result"
    }
   ],
   "source": [
    "n = 5 \n",
    "triangular_tuple = tuple((i * (i+1)) // 2 for i in range(1,n+1))\n",
    "triangular_tuple"
   ]
  },
  {
   "cell_type": "code",
   "execution_count": null,
   "id": "4306e64e-dd47-4fc7-a678-6a4a59300e97",
   "metadata": {},
   "outputs": [],
   "source": []
  },
  {
   "cell_type": "code",
   "execution_count": 33,
   "id": "3edf49fc-0bf0-4560-9a04-aea651f19ecb",
   "metadata": {},
   "outputs": [],
   "source": [
    "# 49"
   ]
  },
  {
   "cell_type": "code",
   "execution_count": 7,
   "id": "df83a12e-498a-4335-82b9-93b881173dd4",
   "metadata": {},
   "outputs": [],
   "source": [
    "def check_subsequence(original_tuple,sub_tuple):\n",
    "    sub_len = len(sub_tuple)\n",
    "    for i in range(len(original_tuple) - sub_len + 1):\n",
    "        if original_tuple[i:i+sub_len] == sub_tuple:\n",
    "            return True\n",
    "    return False"
   ]
  },
  {
   "cell_type": "code",
   "execution_count": 8,
   "id": "9ec83b53-c083-4aac-a144-14e385668219",
   "metadata": {},
   "outputs": [
    {
     "data": {
      "text/plain": [
       "True"
      ]
     },
     "execution_count": 8,
     "metadata": {},
     "output_type": "execute_result"
    }
   ],
   "source": [
    "original_tuple = (1, 2, 3, 4, 5, 6, 7, 8, 9)\n",
    "sub_tuple = (6,7)\n",
    "check_subsequence(original_tuple,sub_tuple)"
   ]
  },
  {
   "cell_type": "code",
   "execution_count": null,
   "id": "c66fd537-2e8a-4f97-a110-241d1a90c62a",
   "metadata": {},
   "outputs": [],
   "source": []
  },
  {
   "cell_type": "code",
   "execution_count": 9,
   "id": "ed0e608c-09ab-4e88-96a5-112b841e9c7e",
   "metadata": {},
   "outputs": [],
   "source": [
    "# 50"
   ]
  },
  {
   "cell_type": "code",
   "execution_count": 21,
   "id": "c51907e0-6fa4-4755-bb5d-294989e7d7b9",
   "metadata": {},
   "outputs": [
    {
     "data": {
      "text/plain": [
       "(0, 1, 0, 1, 0, 1, 0)"
      ]
     },
     "execution_count": 21,
     "metadata": {},
     "output_type": "execute_result"
    }
   ],
   "source": [
    "n = 7\n",
    "alternate_tuple = tuple(i%2 for i in range(n))\n",
    "alternate_tuple"
   ]
  },
  {
   "cell_type": "code",
   "execution_count": null,
   "id": "32ff2581-c09b-47ca-9de3-96196218740f",
   "metadata": {},
   "outputs": [],
   "source": []
  },
  {
   "cell_type": "markdown",
   "id": "0ab8755d-26ed-47d6-907d-2ad4f1b01be6",
   "metadata": {},
   "source": [
    "set based practice problem"
   ]
  },
  {
   "cell_type": "code",
   "execution_count": 1,
   "id": "41e0bab2-6d68-4305-906f-b9ff29284f46",
   "metadata": {},
   "outputs": [],
   "source": [
    "# 1"
   ]
  },
  {
   "cell_type": "code",
   "execution_count": 2,
   "id": "fe01cae9-e049-4459-91b7-9a353ab07c2b",
   "metadata": {},
   "outputs": [],
   "source": [
    "set1 = {1,2,3,4,5}"
   ]
  },
  {
   "cell_type": "code",
   "execution_count": null,
   "id": "53f40bf3-3400-47a9-8936-570313da9ba7",
   "metadata": {},
   "outputs": [],
   "source": []
  },
  {
   "cell_type": "code",
   "execution_count": 4,
   "id": "409cf5fe-c1be-494c-8494-7e41c097c14b",
   "metadata": {},
   "outputs": [],
   "source": [
    "# 2"
   ]
  },
  {
   "cell_type": "code",
   "execution_count": 5,
   "id": "d2261287-1c8d-46b2-876a-fe385190c9f3",
   "metadata": {},
   "outputs": [
    {
     "data": {
      "text/plain": [
       "{1, 2, 3, 4, 5}"
      ]
     },
     "execution_count": 5,
     "metadata": {},
     "output_type": "execute_result"
    }
   ],
   "source": [
    "set1"
   ]
  },
  {
   "cell_type": "code",
   "execution_count": 6,
   "id": "1ba0cf8a-1f48-4e65-9fec-882b48544220",
   "metadata": {},
   "outputs": [],
   "source": [
    "set1.add(6)"
   ]
  },
  {
   "cell_type": "code",
   "execution_count": 7,
   "id": "74317fd5-a0cd-4f35-b9bb-0ca70600f4e2",
   "metadata": {},
   "outputs": [
    {
     "data": {
      "text/plain": [
       "{1, 2, 3, 4, 5, 6}"
      ]
     },
     "execution_count": 7,
     "metadata": {},
     "output_type": "execute_result"
    }
   ],
   "source": [
    "set1"
   ]
  },
  {
   "cell_type": "code",
   "execution_count": null,
   "id": "d4602e0e-ead3-4988-8776-632f506719ab",
   "metadata": {},
   "outputs": [],
   "source": []
  },
  {
   "cell_type": "code",
   "execution_count": 8,
   "id": "dd8301aa-9951-489e-81d5-f69a87621392",
   "metadata": {},
   "outputs": [],
   "source": [
    "# 3"
   ]
  },
  {
   "cell_type": "code",
   "execution_count": 9,
   "id": "b5edf7eb-7824-40a8-be1e-ad4eac1df089",
   "metadata": {},
   "outputs": [
    {
     "data": {
      "text/plain": [
       "{1, 2, 3, 4, 5, 6}"
      ]
     },
     "execution_count": 9,
     "metadata": {},
     "output_type": "execute_result"
    }
   ],
   "source": [
    "set1"
   ]
  },
  {
   "cell_type": "code",
   "execution_count": 10,
   "id": "9b0c2bbc-ea40-467e-b04e-c90278c64153",
   "metadata": {},
   "outputs": [],
   "source": [
    "set1.remove(6)"
   ]
  },
  {
   "cell_type": "code",
   "execution_count": 11,
   "id": "8daa19bd-47cd-4455-978a-7d7d63e83e98",
   "metadata": {},
   "outputs": [
    {
     "data": {
      "text/plain": [
       "{1, 2, 3, 4, 5}"
      ]
     },
     "execution_count": 11,
     "metadata": {},
     "output_type": "execute_result"
    }
   ],
   "source": [
    "set1"
   ]
  },
  {
   "cell_type": "code",
   "execution_count": null,
   "id": "f81338b5-ea4a-4340-a8e0-9eee6530f735",
   "metadata": {},
   "outputs": [],
   "source": []
  },
  {
   "cell_type": "code",
   "execution_count": 12,
   "id": "308f98ba-273c-42f5-b8bf-d6fc558418fc",
   "metadata": {},
   "outputs": [],
   "source": [
    "# 4"
   ]
  },
  {
   "cell_type": "code",
   "execution_count": 13,
   "id": "8b982a8a-fce0-4233-917f-4b0de661e3b9",
   "metadata": {},
   "outputs": [
    {
     "data": {
      "text/plain": [
       "{1, 2, 3, 4, 5}"
      ]
     },
     "execution_count": 13,
     "metadata": {},
     "output_type": "execute_result"
    }
   ],
   "source": [
    "set1"
   ]
  },
  {
   "cell_type": "code",
   "execution_count": 14,
   "id": "97724ba0-23b9-4a8a-9545-8efcffe871a5",
   "metadata": {},
   "outputs": [],
   "source": [
    "def ele_check(main_set,element):\n",
    "    if element in main_set :\n",
    "        print(\"element is present\")\n",
    "    else:\n",
    "        print(\"element is not present\")"
   ]
  },
  {
   "cell_type": "code",
   "execution_count": 15,
   "id": "0bb31b99-ef27-41ae-b46f-857591496129",
   "metadata": {},
   "outputs": [
    {
     "name": "stdout",
     "output_type": "stream",
     "text": [
      "element is present\n"
     ]
    }
   ],
   "source": [
    "ele_check(set1,4)"
   ]
  },
  {
   "cell_type": "code",
   "execution_count": null,
   "id": "87b29ac2-8bd2-477f-9572-dc727015ccb1",
   "metadata": {},
   "outputs": [],
   "source": []
  },
  {
   "cell_type": "code",
   "execution_count": 16,
   "id": "37b6774c-a8c8-483b-b1c3-d9afccc04c2b",
   "metadata": {},
   "outputs": [],
   "source": [
    "# 5"
   ]
  },
  {
   "cell_type": "code",
   "execution_count": 17,
   "id": "5faf97f5-471e-42ab-adf3-a8646d362698",
   "metadata": {},
   "outputs": [
    {
     "data": {
      "text/plain": [
       "{1, 2, 3, 4, 5}"
      ]
     },
     "execution_count": 17,
     "metadata": {},
     "output_type": "execute_result"
    }
   ],
   "source": [
    "set1"
   ]
  },
  {
   "cell_type": "code",
   "execution_count": 18,
   "id": "fee60c69-31a3-4c0d-ac51-2280337a4e07",
   "metadata": {},
   "outputs": [],
   "source": [
    "def check_len(given_set):\n",
    "    count = 0\n",
    "    for ele in given_set:\n",
    "        count += 1\n",
    "    return count"
   ]
  },
  {
   "cell_type": "code",
   "execution_count": 19,
   "id": "c02f228d-bdbd-4646-8517-e9c468a980fd",
   "metadata": {},
   "outputs": [
    {
     "data": {
      "text/plain": [
       "5"
      ]
     },
     "execution_count": 19,
     "metadata": {},
     "output_type": "execute_result"
    }
   ],
   "source": [
    "check_len(set1)"
   ]
  },
  {
   "cell_type": "code",
   "execution_count": null,
   "id": "636c4f8c-4b8a-4323-8c79-5b845bfa2b0d",
   "metadata": {},
   "outputs": [],
   "source": []
  },
  {
   "cell_type": "code",
   "execution_count": 20,
   "id": "5b8527d6-0007-40d2-8319-b5556725e214",
   "metadata": {},
   "outputs": [],
   "source": [
    "# 6"
   ]
  },
  {
   "cell_type": "code",
   "execution_count": 21,
   "id": "e2dacb08-0511-43d8-a204-ea48d16cf270",
   "metadata": {},
   "outputs": [
    {
     "data": {
      "text/plain": [
       "{1, 2, 3, 4, 5}"
      ]
     },
     "execution_count": 21,
     "metadata": {},
     "output_type": "execute_result"
    }
   ],
   "source": [
    "set1"
   ]
  },
  {
   "cell_type": "code",
   "execution_count": 22,
   "id": "74b9ffd3-b70e-4ef6-b138-0a448bc04702",
   "metadata": {},
   "outputs": [],
   "source": [
    "set1.clear()"
   ]
  },
  {
   "cell_type": "code",
   "execution_count": 23,
   "id": "401e0a02-0169-4171-bde6-5b2b985ed6d5",
   "metadata": {},
   "outputs": [
    {
     "data": {
      "text/plain": [
       "set()"
      ]
     },
     "execution_count": 23,
     "metadata": {},
     "output_type": "execute_result"
    }
   ],
   "source": [
    "set1"
   ]
  },
  {
   "cell_type": "code",
   "execution_count": null,
   "id": "a0293157-a34b-474e-bfda-dd13cc61c678",
   "metadata": {},
   "outputs": [],
   "source": []
  },
  {
   "cell_type": "code",
   "execution_count": 25,
   "id": "40dafd06-2377-4ec7-884a-e005369679f8",
   "metadata": {},
   "outputs": [],
   "source": [
    "# 7"
   ]
  },
  {
   "cell_type": "code",
   "execution_count": 27,
   "id": "0219d7fe-92aa-4b1f-bf68-0bc9f55ca764",
   "metadata": {},
   "outputs": [
    {
     "data": {
      "text/plain": [
       "{2, 4, 6, 8}"
      ]
     },
     "execution_count": 27,
     "metadata": {},
     "output_type": "execute_result"
    }
   ],
   "source": [
    "enen_num_set = {i for i in range(1,10) if i % 2 == 0}\n",
    "enen_num_set"
   ]
  },
  {
   "cell_type": "code",
   "execution_count": null,
   "id": "8a0bb4d1-3125-4b8f-a28a-22023206b7e9",
   "metadata": {},
   "outputs": [],
   "source": []
  },
  {
   "cell_type": "code",
   "execution_count": 28,
   "id": "99cf97a1-8e68-47f4-826f-3449ec09e2e0",
   "metadata": {},
   "outputs": [],
   "source": [
    "# 8"
   ]
  },
  {
   "cell_type": "code",
   "execution_count": 30,
   "id": "d8e84fd7-8166-416c-b8da-b7b2c741daa1",
   "metadata": {},
   "outputs": [
    {
     "data": {
      "text/plain": [
       "{1, 3, 5, 7, 9}"
      ]
     },
     "execution_count": 30,
     "metadata": {},
     "output_type": "execute_result"
    }
   ],
   "source": [
    "odd_num_set = {i for i in range(1,10) if i % 2 != 0}\n",
    "odd_num_set"
   ]
  },
  {
   "cell_type": "code",
   "execution_count": null,
   "id": "175ddc92-1d4d-4e9e-913a-2320c42799cd",
   "metadata": {},
   "outputs": [],
   "source": []
  },
  {
   "cell_type": "code",
   "execution_count": 31,
   "id": "e3ccbef6-e0a8-4e31-9776-a4d346f295ab",
   "metadata": {},
   "outputs": [],
   "source": [
    "# 9"
   ]
  },
  {
   "cell_type": "code",
   "execution_count": 32,
   "id": "44ef885f-867b-448b-803b-ca9a615c5349",
   "metadata": {},
   "outputs": [
    {
     "data": {
      "text/plain": [
       "{1, 2, 3, 4, 5, 6, 7, 8}"
      ]
     },
     "execution_count": 32,
     "metadata": {},
     "output_type": "execute_result"
    }
   ],
   "source": [
    "set1 = {1,2,3,4,5}\n",
    "set2 = {4,5,6,7,8}\n",
    "set1.union(set2)"
   ]
  },
  {
   "cell_type": "code",
   "execution_count": null,
   "id": "9761a8cc-db96-419e-84de-91faff31e4d6",
   "metadata": {},
   "outputs": [],
   "source": []
  },
  {
   "cell_type": "code",
   "execution_count": 33,
   "id": "e962b5ca-dd3e-4e9e-8fd8-4d07391cc22f",
   "metadata": {},
   "outputs": [],
   "source": [
    "# 10"
   ]
  },
  {
   "cell_type": "code",
   "execution_count": 35,
   "id": "85e3a31d-c736-440a-b39c-99199a76795e",
   "metadata": {},
   "outputs": [
    {
     "data": {
      "text/plain": [
       "{1, 2, 3, 4, 5}"
      ]
     },
     "execution_count": 35,
     "metadata": {},
     "output_type": "execute_result"
    }
   ],
   "source": [
    "set1"
   ]
  },
  {
   "cell_type": "code",
   "execution_count": 36,
   "id": "78709da5-4c24-40d5-af9d-cf3a693b7a9b",
   "metadata": {},
   "outputs": [
    {
     "data": {
      "text/plain": [
       "{4, 5, 6, 7, 8}"
      ]
     },
     "execution_count": 36,
     "metadata": {},
     "output_type": "execute_result"
    }
   ],
   "source": [
    "set2"
   ]
  },
  {
   "cell_type": "code",
   "execution_count": 37,
   "id": "b7fedafd-7134-4304-ae49-f6fa79c4b18c",
   "metadata": {},
   "outputs": [
    {
     "data": {
      "text/plain": [
       "{4, 5}"
      ]
     },
     "execution_count": 37,
     "metadata": {},
     "output_type": "execute_result"
    }
   ],
   "source": [
    "set1.intersection(set2)"
   ]
  },
  {
   "cell_type": "code",
   "execution_count": null,
   "id": "52eb0bfa-1b24-44d8-a8fe-f05a68c1465c",
   "metadata": {},
   "outputs": [],
   "source": []
  },
  {
   "cell_type": "code",
   "execution_count": 38,
   "id": "9699d87b-02fa-4fc1-892f-ce42c8a3415b",
   "metadata": {},
   "outputs": [],
   "source": [
    "# 11"
   ]
  },
  {
   "cell_type": "code",
   "execution_count": 39,
   "id": "86749184-e804-4e07-839c-614890feaced",
   "metadata": {},
   "outputs": [
    {
     "data": {
      "text/plain": [
       "{1, 2, 3, 4, 5}"
      ]
     },
     "execution_count": 39,
     "metadata": {},
     "output_type": "execute_result"
    }
   ],
   "source": [
    "set1"
   ]
  },
  {
   "cell_type": "code",
   "execution_count": 40,
   "id": "1f39ea2e-5c3c-478c-a600-878a3908bd27",
   "metadata": {},
   "outputs": [
    {
     "data": {
      "text/plain": [
       "{4, 5, 6, 7, 8}"
      ]
     },
     "execution_count": 40,
     "metadata": {},
     "output_type": "execute_result"
    }
   ],
   "source": [
    "set2"
   ]
  },
  {
   "cell_type": "code",
   "execution_count": 41,
   "id": "bc677294-6438-43ef-ae23-c1160cb217d0",
   "metadata": {},
   "outputs": [
    {
     "data": {
      "text/plain": [
       "{1, 2, 3}"
      ]
     },
     "execution_count": 41,
     "metadata": {},
     "output_type": "execute_result"
    }
   ],
   "source": [
    "set1.difference(set2)"
   ]
  },
  {
   "cell_type": "code",
   "execution_count": null,
   "id": "08a87f86-40f4-4c87-ba9f-4b621a868343",
   "metadata": {},
   "outputs": [],
   "source": []
  },
  {
   "cell_type": "code",
   "execution_count": 42,
   "id": "2e06ba66-fd98-491c-bb92-d4956a9ba1a1",
   "metadata": {},
   "outputs": [],
   "source": [
    "# 12"
   ]
  },
  {
   "cell_type": "code",
   "execution_count": 46,
   "id": "9091af34-ae62-409f-bc7c-11ec9f8c364a",
   "metadata": {},
   "outputs": [
    {
     "data": {
      "text/plain": [
       "True"
      ]
     },
     "execution_count": 46,
     "metadata": {},
     "output_type": "execute_result"
    }
   ],
   "source": [
    "sub_set = {5,6,7}\n",
    "main_set = {1,2,3,4,5,6,7,8,9}\n",
    "sub_set.issubset(main_set)"
   ]
  },
  {
   "cell_type": "code",
   "execution_count": null,
   "id": "329c2d05-9dc2-4e54-b17d-cc0f224221df",
   "metadata": {},
   "outputs": [],
   "source": []
  },
  {
   "cell_type": "code",
   "execution_count": 47,
   "id": "637a8d2f-1c4f-4c46-bbf3-36b644a953ed",
   "metadata": {},
   "outputs": [],
   "source": [
    "# 13"
   ]
  },
  {
   "cell_type": "code",
   "execution_count": 49,
   "id": "387c97f8-ff3b-44ca-9f64-c25b453e42c9",
   "metadata": {},
   "outputs": [
    {
     "data": {
      "text/plain": [
       "True"
      ]
     },
     "execution_count": 49,
     "metadata": {},
     "output_type": "execute_result"
    }
   ],
   "source": [
    "main_set = {1,2,3,4,5,6,7,8,9}\n",
    "sub_set = {5,6,7}\n",
    "main_set.issuperset(sub_set)"
   ]
  },
  {
   "cell_type": "code",
   "execution_count": null,
   "id": "398664dc-e87a-4a1f-8eb8-da7cb675ac58",
   "metadata": {},
   "outputs": [],
   "source": []
  },
  {
   "cell_type": "code",
   "execution_count": 1,
   "id": "4311fd13-5c73-4125-9b84-49cf43c56f29",
   "metadata": {},
   "outputs": [],
   "source": [
    "# 14"
   ]
  },
  {
   "cell_type": "code",
   "execution_count": 5,
   "id": "3a57dec3-1a77-45aa-8b1b-4cc01936f46a",
   "metadata": {},
   "outputs": [
    {
     "data": {
      "text/plain": [
       "{1, 2, 3, 4, 5, 6}"
      ]
     },
     "execution_count": 5,
     "metadata": {},
     "output_type": "execute_result"
    }
   ],
   "source": [
    "lst = [1,2,3,4,2,6,3,5]\n",
    "lst_to_set = set(lst)\n",
    "lst_to_set"
   ]
  },
  {
   "cell_type": "code",
   "execution_count": null,
   "id": "d7144205-bebe-447e-af46-1f4885ef254f",
   "metadata": {},
   "outputs": [],
   "source": []
  },
  {
   "cell_type": "code",
   "execution_count": 3,
   "id": "7eda0599-0a2a-4818-8b66-664b61d40f90",
   "metadata": {},
   "outputs": [],
   "source": [
    "# 15"
   ]
  },
  {
   "cell_type": "code",
   "execution_count": 6,
   "id": "0f13ce5b-7f84-473c-970b-3bbd1904b0c1",
   "metadata": {},
   "outputs": [
    {
     "data": {
      "text/plain": [
       "[1, 2, 3, 4, 5]"
      ]
     },
     "execution_count": 6,
     "metadata": {},
     "output_type": "execute_result"
    }
   ],
   "source": [
    "s = {1, 2, 3, 4, 5,3,1}\n",
    "set_to_list = list(s)\n",
    "set_to_list"
   ]
  },
  {
   "cell_type": "code",
   "execution_count": null,
   "id": "900cdd18-9656-48f6-9555-96ef5133ce87",
   "metadata": {},
   "outputs": [],
   "source": []
  },
  {
   "cell_type": "code",
   "execution_count": 8,
   "id": "5f8eede3-4462-44db-a934-411f8400b7ca",
   "metadata": {},
   "outputs": [],
   "source": [
    "# 16"
   ]
  },
  {
   "cell_type": "code",
   "execution_count": 7,
   "id": "5b96eb29-9f99-4b13-bdbc-f492184ed644",
   "metadata": {},
   "outputs": [
    {
     "data": {
      "text/plain": [
       "1"
      ]
     },
     "execution_count": 7,
     "metadata": {},
     "output_type": "execute_result"
    }
   ],
   "source": [
    "s = {1, 2, 3, 4, 5}\n",
    "random_remove = s.pop()\n",
    "random_remove\n"
   ]
  },
  {
   "cell_type": "code",
   "execution_count": null,
   "id": "d1b62399-863a-4dbc-b4ab-52575ad638b7",
   "metadata": {},
   "outputs": [],
   "source": []
  },
  {
   "cell_type": "code",
   "execution_count": 8,
   "id": "b64aedd9-e71f-4905-9653-5f2c8f30293c",
   "metadata": {},
   "outputs": [],
   "source": [
    "# 17"
   ]
  },
  {
   "cell_type": "code",
   "execution_count": 11,
   "id": "316536f6-9029-46f3-9356-e5f8b5400e87",
   "metadata": {},
   "outputs": [
    {
     "data": {
      "text/plain": [
       "1"
      ]
     },
     "execution_count": 11,
     "metadata": {},
     "output_type": "execute_result"
    }
   ],
   "source": [
    "s1 = {1,2,3,4,5,6,7}\n",
    "s1.pop()"
   ]
  },
  {
   "cell_type": "code",
   "execution_count": null,
   "id": "25db3eaf-0870-49d6-b2d6-5f1fe9334fe0",
   "metadata": {},
   "outputs": [],
   "source": []
  },
  {
   "cell_type": "code",
   "execution_count": 12,
   "id": "515d7689-4fd2-4633-b863-d8c89310ac0a",
   "metadata": {},
   "outputs": [],
   "source": [
    "# 18"
   ]
  },
  {
   "cell_type": "code",
   "execution_count": 17,
   "id": "a84f9007-790e-4ce2-9906-7f4ba86a9ab5",
   "metadata": {},
   "outputs": [
    {
     "name": "stdout",
     "output_type": "stream",
     "text": [
      "no elements in common\n"
     ]
    }
   ],
   "source": [
    "s3 = {1,2,3,4,5}\n",
    "s4 = {6,7,8,9}\n",
    "common_element = s3.intersection(s4)\n",
    "if not common_element:\n",
    "    print(\"no elements in common\")\n",
    "else:\n",
    "    print(\"two sets have common element\")"
   ]
  },
  {
   "cell_type": "code",
   "execution_count": null,
   "id": "46add094-71aa-4301-835d-358a0725b187",
   "metadata": {},
   "outputs": [],
   "source": []
  },
  {
   "cell_type": "code",
   "execution_count": 18,
   "id": "1c679c07-0d6c-4262-80b7-d3f45962d0b8",
   "metadata": {},
   "outputs": [],
   "source": [
    "# 19"
   ]
  },
  {
   "cell_type": "code",
   "execution_count": 3,
   "id": "e9faf3c4-c90b-43ff-9fee-dc694616fe5a",
   "metadata": {},
   "outputs": [
    {
     "data": {
      "text/plain": [
       "{1, 2, 3, 4, 6, 7, 8, 9}"
      ]
     },
     "execution_count": 3,
     "metadata": {},
     "output_type": "execute_result"
    }
   ],
   "source": [
    "set1 = {1,2,3,4,5}\n",
    "set2 = {5,6,7,8,9}\n",
    "symmetric_difference = set1.symmetric_difference(set2)\n",
    "symmetric_difference"
   ]
  },
  {
   "cell_type": "code",
   "execution_count": null,
   "id": "b5debbef-89f8-4434-8914-fa5d879aa121",
   "metadata": {},
   "outputs": [],
   "source": []
  },
  {
   "cell_type": "code",
   "execution_count": 4,
   "id": "bba2a20b-4ce5-4920-9833-e8b84cc38c03",
   "metadata": {},
   "outputs": [],
   "source": [
    "# 20"
   ]
  },
  {
   "cell_type": "code",
   "execution_count": 11,
   "id": "b00679fe-f2ae-44d8-8187-f03aa8433c19",
   "metadata": {},
   "outputs": [
    {
     "data": {
      "text/plain": [
       "{1, 2, 3, 4, 5, 6, 7, 8, 9}"
      ]
     },
     "execution_count": 11,
     "metadata": {},
     "output_type": "execute_result"
    }
   ],
   "source": [
    "set1 = {1,2,3,4,5}\n",
    "set2 = {6,7,8,9}\n",
    "set1.update(set2)\n",
    "set1"
   ]
  },
  {
   "cell_type": "code",
   "execution_count": null,
   "id": "9f8d5a4a-39e9-4e6a-b5f3-b96dc1cf27c9",
   "metadata": {},
   "outputs": [],
   "source": []
  },
  {
   "cell_type": "code",
   "execution_count": 12,
   "id": "f767cad4-ad12-4335-8d22-c830c513743b",
   "metadata": {},
   "outputs": [],
   "source": [
    "# 21"
   ]
  },
  {
   "cell_type": "code",
   "execution_count": 15,
   "id": "a66c5832-ac84-4986-8fbb-c7a8ebe6aafb",
   "metadata": {},
   "outputs": [
    {
     "data": {
      "text/plain": [
       "{2, 3, 5, 7, 11}"
      ]
     },
     "execution_count": 15,
     "metadata": {},
     "output_type": "execute_result"
    }
   ],
   "source": [
    "def is_prime(n):\n",
    "    if n <= 1:\n",
    "        return False\n",
    "    for i in range(2,int(n ** 0.5) + 1):\n",
    "        if n % i == 0:\n",
    "            return False\n",
    "    return True\n",
    "prime_num_set = set()\n",
    "n = 2\n",
    "while len(prime_num_set) < 5:\n",
    "    if is_prime(n):\n",
    "        prime_num_set.add(n)\n",
    "    n += 1\n",
    "    \n",
    "prime_num_set"
   ]
  },
  {
   "cell_type": "code",
   "execution_count": null,
   "id": "d8c8e710-136b-4005-b0a2-feb421ce27f7",
   "metadata": {},
   "outputs": [],
   "source": []
  },
  {
   "cell_type": "code",
   "execution_count": 16,
   "id": "8184de8e-5a0b-4d09-980d-8117eb7d6120",
   "metadata": {},
   "outputs": [],
   "source": [
    "# 22"
   ]
  },
  {
   "cell_type": "code",
   "execution_count": 4,
   "id": "ed3f9d16-e16b-4550-89aa-42f59072e572",
   "metadata": {},
   "outputs": [
    {
     "name": "stdout",
     "output_type": "stream",
     "text": [
      "sets are not identical\n"
     ]
    }
   ],
   "source": [
    "set1 = {1,2,3,4,5}\n",
    "set2 = {6,7,8,9,10}\n",
    "if set1 == set2:\n",
    "    print(\"sets are identical\")\n",
    "else:\n",
    "    print(\"sets are not identical\")"
   ]
  },
  {
   "cell_type": "code",
   "execution_count": null,
   "id": "58bd0283-49e4-4e2a-bd5b-02b5457c1af9",
   "metadata": {},
   "outputs": [],
   "source": []
  },
  {
   "cell_type": "code",
   "execution_count": 5,
   "id": "50abbac9-9af4-4bb9-8ad7-c60736247003",
   "metadata": {},
   "outputs": [],
   "source": [
    "# 23"
   ]
  },
  {
   "cell_type": "code",
   "execution_count": 20,
   "id": "84b0524d-7b16-4a9b-b532-f19c397e38af",
   "metadata": {},
   "outputs": [
    {
     "data": {
      "text/plain": [
       "frozenset({1, 2, 3})"
      ]
     },
     "execution_count": 20,
     "metadata": {},
     "output_type": "execute_result"
    }
   ],
   "source": [
    "tpl = (1,2,3)\n",
    "frozen_set = frozenset(tpl)\n",
    "frozen_set"
   ]
  },
  {
   "cell_type": "code",
   "execution_count": null,
   "id": "407394b4-783d-4dec-8b3d-e8f38ca1ebc4",
   "metadata": {},
   "outputs": [],
   "source": []
  },
  {
   "cell_type": "code",
   "execution_count": 12,
   "id": "36d68099-5d8a-4758-bf13-0f928a429f7e",
   "metadata": {},
   "outputs": [],
   "source": [
    "# 24"
   ]
  },
  {
   "cell_type": "code",
   "execution_count": 15,
   "id": "e78802a2-eed2-4cd5-bbd5-eb62c8416cd9",
   "metadata": {},
   "outputs": [
    {
     "data": {
      "text/plain": [
       "True"
      ]
     },
     "execution_count": 15,
     "metadata": {},
     "output_type": "execute_result"
    }
   ],
   "source": [
    "set1 = {1,2,3,4,5}\n",
    "set2 = {6,7,8,9,10}\n",
    "set1.isdisjoint(set2)"
   ]
  },
  {
   "cell_type": "code",
   "execution_count": null,
   "id": "53142bc8-17a2-4b05-a7b4-0999a02033b6",
   "metadata": {},
   "outputs": [],
   "source": []
  },
  {
   "cell_type": "code",
   "execution_count": 16,
   "id": "fcb6dfde-ed7b-4229-a993-a8d4d3cad884",
   "metadata": {},
   "outputs": [],
   "source": [
    "# 25"
   ]
  },
  {
   "cell_type": "code",
   "execution_count": 18,
   "id": "f055ddcb-8e2d-4a33-b0ba-34bba2cdf82a",
   "metadata": {},
   "outputs": [
    {
     "data": {
      "text/plain": [
       "{1, 4, 9, 16, 25}"
      ]
     },
     "execution_count": 18,
     "metadata": {},
     "output_type": "execute_result"
    }
   ],
   "source": [
    "square_set = {i**2 for i in range(1,6)}\n",
    "square_set"
   ]
  },
  {
   "cell_type": "code",
   "execution_count": null,
   "id": "6408e1ae-a9fe-437f-8797-ecece61b82ee",
   "metadata": {},
   "outputs": [],
   "source": []
  },
  {
   "cell_type": "code",
   "execution_count": 19,
   "id": "b918fb8a-05d0-4176-83d4-1256395a9edd",
   "metadata": {},
   "outputs": [],
   "source": [
    "# 26"
   ]
  },
  {
   "cell_type": "code",
   "execution_count": 22,
   "id": "40389d17-28c6-412f-860c-ff1fb24f7209",
   "metadata": {},
   "outputs": [
    {
     "data": {
      "text/plain": [
       "{2, 4, 6, 8, 10}"
      ]
     },
     "execution_count": 22,
     "metadata": {},
     "output_type": "execute_result"
    }
   ],
   "source": [
    "num_set = {1,2,3,4,5,6,7,8,9,10}\n",
    "even_set = {i for i in num_set if i%2 == 0}\n",
    "even_set"
   ]
  },
  {
   "cell_type": "code",
   "execution_count": null,
   "id": "51b6d99a-1b1a-4609-a9cc-c04f1425b96f",
   "metadata": {},
   "outputs": [],
   "source": []
  },
  {
   "cell_type": "code",
   "execution_count": 23,
   "id": "d41e9fe6-21f9-4236-a782-f58eb47bb994",
   "metadata": {},
   "outputs": [],
   "source": [
    "# 27"
   ]
  },
  {
   "cell_type": "code",
   "execution_count": 24,
   "id": "413109db-8fbd-4532-b550-c599efcd8934",
   "metadata": {},
   "outputs": [
    {
     "data": {
      "text/plain": [
       "{2, 4, 6, 8, 10, 12}"
      ]
     },
     "execution_count": 24,
     "metadata": {},
     "output_type": "execute_result"
    }
   ],
   "source": [
    "num_set = {1,2,3,4,5,6}\n",
    "multiply_set = {num*2 for num in num_set} \n",
    "multiply_set"
   ]
  },
  {
   "cell_type": "code",
   "execution_count": null,
   "id": "0d5237f2-a04e-4e6a-80a0-5a801db1c595",
   "metadata": {},
   "outputs": [],
   "source": []
  },
  {
   "cell_type": "code",
   "execution_count": 25,
   "id": "f085e61d-464a-4a79-8b29-038f3a5936cb",
   "metadata": {},
   "outputs": [],
   "source": [
    "# 28"
   ]
  },
  {
   "cell_type": "code",
   "execution_count": 36,
   "id": "83fa4fa7-adc5-4a01-b3b9-b4f04e761d13",
   "metadata": {},
   "outputs": [
    {
     "data": {
      "text/plain": [
       "{7, 10, 25, 35, 44}"
      ]
     },
     "execution_count": 36,
     "metadata": {},
     "output_type": "execute_result"
    }
   ],
   "source": [
    "import random\n",
    "number = 5\n",
    "random_set = set()\n",
    "for i in range(number):\n",
    "    random_num = random.randint(1,50)\n",
    "    random_set.add(random_num)\n",
    "random_set"
   ]
  },
  {
   "cell_type": "code",
   "execution_count": null,
   "id": "ad103840-57d9-4cea-9d6e-16c3f5d93c08",
   "metadata": {},
   "outputs": [],
   "source": []
  },
  {
   "cell_type": "code",
   "execution_count": 37,
   "id": "3cd0347f-4561-4670-912e-6d0f54db6df2",
   "metadata": {},
   "outputs": [],
   "source": [
    "# 29"
   ]
  },
  {
   "cell_type": "code",
   "execution_count": 41,
   "id": "5b7ce3fc-4035-405c-844f-1822ecb2afb1",
   "metadata": {},
   "outputs": [
    {
     "name": "stdout",
     "output_type": "stream",
     "text": [
      "set is empty\n"
     ]
    }
   ],
   "source": [
    "empty_set = set()\n",
    "if len(empty_set) == 0:\n",
    "    print(\"set is empty\")\n",
    "else:\n",
    "    print(\"set is not empty\")"
   ]
  },
  {
   "cell_type": "code",
   "execution_count": null,
   "id": "538ada4f-f724-4361-a69e-6f8b804898bb",
   "metadata": {},
   "outputs": [],
   "source": []
  },
  {
   "cell_type": "code",
   "execution_count": 45,
   "id": "111c00f6-da16-443a-ab75-65b1bf3b5871",
   "metadata": {},
   "outputs": [],
   "source": [
    "# 30"
   ]
  },
  {
   "cell_type": "code",
   "execution_count": 47,
   "id": "7d04f584-32db-4885-8fa6-b51509d46202",
   "metadata": {},
   "outputs": [
    {
     "data": {
      "text/plain": [
       "{6, 7, 8, 9, frozenset({1, 2, 3, 4, 5})}"
      ]
     },
     "execution_count": 47,
     "metadata": {},
     "output_type": "execute_result"
    }
   ],
   "source": [
    "numbers = {1,2,3,4,5}\n",
    "frozen_set = frozenset(numbers)\n",
    "nested_set = {6,7,8,9,frozen_set}\n",
    "nested_set"
   ]
  },
  {
   "cell_type": "code",
   "execution_count": null,
   "id": "7f69b87f-cb0e-4b29-9d9e-edd7a792818b",
   "metadata": {},
   "outputs": [],
   "source": []
  },
  {
   "cell_type": "code",
   "execution_count": 48,
   "id": "eeed6a07-0c88-4fe6-a4f9-e098376027e4",
   "metadata": {},
   "outputs": [],
   "source": [
    "# 31"
   ]
  },
  {
   "cell_type": "code",
   "execution_count": 49,
   "id": "1e6dfffa-b046-4700-96bc-1b10c8ade3ac",
   "metadata": {},
   "outputs": [
    {
     "data": {
      "text/plain": [
       "{1, 2, 4, 5, 6}"
      ]
     },
     "execution_count": 49,
     "metadata": {},
     "output_type": "execute_result"
    }
   ],
   "source": [
    "num_set = {1,2,3,4,5,6}\n",
    "num_set.discard(3)\n",
    "num_set"
   ]
  },
  {
   "cell_type": "code",
   "execution_count": null,
   "id": "bbedb070-f935-4ebd-a795-5e83c08f44e8",
   "metadata": {},
   "outputs": [],
   "source": []
  },
  {
   "cell_type": "code",
   "execution_count": 50,
   "id": "53dfcc7f-4b6e-4120-9971-717486aaf8fd",
   "metadata": {},
   "outputs": [],
   "source": [
    "# 32"
   ]
  },
  {
   "cell_type": "code",
   "execution_count": 53,
   "id": "10990559-7c99-4728-96ab-870842e011e1",
   "metadata": {},
   "outputs": [],
   "source": [
    "set1 = {1,2,3,4,5}\n",
    "set2 = {5,6,7,8,9}\n",
    "is_subset = set1.issubset(set2)\n",
    "is_superset = set1.issuperset(set2)\n",
    "intersection = set1.intersection(set2)\n",
    "union = set1.union(set2)\n",
    "difference = set1.difference(set2)"
   ]
  },
  {
   "cell_type": "code",
   "execution_count": 55,
   "id": "de9f7b4d-b307-4dbc-8b7f-62ec118aaa29",
   "metadata": {},
   "outputs": [
    {
     "name": "stdout",
     "output_type": "stream",
     "text": [
      "False\n",
      "False\n",
      "{5}\n",
      "{1, 2, 3, 4, 5, 6, 7, 8, 9}\n",
      "{1, 2, 3, 4}\n"
     ]
    }
   ],
   "source": [
    "print(is_subset)\n",
    "print(is_superset)\n",
    "print(intersection)\n",
    "print(union)\n",
    "print(difference)"
   ]
  },
  {
   "cell_type": "code",
   "execution_count": null,
   "id": "3f9fef43-8491-4da7-ac94-d3f8ed032537",
   "metadata": {},
   "outputs": [],
   "source": []
  },
  {
   "cell_type": "code",
   "execution_count": 56,
   "id": "f2956ff5-2071-4015-bc67-662dda690dd9",
   "metadata": {},
   "outputs": [],
   "source": [
    "# 33"
   ]
  },
  {
   "cell_type": "code",
   "execution_count": 57,
   "id": "a07c4f2b-03ea-4b4c-ab9f-56e71a00dd9c",
   "metadata": {},
   "outputs": [
    {
     "data": {
      "text/plain": [
       "{'c', 'e', 'i', 'k', 'r', 't'}"
      ]
     },
     "execution_count": 57,
     "metadata": {},
     "output_type": "execute_result"
    }
   ],
   "source": [
    "string = \"cricket\"\n",
    "string_set = set(string)\n",
    "string_set"
   ]
  },
  {
   "cell_type": "code",
   "execution_count": null,
   "id": "f3bd2c04-1e43-4e85-9901-9d75c6ee03e0",
   "metadata": {},
   "outputs": [],
   "source": []
  },
  {
   "cell_type": "code",
   "execution_count": 58,
   "id": "3308c035-68db-42ce-a440-f52f77f3ce1d",
   "metadata": {},
   "outputs": [],
   "source": [
    "# 34"
   ]
  },
  {
   "cell_type": "code",
   "execution_count": 76,
   "id": "ecdf3aed-b857-4354-8bb9-ac015f0e3860",
   "metadata": {},
   "outputs": [
    {
     "data": {
      "text/plain": [
       "{12, 34, 56, 789}"
      ]
     },
     "execution_count": 76,
     "metadata": {},
     "output_type": "execute_result"
    }
   ],
   "source": [
    "string_set = {\"12\",\"34\",\"56\",\"789\"}\n",
    "int_set = set()\n",
    "for ele in string_set:\n",
    "    int_ele = int(ele)\n",
    "    int_set.add(int_ele)\n",
    "int_set"
   ]
  },
  {
   "cell_type": "code",
   "execution_count": null,
   "id": "1a79ca3f-9936-438b-a903-9af99fa4674c",
   "metadata": {},
   "outputs": [],
   "source": []
  },
  {
   "cell_type": "code",
   "execution_count": 78,
   "id": "5757d834-eaae-444a-a126-b56551638598",
   "metadata": {},
   "outputs": [],
   "source": [
    "# 35"
   ]
  },
  {
   "cell_type": "code",
   "execution_count": 80,
   "id": "f796a709-18ca-4d72-9893-0a43570f3b14",
   "metadata": {},
   "outputs": [
    {
     "data": {
      "text/plain": [
       "{'12', '34', '56', '789'}"
      ]
     },
     "execution_count": 80,
     "metadata": {},
     "output_type": "execute_result"
    }
   ],
   "source": [
    "int_set = {12, 34, 56, 789}\n",
    "string_set = set()\n",
    "for ele in int_set:\n",
    "    str_ele = str(ele)\n",
    "    string_set.add(str_ele)\n",
    "string_set"
   ]
  },
  {
   "cell_type": "code",
   "execution_count": null,
   "id": "5f22133d-ccb8-4a0f-b280-bc38c33dd3d5",
   "metadata": {},
   "outputs": [],
   "source": []
  },
  {
   "cell_type": "code",
   "execution_count": 81,
   "id": "946edd09-7e0b-4206-9f6c-696e26625d20",
   "metadata": {},
   "outputs": [],
   "source": [
    "# 36"
   ]
  },
  {
   "cell_type": "code",
   "execution_count": 82,
   "id": "0cb763b0-7aed-4665-bf96-6d8920cbb6a6",
   "metadata": {},
   "outputs": [
    {
     "data": {
      "text/plain": [
       "{1, 2, 3, 4, 5}"
      ]
     },
     "execution_count": 82,
     "metadata": {},
     "output_type": "execute_result"
    }
   ],
   "source": [
    "tupl = (1,2,3,4,5)\n",
    "tupl_set = set(tupl)\n",
    "tupl_set"
   ]
  },
  {
   "cell_type": "code",
   "execution_count": null,
   "id": "d2d7f1e9-ce49-492b-8379-2934ef41384e",
   "metadata": {},
   "outputs": [],
   "source": []
  },
  {
   "cell_type": "code",
   "execution_count": 83,
   "id": "7b367fc6-d0c1-4126-b8cc-ecc118eeda0e",
   "metadata": {},
   "outputs": [],
   "source": [
    "# 37"
   ]
  },
  {
   "cell_type": "code",
   "execution_count": 84,
   "id": "3ce621ad-fc37-4ff3-ba17-9735e292c19e",
   "metadata": {},
   "outputs": [
    {
     "data": {
      "text/plain": [
       "(1, 2, 3, 4, 5)"
      ]
     },
     "execution_count": 84,
     "metadata": {},
     "output_type": "execute_result"
    }
   ],
   "source": [
    "set_ = {1,2,3,4,5}\n",
    "set_tuple = tuple(set_)\n",
    "set_tuple"
   ]
  },
  {
   "cell_type": "code",
   "execution_count": null,
   "id": "f7c5bd57-f320-4a9d-9a63-c9db35028ce6",
   "metadata": {},
   "outputs": [],
   "source": []
  },
  {
   "cell_type": "code",
   "execution_count": 85,
   "id": "4f52956e-42d9-4cf2-b941-692a74eed6c5",
   "metadata": {},
   "outputs": [],
   "source": [
    "# 38"
   ]
  },
  {
   "cell_type": "code",
   "execution_count": 86,
   "id": "a1810186-bfa2-47f5-a5bf-af66dddaf018",
   "metadata": {},
   "outputs": [
    {
     "data": {
      "text/plain": [
       "56"
      ]
     },
     "execution_count": 86,
     "metadata": {},
     "output_type": "execute_result"
    }
   ],
   "source": [
    "set_1 = {12,34,23,56,45}\n",
    "max_val = max(set_1)\n",
    "max_val"
   ]
  },
  {
   "cell_type": "code",
   "execution_count": null,
   "id": "f907d3a2-59e4-46d8-a59d-f9dd0478d650",
   "metadata": {},
   "outputs": [],
   "source": []
  },
  {
   "cell_type": "code",
   "execution_count": 87,
   "id": "4e26a2fb-4b37-4e1e-911f-a9d306c5c4ae",
   "metadata": {},
   "outputs": [],
   "source": [
    "# 39"
   ]
  },
  {
   "cell_type": "code",
   "execution_count": 88,
   "id": "28e812de-71f7-4b30-b4a3-6a08f3f001f1",
   "metadata": {},
   "outputs": [
    {
     "data": {
      "text/plain": [
       "12"
      ]
     },
     "execution_count": 88,
     "metadata": {},
     "output_type": "execute_result"
    }
   ],
   "source": [
    "set_1 = {12,34,23,56,45}\n",
    "min_val = min(set_1)\n",
    "min_val"
   ]
  },
  {
   "cell_type": "code",
   "execution_count": null,
   "id": "692d8146-b227-4e03-a7d8-2767841e69e9",
   "metadata": {},
   "outputs": [],
   "source": []
  },
  {
   "cell_type": "code",
   "execution_count": 89,
   "id": "1528d44d-e283-4a45-a581-a944bc315472",
   "metadata": {},
   "outputs": [],
   "source": [
    "# 40"
   ]
  },
  {
   "cell_type": "code",
   "execution_count": 2,
   "id": "462474d3-b37d-4ff9-b63d-d63b19dfc691",
   "metadata": {},
   "outputs": [
    {
     "name": "stdin",
     "output_type": "stream",
     "text": [
      "enter the elements  2,3,4,5,pw,python\n"
     ]
    },
    {
     "data": {
      "text/plain": [
       "{' 2', '3', '4', '5', 'pw', 'python'}"
      ]
     },
     "execution_count": 2,
     "metadata": {},
     "output_type": "execute_result"
    }
   ],
   "source": [
    "user_input = input(\"enter the elements\")\n",
    "elements = user_input.split(\",\")\n",
    "element_set = set(elements)\n",
    "element_set"
   ]
  },
  {
   "cell_type": "code",
   "execution_count": null,
   "id": "fc93c6a9-fd4a-4b76-b1cf-e691e4381d4d",
   "metadata": {},
   "outputs": [],
   "source": []
  },
  {
   "cell_type": "code",
   "execution_count": 3,
   "id": "24d96360-e28a-4ca7-b893-e63c59e28bad",
   "metadata": {},
   "outputs": [],
   "source": [
    "# 41"
   ]
  },
  {
   "cell_type": "code",
   "execution_count": 4,
   "id": "4270256c-3884-4f25-a078-8a562251295d",
   "metadata": {},
   "outputs": [
    {
     "data": {
      "text/plain": [
       "{5}"
      ]
     },
     "execution_count": 4,
     "metadata": {},
     "output_type": "execute_result"
    }
   ],
   "source": [
    "set1 = {1,2,3,4,5}\n",
    "set2 = {5,6,7,8,9}\n",
    "intersection = set1.intersection(set2)\n",
    "intersection"
   ]
  },
  {
   "cell_type": "code",
   "execution_count": 7,
   "id": "b9c76d1f-7de1-4503-9492-c1530b9cabe6",
   "metadata": {},
   "outputs": [],
   "source": [
    "def check_empty(intersection_set):\n",
    "    if len(intersection) == 0 :\n",
    "        print(\"empty\")\n",
    "    else:\n",
    "        print(\"not empty\")"
   ]
  },
  {
   "cell_type": "code",
   "execution_count": 8,
   "id": "81f987ed-2329-4357-9821-c74645b27af4",
   "metadata": {},
   "outputs": [
    {
     "name": "stdout",
     "output_type": "stream",
     "text": [
      "not empty\n"
     ]
    }
   ],
   "source": [
    "check_empty(intersection)"
   ]
  },
  {
   "cell_type": "code",
   "execution_count": null,
   "id": "2a5d0c95-91d1-4a0d-a1e4-bf43f2b6e9dd",
   "metadata": {},
   "outputs": [],
   "source": []
  },
  {
   "cell_type": "code",
   "execution_count": 9,
   "id": "c13fd78a-e01e-4455-87c9-10c3a64a9e8f",
   "metadata": {},
   "outputs": [],
   "source": [
    "# 42"
   ]
  },
  {
   "cell_type": "code",
   "execution_count": 30,
   "id": "529200b3-cf5a-4b19-b472-a6c20cf3901f",
   "metadata": {},
   "outputs": [
    {
     "data": {
      "text/plain": [
       "{0, 1, 2, 3}"
      ]
     },
     "execution_count": 30,
     "metadata": {},
     "output_type": "execute_result"
    }
   ],
   "source": [
    "fibonacci_set = set()\n",
    "a,b = 0,1\n",
    "for i in range(5):\n",
    "    fibonacci_set.add(a)\n",
    "    a,b = b,a+b\n",
    "    \n",
    "fibonacci_set"
   ]
  },
  {
   "cell_type": "code",
   "execution_count": 10,
   "id": "545e6707-2e00-4eb9-97a2-6c81a4da7eb6",
   "metadata": {},
   "outputs": [],
   "source": [
    "# 43"
   ]
  },
  {
   "cell_type": "code",
   "execution_count": 13,
   "id": "f2ee1bab-074d-4654-ab76-0da5e4f66f97",
   "metadata": {},
   "outputs": [
    {
     "data": {
      "text/plain": [
       "[2, 3, 4, 5, 6, 7, 8, 9]"
      ]
     },
     "execution_count": 13,
     "metadata": {},
     "output_type": "execute_result"
    }
   ],
   "source": [
    "lst = [2,3,5,7,3,4,2,5,6,8,9]\n",
    "removed_set = set(lst)\n",
    "removed_lst = list(removed_set)\n",
    "removed_lst"
   ]
  },
  {
   "cell_type": "code",
   "execution_count": null,
   "id": "7747163f-733e-42a6-b993-3b3bfc2474bb",
   "metadata": {},
   "outputs": [],
   "source": []
  },
  {
   "cell_type": "code",
   "execution_count": 15,
   "id": "c7dfbfc8-4b0c-4343-a15e-bdf9b125e1c0",
   "metadata": {},
   "outputs": [],
   "source": [
    "# 44"
   ]
  },
  {
   "cell_type": "code",
   "execution_count": 16,
   "id": "f35be55a-2615-4c3f-9341-34b85989476e",
   "metadata": {},
   "outputs": [
    {
     "data": {
      "text/plain": [
       "False"
      ]
     },
     "execution_count": 16,
     "metadata": {},
     "output_type": "execute_result"
    }
   ],
   "source": [
    "def same_ele_check(set1,set2):\n",
    "    sorted_list1 = sorted(set1)\n",
    "    sorted_list2 = sorted(set2)\n",
    "    return sorted_list1 == sorted_list2\n",
    "\n",
    "set1 = {1,2,3,4,5}\n",
    "set2 = {6,7,8,9}\n",
    "same_ele_check(set1,set2)"
   ]
  },
  {
   "cell_type": "code",
   "execution_count": null,
   "id": "f8aeeea7-dc11-41ca-8368-e793fe1ea8d0",
   "metadata": {},
   "outputs": [],
   "source": []
  },
  {
   "cell_type": "code",
   "execution_count": 17,
   "id": "54095b5e-f2d6-4984-b005-700e5f0788e8",
   "metadata": {},
   "outputs": [],
   "source": [
    "# 45"
   ]
  },
  {
   "cell_type": "code",
   "execution_count": 19,
   "id": "b1174a8d-ca0f-444e-8e6b-e9fc9e3956e1",
   "metadata": {},
   "outputs": [
    {
     "name": "stdin",
     "output_type": "stream",
     "text": [
      "enter the n 5\n"
     ]
    },
    {
     "data": {
      "text/plain": [
       "{1, 2, 4, 8, 16, 32}"
      ]
     },
     "execution_count": 19,
     "metadata": {},
     "output_type": "execute_result"
    }
   ],
   "source": [
    "enter_n = int(input(\"enter the n\"))\n",
    "power_set = {2**i for i in range(enter_n+1)}\n",
    "power_set"
   ]
  },
  {
   "cell_type": "code",
   "execution_count": null,
   "id": "7f863590-8895-4861-839c-5a057daa6fd5",
   "metadata": {},
   "outputs": [],
   "source": []
  },
  {
   "cell_type": "code",
   "execution_count": 20,
   "id": "ed6c1003-08f6-4378-bfb0-bf8a97987360",
   "metadata": {},
   "outputs": [],
   "source": [
    "# 46"
   ]
  },
  {
   "cell_type": "code",
   "execution_count": 21,
   "id": "e869cae7-6bde-4815-b9ba-104b693d2025",
   "metadata": {},
   "outputs": [
    {
     "data": {
      "text/plain": [
       "{5, 6}"
      ]
     },
     "execution_count": 21,
     "metadata": {},
     "output_type": "execute_result"
    }
   ],
   "source": [
    "set1 = {1,2,3,4,5,6}\n",
    "set2 = {5,6,7,8,9}\n",
    "common_elements = set1.intersection(set2)\n",
    "common_elements"
   ]
  },
  {
   "cell_type": "code",
   "execution_count": null,
   "id": "a702deae-02f0-4d6d-97ab-e7417892b61e",
   "metadata": {},
   "outputs": [],
   "source": []
  },
  {
   "cell_type": "code",
   "execution_count": 22,
   "id": "cce97b87-2334-43da-830f-5147f4687c08",
   "metadata": {},
   "outputs": [],
   "source": [
    "# 47"
   ]
  },
  {
   "cell_type": "code",
   "execution_count": 31,
   "id": "e68c9571-ad4e-4c9c-8204-55d9e9724fc2",
   "metadata": {},
   "outputs": [
    {
     "data": {
      "text/plain": [
       "{1, 3, 6, 10, 15}"
      ]
     },
     "execution_count": 31,
     "metadata": {},
     "output_type": "execute_result"
    }
   ],
   "source": [
    "def generate_triangular_num(n):\n",
    "    tri_num = set()\n",
    "    for i in range(1,n+1):\n",
    "        triangular_num = i * (i+1)//2\n",
    "        tri_num.add(triangular_num)\n",
    "    return tri_num\n",
    "\n",
    "\n",
    "generate_triangular_num(5)"
   ]
  },
  {
   "cell_type": "code",
   "execution_count": 23,
   "id": "7b1f019d-99e8-47a7-ac60-486be962066c",
   "metadata": {},
   "outputs": [],
   "source": [
    "# 48"
   ]
  },
  {
   "cell_type": "code",
   "execution_count": 27,
   "id": "d47c5245-dc79-462e-8639-05eece6ae747",
   "metadata": {},
   "outputs": [],
   "source": [
    "def subset_check(given_set,subset):\n",
    "    if subset.issubset(given_set):\n",
    "        print(\"set contains subset\")\n",
    "    else:\n",
    "        print(\"set doesn't contain subset\")"
   ]
  },
  {
   "cell_type": "code",
   "execution_count": 28,
   "id": "ec07ed06-6e2d-4042-bd8f-d2ce18d5bef1",
   "metadata": {},
   "outputs": [
    {
     "name": "stdout",
     "output_type": "stream",
     "text": [
      "set contains subset\n"
     ]
    }
   ],
   "source": [
    "set1 = {1, 2, 3, 4, 5}\n",
    "set2 = {2,4}\n",
    "subset_check(set1,set2)"
   ]
  },
  {
   "cell_type": "code",
   "execution_count": null,
   "id": "d4801972-94ab-40a8-9ed4-5cf569f1de10",
   "metadata": {},
   "outputs": [],
   "source": []
  },
  {
   "cell_type": "code",
   "execution_count": 29,
   "id": "50962eff-1b1d-4a0d-a367-91b5657774b0",
   "metadata": {},
   "outputs": [],
   "source": [
    "# 49"
   ]
  },
  {
   "cell_type": "code",
   "execution_count": 32,
   "id": "50bd4f8e-ac2b-4fe6-b0cb-dee6bcd9f6e1",
   "metadata": {},
   "outputs": [
    {
     "data": {
      "text/plain": [
       "{0, 1}"
      ]
     },
     "execution_count": 32,
     "metadata": {},
     "output_type": "execute_result"
    }
   ],
   "source": [
    "def alternate_set(n):\n",
    "    alternate_set = set()\n",
    "    for i in range(n):\n",
    "        if i % 2 == 0:\n",
    "            alternate_set.add(1)\n",
    "        else:\n",
    "            alternate_set.add(0)\n",
    "    return alternate_set\n",
    "\n",
    "alternate_set(6)"
   ]
  },
  {
   "cell_type": "code",
   "execution_count": null,
   "id": "f00f6b23-112e-46d2-8ad1-acda80055678",
   "metadata": {},
   "outputs": [],
   "source": []
  },
  {
   "cell_type": "code",
   "execution_count": 34,
   "id": "67078811-3a0b-4d66-9119-3ab9632168eb",
   "metadata": {},
   "outputs": [],
   "source": [
    "# 50"
   ]
  },
  {
   "cell_type": "code",
   "execution_count": 36,
   "id": "93baaf7e-bfcb-40b9-a601-82e72e120b72",
   "metadata": {},
   "outputs": [
    {
     "data": {
      "text/plain": [
       "{1, 2, 3, 4, 5, 6, 7, 8, 9}"
      ]
     },
     "execution_count": 36,
     "metadata": {},
     "output_type": "execute_result"
    }
   ],
   "source": [
    "set1 = {1,2,3,4,5}\n",
    "set2 = {6,7,8,9}\n",
    "merge_set = set1.union(set2)\n",
    "merge_set"
   ]
  },
  {
   "cell_type": "code",
   "execution_count": null,
   "id": "a453f790-7e8d-4b36-a219-dce91882017a",
   "metadata": {},
   "outputs": [],
   "source": []
  }
 ],
 "metadata": {
  "kernelspec": {
   "display_name": "Python 3 (ipykernel)",
   "language": "python",
   "name": "python3"
  },
  "language_info": {
   "codemirror_mode": {
    "name": "ipython",
    "version": 3
   },
   "file_extension": ".py",
   "mimetype": "text/x-python",
   "name": "python",
   "nbconvert_exporter": "python",
   "pygments_lexer": "ipython3",
   "version": "3.10.8"
  }
 },
 "nbformat": 4,
 "nbformat_minor": 5
}
