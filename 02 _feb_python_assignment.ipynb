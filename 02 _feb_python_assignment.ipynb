{
 "cells": [
  {
   "cell_type": "code",
   "execution_count": 2,
   "id": "95dff0ec-5c7e-428e-a571-6096ee37ef2b",
   "metadata": {},
   "outputs": [],
   "source": [
    "# Q1. Explain with an example each when to use a for loop and a while loop."
   ]
  },
  {
   "cell_type": "code",
   "execution_count": 3,
   "id": "b7580408-3af8-48ab-82e4-e864ef939110",
   "metadata": {},
   "outputs": [
    {
     "data": {
      "text/plain": [
       "' We use for loop when we know how \\nmany times you need to iterate .'"
      ]
     },
     "execution_count": 3,
     "metadata": {},
     "output_type": "execute_result"
    }
   ],
   "source": [
    "\"\"\" We use for loop when we know how \n",
    "many times you need to iterate .\"\"\"\n"
   ]
  },
  {
   "cell_type": "code",
   "execution_count": 4,
   "id": "831def5f-1912-4156-9f33-b730911e232a",
   "metadata": {},
   "outputs": [],
   "source": [
    "l = [1,2,3,4,5,6]"
   ]
  },
  {
   "cell_type": "code",
   "execution_count": 5,
   "id": "b6952faa-d29f-417b-888a-61b156aabe40",
   "metadata": {},
   "outputs": [
    {
     "name": "stdout",
     "output_type": "stream",
     "text": [
      "1\n",
      "2\n",
      "3\n",
      "4\n",
      "5\n",
      "6\n"
     ]
    }
   ],
   "source": [
    "for i in l :\n",
    "    print(i)"
   ]
  },
  {
   "cell_type": "code",
   "execution_count": 6,
   "id": "08dbc3ac-4cb0-454d-b12e-5d3c56d4f3a8",
   "metadata": {},
   "outputs": [
    {
     "data": {
      "text/plain": [
       "\" We use while loop when we don't know how many times you need to \\niterate and you have a specific condition.\""
      ]
     },
     "execution_count": 6,
     "metadata": {},
     "output_type": "execute_result"
    }
   ],
   "source": [
    "\"\"\" We use while loop when we don't know how many times you need to \n",
    "iterate and you have a specific condition.\"\"\"\n"
   ]
  },
  {
   "cell_type": "code",
   "execution_count": 7,
   "id": "9094b0bd-4a4c-4fac-ba73-094e8558c832",
   "metadata": {},
   "outputs": [
    {
     "name": "stdout",
     "output_type": "stream",
     "text": [
      "1\n",
      "2\n",
      "3\n",
      "4\n",
      "5\n",
      "6\n"
     ]
    }
   ],
   "source": [
    "i = 1\n",
    "while i <= 6:\n",
    "    print(i)\n",
    "    i += 1"
   ]
  },
  {
   "cell_type": "code",
   "execution_count": 8,
   "id": "33b59ab9-48fa-42e0-a537-a3021956979d",
   "metadata": {},
   "outputs": [],
   "source": [
    "# Q2. Write a python program to print the sum and product of the first 10 natural numbers using for\n",
    "#     and while loop."
   ]
  },
  {
   "cell_type": "code",
   "execution_count": 9,
   "id": "c9bc5b83-f053-4fdf-b7bd-a51b5cea8047",
   "metadata": {},
   "outputs": [],
   "source": [
    "# Sum of the numbers using for loop"
   ]
  },
  {
   "cell_type": "code",
   "execution_count": 10,
   "id": "75b917da-2afc-419f-ac02-de5d1aff6f24",
   "metadata": {},
   "outputs": [
    {
     "data": {
      "text/plain": [
       "55"
      ]
     },
     "execution_count": 10,
     "metadata": {},
     "output_type": "execute_result"
    }
   ],
   "source": [
    "total_sum = 0\n",
    "for i in range(1,11):\n",
    "    total_sum = total_sum + i\n",
    "total_sum\n",
    "\n",
    "    "
   ]
  },
  {
   "cell_type": "code",
   "execution_count": 11,
   "id": "3eb0ed16-f668-44ce-899c-b1e6ff49f56e",
   "metadata": {},
   "outputs": [],
   "source": [
    "# Sum of the numbers using while loop"
   ]
  },
  {
   "cell_type": "code",
   "execution_count": 12,
   "id": "f71eca49-76df-4475-b529-95f5bcc10eba",
   "metadata": {},
   "outputs": [
    {
     "data": {
      "text/plain": [
       "55"
      ]
     },
     "execution_count": 12,
     "metadata": {},
     "output_type": "execute_result"
    }
   ],
   "source": [
    "total_sum = 0\n",
    "i = 1\n",
    "while i <= 10:\n",
    "        total_sum = total_sum + i\n",
    "        i += 1\n",
    "total_sum"
   ]
  },
  {
   "cell_type": "code",
   "execution_count": 13,
   "id": "b10fcd9e-7619-4254-8970-d2dd669fce9c",
   "metadata": {},
   "outputs": [],
   "source": [
    "# Product of the first 10 natural numbers using for loop"
   ]
  },
  {
   "cell_type": "code",
   "execution_count": 14,
   "id": "36341789-344d-4b35-b092-afd4e69096cc",
   "metadata": {},
   "outputs": [
    {
     "data": {
      "text/plain": [
       "3628800"
      ]
     },
     "execution_count": 14,
     "metadata": {},
     "output_type": "execute_result"
    }
   ],
   "source": [
    "product = 1\n",
    "for i in range(1,11):\n",
    "    product = product * i\n",
    "product"
   ]
  },
  {
   "cell_type": "code",
   "execution_count": 15,
   "id": "2d9cb127-0588-48b1-97f0-2d8625fdb67e",
   "metadata": {},
   "outputs": [],
   "source": [
    "# Product of the first 10 natural numbers using while loop"
   ]
  },
  {
   "cell_type": "code",
   "execution_count": 16,
   "id": "62c8c2d0-1049-476c-b821-278ae4717b09",
   "metadata": {},
   "outputs": [
    {
     "data": {
      "text/plain": [
       "3628800"
      ]
     },
     "execution_count": 16,
     "metadata": {},
     "output_type": "execute_result"
    }
   ],
   "source": [
    "product = 1\n",
    "i = 1\n",
    "while i <= 10 :\n",
    "    product = product * i\n",
    "    i += 1\n",
    "product\n"
   ]
  },
  {
   "cell_type": "code",
   "execution_count": null,
   "id": "5ef94f4c-9fe3-45ba-a852-724c1e88d582",
   "metadata": {},
   "outputs": [],
   "source": []
  },
  {
   "cell_type": "code",
   "execution_count": 22,
   "id": "5299bd3e-2224-4f88-894c-383a7edffc4e",
   "metadata": {},
   "outputs": [],
   "source": [
    "# Q3. Create a python program to compute the electricity bill for a household."
   ]
  },
  {
   "cell_type": "code",
   "execution_count": 27,
   "id": "f32e2e0d-d5a7-4ca2-8132-32a794a5ee41",
   "metadata": {},
   "outputs": [],
   "source": [
    "def electricity_cal(electricity_unit):\n",
    "    total_amount = 0\n",
    "    if 0 < electricity_unit <= 100 :\n",
    "        total_amount = electricity_unit * 4.5\n",
    "    elif 100 < electricity_unit <= 200 :\n",
    "        total_amount = (100 * 4.5) + (electricity_unit - 100) * 6\n",
    "    elif 200 < electricity_unit <= 300 :\n",
    "        total_amount = (100 * 4.5) + (100 * 6) +(electricity_unit - 200) * 10\n",
    "    else:\n",
    "        total_amount = (100 * 4.5) + (100 * 6) + (100 * 10) + (electricity_unit - 300) * 20\n",
    "    return total_amount\n",
    "        \n",
    "    "
   ]
  },
  {
   "cell_type": "code",
   "execution_count": 28,
   "id": "e7b96d18-3550-426f-a6ed-bc9e352c9fc9",
   "metadata": {},
   "outputs": [
    {
     "data": {
      "text/plain": [
       "2250.0"
      ]
     },
     "execution_count": 28,
     "metadata": {},
     "output_type": "execute_result"
    }
   ],
   "source": [
    "electricity_cal(310)"
   ]
  },
  {
   "cell_type": "code",
   "execution_count": null,
   "id": "007714f8-5db7-44c0-8738-edb0b93f7a58",
   "metadata": {},
   "outputs": [],
   "source": []
  },
  {
   "cell_type": "code",
   "execution_count": 29,
   "id": "049f20ef-9023-4ef5-831e-0f0d6a3e5676",
   "metadata": {},
   "outputs": [],
   "source": [
    "# Q4. Create a list of numbers from 1 to 100. Use for loop and while loop to calculate the cube of each\n",
    "#     number and if the cube of that number is divisible by 4 or 5 then append that number in a list and print\n",
    "#     that list."
   ]
  },
  {
   "cell_type": "code",
   "execution_count": 20,
   "id": "8fac5a5b-9076-4ae3-b550-b2af621f6158",
   "metadata": {},
   "outputs": [],
   "source": [
    "num_list = list(range(1,101))"
   ]
  },
  {
   "cell_type": "code",
   "execution_count": 44,
   "id": "99a739bb-f342-4423-8121-a352f3edc31b",
   "metadata": {},
   "outputs": [],
   "source": [
    "# Using for loop "
   ]
  },
  {
   "cell_type": "code",
   "execution_count": 61,
   "id": "1fc09eda-4f52-40b0-88d9-93cdede53265",
   "metadata": {},
   "outputs": [
    {
     "data": {
      "text/plain": [
       "[8,\n",
       " 64,\n",
       " 125,\n",
       " 216,\n",
       " 512,\n",
       " 1000,\n",
       " 1728,\n",
       " 2744,\n",
       " 3375,\n",
       " 4096,\n",
       " 5832,\n",
       " 8000,\n",
       " 10648,\n",
       " 13824,\n",
       " 15625,\n",
       " 17576,\n",
       " 21952,\n",
       " 27000,\n",
       " 32768,\n",
       " 39304,\n",
       " 42875,\n",
       " 46656,\n",
       " 54872,\n",
       " 64000,\n",
       " 74088,\n",
       " 85184,\n",
       " 91125,\n",
       " 97336,\n",
       " 110592,\n",
       " 125000,\n",
       " 140608,\n",
       " 157464,\n",
       " 166375,\n",
       " 175616,\n",
       " 195112,\n",
       " 216000,\n",
       " 238328,\n",
       " 262144,\n",
       " 274625,\n",
       " 287496,\n",
       " 314432,\n",
       " 343000,\n",
       " 373248,\n",
       " 405224,\n",
       " 421875,\n",
       " 438976,\n",
       " 474552,\n",
       " 512000,\n",
       " 551368,\n",
       " 592704,\n",
       " 614125,\n",
       " 636056,\n",
       " 681472,\n",
       " 729000,\n",
       " 778688,\n",
       " 830584,\n",
       " 857375,\n",
       " 884736,\n",
       " 941192,\n",
       " 1000000]"
      ]
     },
     "execution_count": 61,
     "metadata": {},
     "output_type": "execute_result"
    }
   ],
   "source": [
    "divisible_nums = []\n",
    "for i in num_list:\n",
    "    cube_nums = i**3\n",
    "    if cube_nums % 4 == 0 or cube_nums % 5 == 0 :\n",
    "        divisible_nums.append(cube_nums)\n",
    "divisible_nums\n"
   ]
  },
  {
   "cell_type": "code",
   "execution_count": null,
   "id": "1fb5a8d6-762d-4e17-a1da-8697a5379665",
   "metadata": {},
   "outputs": [],
   "source": []
  },
  {
   "cell_type": "code",
   "execution_count": 45,
   "id": "2d8d9314-b779-487f-9781-db3be5fcfa73",
   "metadata": {},
   "outputs": [],
   "source": [
    "# Using while loop "
   ]
  },
  {
   "cell_type": "code",
   "execution_count": 62,
   "id": "62b32653-4937-4588-b6d1-989c5f6dce4e",
   "metadata": {},
   "outputs": [
    {
     "data": {
      "text/plain": [
       "[8,\n",
       " 64,\n",
       " 125,\n",
       " 216,\n",
       " 512,\n",
       " 1000,\n",
       " 1728,\n",
       " 2744,\n",
       " 3375,\n",
       " 4096,\n",
       " 5832,\n",
       " 8000,\n",
       " 10648,\n",
       " 13824,\n",
       " 15625,\n",
       " 17576,\n",
       " 21952,\n",
       " 27000,\n",
       " 32768,\n",
       " 39304,\n",
       " 42875,\n",
       " 46656,\n",
       " 54872,\n",
       " 64000,\n",
       " 74088,\n",
       " 85184,\n",
       " 91125,\n",
       " 97336,\n",
       " 110592,\n",
       " 125000,\n",
       " 140608,\n",
       " 157464,\n",
       " 166375,\n",
       " 175616,\n",
       " 195112,\n",
       " 216000,\n",
       " 238328,\n",
       " 262144,\n",
       " 274625,\n",
       " 287496,\n",
       " 314432,\n",
       " 343000,\n",
       " 373248,\n",
       " 405224,\n",
       " 421875,\n",
       " 438976,\n",
       " 474552,\n",
       " 512000,\n",
       " 551368,\n",
       " 592704,\n",
       " 614125,\n",
       " 636056,\n",
       " 681472,\n",
       " 729000,\n",
       " 778688,\n",
       " 830584,\n",
       " 857375,\n",
       " 884736,\n",
       " 941192,\n",
       " 1000000]"
      ]
     },
     "execution_count": 62,
     "metadata": {},
     "output_type": "execute_result"
    }
   ],
   "source": [
    "divisible_numbers = []\n",
    "i = 1\n",
    "while i <= 100:\n",
    "    cube_numbers = i**3\n",
    "    i += 1\n",
    "    if cube_numbers % 4 == 0 or cube_numbers % 5 == 0 :\n",
    "        divisible_numbers.append(cube_numbers)\n",
    "divisible_numbers"
   ]
  },
  {
   "cell_type": "code",
   "execution_count": null,
   "id": "8b109f14-4f36-4799-b6c0-3e2d8ea27228",
   "metadata": {},
   "outputs": [],
   "source": []
  },
  {
   "cell_type": "code",
   "execution_count": 63,
   "id": "2a6dcabf-67c6-4a35-8711-3803adb0e590",
   "metadata": {},
   "outputs": [],
   "source": [
    "# Q5. Write a program to filter count vowels in the below-given string.\n",
    "#     string = \"I want to become a data scientist\""
   ]
  },
  {
   "cell_type": "code",
   "execution_count": 64,
   "id": "76f1467d-e57f-4ac7-8e02-2807420495e3",
   "metadata": {},
   "outputs": [],
   "source": [
    "string = \"I want to become a data scientist\""
   ]
  },
  {
   "cell_type": "code",
   "execution_count": 91,
   "id": "847f639c-0cdf-427b-8e13-f1c4f33fc854",
   "metadata": {},
   "outputs": [],
   "source": [
    "def count_vowels(string):\n",
    "    count = 0\n",
    "    vowels = 'aeiou'\n",
    "    for char in string.lower():\n",
    "        if char in vowels:\n",
    "            count += 1\n",
    "    return count"
   ]
  },
  {
   "cell_type": "code",
   "execution_count": 92,
   "id": "0630f5ad-75f9-4644-bd5a-aea7701b0b0b",
   "metadata": {},
   "outputs": [
    {
     "data": {
      "text/plain": [
       "12"
      ]
     },
     "execution_count": 92,
     "metadata": {},
     "output_type": "execute_result"
    }
   ],
   "source": [
    "count_vowels(string)"
   ]
  },
  {
   "cell_type": "code",
   "execution_count": null,
   "id": "9be6beb8-fe63-4ce1-879c-636f597545f9",
   "metadata": {},
   "outputs": [],
   "source": []
  },
  {
   "cell_type": "code",
   "execution_count": null,
   "id": "a2263e43-8d5a-40be-8f09-877453d0f59a",
   "metadata": {},
   "outputs": [],
   "source": []
  }
 ],
 "metadata": {
  "kernelspec": {
   "display_name": "Python 3 (ipykernel)",
   "language": "python",
   "name": "python3"
  },
  "language_info": {
   "codemirror_mode": {
    "name": "ipython",
    "version": 3
   },
   "file_extension": ".py",
   "mimetype": "text/x-python",
   "name": "python",
   "nbconvert_exporter": "python",
   "pygments_lexer": "ipython3",
   "version": "3.10.8"
  }
 },
 "nbformat": 4,
 "nbformat_minor": 5
}
