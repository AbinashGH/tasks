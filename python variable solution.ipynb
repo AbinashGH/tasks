{
 "cells": [
  {
   "cell_type": "markdown",
   "id": "cb877b03-dff4-450f-a000-f6f98a0dcc54",
   "metadata": {},
   "source": [
    "Assignment"
   ]
  },
  {
   "cell_type": "code",
   "execution_count": 4,
   "id": "9cea8194-3c87-4edb-8df5-d7e8e49a914a",
   "metadata": {},
   "outputs": [],
   "source": [
    "# 1"
   ]
  },
  {
   "cell_type": "markdown",
   "id": "d5bf5fa1-d27a-4d4f-9953-eabae5483d5f",
   "metadata": {},
   "source": [
    "The conventions are followed to declare a string is :\n",
    "A variable name must start with a letter or the underscore character.\n",
    "A variable name cannot start with a number.\n",
    "A variable name can only contain alpha-numeric characters and underscores .\n",
    "Variable names are case-sensitive ."
   ]
  },
  {
   "cell_type": "code",
   "execution_count": null,
   "id": "4e76fc5a-5a52-4d12-b83d-ea34aaf3bd62",
   "metadata": {},
   "outputs": [],
   "source": []
  },
  {
   "cell_type": "code",
   "execution_count": 1,
   "id": "8c8e3b4f-9c27-456c-af7e-2bebdb63f160",
   "metadata": {},
   "outputs": [],
   "source": [
    "# 2"
   ]
  },
  {
   "cell_type": "markdown",
   "id": "d27ac7b0-35ad-43bd-ae88-c2b2265a744a",
   "metadata": {},
   "source": [
    "If we declare a restricted keyword as a variable, it will gives us an error."
   ]
  },
  {
   "cell_type": "code",
   "execution_count": null,
   "id": "25b36770-97c2-47f3-869e-0fd6d00a3239",
   "metadata": {},
   "outputs": [],
   "source": []
  },
  {
   "cell_type": "code",
   "execution_count": 2,
   "id": "0852803b-83c3-4a27-9d67-11966aec85a8",
   "metadata": {},
   "outputs": [],
   "source": [
    "# 3"
   ]
  },
  {
   "cell_type": "markdown",
   "id": "8a33f670-30f8-4a76-a120-aac46bcd5604",
   "metadata": {},
   "source": [
    "We don't declare a string as a variable name ."
   ]
  },
  {
   "cell_type": "code",
   "execution_count": null,
   "id": "c5b4ace5-84c0-4b28-a04d-daeacd9286df",
   "metadata": {},
   "outputs": [],
   "source": []
  },
  {
   "cell_type": "code",
   "execution_count": 4,
   "id": "e8c60c71-41da-462b-8fcb-7368eaac32c3",
   "metadata": {},
   "outputs": [],
   "source": [
    "# 4"
   ]
  },
  {
   "cell_type": "markdown",
   "id": "0251fbfd-2d8f-4e90-985a-8b8ae01e55aa",
   "metadata": {},
   "source": [
    "Yes,it is possible for us to declare underscore as a variable ."
   ]
  },
  {
   "cell_type": "code",
   "execution_count": 6,
   "id": "f309c63f-98b0-4b45-83d6-2c8bff1e5112",
   "metadata": {},
   "outputs": [
    {
     "name": "stdout",
     "output_type": "stream",
     "text": [
      "variable\n"
     ]
    }
   ],
   "source": [
    "# Here is a example of it \n",
    "_ = \"variable\"\n",
    "print(_)"
   ]
  },
  {
   "cell_type": "code",
   "execution_count": null,
   "id": "afc26a20-3f1a-4263-9e14-434d5113c66e",
   "metadata": {},
   "outputs": [],
   "source": []
  },
  {
   "cell_type": "code",
   "execution_count": 7,
   "id": "eae6ebee-135d-4b09-b4a2-f54d0b0922ab",
   "metadata": {},
   "outputs": [],
   "source": [
    "# 5"
   ]
  },
  {
   "cell_type": "code",
   "execution_count": 13,
   "id": "33a84f93-348d-490e-9859-857fe617c39f",
   "metadata": {},
   "outputs": [
    {
     "name": "stdout",
     "output_type": "stream",
     "text": [
      "42\n",
      "Hello, world!\n"
     ]
    },
    {
     "data": {
      "text/plain": [
       "'In the variable x first we assign the int value and\\npython recognizes it as an integer and then  we reassign x to a string ,\\nPython dynamically adjusts the data type of x so this  is the variables are dynamic in nature .'"
      ]
     },
     "execution_count": 13,
     "metadata": {},
     "output_type": "execute_result"
    }
   ],
   "source": [
    "x = 42 \n",
    "print(x)\n",
    "\n",
    "x = \"Hello, world!\"  \n",
    "print(x)\n",
    "\"\"\"In the variable x first we assign the int value and\n",
    "python recognizes it as an integer and then  we reassign x to a string ,\n",
    "Python dynamically adjusts the data type of x so this  is the variables are dynamic in nature .\"\"\"\n"
   ]
  },
  {
   "cell_type": "code",
   "execution_count": null,
   "id": "d2c709c2-17ab-4585-931a-77432bec8bf0",
   "metadata": {},
   "outputs": [],
   "source": []
  }
 ],
 "metadata": {
  "kernelspec": {
   "display_name": "Python 3 (ipykernel)",
   "language": "python",
   "name": "python3"
  },
  "language_info": {
   "codemirror_mode": {
    "name": "ipython",
    "version": 3
   },
   "file_extension": ".py",
   "mimetype": "text/x-python",
   "name": "python",
   "nbconvert_exporter": "python",
   "pygments_lexer": "ipython3",
   "version": "3.10.8"
  }
 },
 "nbformat": 4,
 "nbformat_minor": 5
}
