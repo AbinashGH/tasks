{
 "cells": [
  {
   "cell_type": "code",
   "execution_count": 1,
   "id": "dc79e3b8-64ad-452b-af16-ad255d6df942",
   "metadata": {},
   "outputs": [],
   "source": [
    "# 1"
   ]
  },
  {
   "cell_type": "code",
   "execution_count": 2,
   "id": "f78da9b6-a89a-4acc-b1c3-6ec9b9e0508d",
   "metadata": {},
   "outputs": [],
   "source": [
    "arr = [1,2,4,2,5,9]\n",
    "# Create a function  \n",
    "def duplicate_check(arr):\n",
    "    # iterate through elements in the array\n",
    "    for ele in arr:\n",
    "        # count the elements of array\n",
    "        arr.count(ele)\n",
    "        # then check if any element count is morethan 1, return True otherwise False\n",
    "        if arr.count(ele) > 1:\n",
    "            return True\n",
    "    return False"
   ]
  },
  {
   "cell_type": "code",
   "execution_count": 3,
   "id": "9db22c96-cace-4890-b007-2aff440d0a64",
   "metadata": {},
   "outputs": [
    {
     "data": {
      "text/plain": [
       "True"
      ]
     },
     "execution_count": 3,
     "metadata": {},
     "output_type": "execute_result"
    }
   ],
   "source": [
    "duplicate_check(arr)"
   ]
  },
  {
   "cell_type": "code",
   "execution_count": null,
   "id": "5c294ae3-038e-4afc-8aa8-5a36fb89391c",
   "metadata": {},
   "outputs": [],
   "source": []
  },
  {
   "cell_type": "code",
   "execution_count": 4,
   "id": "b4d89fc1-8fec-45fb-bdcd-aa4a5dbc7c26",
   "metadata": {},
   "outputs": [],
   "source": [
    "# 2"
   ]
  },
  {
   "cell_type": "code",
   "execution_count": 5,
   "id": "193aa333-bef6-459b-8b29-7f00445c8349",
   "metadata": {},
   "outputs": [],
   "source": [
    "arr = [1, 2, 3, 4, 5, 6, 7]\n",
    "k = 3\n",
    "# create a function with two given args one is the array and another one is step you want to rotate\n",
    "def rotate_right(arr,k):\n",
    "    # first call the element after k, then call the elements before k and concatenate both\n",
    "    return arr[-k:] + arr[:-k]"
   ]
  },
  {
   "cell_type": "code",
   "execution_count": 6,
   "id": "57d2ef98-78e9-47e3-9776-c6c7ed045ab2",
   "metadata": {},
   "outputs": [
    {
     "data": {
      "text/plain": [
       "[5, 6, 7, 1, 2, 3, 4]"
      ]
     },
     "execution_count": 6,
     "metadata": {},
     "output_type": "execute_result"
    }
   ],
   "source": [
    "rotate_right(arr,k)"
   ]
  },
  {
   "cell_type": "code",
   "execution_count": null,
   "id": "089cc75b-7dce-40f2-86a2-2e2dbe6a4a8d",
   "metadata": {},
   "outputs": [],
   "source": []
  },
  {
   "cell_type": "code",
   "execution_count": 7,
   "id": "cef31e89-7592-4c02-89f8-bcd2a7b5c550",
   "metadata": {},
   "outputs": [],
   "source": [
    "# 3"
   ]
  },
  {
   "cell_type": "code",
   "execution_count": 8,
   "id": "f7f9a731-8f02-4a15-a7eb-0005d46f06d3",
   "metadata": {
    "tags": []
   },
   "outputs": [
    {
     "name": "stdout",
     "output_type": "stream",
     "text": [
      "[12, 9, 7, 5, 4, 2]\n"
     ]
    }
   ],
   "source": [
    "arr = [2, 4, 5, 7, 9, 12]\n",
    "# create a function to reverse the array\n",
    "def reverse_array(arr,start,end):\n",
    "    # the while loop use to reverse the subarray\n",
    "    while start < end:\n",
    "        # swap the first and last index of the array\n",
    "        arr[start],arr[end] = arr[end],arr[start]\n",
    "        start+= 1\n",
    "        # start increase and end decrease to move towards center\n",
    "        end-= 1\n",
    "        # this loop continues until the entire subarray has been reversed\n",
    "        \n",
    "    \n",
    "reverse_array(arr,0,5)\n",
    "print(arr)"
   ]
  },
  {
   "cell_type": "code",
   "execution_count": null,
   "id": "8115569b-ab51-485d-b8f8-ec629a03f005",
   "metadata": {},
   "outputs": [],
   "source": []
  },
  {
   "cell_type": "code",
   "execution_count": 9,
   "id": "1c90a3f2-9e63-4e43-a5ac-611350b1eba3",
   "metadata": {},
   "outputs": [],
   "source": [
    "# 4"
   ]
  },
  {
   "cell_type": "code",
   "execution_count": 10,
   "id": "5cb6a5b4-50db-4bd0-a6a8-ba88da8b0725",
   "metadata": {},
   "outputs": [
    {
     "data": {
      "text/plain": [
       "20"
      ]
     },
     "execution_count": 10,
     "metadata": {},
     "output_type": "execute_result"
    }
   ],
   "source": [
    "arr = [10, 5, 20, 8, 15]\n",
    "# i just use the max function to find the maximum num \n",
    "# time complexcity is O(n)\n",
    "max(arr)\n",
    "# we can use iteration method,also the iteration method time complexcity is O(n),\n",
    " # that's why i simply used the max function"
   ]
  },
  {
   "cell_type": "code",
   "execution_count": null,
   "id": "d34524b2-bae9-436b-adec-a951dd8976e2",
   "metadata": {},
   "outputs": [],
   "source": []
  },
  {
   "cell_type": "code",
   "execution_count": 11,
   "id": "97b55c6a-0de1-4dd3-9e78-8ff9a98e7c60",
   "metadata": {},
   "outputs": [],
   "source": [
    "# 5"
   ]
  },
  {
   "cell_type": "code",
   "execution_count": 11,
   "id": "f09b91e3-f6ed-4b9c-b961-4f044468fd36",
   "metadata": {},
   "outputs": [],
   "source": [
    "arr = [1, 1, 2, 2, 2, 3, 3, 4, 4, 4, 5, 5] \n",
    "# create a function to check duplicates\n",
    "def remove_dup(arr):\n",
    "    # check if array is empty or not\n",
    "    if not arr:\n",
    "        # if empty return 0\n",
    "        return 0\n",
    "    # this variable store the unique elements\n",
    "    unique_num = 0\n",
    "    # apply a for loop to iterate through the array\n",
    "    for num in range(1,len(arr)):\n",
    "        # then check the elements of the array with the elements of unique_num\n",
    "        if arr[num] != arr[unique_num]:\n",
    "            # if they arr not equal then add the element in unique_num\n",
    "            unique_num += 1\n",
    "            arr[unique_num] = arr[num]\n",
    "    return unique_num +1"
   ]
  },
  {
   "cell_type": "code",
   "execution_count": 12,
   "id": "84cfbd14-299c-4175-813a-e32450ea7c06",
   "metadata": {},
   "outputs": [
    {
     "name": "stdout",
     "output_type": "stream",
     "text": [
      "[1, 2, 3, 4, 5]\n"
     ]
    }
   ],
   "source": [
    "new_len = remove_dup(arr)\n",
    "print(arr[:new_len])\n",
    "# print(new_len)"
   ]
  },
  {
   "cell_type": "code",
   "execution_count": null,
   "id": "89f37270-6111-49f0-be84-ce3c3148c225",
   "metadata": {},
   "outputs": [],
   "source": []
  },
  {
   "cell_type": "code",
   "execution_count": null,
   "id": "983e7f23-a867-4b72-b91a-ee94f44942e6",
   "metadata": {},
   "outputs": [],
   "source": []
  }
 ],
 "metadata": {
  "kernelspec": {
   "display_name": "Python 3 (ipykernel)",
   "language": "python",
   "name": "python3"
  },
  "language_info": {
   "codemirror_mode": {
    "name": "ipython",
    "version": 3
   },
   "file_extension": ".py",
   "mimetype": "text/x-python",
   "name": "python",
   "nbconvert_exporter": "python",
   "pygments_lexer": "ipython3",
   "version": "3.10.8"
  }
 },
 "nbformat": 4,
 "nbformat_minor": 5
}
