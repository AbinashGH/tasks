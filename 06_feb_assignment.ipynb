{
 "cells": [
  {
   "cell_type": "code",
   "execution_count": 1,
   "id": "31d7de05-a4ff-47de-ac00-b61d1e1f7913",
   "metadata": {},
   "outputs": [],
   "source": [
    "# Q1. Create a function which will take a list as an argument and return the product of all the numbers\n",
    "#     after creating a flat list."
   ]
  },
  {
   "cell_type": "code",
   "execution_count": 2,
   "id": "d8e67517-6a9d-4ecc-9014-1ff7f2eefb18",
   "metadata": {},
   "outputs": [],
   "source": [
    "list1 = [1,2,3,4, [44,55,66, True], False, (34,56,78,89,34), {1,2,3,3,2,1}, {1:34, \"key2\": [55, 67, 78, 89], 4: (45,\n",
    "22, 61, 34)}, [56, 'data science'], 'Machine Learning']"
   ]
  },
  {
   "cell_type": "code",
   "execution_count": 27,
   "id": "e7185d01-3aea-45a1-a3ba-2d7c2b3b6d70",
   "metadata": {},
   "outputs": [],
   "source": [
    "def num_of_flat_list(lst):\n",
    "    flat_list = []\n",
    "    for item in lst:\n",
    "        if isinstance(item,list):\n",
    "            flat_list.extend(num_of_flat_list(item))\n",
    "        elif isinstance(item,(tuple,set)):\n",
    "            flat_list.extend(num_of_flat_list(list(item)))\n",
    "        elif isinstance(item,dict):\n",
    "            flat_list.extend(num_of_flat_list(item))\n",
    "        elif isinstance(item,(int,float)):\n",
    "            flat_list.append(item)\n",
    "    return flat_list"
   ]
  },
  {
   "cell_type": "code",
   "execution_count": 28,
   "id": "e90c5fa8-9d62-4352-9187-b802c81740a1",
   "metadata": {},
   "outputs": [
    {
     "data": {
      "text/plain": [
       "[1, 2, 3, 4, 44, 55, 66, True, False, 34, 56, 78, 89, 34, 1, 2, 3, 1, 4, 56]"
      ]
     },
     "execution_count": 28,
     "metadata": {},
     "output_type": "execute_result"
    }
   ],
   "source": [
    "num_of_flat_list(list1)"
   ]
  },
  {
   "cell_type": "code",
   "execution_count": 29,
   "id": "59248f7f-d9a6-4132-a2ef-acc55fe4bb13",
   "metadata": {},
   "outputs": [],
   "source": [
    "def flatlist_product(l):\n",
    "    flat_list_num = num_of_flat_list(list1)\n",
    "    product = 1\n",
    "    for i in flat_list_num:\n",
    "        product *= i\n",
    "    return product"
   ]
  },
  {
   "cell_type": "code",
   "execution_count": 30,
   "id": "5a1480f3-c60c-4279-8b05-db553ac31685",
   "metadata": {},
   "outputs": [
    {
     "data": {
      "text/plain": [
       "0"
      ]
     },
     "execution_count": 30,
     "metadata": {},
     "output_type": "execute_result"
    }
   ],
   "source": [
    "flatlist_product(list1)"
   ]
  },
  {
   "cell_type": "code",
   "execution_count": 25,
   "id": "334410aa-8086-4bde-b6ec-e8192e14032c",
   "metadata": {},
   "outputs": [],
   "source": [
    "# Q2. Write a python program for encrypting a message sent to you by your friend. The logic of encryption\n",
    "#     should be such that, for a the output should be z. For b, the output should be y. For c, the output should\n",
    "#     be x respectively. Also, the whitespace should be replaced with a dollar sign. Keep the punctuation\n",
    "#     marks unchanged.\n"
   ]
  },
  {
   "cell_type": "code",
   "execution_count": 28,
   "id": "1023d61c-9032-4358-a05a-ecfd3d4175b9",
   "metadata": {},
   "outputs": [],
   "source": [
    "inputSentence = \"I want to become a Data Scientist.\""
   ]
  },
  {
   "cell_type": "code",
   "execution_count": 40,
   "id": "6ea8aeb8-57bf-4df5-ac88-63a3be8847a9",
   "metadata": {},
   "outputs": [],
   "source": [
    "def encrypt_message(sentence):\n",
    "    encrypted_message = \"\"\n",
    "    for char in sentence:\n",
    "        if char.isalpha():\n",
    "            if char.islower():\n",
    "                encrypted_char = chr(122 - ord(char.lower()) + 97)\n",
    "                encrypted_message += encrypted_char\n",
    "            elif char.isspace():\n",
    "                encrypted_message += '$'\n",
    "            else:\n",
    "                encrypted_message += char\n",
    "    return encrypted_message"
   ]
  },
  {
   "cell_type": "code",
   "execution_count": 42,
   "id": "5ba98e13-1612-44ed-9da5-fb6931ec8293",
   "metadata": {},
   "outputs": [
    {
     "data": {
      "text/plain": [
       "'IdzmgglyvxlnvzDzgzSxrvmgrhg'"
      ]
     },
     "execution_count": 42,
     "metadata": {},
     "output_type": "execute_result"
    }
   ],
   "source": [
    "encrypt_message(inputSentence)"
   ]
  },
  {
   "cell_type": "code",
   "execution_count": 15,
   "id": "ed99c30d-4e88-42c1-b131-ee71fff4cae8",
   "metadata": {},
   "outputs": [],
   "source": []
  },
  {
   "cell_type": "code",
   "execution_count": null,
   "id": "7f24b81c-4b59-43da-827d-82e25d386fd9",
   "metadata": {},
   "outputs": [],
   "source": []
  }
 ],
 "metadata": {
  "kernelspec": {
   "display_name": "Python 3 (ipykernel)",
   "language": "python",
   "name": "python3"
  },
  "language_info": {
   "codemirror_mode": {
    "name": "ipython",
    "version": 3
   },
   "file_extension": ".py",
   "mimetype": "text/x-python",
   "name": "python",
   "nbconvert_exporter": "python",
   "pygments_lexer": "ipython3",
   "version": "3.10.8"
  }
 },
 "nbformat": 4,
 "nbformat_minor": 5
}
