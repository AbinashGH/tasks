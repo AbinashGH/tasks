{
 "cells": [
  {
   "cell_type": "code",
   "execution_count": null,
   "id": "46e2cbf6-6f8d-4a36-86b1-bcfa86b9184e",
   "metadata": {},
   "outputs": [],
   "source": []
  },
  {
   "cell_type": "code",
   "execution_count": 7,
   "id": "a7c7b193-a303-43f8-92f9-ba163d3c7eac",
   "metadata": {},
   "outputs": [],
   "source": [
    "#  Q(1)"
   ]
  },
  {
   "cell_type": "code",
   "execution_count": 8,
   "id": "67e2a382-6016-4128-8ed3-f57e8b0791af",
   "metadata": {},
   "outputs": [],
   "source": [
    "x = 345"
   ]
  },
  {
   "cell_type": "code",
   "execution_count": 9,
   "id": "ef11d0b4-38c6-4fad-9876-efb5604c5afc",
   "metadata": {},
   "outputs": [],
   "source": [
    "y = 456"
   ]
  },
  {
   "cell_type": "code",
   "execution_count": 10,
   "id": "d81b7944-769c-428d-b9c9-d8f3819db9f2",
   "metadata": {},
   "outputs": [],
   "source": [
    "x,y = y,x"
   ]
  },
  {
   "cell_type": "code",
   "execution_count": 11,
   "id": "d634a4ee-942b-4ef9-91ee-eafe5e2f2a71",
   "metadata": {},
   "outputs": [
    {
     "data": {
      "text/plain": [
       "456"
      ]
     },
     "execution_count": 11,
     "metadata": {},
     "output_type": "execute_result"
    }
   ],
   "source": [
    "x"
   ]
  },
  {
   "cell_type": "code",
   "execution_count": 12,
   "id": "8e1c36bb-6073-477f-97c3-4eda00c6eb52",
   "metadata": {},
   "outputs": [
    {
     "data": {
      "text/plain": [
       "345"
      ]
     },
     "execution_count": 12,
     "metadata": {},
     "output_type": "execute_result"
    }
   ],
   "source": [
    "y"
   ]
  },
  {
   "cell_type": "code",
   "execution_count": null,
   "id": "e9e83b2e-4e62-4fb0-afbd-35676d9c4cc3",
   "metadata": {},
   "outputs": [],
   "source": []
  },
  {
   "cell_type": "code",
   "execution_count": 13,
   "id": "3fa22e5b-1ddf-4186-a9af-01945d1d30f5",
   "metadata": {},
   "outputs": [],
   "source": [
    "# Q(2)"
   ]
  },
  {
   "cell_type": "code",
   "execution_count": 15,
   "id": "2a2b59f4-6eae-40fd-903a-f7127a46ad18",
   "metadata": {},
   "outputs": [],
   "source": [
    "# Area = a,Length = l,Width = w"
   ]
  },
  {
   "cell_type": "code",
   "execution_count": 19,
   "id": "5112465e-5348-4dca-84f1-f366bb445d9b",
   "metadata": {},
   "outputs": [],
   "source": [
    "l = 45"
   ]
  },
  {
   "cell_type": "code",
   "execution_count": 20,
   "id": "57e669a4-530a-4dc5-a2b2-0d91b155a869",
   "metadata": {},
   "outputs": [],
   "source": [
    "w = 89"
   ]
  },
  {
   "cell_type": "code",
   "execution_count": 22,
   "id": "873a3c72-778e-482b-ac94-2dc1f984f324",
   "metadata": {},
   "outputs": [],
   "source": [
    "# The formula of area of a rectangle is = l * w"
   ]
  },
  {
   "cell_type": "code",
   "execution_count": 23,
   "id": "e5d412df-7240-4c53-ade1-894459a821a5",
   "metadata": {},
   "outputs": [],
   "source": [
    "a = l*w"
   ]
  },
  {
   "cell_type": "code",
   "execution_count": 24,
   "id": "fdcb98e7-4af1-4759-b224-d8ca3146c8c4",
   "metadata": {},
   "outputs": [
    {
     "data": {
      "text/plain": [
       "4005"
      ]
     },
     "execution_count": 24,
     "metadata": {},
     "output_type": "execute_result"
    }
   ],
   "source": [
    "a"
   ]
  },
  {
   "cell_type": "code",
   "execution_count": null,
   "id": "daad03e2-079d-41b5-b369-2d268b3e00a4",
   "metadata": {},
   "outputs": [],
   "source": []
  },
  {
   "cell_type": "code",
   "execution_count": 25,
   "id": "b4ca51d1-22c2-46d4-9c12-99c3cec21ee1",
   "metadata": {},
   "outputs": [],
   "source": [
    "# Q(3)"
   ]
  },
  {
   "cell_type": "code",
   "execution_count": 37,
   "id": "6f259e6d-9560-44f8-869b-8ee99b187c7f",
   "metadata": {},
   "outputs": [],
   "source": [
    " #converts temperature from celsius to fahrenheit"
   ]
  },
  {
   "cell_type": "code",
   "execution_count": 38,
   "id": "25426711-5aa0-47c3-b3fd-9f3c50d66886",
   "metadata": {},
   "outputs": [],
   "source": [
    "c = 45"
   ]
  },
  {
   "cell_type": "code",
   "execution_count": 39,
   "id": "ddf9f522-6b2b-4275-b602-054720eb7bf9",
   "metadata": {},
   "outputs": [],
   "source": [
    "f = c*9/5+32"
   ]
  },
  {
   "cell_type": "code",
   "execution_count": 40,
   "id": "daa3b708-e940-4091-b642-a9afe5146579",
   "metadata": {},
   "outputs": [
    {
     "data": {
      "text/plain": [
       "113.0"
      ]
     },
     "execution_count": 40,
     "metadata": {},
     "output_type": "execute_result"
    }
   ],
   "source": [
    "f"
   ]
  },
  {
   "cell_type": "code",
   "execution_count": null,
   "id": "f415f5ce-c7e7-44dd-9259-07685f53f32c",
   "metadata": {},
   "outputs": [],
   "source": []
  },
  {
   "cell_type": "code",
   "execution_count": 41,
   "id": "1ab59761-a5ed-4485-87b9-6bfec5615bea",
   "metadata": {},
   "outputs": [],
   "source": [
    "#string based question"
   ]
  },
  {
   "cell_type": "code",
   "execution_count": 42,
   "id": "f19d9e81-4331-496f-912d-e0630c182bde",
   "metadata": {},
   "outputs": [],
   "source": [
    "# Q(1)"
   ]
  },
  {
   "cell_type": "code",
   "execution_count": 45,
   "id": "1e227102-e61c-4939-9c26-3d1cd7a3d691",
   "metadata": {},
   "outputs": [],
   "source": [
    "s = \"Possible\""
   ]
  },
  {
   "cell_type": "code",
   "execution_count": 71,
   "id": "fa8f6993-151d-4d1e-9e36-4f85fba7adb8",
   "metadata": {},
   "outputs": [
    {
     "data": {
      "text/plain": [
       "8"
      ]
     },
     "execution_count": 71,
     "metadata": {},
     "output_type": "execute_result"
    }
   ],
   "source": [
    "len(s)"
   ]
  },
  {
   "cell_type": "code",
   "execution_count": null,
   "id": "8c99906a-c242-4d6f-a3a8-653b1b6f3212",
   "metadata": {},
   "outputs": [],
   "source": []
  },
  {
   "cell_type": "code",
   "execution_count": 49,
   "id": "c8832778-be9f-4817-9c75-32c893d90532",
   "metadata": {},
   "outputs": [],
   "source": [
    "# Q(2)"
   ]
  },
  {
   "cell_type": "code",
   "execution_count": 72,
   "id": "8491220f-0527-46d2-8628-2a6effa4825b",
   "metadata": {},
   "outputs": [],
   "source": [
    "p = \"I love Python\""
   ]
  },
  {
   "cell_type": "code",
   "execution_count": 75,
   "id": "0e509f65-210f-44a6-a328-679ab6b15761",
   "metadata": {},
   "outputs": [],
   "source": [
    "c = count_vowels(p)"
   ]
  },
  {
   "cell_type": "code",
   "execution_count": 77,
   "id": "7ea60c5d-38c8-4a08-ac74-3471e3c77a9c",
   "metadata": {},
   "outputs": [
    {
     "data": {
      "text/plain": [
       "4"
      ]
     },
     "execution_count": 77,
     "metadata": {},
     "output_type": "execute_result"
    }
   ],
   "source": [
    "c"
   ]
  },
  {
   "cell_type": "code",
   "execution_count": null,
   "id": "a2048fd9-0628-41a8-adad-ea29d8ec90be",
   "metadata": {},
   "outputs": [],
   "source": []
  },
  {
   "cell_type": "code",
   "execution_count": 78,
   "id": "ba334a3a-248c-458b-b878-d6044728ecba",
   "metadata": {},
   "outputs": [],
   "source": [
    "# Q(3)"
   ]
  },
  {
   "cell_type": "code",
   "execution_count": 79,
   "id": "625bb675-bdce-4148-9528-11f081a0bba9",
   "metadata": {},
   "outputs": [],
   "source": [
    "a = \"Abinash\""
   ]
  },
  {
   "cell_type": "code",
   "execution_count": 128,
   "id": "1217585c-7d26-4dd1-8862-3d6250e9d82b",
   "metadata": {},
   "outputs": [],
   "source": [
    "r_s = a[::-1]"
   ]
  },
  {
   "cell_type": "code",
   "execution_count": 129,
   "id": "24741d54-7c35-42c8-aaee-f184b5221d52",
   "metadata": {},
   "outputs": [
    {
     "data": {
      "text/plain": [
       "'hsanibA'"
      ]
     },
     "execution_count": 129,
     "metadata": {},
     "output_type": "execute_result"
    }
   ],
   "source": [
    "r_s"
   ]
  },
  {
   "cell_type": "code",
   "execution_count": null,
   "id": "ed88dc96-f884-4772-a54d-0ceed5b280bf",
   "metadata": {},
   "outputs": [],
   "source": []
  },
  {
   "cell_type": "code",
   "execution_count": 130,
   "id": "d82c011d-60e8-406d-b7b9-06effddcb262",
   "metadata": {},
   "outputs": [],
   "source": [
    "# Q(4)"
   ]
  },
  {
   "cell_type": "code",
   "execution_count": 131,
   "id": "cf0df5e9-4b30-4848-bf41-1a378c4dce6b",
   "metadata": {},
   "outputs": [],
   "source": [
    "h = \"palindrome\""
   ]
  },
  {
   "cell_type": "code",
   "execution_count": 139,
   "id": "67923b65-517b-46a6-9a7d-1a96b0a96f13",
   "metadata": {},
   "outputs": [
    {
     "data": {
      "text/plain": [
       "False"
      ]
     },
     "execution_count": 139,
     "metadata": {},
     "output_type": "execute_result"
    }
   ],
   "source": [
    "is_palindrome(h)"
   ]
  },
  {
   "cell_type": "code",
   "execution_count": null,
   "id": "f321babc-09eb-4415-bb3c-9d1f63b026a5",
   "metadata": {},
   "outputs": [],
   "source": []
  },
  {
   "cell_type": "code",
   "execution_count": 140,
   "id": "2af5c841-a74b-40a2-9640-60f472dbdbc5",
   "metadata": {},
   "outputs": [],
   "source": [
    "# Q(5)"
   ]
  },
  {
   "cell_type": "code",
   "execution_count": 194,
   "id": "858e60dc-83ce-4442-837e-949d8d0bd922",
   "metadata": {},
   "outputs": [],
   "source": [
    "n = \"This is my first python assignment: \""
   ]
  },
  {
   "cell_type": "code",
   "execution_count": 209,
   "id": "646fe743-d4dd-42a0-b21e-432b5bd98b1e",
   "metadata": {},
   "outputs": [],
   "source": [
    "r = n.replace(\" \",\"\")"
   ]
  },
  {
   "cell_type": "code",
   "execution_count": 211,
   "id": "286461bf-0614-4339-8989-a213fd30772a",
   "metadata": {},
   "outputs": [
    {
     "data": {
      "text/plain": [
       "'Thisismyfirstpythonassignment:'"
      ]
     },
     "execution_count": 211,
     "metadata": {},
     "output_type": "execute_result"
    }
   ],
   "source": [
    "r"
   ]
  },
  {
   "cell_type": "code",
   "execution_count": null,
   "id": "d0b3a667-868e-4c3a-876b-7731a93d7eb1",
   "metadata": {},
   "outputs": [],
   "source": []
  }
 ],
 "metadata": {
  "kernelspec": {
   "display_name": "Python 3 (ipykernel)",
   "language": "python",
   "name": "python3"
  },
  "language_info": {
   "codemirror_mode": {
    "name": "ipython",
    "version": 3
   },
   "file_extension": ".py",
   "mimetype": "text/x-python",
   "name": "python",
   "nbconvert_exporter": "python",
   "pygments_lexer": "ipython3",
   "version": "3.10.8"
  }
 },
 "nbformat": 4,
 "nbformat_minor": 5
}
