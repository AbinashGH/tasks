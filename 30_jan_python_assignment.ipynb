{
 "cells": [
  {
   "cell_type": "code",
   "execution_count": 1,
   "id": "61331f3a-57b7-4107-bb7a-3702b887b121",
   "metadata": {},
   "outputs": [],
   "source": [
    "# 1.Write a program to accept percentage from the user and display the grade according to the following criteria :"
   ]
  },
  {
   "cell_type": "code",
   "execution_count": 2,
   "id": "1a136f11-4115-4cd3-89c0-460a2d31cbec",
   "metadata": {},
   "outputs": [
    {
     "name": "stdin",
     "output_type": "stream",
     "text": [
      "Percentage is :  88\n"
     ]
    },
    {
     "name": "stdout",
     "output_type": "stream",
     "text": [
      "Grade B\n"
     ]
    }
   ],
   "source": [
    "percentage = float(input(\"Percentage is : \"))\n",
    "if percentage > 90:\n",
    "    print('Grade A')\n",
    "elif 90 >= percentage > 80:\n",
    "    print('Grade B')\n",
    "elif 60 <= percentage <= 80:\n",
    "    print('Grade C')\n",
    "else:\n",
    "    print('Grade D')"
   ]
  },
  {
   "cell_type": "code",
   "execution_count": 3,
   "id": "f8897674-be75-4a3c-a60b-fe07dff82399",
   "metadata": {},
   "outputs": [],
   "source": [
    "# 2.Write a program to accept the cost price of a bike and display the road tax to be paid according to the following criteria:"
   ]
  },
  {
   "cell_type": "code",
   "execution_count": 4,
   "id": "2a5af905-f7e7-4c03-b56e-9142be470ae0",
   "metadata": {},
   "outputs": [
    {
     "name": "stdin",
     "output_type": "stream",
     "text": [
      "Bike price is :  54645645\n"
     ]
    },
    {
     "name": "stdout",
     "output_type": "stream",
     "text": [
      "Tax is :  8196846.75\n"
     ]
    }
   ],
   "source": [
    "CP = int(input(\"Bike price is : \"))\n",
    "if CP > 100000:\n",
    "    print(\"Tax is : \",CP * 15/100)\n",
    "elif 100000 >= CP > 50000:\n",
    "    print(\"Tax is : \",CP * 10/100)\n",
    "elif CP <= 50000:\n",
    "    print(\"Tax is :\",CP * 5/100)"
   ]
  },
  {
   "cell_type": "code",
   "execution_count": 5,
   "id": "c9ca91eb-791a-4177-9756-4251324b5bee",
   "metadata": {},
   "outputs": [],
   "source": [
    "# 3.Accept any city from the user and display monuments of that city ."
   ]
  },
  {
   "cell_type": "code",
   "execution_count": 9,
   "id": "f2ba81dc-642c-4605-a72e-76dd74f98e68",
   "metadata": {},
   "outputs": [
    {
     "name": "stdin",
     "output_type": "stream",
     "text": [
      "Enter the city :  delhi\n"
     ]
    },
    {
     "name": "stdout",
     "output_type": "stream",
     "text": [
      "The monument is Red Fort\n"
     ]
    }
   ],
   "source": [
    "city = input(\"Enter the city : \")\n",
    "if city.lower() == \"delhi\" :\n",
    "    print(\"The monument is Red Fort\")\n",
    "elif city.lower() == \"agra\":\n",
    "    print(\"The monument is Taj Mahal\")\n",
    "elif city.lower() == \"jaipur\" :\n",
    "    print(\"The monument is Jal Mahal\")\n"
   ]
  },
  {
   "cell_type": "code",
   "execution_count": 7,
   "id": "8ec9bf80-a2e4-4f1a-806a-17cde384acf7",
   "metadata": {},
   "outputs": [],
   "source": [
    "# 4.Check how many times a given number can be divided by 3 before it is less than or equal to 10 ."
   ]
  },
  {
   "cell_type": "code",
   "execution_count": 10,
   "id": "f0b1f739-9a9b-4f28-a8eb-6c8e2c3b33b0",
   "metadata": {},
   "outputs": [],
   "source": [
    "def divide_by_3(n):\n",
    "    count = 0\n",
    "    while n > 10 :\n",
    "        n /=  3\n",
    "        count += 1\n",
    "    return count"
   ]
  },
  {
   "cell_type": "code",
   "execution_count": 12,
   "id": "53d83465-c382-4357-a0b6-6d1c57da72ef",
   "metadata": {},
   "outputs": [
    {
     "data": {
      "text/plain": [
       "3"
      ]
     },
     "execution_count": 12,
     "metadata": {},
     "output_type": "execute_result"
    }
   ],
   "source": [
    "divide_by_3(99)"
   ]
  },
  {
   "cell_type": "code",
   "execution_count": 14,
   "id": "ba9c0b7f-4218-4198-9b75-4ab5a28080eb",
   "metadata": {},
   "outputs": [],
   "source": [
    "# 5.Why and when to use while loop in python give a detailed description with example ."
   ]
  },
  {
   "cell_type": "markdown",
   "id": "b1ecf23d-f1d8-44d7-af39-61b553167582",
   "metadata": {},
   "source": [
    "A while loop is used to execute a block of code as long as the condition is true.Its useful when when you want to perform repeatedly until a certain condition is met,and you not know how many iterations will be needed."
   ]
  },
  {
   "cell_type": "code",
   "execution_count": 15,
   "id": "b5184f95-475c-4c93-82ba-1eb3b7a118fb",
   "metadata": {},
   "outputs": [
    {
     "name": "stdout",
     "output_type": "stream",
     "text": [
      "Python\n",
      "Python\n",
      "Python\n"
     ]
    }
   ],
   "source": [
    "count = 0 \n",
    "while count < 3 :\n",
    "    count += 1\n",
    "    print(\"Python\")"
   ]
  },
  {
   "cell_type": "code",
   "execution_count": 16,
   "id": "1a66140d-a515-446d-a517-f217dbb0a707",
   "metadata": {},
   "outputs": [],
   "source": [
    "# 6.Use nested while loop to display to print different pattern."
   ]
  },
  {
   "cell_type": "code",
   "execution_count": 3,
   "id": "b119ca10-acf5-493d-9bb8-80b510493746",
   "metadata": {},
   "outputs": [
    {
     "name": "stdout",
     "output_type": "stream",
     "text": [
      "* * * * * \n",
      "* * * * * \n",
      "* * * * * \n",
      "* * * * * \n",
      "* * * * * \n"
     ]
    }
   ],
   "source": [
    "s = 5\n",
    "r = 0\n",
    "while r < s :\n",
    "    col = 0\n",
    "    while col < s:\n",
    "        print(\"*\",end = \" \")\n",
    "        col += 1\n",
    "    print()\n",
    "    r += 1\n",
    "    "
   ]
  },
  {
   "cell_type": "code",
   "execution_count": 10,
   "id": "3621404b-ef70-42ab-b908-fcb27e0043c9",
   "metadata": {},
   "outputs": [
    {
     "name": "stdout",
     "output_type": "stream",
     "text": [
      " *  \n",
      " *   *  \n",
      " *   *   *  \n",
      " *   *   *   *  \n",
      " *   *   *   *   *  \n",
      " *   *   *   *   *   *  \n",
      " *   *   *   *   *   *   *  \n"
     ]
    }
   ],
   "source": [
    "h = 7\n",
    "r = 0\n",
    "while r < h:\n",
    "    c = 0\n",
    "    while c <= r:\n",
    "        print(\" * \",end = \" \")\n",
    "        c += 1\n",
    "    print()\n",
    "    r += 1"
   ]
  },
  {
   "cell_type": "code",
   "execution_count": 15,
   "id": "482da195-2f95-432d-8be7-018cff12bcea",
   "metadata": {},
   "outputs": [
    {
     "name": "stdout",
     "output_type": "stream",
     "text": [
      "* * * * * * \n",
      "* * * * * * \n",
      "* * * * * * \n"
     ]
    }
   ],
   "source": [
    "# Square Pattern\n",
    "size = 6\n",
    "row = 3\n",
    "while row < size:\n",
    "    col = 0\n",
    "    while col < size:\n",
    "        print(\"*\", end=\" \")\n",
    "        col += 1\n",
    "    print()\n",
    "    row += 1\n"
   ]
  },
  {
   "cell_type": "code",
   "execution_count": 16,
   "id": "d3d9bd25-aac4-41bd-b366-73d240968a7f",
   "metadata": {},
   "outputs": [],
   "source": [
    "# 7. Reverse a while loop to display numbers from 10 to 1."
   ]
  },
  {
   "cell_type": "code",
   "execution_count": 4,
   "id": "71b39ebf-ca50-4e85-8e49-9f1187b0aa3c",
   "metadata": {},
   "outputs": [
    {
     "name": "stdout",
     "output_type": "stream",
     "text": [
      "10\n",
      "9\n",
      "8\n",
      "7\n",
      "6\n",
      "5\n",
      "4\n",
      "3\n",
      "2\n",
      "1\n"
     ]
    }
   ],
   "source": [
    "i = 10\n",
    "while i >= 1:\n",
    "    print(i)\n",
    "    i -= 1"
   ]
  },
  {
   "cell_type": "code",
   "execution_count": null,
   "id": "35beef4f-8be6-48a6-b333-af5c50ac3a1d",
   "metadata": {},
   "outputs": [],
   "source": []
  }
 ],
 "metadata": {
  "kernelspec": {
   "display_name": "Python 3 (ipykernel)",
   "language": "python",
   "name": "python3"
  },
  "language_info": {
   "codemirror_mode": {
    "name": "ipython",
    "version": 3
   },
   "file_extension": ".py",
   "mimetype": "text/x-python",
   "name": "python",
   "nbconvert_exporter": "python",
   "pygments_lexer": "ipython3",
   "version": "3.10.8"
  }
 },
 "nbformat": 4,
 "nbformat_minor": 5
}
