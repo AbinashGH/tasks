{
 "cells": [
  {
   "cell_type": "markdown",
   "id": "4ef49895-6adc-406d-adb6-fbe0f3240a1e",
   "metadata": {},
   "source": [
    "Python set "
   ]
  },
  {
   "cell_type": "code",
   "execution_count": 1,
   "id": "27e09a5d-14c3-494f-8037-b3e2ceda8253",
   "metadata": {},
   "outputs": [],
   "source": [
    "# 1"
   ]
  },
  {
   "cell_type": "markdown",
   "id": "97b593a2-38ae-4f68-998b-c602c393d8dc",
   "metadata": {},
   "source": [
    "In Python, a set is an unordered collection of unique elements. Sets are used to store multiple items, but unlike lists or tuples, they do not allow duplicate values. This means that each element in a set is unique within that set."
   ]
  },
  {
   "cell_type": "code",
   "execution_count": 3,
   "id": "ba79cf0f-8498-468c-affb-883f56fc77e8",
   "metadata": {},
   "outputs": [],
   "source": [
    "s = {1,2,3,4,5,\"python\"}"
   ]
  },
  {
   "cell_type": "code",
   "execution_count": null,
   "id": "ec3ec3b7-8448-4050-95d3-1bb84dc18d77",
   "metadata": {},
   "outputs": [],
   "source": []
  },
  {
   "cell_type": "code",
   "execution_count": 5,
   "id": "32550ae2-21e3-4ea1-bc31-f0e133505e65",
   "metadata": {},
   "outputs": [],
   "source": [
    "# 2"
   ]
  },
  {
   "cell_type": "markdown",
   "id": "06ae6b65-4fd3-4ef8-8072-2f63f6fe4823",
   "metadata": {},
   "source": [
    "Using curly braces or using set() constructor you can create a set in python ."
   ]
  },
  {
   "cell_type": "code",
   "execution_count": 7,
   "id": "4b0b855a-e2ff-49c2-a3af-9851187f65dd",
   "metadata": {},
   "outputs": [],
   "source": [
    "s = {1,2,3,4,5,\"python\"}"
   ]
  },
  {
   "cell_type": "code",
   "execution_count": 12,
   "id": "1b72a690-620e-4ef2-adf0-2eb85a3f5df3",
   "metadata": {},
   "outputs": [],
   "source": [
    "s1= set((1,2,3,4))"
   ]
  },
  {
   "cell_type": "code",
   "execution_count": null,
   "id": "9e20af27-f0a2-49b1-a6d1-e86471f1a914",
   "metadata": {},
   "outputs": [],
   "source": []
  },
  {
   "cell_type": "code",
   "execution_count": 15,
   "id": "c49a0f23-54ba-45d8-88d8-68f5595dcfad",
   "metadata": {},
   "outputs": [],
   "source": [
    "# 3"
   ]
  },
  {
   "cell_type": "markdown",
   "id": "82c3f51c-d0ba-4154-8fb1-e5b801f6624c",
   "metadata": {},
   "source": [
    "You can add elements to a set in python using add() method or you can use update() method to use multiple elements in a set."
   ]
  },
  {
   "cell_type": "code",
   "execution_count": 17,
   "id": "3c2d4c96-ce05-4580-9bb2-7ce38a801f67",
   "metadata": {},
   "outputs": [
    {
     "data": {
      "text/plain": [
       "{1, 2, 3, 4, 5, 'python'}"
      ]
     },
     "execution_count": 17,
     "metadata": {},
     "output_type": "execute_result"
    }
   ],
   "source": [
    "s"
   ]
  },
  {
   "cell_type": "code",
   "execution_count": 26,
   "id": "b9603912-6a6e-4f8d-88bf-6e66795f12cb",
   "metadata": {},
   "outputs": [],
   "source": [
    "s2 ={7,8,9}"
   ]
  },
  {
   "cell_type": "code",
   "execution_count": 27,
   "id": "e11587e5-0415-4b2c-bce0-c665b77575c9",
   "metadata": {},
   "outputs": [],
   "source": [
    "s.add(6)"
   ]
  },
  {
   "cell_type": "code",
   "execution_count": 28,
   "id": "42da2ac1-e527-4026-bc8e-2346b051ff16",
   "metadata": {},
   "outputs": [
    {
     "data": {
      "text/plain": [
       "{1, 2, 3, 4, 5, 6, 'python'}"
      ]
     },
     "execution_count": 28,
     "metadata": {},
     "output_type": "execute_result"
    }
   ],
   "source": [
    "s"
   ]
  },
  {
   "cell_type": "code",
   "execution_count": 30,
   "id": "d68dd55b-85b7-43c1-9a4e-ff9bbca5244b",
   "metadata": {},
   "outputs": [],
   "source": [
    "s.update(s2)"
   ]
  },
  {
   "cell_type": "code",
   "execution_count": 31,
   "id": "b22853d7-6e3f-438f-ad83-637d6d65f68a",
   "metadata": {},
   "outputs": [
    {
     "data": {
      "text/plain": [
       "{1, 2, 3, 4, 5, 6, 7, 8, 9, 'python'}"
      ]
     },
     "execution_count": 31,
     "metadata": {},
     "output_type": "execute_result"
    }
   ],
   "source": [
    "s"
   ]
  },
  {
   "cell_type": "code",
   "execution_count": null,
   "id": "3e675432-6bf8-45cc-9c59-14476d6fad2b",
   "metadata": {},
   "outputs": [],
   "source": []
  },
  {
   "cell_type": "code",
   "execution_count": 32,
   "id": "1256271d-7350-446a-b3b8-d1c78cb8d0ca",
   "metadata": {},
   "outputs": [],
   "source": [
    "# 4"
   ]
  },
  {
   "cell_type": "markdown",
   "id": "09e1e300-b9b2-43d6-b198-9f01f3cf66ce",
   "metadata": {},
   "source": [
    "You can remove elements form a set by using remove method."
   ]
  },
  {
   "cell_type": "code",
   "execution_count": 33,
   "id": "c7212717-46a8-4fe6-ac5c-3fc51f5be95b",
   "metadata": {},
   "outputs": [
    {
     "data": {
      "text/plain": [
       "{1, 2, 3, 4, 5, 6, 7, 8, 9, 'python'}"
      ]
     },
     "execution_count": 33,
     "metadata": {},
     "output_type": "execute_result"
    }
   ],
   "source": [
    "s"
   ]
  },
  {
   "cell_type": "code",
   "execution_count": 36,
   "id": "cbb30f32-5a44-48b5-a4c1-df951207bc1a",
   "metadata": {},
   "outputs": [],
   "source": [
    "s.remove(\"python\")"
   ]
  },
  {
   "cell_type": "code",
   "execution_count": 37,
   "id": "13e19dc3-ae49-4b9b-911d-942e03ca46e2",
   "metadata": {},
   "outputs": [
    {
     "data": {
      "text/plain": [
       "{1, 2, 3, 4, 5, 6, 7, 8, 9}"
      ]
     },
     "execution_count": 37,
     "metadata": {},
     "output_type": "execute_result"
    }
   ],
   "source": [
    "s"
   ]
  },
  {
   "cell_type": "code",
   "execution_count": null,
   "id": "92e2e956-4903-4248-a935-2dc1d682ec92",
   "metadata": {},
   "outputs": [],
   "source": []
  },
  {
   "cell_type": "code",
   "execution_count": 38,
   "id": "323fe152-da1d-4c2c-bca4-e42c00591b01",
   "metadata": {},
   "outputs": [],
   "source": [
    "# 5"
   ]
  },
  {
   "cell_type": "markdown",
   "id": "e8616396-8d26-4746-9091-4bebd32d078f",
   "metadata": {},
   "source": [
    "You can get the length of a set by using len() method."
   ]
  },
  {
   "cell_type": "code",
   "execution_count": 40,
   "id": "fdf9918e-2824-499d-9190-6f8a1b4fb567",
   "metadata": {},
   "outputs": [
    {
     "data": {
      "text/plain": [
       "{1, 2, 3, 4, 5, 6, 7, 8, 9}"
      ]
     },
     "execution_count": 40,
     "metadata": {},
     "output_type": "execute_result"
    }
   ],
   "source": [
    "s"
   ]
  },
  {
   "cell_type": "code",
   "execution_count": 41,
   "id": "4aeecb8d-b158-4050-9689-e40019a168f1",
   "metadata": {},
   "outputs": [
    {
     "data": {
      "text/plain": [
       "9"
      ]
     },
     "execution_count": 41,
     "metadata": {},
     "output_type": "execute_result"
    }
   ],
   "source": [
    "len(s)"
   ]
  },
  {
   "cell_type": "code",
   "execution_count": null,
   "id": "caacd7de-847a-489e-9c5f-3dc8aa9fbe4b",
   "metadata": {},
   "outputs": [],
   "source": []
  }
 ],
 "metadata": {
  "kernelspec": {
   "display_name": "Python 3 (ipykernel)",
   "language": "python",
   "name": "python3"
  },
  "language_info": {
   "codemirror_mode": {
    "name": "ipython",
    "version": 3
   },
   "file_extension": ".py",
   "mimetype": "text/x-python",
   "name": "python",
   "nbconvert_exporter": "python",
   "pygments_lexer": "ipython3",
   "version": "3.10.8"
  }
 },
 "nbformat": 4,
 "nbformat_minor": 5
}
