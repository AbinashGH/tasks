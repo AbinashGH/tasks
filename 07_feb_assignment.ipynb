{
 "cells": [
  {
   "cell_type": "markdown",
   "id": "abb3b9bd-9a8e-48e0-a7e1-338861fc100f",
   "metadata": {},
   "source": [
    " Q1. You are writing code for a company. The requirement of the company is that you create a python\n",
    "function that will check whether the password entered by the user is correct or not. The function should\n",
    "take the password as input and return the string “Valid Password” if the entered password follows the\n",
    "below-given password guidelines else it should return “Invalid Password”.\n",
    "\n",
    "Note: \n",
    "1. The Password should contain at least two uppercase letters and at least two lowercase letters.\n",
    "2. The Password should contain at least a number and three special characters.\n",
    "3. The length of the password should be 10 characters long."
   ]
  },
  {
   "cell_type": "code",
   "execution_count": 1,
   "id": "f089d148-8346-4e45-a177-a39a42b1b4d5",
   "metadata": {},
   "outputs": [],
   "source": [
    "import re"
   ]
  },
  {
   "cell_type": "code",
   "execution_count": 2,
   "id": "f29d34ef-2967-45fe-b47f-36f0e656fa34",
   "metadata": {},
   "outputs": [],
   "source": [
    "def check_password(password):\n",
    "    uppercase_regex = r'[A-Z]'\n",
    "    lowercase_regex = r'[a_z]'\n",
    "    number_regex = r'\\d'\n",
    "    special_regex = r'[^a-zA-ZO-9]'\n",
    "    if (\n",
    "        len (password) == 10 and\n",
    "        len(re.findall(uppercase_regex,password)) >= 2 and\n",
    "        len(re.findall(lowercase_regex,password)) >= 2 and\n",
    "        len(re.findall(number_regex,password)) >= 1 and\n",
    "        len(re.findall(special_regex,password)) >= 3 \n",
    "    ):\n",
    "        return \"valid password\"\n",
    "    else:\n",
    "        return \"invalid password\""
   ]
  },
  {
   "cell_type": "code",
   "execution_count": 4,
   "id": "efdad33e-1c39-4346-9955-d98803185a87",
   "metadata": {},
   "outputs": [
    {
     "data": {
      "text/plain": [
       "'invalid password'"
      ]
     },
     "execution_count": 4,
     "metadata": {},
     "output_type": "execute_result"
    }
   ],
   "source": [
    "check_password(\"Aditya@665\")"
   ]
  },
  {
   "cell_type": "markdown",
   "id": "94bd21e3-8877-45aa-bbb0-17aa9b1d9841",
   "metadata": {},
   "source": [
    "Q2. Solve the below-given questions using at least one of the following:\n",
    "1. Lambda function\n",
    "2. Filter function\n",
    "3. Zap function\n",
    "4. List Comprehension\n",
    "\n",
    "  Check if the string starts with a particular letter.\n",
    "  \n",
    "  Check if the string is numeric.\n",
    "  \n",
    "  Sort a list of tuples having fruit names and their     quantity.\n",
    "  \n",
    "  [(\"mango\",99),(\"orange\",80), (\"grapes\", 1000)]\n",
    "  \n",
    "  Find the squares of numbers from 1 to 10\n",
    "  \n",
    "  Find the cube root of numbers from 1 to 10\n",
    "  \n",
    "  Check if a given number is even\n",
    "  \n",
    "  Filter odd numbers from the given list.\n",
    "  [1,2,3,4,5,6,7,8,9,10]\n",
    "  \n",
    "  Sort a list of integers into positive and negative \n",
    "  integers lists.\n",
    "  [1,2,3,4,5,6,-1,-2,-3,-4,-5,0]"
   ]
  },
  {
   "cell_type": "code",
   "execution_count": 5,
   "id": "018a7c8a-1313-40ba-9a50-541853667aea",
   "metadata": {},
   "outputs": [],
   "source": [
    "# Check if the string starts with a particular letter"
   ]
  },
  {
   "cell_type": "code",
   "execution_count": 12,
   "id": "d6e38364-89a1-4087-8150-95ad36c45ccb",
   "metadata": {},
   "outputs": [
    {
     "name": "stdout",
     "output_type": "stream",
     "text": [
      "[False, False, True, False]\n"
     ]
    }
   ],
   "source": [
    "strings = [\"hello\", \"world\", \"apple\", \"banana\"]\n",
    "letter = \"a\"\n",
    "\n",
    "starts_with_letter = [string.startswith(letter) for string in strings]\n",
    "\n",
    "print(starts_with_letter) \n"
   ]
  },
  {
   "cell_type": "code",
   "execution_count": 13,
   "id": "ff22b329-d499-4c8d-8ef7-496026fa79a3",
   "metadata": {},
   "outputs": [],
   "source": [
    "# Check if the string is numeric"
   ]
  },
  {
   "cell_type": "code",
   "execution_count": 15,
   "id": "36cb99ea-539b-4e2a-9653-b8e1378ef76c",
   "metadata": {},
   "outputs": [
    {
     "data": {
      "text/plain": [
       "[False, True, False]"
      ]
     },
     "execution_count": 15,
     "metadata": {},
     "output_type": "execute_result"
    }
   ],
   "source": [
    "strings = [\"abf3223\",\"4333\",\"17.332\"]\n",
    "is_numeric = [string.isdigit() for string in strings]\n",
    "is_numeric"
   ]
  },
  {
   "cell_type": "code",
   "execution_count": 16,
   "id": "a973dcd9-1a99-4e9b-8d96-d9a79158cc1b",
   "metadata": {},
   "outputs": [],
   "source": [
    "# Sort a list of tuples having fruit names and their quantity. "
   ]
  },
  {
   "cell_type": "code",
   "execution_count": 20,
   "id": "9c53b3ea-1027-4203-a90d-f9ca52e488e0",
   "metadata": {},
   "outputs": [
    {
     "data": {
      "text/plain": [
       "[('orange', 80), ('mango', 99), ('grapes', 1000)]"
      ]
     },
     "execution_count": 20,
     "metadata": {},
     "output_type": "execute_result"
    }
   ],
   "source": [
    "fruits = [(\"mango\",99),(\"orange\",80), (\"grapes\", 1000)]\n",
    "\n",
    "sorted_fruits = sorted(fruits,key=lambda x:x[1])\n",
    "sorted_fruits"
   ]
  },
  {
   "cell_type": "code",
   "execution_count": 21,
   "id": "4b3bd2b8-1732-494f-975c-b95330f2e0ff",
   "metadata": {},
   "outputs": [],
   "source": [
    "# Find the squares of numbers from 1 to 10"
   ]
  },
  {
   "cell_type": "code",
   "execution_count": 34,
   "id": "4ad137c5-3819-4d4c-8675-07539fb7fc9c",
   "metadata": {},
   "outputs": [
    {
     "name": "stdout",
     "output_type": "stream",
     "text": [
      "[1, 4, 9, 16, 25, 36, 49, 64, 81, 100]\n"
     ]
    }
   ],
   "source": [
    "num = [1,2,3,4,5,6,7,8,9,10]\n",
    "sq_num = map(lambda n:n*n,num)\n",
    "print(list(sq_num))"
   ]
  },
  {
   "cell_type": "code",
   "execution_count": 35,
   "id": "1c789398-6274-4692-b3a0-09845d9772ef",
   "metadata": {},
   "outputs": [],
   "source": [
    "# Find the cube root of numbers from 1 to 10"
   ]
  },
  {
   "cell_type": "code",
   "execution_count": 44,
   "id": "ecbd94b2-f5f1-472e-89e6-e21d20dea713",
   "metadata": {},
   "outputs": [],
   "source": [
    "def cube_root(n):\n",
    "    return round(n**(1/3))**3 == n"
   ]
  },
  {
   "cell_type": "code",
   "execution_count": 45,
   "id": "b9cc95af-0224-4e5f-91cb-7b38ce69c20d",
   "metadata": {},
   "outputs": [
    {
     "name": "stdout",
     "output_type": "stream",
     "text": [
      "[1, 8]\n"
     ]
    }
   ],
   "source": [
    "num = [1,2,3,4,5,6,7,8,9,10]\n",
    "num_cube_root = filter(cube_root,num)\n",
    "print(list(num_cube_root))"
   ]
  },
  {
   "cell_type": "code",
   "execution_count": 46,
   "id": "6256102f-530f-4202-a964-ea450796a635",
   "metadata": {},
   "outputs": [],
   "source": [
    "# Check if a given number is even"
   ]
  },
  {
   "cell_type": "code",
   "execution_count": 51,
   "id": "544286a5-75d4-4def-ad14-746aab83ae57",
   "metadata": {},
   "outputs": [],
   "source": [
    "check_even = lambda n : n%2 == 0"
   ]
  },
  {
   "cell_type": "code",
   "execution_count": 52,
   "id": "fb325187-7fe1-485a-9b2d-5dbc466bb5ca",
   "metadata": {},
   "outputs": [
    {
     "data": {
      "text/plain": [
       "True"
      ]
     },
     "execution_count": 52,
     "metadata": {},
     "output_type": "execute_result"
    }
   ],
   "source": [
    "check_even(4)"
   ]
  },
  {
   "cell_type": "code",
   "execution_count": 53,
   "id": "e5e4f312-675c-4de7-877b-41af598ecb3e",
   "metadata": {},
   "outputs": [],
   "source": [
    "# Filter odd numbers from the given list."
   ]
  },
  {
   "cell_type": "code",
   "execution_count": 54,
   "id": "a794104f-6794-4e70-b62b-36eb0f8d95bf",
   "metadata": {},
   "outputs": [],
   "source": [
    "given_list = [1,2,3,4,5,6,7,8,9,10]"
   ]
  },
  {
   "cell_type": "code",
   "execution_count": 62,
   "id": "5d929841-64ee-4f15-a0f1-96294321a011",
   "metadata": {},
   "outputs": [],
   "source": [
    "print_odd = lambda n : print(n) if n%2 == 1 else None"
   ]
  },
  {
   "cell_type": "code",
   "execution_count": 63,
   "id": "e268736a-c9aa-454c-8fad-2cb3b464a5d1",
   "metadata": {},
   "outputs": [
    {
     "name": "stdout",
     "output_type": "stream",
     "text": [
      "1\n",
      "3\n",
      "5\n",
      "7\n",
      "9\n"
     ]
    },
    {
     "data": {
      "text/plain": [
       "[]"
      ]
     },
     "execution_count": 63,
     "metadata": {},
     "output_type": "execute_result"
    }
   ],
   "source": [
    "list(filter(print_odd,given_list))"
   ]
  },
  {
   "cell_type": "code",
   "execution_count": 64,
   "id": "1ecc82b8-1595-4d0f-bbb4-754fe852542a",
   "metadata": {},
   "outputs": [],
   "source": [
    "# Sort a list of integers into positive and negative integers lists."
   ]
  },
  {
   "cell_type": "code",
   "execution_count": 66,
   "id": "c77db837-ff3e-4482-902c-1667542a9b42",
   "metadata": {},
   "outputs": [
    {
     "name": "stdout",
     "output_type": "stream",
     "text": [
      "[1, 2, 3, 4, 5, 6] [-1, -2, -3, -4, -5]\n"
     ]
    }
   ],
   "source": [
    "numbers = [1,2,3,4,5,6,-1,-2,-3,-4,-5,0]\n",
    "positive_num = list(filter(lambda n:n>0,numbers))\n",
    "negative_num = list(filter(lambda n:n<0,numbers))\n",
    "\n",
    "print(positive_num,negative_num)"
   ]
  },
  {
   "cell_type": "code",
   "execution_count": null,
   "id": "5bdfdabf-3651-43a5-87e4-d1c9a546fbd7",
   "metadata": {},
   "outputs": [],
   "source": []
  },
  {
   "cell_type": "code",
   "execution_count": null,
   "id": "0eeef317-8d1b-4dc6-a780-0daa8678fc3a",
   "metadata": {},
   "outputs": [],
   "source": []
  }
 ],
 "metadata": {
  "kernelspec": {
   "display_name": "Python 3 (ipykernel)",
   "language": "python",
   "name": "python3"
  },
  "language_info": {
   "codemirror_mode": {
    "name": "ipython",
    "version": 3
   },
   "file_extension": ".py",
   "mimetype": "text/x-python",
   "name": "python",
   "nbconvert_exporter": "python",
   "pygments_lexer": "ipython3",
   "version": "3.10.8"
  }
 },
 "nbformat": 4,
 "nbformat_minor": 5
}
