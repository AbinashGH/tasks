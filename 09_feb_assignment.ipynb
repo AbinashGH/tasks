{
 "cells": [
  {
   "cell_type": "code",
   "execution_count": 1,
   "id": "6efeba19-3279-46bf-a7fe-696b11be5d70",
   "metadata": {},
   "outputs": [],
   "source": [
    "# Q1, Create a vehicle class with an init method having instance variables as name_of_vehicle, max_speed\n",
    "#     and average_of_vehicle."
   ]
  },
  {
   "cell_type": "code",
   "execution_count": 3,
   "id": "40f93824-2841-4791-bdd6-bed11d78c068",
   "metadata": {},
   "outputs": [],
   "source": [
    "class vehicle:\n",
    "    def __init__(self,name_of_vehicle,max_speed,average_speed):\n",
    "        self.name_of_vehicle = name_of_vehicle\n",
    "        self.max_speed = max_speed\n",
    "        self.average_speed = max_speed\n"
   ]
  },
  {
   "cell_type": "code",
   "execution_count": 4,
   "id": "61c1bf40-ee30-49f9-9b7a-624cf16f4227",
   "metadata": {},
   "outputs": [
    {
     "data": {
      "text/plain": [
       "'volkswagen'"
      ]
     },
     "execution_count": 4,
     "metadata": {},
     "output_type": "execute_result"
    }
   ],
   "source": [
    "car = vehicle(\"volkswagen\",200,60)\n",
    "car.name_of_vehicle"
   ]
  },
  {
   "cell_type": "code",
   "execution_count": 5,
   "id": "dce6973a-0560-4620-9958-32d9c9acab7a",
   "metadata": {},
   "outputs": [],
   "source": [
    "# Q2. Create a child class car from the vehicle class created in Que 1, which will inherit the vehicle class.\n",
    "#     Create a method named seating_capacity which takes capacity as an argument and returns the name of\n",
    "#     the vehicle and its seating capacity."
   ]
  },
  {
   "cell_type": "code",
   "execution_count": 6,
   "id": "7627ac95-d953-4f20-ad98-1b849a5d9281",
   "metadata": {},
   "outputs": [],
   "source": [
    "class vehicle:\n",
    "    def __init__(self,name_of_vehicle,max_speed,average_speed):\n",
    "        self.name_of_vehicle = name_of_vehicle\n",
    "        self.max_speed = max_speed\n",
    "        self.average_speed = max_speed\n",
    "class Car(vehicle):\n",
    "    def seating_capacity(self,capacity):\n",
    "        return capacity"
   ]
  },
  {
   "cell_type": "code",
   "execution_count": 8,
   "id": "8628c23c-0a75-438e-a78f-d7ae302268aa",
   "metadata": {},
   "outputs": [
    {
     "data": {
      "text/plain": [
       "4"
      ]
     },
     "execution_count": 8,
     "metadata": {},
     "output_type": "execute_result"
    }
   ],
   "source": [
    "car = Car(\"volkswagen\",200,60)\n",
    "car.seating_capacity(4)"
   ]
  },
  {
   "cell_type": "code",
   "execution_count": 10,
   "id": "9a98c2a5-e8f7-4e65-a0dc-8b8046fdbd19",
   "metadata": {},
   "outputs": [],
   "source": [
    "# Q3. What is multiple inheritance? Write a python code to demonstrate multiple inheritance."
   ]
  },
  {
   "cell_type": "markdown",
   "id": "7ecfc5eb-f703-4d4a-9352-e46babefc422",
   "metadata": {},
   "source": [
    "Multiple inheritance is a feature in oops where a class can inherit attributes and methods from more than one parent class."
   ]
  },
  {
   "cell_type": "code",
   "execution_count": 11,
   "id": "b3e5c1bb-40e0-4668-b8cf-91c3ce884159",
   "metadata": {},
   "outputs": [],
   "source": [
    "class class1 :\n",
    "    def test_class1(self):\n",
    "        print(\"this is my class1\")\n",
    "class class2:\n",
    "    def test_class2(self):\n",
    "        print(\"this is my class2\")\n",
    "\n",
    "class class3(class1,class2):\n",
    "    def test_class3(self):\n",
    "        pass"
   ]
  },
  {
   "cell_type": "code",
   "execution_count": 12,
   "id": "5b2612e0-5d68-4585-8f30-b13f9fa8970e",
   "metadata": {},
   "outputs": [
    {
     "name": "stdout",
     "output_type": "stream",
     "text": [
      "this is my class1\n"
     ]
    }
   ],
   "source": [
    "obj_class1 = class3()\n",
    "obj_class1.test_class1()"
   ]
  },
  {
   "cell_type": "code",
   "execution_count": 13,
   "id": "5efa42de-70cb-4f66-b93b-63b1a7cd9653",
   "metadata": {},
   "outputs": [],
   "source": [
    "# Q4. What are getter and setter in python? Create a class and create a getter and a setter method in this\n",
    "#     class."
   ]
  },
  {
   "cell_type": "markdown",
   "id": "272e019d-6b9f-48c2-85e5-d00e2c495a74",
   "metadata": {},
   "source": [
    "Getters and setters are methods used to access and modify the private attribues of a class ."
   ]
  },
  {
   "cell_type": "code",
   "execution_count": 14,
   "id": "2c6be361-79d2-4735-9ae1-a820ebe718f4",
   "metadata": {},
   "outputs": [],
   "source": [
    "class Myclass:\n",
    "    def __init__(self):\n",
    "        self.my_attribute = None\n",
    "        \n",
    "    def get_my_attribute(self):\n",
    "        return self._my_attribute\n",
    "    \n",
    "    def set_my_attribute(self, value):\n",
    "        self._my_attribute = value"
   ]
  },
  {
   "cell_type": "code",
   "execution_count": 17,
   "id": "657d6738-bca5-4ca8-ac7c-73212ccc2cb8",
   "metadata": {},
   "outputs": [
    {
     "name": "stdout",
     "output_type": "stream",
     "text": [
      "42\n"
     ]
    }
   ],
   "source": [
    "obj = Myclass()\n",
    "obj.set_my_attribute(42)\n",
    "print(obj.get_my_attribute())\n"
   ]
  },
  {
   "cell_type": "code",
   "execution_count": 19,
   "id": "37e6290b-17d7-4fc2-8972-c3cb5efef1ac",
   "metadata": {},
   "outputs": [],
   "source": [
    "# Q5.What is method overriding in python? Write a python code to demonstrate method overriding."
   ]
  },
  {
   "cell_type": "markdown",
   "id": "4cb041e8-3106-4099-94a2-92f9d2466d7a",
   "metadata": {},
   "source": [
    "Method overriding is a feature of oops,where a subclass provides a specific implementation of a method that is already defined in its superclass. This allows the subclass to customize or extend the behavior of the method inherited from the superclass."
   ]
  },
  {
   "cell_type": "code",
   "execution_count": 20,
   "id": "39ef1be7-e8bc-48cb-aced-904307397c0b",
   "metadata": {},
   "outputs": [],
   "source": [
    "class Animal:\n",
    "    def make_sound(self):\n",
    "        print(\"Generic animal sound\")\n",
    "\n",
    "class Dog(Animal):\n",
    "    def make_sound(self):\n",
    "        print(\"Woof!\")\n",
    "\n",
    "class Cat(Animal):\n",
    "    def make_sound(self):\n",
    "        print(\"Meow!\")\n",
    "\n"
   ]
  },
  {
   "cell_type": "code",
   "execution_count": 21,
   "id": "64f4e2f3-7afb-4145-8531-be17f64b3e37",
   "metadata": {},
   "outputs": [
    {
     "name": "stdout",
     "output_type": "stream",
     "text": [
      "Woof!\n",
      "Meow!\n"
     ]
    }
   ],
   "source": [
    "dog = Dog()\n",
    "cat = Cat()\n",
    "dog.make_sound()\n",
    "cat.make_sound()\n"
   ]
  },
  {
   "cell_type": "code",
   "execution_count": null,
   "id": "3a9c2401-8d0c-4336-bbe8-51cd8ba28492",
   "metadata": {},
   "outputs": [],
   "source": []
  }
 ],
 "metadata": {
  "kernelspec": {
   "display_name": "Python 3 (ipykernel)",
   "language": "python",
   "name": "python3"
  },
  "language_info": {
   "codemirror_mode": {
    "name": "ipython",
    "version": 3
   },
   "file_extension": ".py",
   "mimetype": "text/x-python",
   "name": "python",
   "nbconvert_exporter": "python",
   "pygments_lexer": "ipython3",
   "version": "3.10.8"
  }
 },
 "nbformat": 4,
 "nbformat_minor": 5
}
