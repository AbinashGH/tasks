{
 "cells": [
  {
   "cell_type": "markdown",
   "id": "ee1686fe-a57c-4eed-a6d3-4c8907dbdde5",
   "metadata": {},
   "source": [
    "Python list"
   ]
  },
  {
   "cell_type": "code",
   "execution_count": 1,
   "id": "4c971ece-44b6-4984-9ba8-1f0d898f1d1b",
   "metadata": {},
   "outputs": [],
   "source": [
    "# 1"
   ]
  },
  {
   "cell_type": "code",
   "execution_count": 2,
   "id": "deb75893-bb5e-4f94-aaf7-a095b5b291d7",
   "metadata": {},
   "outputs": [],
   "source": [
    "list =[]"
   ]
  },
  {
   "cell_type": "code",
   "execution_count": null,
   "id": "ed27a10a-fd60-4349-a33a-21f1e22e9c98",
   "metadata": {},
   "outputs": [],
   "source": []
  },
  {
   "cell_type": "code",
   "execution_count": 4,
   "id": "8208f70d-b165-40cc-beed-2123869b2ef0",
   "metadata": {},
   "outputs": [],
   "source": [
    "# 2"
   ]
  },
  {
   "cell_type": "code",
   "execution_count": 5,
   "id": "4934f79e-c273-4385-bc12-98d1cddfd866",
   "metadata": {},
   "outputs": [],
   "source": [
    "l = [1,2,3,4,5,6]"
   ]
  },
  {
   "cell_type": "code",
   "execution_count": 6,
   "id": "d87787df-271c-47a3-b2f8-5b0d8fb7f49f",
   "metadata": {},
   "outputs": [],
   "source": [
    "l.append(7)"
   ]
  },
  {
   "cell_type": "code",
   "execution_count": 7,
   "id": "9944c9c9-d515-4909-a265-064cd1dcd15d",
   "metadata": {},
   "outputs": [
    {
     "data": {
      "text/plain": [
       "[1, 2, 3, 4, 5, 6, 7]"
      ]
     },
     "execution_count": 7,
     "metadata": {},
     "output_type": "execute_result"
    }
   ],
   "source": [
    "l"
   ]
  },
  {
   "cell_type": "code",
   "execution_count": null,
   "id": "5bc0479f-4465-45ee-b05b-b0ec1605983b",
   "metadata": {},
   "outputs": [],
   "source": []
  },
  {
   "cell_type": "code",
   "execution_count": 8,
   "id": "1379c8dc-20af-4631-920e-89432f95eebb",
   "metadata": {},
   "outputs": [],
   "source": [
    "# 3"
   ]
  },
  {
   "cell_type": "code",
   "execution_count": 9,
   "id": "6521b751-3ddc-4364-9346-7587a9ff95b8",
   "metadata": {},
   "outputs": [
    {
     "data": {
      "text/plain": [
       "[1, 2, 3, 4, 5, 6, 7]"
      ]
     },
     "execution_count": 9,
     "metadata": {},
     "output_type": "execute_result"
    }
   ],
   "source": [
    "l"
   ]
  },
  {
   "cell_type": "code",
   "execution_count": 10,
   "id": "10acba6c-52fb-46db-a056-8de3fda527a8",
   "metadata": {},
   "outputs": [
    {
     "name": "stdout",
     "output_type": "stream",
     "text": [
      "7\n"
     ]
    }
   ],
   "source": [
    "print(l[6])"
   ]
  },
  {
   "cell_type": "code",
   "execution_count": null,
   "id": "3d13f7d6-a6ff-4379-b66e-0b642a55951a",
   "metadata": {},
   "outputs": [],
   "source": []
  },
  {
   "cell_type": "code",
   "execution_count": 11,
   "id": "dbf30159-c9df-4db5-9544-b6c7df93bd80",
   "metadata": {},
   "outputs": [],
   "source": [
    "# 4"
   ]
  },
  {
   "cell_type": "code",
   "execution_count": 12,
   "id": "ae8a65d0-61b1-42b9-94ef-5a4e9063ad39",
   "metadata": {},
   "outputs": [
    {
     "data": {
      "text/plain": [
       "[1, 2, 3, 4, 5, 6, 7]"
      ]
     },
     "execution_count": 12,
     "metadata": {},
     "output_type": "execute_result"
    }
   ],
   "source": [
    "l"
   ]
  },
  {
   "cell_type": "code",
   "execution_count": 13,
   "id": "1c670cfb-fd6b-4ed5-9dce-e025a94fe7eb",
   "metadata": {},
   "outputs": [],
   "source": [
    "l.reverse()"
   ]
  },
  {
   "cell_type": "code",
   "execution_count": 14,
   "id": "f2b31511-4765-4328-97d6-e92c3de06b37",
   "metadata": {},
   "outputs": [
    {
     "data": {
      "text/plain": [
       "[7, 6, 5, 4, 3, 2, 1]"
      ]
     },
     "execution_count": 14,
     "metadata": {},
     "output_type": "execute_result"
    }
   ],
   "source": [
    "l"
   ]
  },
  {
   "cell_type": "code",
   "execution_count": null,
   "id": "c4bdea32-b4c6-4cb0-95d5-c23e308c4c89",
   "metadata": {},
   "outputs": [],
   "source": []
  },
  {
   "cell_type": "code",
   "execution_count": 15,
   "id": "9d593404-08bb-4452-afa2-73a55676855b",
   "metadata": {},
   "outputs": [],
   "source": [
    "# 5"
   ]
  },
  {
   "cell_type": "code",
   "execution_count": 23,
   "id": "0372adfc-9b68-4845-9bd0-cc99aaaec047",
   "metadata": {},
   "outputs": [],
   "source": [
    "l = [1,4,3,6,5,8,7,2]\n",
    "l.sort()"
   ]
  },
  {
   "cell_type": "code",
   "execution_count": 24,
   "id": "618cd38d-07c2-41ca-bccb-5c8d17ffdb9b",
   "metadata": {},
   "outputs": [
    {
     "data": {
      "text/plain": [
       "[1, 2, 3, 4, 5, 6, 7, 8]"
      ]
     },
     "execution_count": 24,
     "metadata": {},
     "output_type": "execute_result"
    }
   ],
   "source": [
    "l"
   ]
  },
  {
   "cell_type": "code",
   "execution_count": null,
   "id": "dd86d7f8-4c88-4050-81e3-c246f2fa8a3d",
   "metadata": {},
   "outputs": [],
   "source": []
  },
  {
   "cell_type": "code",
   "execution_count": 25,
   "id": "05cdffac-040b-4bf1-8e64-0e03f2f57be3",
   "metadata": {},
   "outputs": [],
   "source": [
    "# 6"
   ]
  },
  {
   "cell_type": "code",
   "execution_count": 37,
   "id": "4a1a48a2-afed-4735-8940-a4430dad38b3",
   "metadata": {},
   "outputs": [
    {
     "name": "stdout",
     "output_type": "stream",
     "text": [
      "Jawan\n"
     ]
    }
   ],
   "source": [
    "movie_list = [\"Godfather\",\"Jawan\",\"Uri\"]\n",
    "print(movie_list[1])"
   ]
  },
  {
   "cell_type": "code",
   "execution_count": null,
   "id": "cec9731c-4ee9-4ba7-963f-9fa2d7be4ab3",
   "metadata": {},
   "outputs": [],
   "source": []
  },
  {
   "cell_type": "code",
   "execution_count": 38,
   "id": "7732be3c-9ffd-47b4-928f-8519c1d25cc2",
   "metadata": {},
   "outputs": [],
   "source": [
    "# 7 "
   ]
  },
  {
   "cell_type": "code",
   "execution_count": 45,
   "id": "dab83e51-5372-4a32-be7d-78f8b71b7274",
   "metadata": {},
   "outputs": [],
   "source": [
    "animal = [\"cow\",\"dog\",\"cat\",\"horse\"]\n",
    "animal.append(\"elephent\")\n"
   ]
  },
  {
   "cell_type": "code",
   "execution_count": 47,
   "id": "989c9638-cc96-4d92-8f56-8878c48ca062",
   "metadata": {},
   "outputs": [
    {
     "name": "stdout",
     "output_type": "stream",
     "text": [
      "['cow', 'dog', 'cat', 'horse', 'elephent']\n"
     ]
    }
   ],
   "source": [
    "print(animal)"
   ]
  },
  {
   "cell_type": "code",
   "execution_count": null,
   "id": "56ab4b8e-2a67-4101-ac9d-1199a83b34c0",
   "metadata": {},
   "outputs": [],
   "source": []
  },
  {
   "cell_type": "code",
   "execution_count": 48,
   "id": "8e2d1ee5-11a4-4682-b0dd-6cb131ebc006",
   "metadata": {},
   "outputs": [],
   "source": [
    "# 8"
   ]
  },
  {
   "cell_type": "code",
   "execution_count": null,
   "id": "13a9e749-1b4d-491f-a079-7e760447f836",
   "metadata": {},
   "outputs": [],
   "source": [
    "city = [\"bhubaneswar\",\"berhampur,cuttack,dhenkanal]\n",
    "city.index("
   ]
  }
 ],
 "metadata": {
  "kernelspec": {
   "display_name": "Python 3 (ipykernel)",
   "language": "python",
   "name": "python3"
  },
  "language_info": {
   "codemirror_mode": {
    "name": "ipython",
    "version": 3
   },
   "file_extension": ".py",
   "mimetype": "text/x-python",
   "name": "python",
   "nbconvert_exporter": "python",
   "pygments_lexer": "ipython3",
   "version": "3.10.8"
  }
 },
 "nbformat": 4,
 "nbformat_minor": 5
}
