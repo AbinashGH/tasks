{
 "cells": [
  {
   "cell_type": "code",
   "execution_count": 2,
   "id": "4cc81c44-4bff-4ab8-8540-c13e22a9a6aa",
   "metadata": {},
   "outputs": [],
   "source": [
    "# 1.Who developed python programming language ?"
   ]
  },
  {
   "cell_type": "markdown",
   "id": "090a2fe4-660c-42b5-b832-32e321b299ae",
   "metadata": {},
   "source": [
    "Python was created by Guido van Rossum ."
   ]
  },
  {
   "cell_type": "code",
   "execution_count": 4,
   "id": "49f412a4-6723-4e8b-9fa6-2616da5d9e23",
   "metadata": {},
   "outputs": [],
   "source": [
    "# 2.Which type of programming does python support ?"
   ]
  },
  {
   "cell_type": "markdown",
   "id": "7dee4ddd-d353-40b6-8a87-4860ad10e877",
   "metadata": {},
   "source": [
    "Python support object-oriented programming and structured programming."
   ]
  },
  {
   "cell_type": "code",
   "execution_count": 5,
   "id": "0f7252c4-37ea-4613-8862-a9b90208fbf3",
   "metadata": {},
   "outputs": [],
   "source": [
    "# 3.Is python case sensitive when dealing with indetifiers ?"
   ]
  },
  {
   "cell_type": "markdown",
   "id": "0a80c292-90e7-4fc4-8fff-8b6ac7aa4e8e",
   "metadata": {},
   "source": [
    "Yes,python is case sensitive when dealing with indetifiers ."
   ]
  },
  {
   "cell_type": "code",
   "execution_count": 6,
   "id": "ba6dd665-f414-4ca2-978f-5768dbf799de",
   "metadata": {},
   "outputs": [],
   "source": [
    "# 4.What is the correct extension of the python file ?"
   ]
  },
  {
   "cell_type": "markdown",
   "id": "06a9500e-3db1-4436-9591-8deee9924b22",
   "metadata": {},
   "source": [
    ".py is the correct extension ."
   ]
  },
  {
   "cell_type": "code",
   "execution_count": 7,
   "id": "34b3831f-e634-4495-9e49-0e04e58aa586",
   "metadata": {},
   "outputs": [],
   "source": [
    "# 5.Is python code compiled or interprited ?"
   ]
  },
  {
   "cell_type": "markdown",
   "id": "6d71961c-4b25-4027-917b-4fc6f9082b3e",
   "metadata": {},
   "source": [
    "Yes,python code is interprited ."
   ]
  },
  {
   "cell_type": "code",
   "execution_count": 8,
   "id": "a944e5f8-f77f-4c2b-9325-dce2c9099a0f",
   "metadata": {},
   "outputs": [],
   "source": [
    "# 6.Name a few blocks of code used to define in python language ?"
   ]
  },
  {
   "cell_type": "markdown",
   "id": "b508f2ed-915c-4185-9209-1f76569b202e",
   "metadata": {},
   "source": [
    "'def' keyword is used to define in python ."
   ]
  },
  {
   "cell_type": "code",
   "execution_count": 9,
   "id": "04e0dacf-9ac1-4eea-abc6-6782330cb646",
   "metadata": {},
   "outputs": [],
   "source": [
    "# 7.State a character used to give single-line commets in python ?"
   ]
  },
  {
   "cell_type": "markdown",
   "id": "57cac51d-2ec8-4174-b043-e47a00961cb0",
   "metadata": {},
   "source": [
    "'#' is used to give single-line comments ."
   ]
  },
  {
   "cell_type": "code",
   "execution_count": 11,
   "id": "4302cc69-8b7b-415c-aab4-dee6038b236e",
   "metadata": {},
   "outputs": [],
   "source": [
    "# 8.Mention functions which can help us to find the version of python that we are currently working on ?"
   ]
  },
  {
   "cell_type": "markdown",
   "id": "5df6838a-c01c-49de-a71d-06b42b9f2d82",
   "metadata": {},
   "source": [
    "'sys.version' help us to find the version of python that we are currently working on ."
   ]
  },
  {
   "cell_type": "code",
   "execution_count": 14,
   "id": "a6c1f056-27c4-4ab4-892a-be7b5206a455",
   "metadata": {},
   "outputs": [],
   "source": [
    "# 9.Python supports the creation of anonymous functions at runtime,using a construct called -------- ?"
   ]
  },
  {
   "cell_type": "markdown",
   "id": "60150e9d-ef11-4775-b908-a1c4fa2aaea8",
   "metadata": {},
   "source": [
    "Python supports the creation of anonymous functions at runtime,using a construct called 'lambda' ."
   ]
  },
  {
   "cell_type": "code",
   "execution_count": 15,
   "id": "182668a9-5e6e-49b8-ba32-0629976b8d4e",
   "metadata": {},
   "outputs": [],
   "source": [
    "# 10.What does pip stands for python ?"
   ]
  },
  {
   "cell_type": "markdown",
   "id": "d39d8a90-b56f-487e-8ef4-b884397dec03",
   "metadata": {},
   "source": [
    "pip - preferred installer program"
   ]
  },
  {
   "cell_type": "code",
   "execution_count": 16,
   "id": "06c85b79-36c4-4788-b7c9-52dea66f1550",
   "metadata": {},
   "outputs": [],
   "source": [
    "# 11.Mention a few built-in functions in python ?"
   ]
  },
  {
   "cell_type": "markdown",
   "id": "832a1df1-ce4a-43af-845c-fb56e42f8798",
   "metadata": {},
   "source": [
    "print(),list(),type(),len()"
   ]
  },
  {
   "cell_type": "code",
   "execution_count": 17,
   "id": "5ed43182-8c26-427e-ab66-74c4c7c1270d",
   "metadata": {},
   "outputs": [],
   "source": [
    "# 12.What is the maximum possible length of an identifier in python ?"
   ]
  },
  {
   "cell_type": "markdown",
   "id": "a4899243-1b8b-4f8c-8cb4-24298ee4bc56",
   "metadata": {},
   "source": [
    "79 Characters"
   ]
  },
  {
   "cell_type": "code",
   "execution_count": 19,
   "id": "68b16837-f6a4-4472-9bed-735aa4eced90",
   "metadata": {},
   "outputs": [],
   "source": [
    "# 13.What are the benifits of using python ?"
   ]
  },
  {
   "cell_type": "markdown",
   "id": "8907836d-eac3-4faf-b94b-7eb44bf62ce3",
   "metadata": {},
   "source": [
    "Python provides a large standard library that includes areas like internet protocols, string operations, web services tools, and operating system interfaces. Many high-use programming tasks have already been scripted into the standard library which reduces the length of code to be written significantly."
   ]
  },
  {
   "cell_type": "code",
   "execution_count": 20,
   "id": "1e510d02-c095-4b6d-b264-5c4de84ae940",
   "metadata": {},
   "outputs": [],
   "source": [
    "# 14.How is memory managed in python ?"
   ]
  },
  {
   "cell_type": "markdown",
   "id": "2ce1fe5b-e48e-454e-9523-96d6a0fe040f",
   "metadata": {},
   "source": [
    "In order to manage memory, Python uses a private heap that houses all of its objects and data structures."
   ]
  },
  {
   "cell_type": "code",
   "execution_count": 21,
   "id": "dbbce131-b138-433d-bde2-6cc1ad1d9e72",
   "metadata": {},
   "outputs": [],
   "source": [
    "# 15.How to install python on windows and set path variables ?"
   ]
  },
  {
   "cell_type": "markdown",
   "id": "aa186257-4288-4d73-b8e6-b8fd45d9a7cd",
   "metadata": {},
   "source": [
    "Download Python: Get the installer from the official Python website.\n",
    "Run Installer: Double-click the installer and follow the prompts.\n",
    "Add Python to PATH: Check the box during installation to automatically add Python to your system PATH.\n",
    "Verify Installation: Open Command Prompt and type python --version to check.\n",
    "If you didn't add Python to PATH during installation:\n",
    "\n",
    "Set Environment Variables: Manually add the Python installation directory to your system PATH.\n",
    "Verify Configuration: Open a new Command Prompt window and type python --version to ensure Python can be accessed from any directory.\n"
   ]
  },
  {
   "cell_type": "code",
   "execution_count": 23,
   "id": "ffaf4416-fe42-46b5-9093-4c96a6e74525",
   "metadata": {},
   "outputs": [],
   "source": [
    "# 16.Is indentation required in python ?"
   ]
  },
  {
   "cell_type": "markdown",
   "id": "b827137e-6eba-425e-b886-be9e4e1de01f",
   "metadata": {},
   "source": [
    "Yes"
   ]
  },
  {
   "cell_type": "code",
   "execution_count": null,
   "id": "b4cc57e1-2e38-4c60-941f-5ce7017d56a3",
   "metadata": {},
   "outputs": [],
   "source": []
  }
 ],
 "metadata": {
  "kernelspec": {
   "display_name": "Python 3 (ipykernel)",
   "language": "python",
   "name": "python3"
  },
  "language_info": {
   "codemirror_mode": {
    "name": "ipython",
    "version": 3
   },
   "file_extension": ".py",
   "mimetype": "text/x-python",
   "name": "python",
   "nbconvert_exporter": "python",
   "pygments_lexer": "ipython3",
   "version": "3.10.8"
  }
 },
 "nbformat": 4,
 "nbformat_minor": 5
}
