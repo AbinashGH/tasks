{
 "cells": [
  {
   "cell_type": "code",
   "execution_count": 1,
   "id": "02a42208-0c30-4d09-8d26-dcdc7cc7dff8",
   "metadata": {},
   "outputs": [],
   "source": [
    "# Basic variable based question"
   ]
  },
  {
   "cell_type": "code",
   "execution_count": 2,
   "id": "d2931d15-7d6b-4c47-9969-2ebc8bf3fc3c",
   "metadata": {},
   "outputs": [],
   "source": [
    "# 1"
   ]
  },
  {
   "cell_type": "code",
   "execution_count": 3,
   "id": "1c74757d-c830-4e7a-8ec9-99afbcbd6fda",
   "metadata": {},
   "outputs": [],
   "source": [
    "# Declare variables"
   ]
  },
  {
   "cell_type": "code",
   "execution_count": 4,
   "id": "72a716fe-a993-4618-b1b6-ead74754254a",
   "metadata": {},
   "outputs": [],
   "source": [
    "x = 5 "
   ]
  },
  {
   "cell_type": "code",
   "execution_count": 5,
   "id": "e058169b-4bc7-41d7-915b-83ab8f3a75be",
   "metadata": {},
   "outputs": [],
   "source": [
    "y = 10"
   ]
  },
  {
   "cell_type": "code",
   "execution_count": 6,
   "id": "1626ed6b-e66b-4cf7-b386-499dc45381ce",
   "metadata": {},
   "outputs": [
    {
     "name": "stdout",
     "output_type": "stream",
     "text": [
      "Before swap x: 5 and y: 10\n",
      "After swap x: 10 and y: 5\n"
     ]
    }
   ],
   "source": [
    "def swap_variables(x,y):\n",
    "    print(f\"Before swap x: {x} and y: {y}\")\n",
    "    x,y = y,x\n",
    "    print(f\"After swap x: {x} and y: {y}\")\n",
    "    \n",
    "swap_variables(x,y)"
   ]
  },
  {
   "cell_type": "code",
   "execution_count": null,
   "id": "149ac6ec-c8dc-4730-acdc-364da49c7bba",
   "metadata": {},
   "outputs": [],
   "source": []
  },
  {
   "cell_type": "code",
   "execution_count": 7,
   "id": "f9d426fa-fcef-4032-8a9c-a5492023c70c",
   "metadata": {},
   "outputs": [],
   "source": [
    "# 2"
   ]
  },
  {
   "cell_type": "code",
   "execution_count": 8,
   "id": "f62db370-62a9-4d93-918b-f6296c412e31",
   "metadata": {},
   "outputs": [
    {
     "name": "stdin",
     "output_type": "stream",
     "text": [
      "length of the rectangle:  45\n",
      "width of the rectangle:  56\n"
     ]
    },
    {
     "name": "stdout",
     "output_type": "stream",
     "text": [
      "area of the rectangle is: 2520.0\n"
     ]
    }
   ],
   "source": [
    "length = float(input(\"length of the rectangle: \"))\n",
    "width = float(input(\"width of the rectangle: \"))\n",
    "area = length * width\n",
    "print(\"area of the rectangle is:\",area)"
   ]
  },
  {
   "cell_type": "code",
   "execution_count": 9,
   "id": "87784f84-8f45-4345-87e3-fa8a5097ad7a",
   "metadata": {},
   "outputs": [],
   "source": [
    "# 3"
   ]
  },
  {
   "cell_type": "code",
   "execution_count": 24,
   "id": "db10a6de-6f5d-4c08-b084-4d4420a420a8",
   "metadata": {},
   "outputs": [
    {
     "name": "stdin",
     "output_type": "stream",
     "text": [
      "temperature in celsius:  45\n"
     ]
    },
    {
     "name": "stdout",
     "output_type": "stream",
     "text": [
      "45.0 celsius is equal to 113.00 fahrenheit\n"
     ]
    }
   ],
   "source": [
    "t = float(input(\"temperature in celsius: \"))\n",
    "fahrenheit_convert = (t * 9/5) + 32\n",
    "print(f\"{t} celsius is equal to {fahrenheit_convert:.2f} fahrenheit\")"
   ]
  },
  {
   "cell_type": "code",
   "execution_count": null,
   "id": "0d85eedf-46ba-4f9b-90a1-cd149470782c",
   "metadata": {},
   "outputs": [],
   "source": []
  },
  {
   "cell_type": "code",
   "execution_count": 25,
   "id": "4cd75daa-22e6-46e9-93d2-32dfb1f60819",
   "metadata": {},
   "outputs": [],
   "source": [
    "# String based question"
   ]
  },
  {
   "cell_type": "code",
   "execution_count": 26,
   "id": "9a3b66ed-8434-4ad2-a81f-dbff7a265998",
   "metadata": {},
   "outputs": [],
   "source": [
    "# 1"
   ]
  },
  {
   "cell_type": "code",
   "execution_count": 32,
   "id": "347a414e-e841-42a1-a5cc-a8cf0d5798ea",
   "metadata": {},
   "outputs": [
    {
     "name": "stdin",
     "output_type": "stream",
     "text": [
      "enter a string:  python program\n"
     ]
    },
    {
     "name": "stdout",
     "output_type": "stream",
     "text": [
      "the length of the string: 14\n"
     ]
    }
   ],
   "source": [
    "string = input(\"enter a string: \")\n",
    "string_length = len(string)\n",
    "print(\"the length of the string:\",string_length)\n"
   ]
  },
  {
   "cell_type": "code",
   "execution_count": null,
   "id": "85cf1e80-d746-4d92-9b47-aae17e2d1305",
   "metadata": {},
   "outputs": [],
   "source": []
  },
  {
   "cell_type": "code",
   "execution_count": 30,
   "id": "184cebc6-541c-4087-a3d0-69e70e1bb140",
   "metadata": {},
   "outputs": [],
   "source": [
    "# 2 "
   ]
  },
  {
   "cell_type": "code",
   "execution_count": 36,
   "id": "b31cc217-ed6a-4ceb-ad16-1b48c6498b89",
   "metadata": {},
   "outputs": [
    {
     "name": "stdin",
     "output_type": "stream",
     "text": [
      "enter a sentence:  i love python\n"
     ]
    },
    {
     "name": "stdout",
     "output_type": "stream",
     "text": [
      "number of vowels: 4\n"
     ]
    }
   ],
   "source": [
    "sentence = input(\"enter a sentence: \")\n",
    "vowel_count = 0\n",
    "for char in sentence:\n",
    "    char_lower = char.lower()\n",
    "    if char_lower in \"aeiou\":\n",
    "        vowel_count += 1\n",
    "print(\"number of vowels:\",vowel_count)              "
   ]
  },
  {
   "cell_type": "code",
   "execution_count": null,
   "id": "6508d611-230c-4efb-aa61-cf3f17507c5e",
   "metadata": {},
   "outputs": [],
   "source": []
  },
  {
   "cell_type": "code",
   "execution_count": 37,
   "id": "5e8d7d75-7860-4a36-b97a-6cbd95b71a52",
   "metadata": {},
   "outputs": [],
   "source": [
    "# 3"
   ]
  },
  {
   "cell_type": "code",
   "execution_count": 38,
   "id": "0e514fe0-dc51-4e31-953b-56e7a84e1cdb",
   "metadata": {},
   "outputs": [
    {
     "name": "stdin",
     "output_type": "stream",
     "text": [
      "enter a string python\n"
     ]
    },
    {
     "name": "stdout",
     "output_type": "stream",
     "text": [
      "Reverse of string is:  nohtyp\n"
     ]
    }
   ],
   "source": [
    "string = input(\"enter a string\")\n",
    "reverse_string = string[::-1]\n",
    "print(\"Reverse of string is: \",reverse_string)"
   ]
  },
  {
   "cell_type": "code",
   "execution_count": null,
   "id": "40d1da26-af95-473f-8c98-f2ccf628e723",
   "metadata": {},
   "outputs": [],
   "source": []
  },
  {
   "cell_type": "code",
   "execution_count": 1,
   "id": "777adfe1-f935-4fad-b507-b313788d04b2",
   "metadata": {},
   "outputs": [],
   "source": [
    "# 4"
   ]
  },
  {
   "cell_type": "code",
   "execution_count": 19,
   "id": "b02c6763-0f73-4250-96de-ba80bc87aa35",
   "metadata": {},
   "outputs": [
    {
     "name": "stdin",
     "output_type": "stream",
     "text": [
      "enter a string:  python program\n"
     ]
    },
    {
     "name": "stdout",
     "output_type": "stream",
     "text": [
      "string is not palindrome\n"
     ]
    }
   ],
   "source": [
    "input_string = input(\"enter a string: \")\n",
    "clean_string = input_string.replace(\" \",\"\").lower()\n",
    "reverse_string = clean_string[::-1]\n",
    "if input_string == reverse_string:\n",
    "    print(\"string is palindrome\")\n",
    "else:\n",
    "    print(\"string is not palindrome\")\n"
   ]
  },
  {
   "cell_type": "code",
   "execution_count": null,
   "id": "24e1501b-e222-4784-946d-36f48e0a54a3",
   "metadata": {},
   "outputs": [],
   "source": []
  },
  {
   "cell_type": "code",
   "execution_count": 22,
   "id": "b73df0c2-0327-4791-867e-4239b990ef4b",
   "metadata": {},
   "outputs": [],
   "source": [
    "# 5"
   ]
  },
  {
   "cell_type": "code",
   "execution_count": 25,
   "id": "8fa5323c-b95a-4ed7-a05f-84746b73d83c",
   "metadata": {},
   "outputs": [
    {
     "name": "stdin",
     "output_type": "stream",
     "text": [
      "enter the string:  i am a python programmer\n"
     ]
    },
    {
     "name": "stdout",
     "output_type": "stream",
     "text": [
      "modified string is:  iamapythonprogrammer\n"
     ]
    }
   ],
   "source": [
    "input_string = input(\"enter the string: \")\n",
    "modified_string = input_string.replace(\" \",\"\")\n",
    "print(\"modified string is: \",modified_string)"
   ]
  },
  {
   "cell_type": "code",
   "execution_count": null,
   "id": "d4878614-1ec2-41b9-ba65-602316b75535",
   "metadata": {},
   "outputs": [],
   "source": []
  },
  {
   "cell_type": "code",
   "execution_count": null,
   "id": "3f6c6fa9-58e8-48fa-8aef-b45f02bc20a3",
   "metadata": {},
   "outputs": [],
   "source": []
  },
  {
   "cell_type": "code",
   "execution_count": null,
   "id": "8f9a69eb-2ec2-4165-823b-a2f1b6ec5af7",
   "metadata": {},
   "outputs": [],
   "source": []
  }
 ],
 "metadata": {
  "kernelspec": {
   "display_name": "Python 3 (ipykernel)",
   "language": "python",
   "name": "python3"
  },
  "language_info": {
   "codemirror_mode": {
    "name": "ipython",
    "version": 3
   },
   "file_extension": ".py",
   "mimetype": "text/x-python",
   "name": "python",
   "nbconvert_exporter": "python",
   "pygments_lexer": "ipython3",
   "version": "3.10.8"
  }
 },
 "nbformat": 4,
 "nbformat_minor": 5
}
